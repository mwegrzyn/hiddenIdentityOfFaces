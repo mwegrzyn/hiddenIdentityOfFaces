{
 "cells": [
  {
   "cell_type": "markdown",
   "metadata": {},
   "source": [
    "# Compare patient with normative samples from other studies"
   ]
  },
  {
   "cell_type": "markdown",
   "metadata": {},
   "source": [
    "### import modules"
   ]
  },
  {
   "cell_type": "code",
   "execution_count": 1,
   "metadata": {},
   "outputs": [],
   "source": [
    "import numpy as np\n",
    "import pandas as pd\n",
    "from scipy import stats\n",
    "\n",
    "import sys\n",
    "import os\n",
    "import fnmatch\n",
    "\n",
    "sys.path.append('../modules/')\n",
    "import case_stats as cs"
   ]
  },
  {
   "cell_type": "markdown",
   "metadata": {},
   "source": [
    "### Reading the eyes in the mind"
   ]
  },
  {
   "cell_type": "markdown",
   "metadata": {},
   "source": [
    "Baron-Cohen S, Wheelwright S, Hill J, Raste Y, Plumb I. The “Reading the Mind in the Eyes” Test revised version: a study with normal adults, and adults with Asperger syndrome or high-functioning autism. The Journal of Child Psychology and Psychiatry and Allied Disciplines. 2001;42:241-251.  \n",
    "\n",
    "Here, we use the student control sample's values (Group 3) from Table 3 of Baron-Cohen et al.'s manuscript."
   ]
  },
  {
   "cell_type": "code",
   "execution_count": 2,
   "metadata": {
    "collapsed": true
   },
   "outputs": [],
   "source": [
    "group_mean = 28.6 \n",
    "group_std = 3.2\n",
    "group_n = 50\n",
    "pat_mean = 26\n",
    "\n",
    "max_score = 36"
   ]
  },
  {
   "cell_type": "markdown",
   "metadata": {},
   "source": [
    "percent correct responses"
   ]
  },
  {
   "cell_type": "code",
   "execution_count": 3,
   "metadata": {},
   "outputs": [
    {
     "data": {
      "text/plain": [
       "'72'"
      ]
     },
     "execution_count": 3,
     "metadata": {},
     "output_type": "execute_result"
    }
   ],
   "source": [
    "pat_percent = (float(pat_mean)/max_score) * 100\n",
    "'%0.f'%pat_percent"
   ]
  },
  {
   "cell_type": "markdown",
   "metadata": {},
   "source": [
    "### convert each participant's scores into z-scores, then transform the z-scores into percentiles"
   ]
  },
  {
   "cell_type": "code",
   "execution_count": 5,
   "metadata": {},
   "outputs": [
    {
     "data": {
      "text/plain": [
       "'z= -0.812 ; percentile= 21'"
      ]
     },
     "execution_count": 5,
     "metadata": {},
     "output_type": "execute_result"
    }
   ],
   "source": [
    "'z= %.3f ; percentile= %.0f'%cs.make_percentiles(group_mean, group_std, pat_mean)"
   ]
  },
  {
   "cell_type": "markdown",
   "metadata": {},
   "source": [
    "### compute a t-test patient vs controls, using the fromula by Crawford and Howell"
   ]
  },
  {
   "cell_type": "code",
   "execution_count": 6,
   "metadata": {},
   "outputs": [
    {
     "name": "stdout",
     "output_type": "stream",
     "text": [
      "t=-0.80, df=49 p=0.4250\n"
     ]
    }
   ],
   "source": [
    "t,df,p = cs.ttest_single(pat_mean, group_mean, group_std, group_n)\n",
    "print 't=%.2f, df=%.0f p=%.4f'%(t ,df, p)"
   ]
  },
  {
   "cell_type": "code",
   "execution_count": 14,
   "metadata": {
    "collapsed": true
   },
   "outputs": [],
   "source": [
    "def make_df(group_mean, group_std, group_n, pat_mean, max_score, test_name, domain_name):\n",
    "    \n",
    "    # get percent correct\n",
    "    pat_percent = (float(pat_mean)/max_score) * 100\n",
    "    \n",
    "    # make percentile score\n",
    "    z,percentile_score = cs.make_percentiles(group_mean, group_std, pat_mean)\n",
    "    \n",
    "    # compute inferential statistics\n",
    "    t,df,p = cs.ttest_single(pat_mean, group_mean, group_std, group_n)\n",
    "    \n",
    "    # put data into dictionary\n",
    "    d = {'% correct':'%0.f'%pat_percent,\n",
    "         'z':z,\n",
    "         'percentile':'%0.f'%percentile_score,\n",
    "         't':'%.2f'%t,\n",
    "         'df':int(df),\n",
    "         'p':'%.3f'%p}\n",
    "\n",
    "    # transform into dataframe\n",
    "    result_df = pd.DataFrame(d, index=[test_name])\n",
    "    # format the dataframe\n",
    "    result_df = result_df.loc[:,['% correct', 'z', 'percentile', 't', 'df', 'p']]\n",
    "    result_df.index = [[domain_name]*result_df.shape[0], result_df.index]\n",
    "    \n",
    "    return result_df"
   ]
  },
  {
   "cell_type": "markdown",
   "metadata": {},
   "source": [
    "### compute all statistics "
   ]
  },
  {
   "cell_type": "code",
   "execution_count": 16,
   "metadata": {},
   "outputs": [
    {
     "data": {
      "text/html": [
       "<div>\n",
       "<style>\n",
       "    .dataframe thead tr:only-child th {\n",
       "        text-align: right;\n",
       "    }\n",
       "\n",
       "    .dataframe thead th {\n",
       "        text-align: left;\n",
       "    }\n",
       "\n",
       "    .dataframe tbody tr th {\n",
       "        vertical-align: top;\n",
       "    }\n",
       "</style>\n",
       "<table border=\"1\" class=\"dataframe\">\n",
       "  <thead>\n",
       "    <tr style=\"text-align: right;\">\n",
       "      <th></th>\n",
       "      <th></th>\n",
       "      <th>% correct</th>\n",
       "      <th>z</th>\n",
       "      <th>percentile</th>\n",
       "      <th>t</th>\n",
       "      <th>df</th>\n",
       "      <th>p</th>\n",
       "    </tr>\n",
       "  </thead>\n",
       "  <tbody>\n",
       "    <tr>\n",
       "      <th>Face evaluation</th>\n",
       "      <th>Eyes test</th>\n",
       "      <td>72</td>\n",
       "      <td>-0.813348</td>\n",
       "      <td>21</td>\n",
       "      <td>-0.80</td>\n",
       "      <td>49</td>\n",
       "      <td>0.425</td>\n",
       "    </tr>\n",
       "  </tbody>\n",
       "</table>\n",
       "</div>"
      ],
      "text/plain": [
       "                          % correct         z percentile      t  df      p\n",
       "Face evaluation Eyes test        72 -0.813348         21  -0.80  49  0.425"
      ]
     },
     "execution_count": 16,
     "metadata": {},
     "output_type": "execute_result"
    }
   ],
   "source": [
    "group_mean = 28.6 \n",
    "group_std = 3.2\n",
    "group_n = 50\n",
    "pat_mean = 26\n",
    "max_score = 36\n",
    "\n",
    "eyes_df = make_df(group_mean, group_std, group_n, pat_mean, max_score, \n",
    "                  test_name='Eyes test', domain_name='Face evaluation')\n",
    "eyes_df"
   ]
  },
  {
   "cell_type": "markdown",
   "metadata": {},
   "source": [
    "### Bergen Test"
   ]
  },
  {
   "cell_type": "markdown",
   "metadata": {},
   "source": [
    "To investigate body perception, we used the The Bergen Right-Left Discrimination Test (BRLD) \\citep{ofte2002right}. Here, body perception and mental rotation of bodies are tested using stick figures on which the left and right hand has to be identified. For example, a stick figure facing is shown from its front and the left hand has to be identified (it is on the right of the image, as the stick figure is facing us). The task is made more difficult by the stick figure holding sometimes crossing its hands. The test contains of three parts (back view, front view, alternating view) and the participant has 90 seconds time for each, after which the number of correct responses is counted.\n",
    "After this, a variation of the BRLD was administered, which works identically, but all stick figures are upside down (hence, in a rear view the left hand is on the right side).\n",
    "The normative sample was taken from \\citet{grewe2014bergen} with 174 controls (124 female, mean age 28 years). Their mean and standard deviation were used to compute a percentile score for JB. The normative sample is reported to have a mean score of X and standard deviation of X, with the resulting 16th percentile at X."
   ]
  },
  {
   "cell_type": "markdown",
   "metadata": {},
   "source": [
    "    BLRT\n",
    "precent correct 10  \n",
    "percentile 2\n"
   ]
  },
  {
   "cell_type": "markdown",
   "metadata": {},
   "source": [
    "A total of 174 adult volunteers (50♂, 124♀) participated in the study: 159 participants (91.4 %) were right-handed, 11 were left-handed (6.3 %), and 4 were ambidextrous (2.3 %). This distribution of handedness shows a ratio, which is slightly below the normal population’s portion of left-handers. Participants’ mean age was 28.24 years (SD = 14.12, Min = 18, Max = 94)  \n",
    "\n",
    "\n",
    "BRLD-A was 110.24 (SD = 24.67). The mean total score of the BRLD-B was 109.73 (SD = 27.64).  \n",
    "\n",
    "\n",
    "113.23 (23.64)  \n",
    "\n",
    "\n"
   ]
  },
  {
   "cell_type": "code",
   "execution_count": 22,
   "metadata": {},
   "outputs": [
    {
     "data": {
      "text/html": [
       "<div>\n",
       "<style>\n",
       "    .dataframe thead tr:only-child th {\n",
       "        text-align: right;\n",
       "    }\n",
       "\n",
       "    .dataframe thead th {\n",
       "        text-align: left;\n",
       "    }\n",
       "\n",
       "    .dataframe tbody tr th {\n",
       "        vertical-align: top;\n",
       "    }\n",
       "</style>\n",
       "<table border=\"1\" class=\"dataframe\">\n",
       "  <thead>\n",
       "    <tr style=\"text-align: right;\">\n",
       "      <th></th>\n",
       "      <th></th>\n",
       "      <th>% correct</th>\n",
       "      <th>z</th>\n",
       "      <th>percentile</th>\n",
       "      <th>t</th>\n",
       "      <th>df</th>\n",
       "      <th>p</th>\n",
       "    </tr>\n",
       "  </thead>\n",
       "  <tbody>\n",
       "    <tr>\n",
       "      <th>Visuo-spatial</th>\n",
       "      <th>BLRD-A</th>\n",
       "      <td>33</td>\n",
       "      <td>-2.523242</td>\n",
       "      <td>1</td>\n",
       "      <td>-2.52</td>\n",
       "      <td>173</td>\n",
       "      <td>0.013</td>\n",
       "    </tr>\n",
       "  </tbody>\n",
       "</table>\n",
       "</div>"
      ],
      "text/plain": [
       "                     % correct         z percentile      t   df      p\n",
       "Visuo-spatial BLRD-A        33 -2.523242          1  -2.52  173  0.013"
      ]
     },
     "execution_count": 22,
     "metadata": {},
     "output_type": "execute_result"
    }
   ],
   "source": [
    "group_mean = 110.24\n",
    "group_std = 24.67\n",
    "group_n = 174\n",
    "pat_mean = 48\n",
    "max_score = 144\n",
    "\n",
    "blrda_df = make_df(group_mean, group_std, group_n, pat_mean, max_score, \n",
    "                    test_name='BLRD-A', domain_name='Visuo-spatial')\n",
    "blrda_df"
   ]
  },
  {
   "cell_type": "code",
   "execution_count": 23,
   "metadata": {},
   "outputs": [
    {
     "data": {
      "text/html": [
       "<div>\n",
       "<style>\n",
       "    .dataframe thead tr:only-child th {\n",
       "        text-align: right;\n",
       "    }\n",
       "\n",
       "    .dataframe thead th {\n",
       "        text-align: left;\n",
       "    }\n",
       "\n",
       "    .dataframe tbody tr th {\n",
       "        vertical-align: top;\n",
       "    }\n",
       "</style>\n",
       "<table border=\"1\" class=\"dataframe\">\n",
       "  <thead>\n",
       "    <tr style=\"text-align: right;\">\n",
       "      <th></th>\n",
       "      <th></th>\n",
       "      <th>% correct</th>\n",
       "      <th>z</th>\n",
       "      <th>percentile</th>\n",
       "      <th>t</th>\n",
       "      <th>df</th>\n",
       "      <th>p</th>\n",
       "    </tr>\n",
       "  </thead>\n",
       "  <tbody>\n",
       "    <tr>\n",
       "      <th>Visuo-spatial</th>\n",
       "      <th>BLRD-B</th>\n",
       "      <td>38</td>\n",
       "      <td>-2.015474</td>\n",
       "      <td>2</td>\n",
       "      <td>-2.01</td>\n",
       "      <td>173</td>\n",
       "      <td>0.046</td>\n",
       "    </tr>\n",
       "  </tbody>\n",
       "</table>\n",
       "</div>"
      ],
      "text/plain": [
       "                     % correct         z percentile      t   df      p\n",
       "Visuo-spatial BLRD-B        38 -2.015474          2  -2.01  173  0.046"
      ]
     },
     "execution_count": 23,
     "metadata": {},
     "output_type": "execute_result"
    }
   ],
   "source": [
    "group_mean = 109.73\n",
    "group_std = 27.64\n",
    "group_n = 174\n",
    "pat_mean = 54\n",
    "max_score = 144\n",
    "\n",
    "blrdb_df = make_df(group_mean, group_std, group_n, pat_mean, max_score, \n",
    "                    test_name='BLRD-B', domain_name='Visuo-spatial')\n",
    "blrdb_df"
   ]
  },
  {
   "cell_type": "code",
   "execution_count": 24,
   "metadata": {},
   "outputs": [
    {
     "data": {
      "text/html": [
       "<div>\n",
       "<style>\n",
       "    .dataframe thead tr:only-child th {\n",
       "        text-align: right;\n",
       "    }\n",
       "\n",
       "    .dataframe thead th {\n",
       "        text-align: left;\n",
       "    }\n",
       "\n",
       "    .dataframe tbody tr th {\n",
       "        vertical-align: top;\n",
       "    }\n",
       "</style>\n",
       "<table border=\"1\" class=\"dataframe\">\n",
       "  <thead>\n",
       "    <tr style=\"text-align: right;\">\n",
       "      <th></th>\n",
       "      <th></th>\n",
       "      <th>% correct</th>\n",
       "      <th>z</th>\n",
       "      <th>percentile</th>\n",
       "      <th>t</th>\n",
       "      <th>df</th>\n",
       "      <th>p</th>\n",
       "    </tr>\n",
       "  </thead>\n",
       "  <tbody>\n",
       "    <tr>\n",
       "      <th rowspan=\"2\" valign=\"top\">Visuo-spatial</th>\n",
       "      <th>BLRD-A</th>\n",
       "      <td>33</td>\n",
       "      <td>-2.523242</td>\n",
       "      <td>1</td>\n",
       "      <td>-2.52</td>\n",
       "      <td>173</td>\n",
       "      <td>0.013</td>\n",
       "    </tr>\n",
       "    <tr>\n",
       "      <th>BLRD-B</th>\n",
       "      <td>38</td>\n",
       "      <td>-2.015474</td>\n",
       "      <td>2</td>\n",
       "      <td>-2.01</td>\n",
       "      <td>173</td>\n",
       "      <td>0.046</td>\n",
       "    </tr>\n",
       "  </tbody>\n",
       "</table>\n",
       "</div>"
      ],
      "text/plain": [
       "                     % correct         z percentile      t   df      p\n",
       "Visuo-spatial BLRD-A        33 -2.523242          1  -2.52  173  0.013\n",
       "              BLRD-B        38 -2.015474          2  -2.01  173  0.046"
      ]
     },
     "execution_count": 24,
     "metadata": {},
     "output_type": "execute_result"
    }
   ],
   "source": [
    "blrd_df = pd.concat([blrda_df,blrdb_df])\n",
    "blrd_df"
   ]
  },
  {
   "cell_type": "markdown",
   "metadata": {},
   "source": [
    "### LPS 2"
   ]
  },
  {
   "cell_type": "markdown",
   "metadata": {},
   "source": [
    "To screen for impairments in visuo-spatial abilities, three subtests of the LPS-2 \\citep{horn1983leistungsprufsystem} were used. In the first subtest, five rotated numbers are presented of which one is a mirror-image of the other four. The task is to identify and mark the mirrored item. In the second subtest, a three-dimensional geometric figure is shown and the task is to determine of how many areas it is composed (i.e. 6 for a cube). In the third subtest a number of intertwined geometric figures are shown alongside individual geometric figures and the task is to find the one figure which could fit into the intertwined configuration (e.g. a triangle into a star). For each part, the participant has a predetermined amount of time to complete as many trials as possible, with two minutes for the first and third part and three minutes for the second part. A summary score for visual-spatial intelligence (Gv) can then be computed. Normative values can be computed for the summary score, which are scaled like an IQ-score. In the case of JB, she scored 12,26 and 20 points for each respective test, resulting in a summary score of 58, which in turn is transformed into an IQ score of 85, corresponding to a percentile of 16."
   ]
  },
  {
   "cell_type": "code",
   "execution_count": 25,
   "metadata": {},
   "outputs": [
    {
     "data": {
      "text/html": [
       "<div>\n",
       "<style>\n",
       "    .dataframe thead tr:only-child th {\n",
       "        text-align: right;\n",
       "    }\n",
       "\n",
       "    .dataframe thead th {\n",
       "        text-align: left;\n",
       "    }\n",
       "\n",
       "    .dataframe tbody tr th {\n",
       "        vertical-align: top;\n",
       "    }\n",
       "</style>\n",
       "<table border=\"1\" class=\"dataframe\">\n",
       "  <thead>\n",
       "    <tr style=\"text-align: right;\">\n",
       "      <th></th>\n",
       "      <th></th>\n",
       "      <th>% correct</th>\n",
       "      <th>z</th>\n",
       "      <th>percentile</th>\n",
       "      <th>t</th>\n",
       "      <th>df</th>\n",
       "      <th>p</th>\n",
       "    </tr>\n",
       "  </thead>\n",
       "  <tbody>\n",
       "    <tr>\n",
       "      <th>Visuo-spatial</th>\n",
       "      <th>LPS2-Visual</th>\n",
       "      <td>48</td>\n",
       "      <td>-1.001154</td>\n",
       "      <td>16</td>\n",
       "      <td>-1.00</td>\n",
       "      <td>128</td>\n",
       "      <td>0.321</td>\n",
       "    </tr>\n",
       "  </tbody>\n",
       "</table>\n",
       "</div>"
      ],
      "text/plain": [
       "                          % correct         z percentile      t   df      p\n",
       "Visuo-spatial LPS2-Visual        48 -1.001154         16  -1.00  128  0.321"
      ]
     },
     "execution_count": 25,
     "metadata": {},
     "output_type": "execute_result"
    }
   ],
   "source": [
    "group_mean = 76 # iq 100\n",
    "group_std = (94-58)/2. # range from iq 85 to iq 115\n",
    "group_n = 129\n",
    "pat_mean = 12+26+20\n",
    "max_score = 40+40+40\n",
    "\n",
    "lps2_df = make_df(group_mean, group_std, group_n, pat_mean, max_score, \n",
    "                    test_name='LPS2-Visual', domain_name='Visuo-spatial')\n",
    "lps2_df"
   ]
  },
  {
   "cell_type": "code",
   "execution_count": 28,
   "metadata": {},
   "outputs": [
    {
     "data": {
      "text/html": [
       "<div>\n",
       "<style>\n",
       "    .dataframe thead tr:only-child th {\n",
       "        text-align: right;\n",
       "    }\n",
       "\n",
       "    .dataframe thead th {\n",
       "        text-align: left;\n",
       "    }\n",
       "\n",
       "    .dataframe tbody tr th {\n",
       "        vertical-align: top;\n",
       "    }\n",
       "</style>\n",
       "<table border=\"1\" class=\"dataframe\">\n",
       "  <thead>\n",
       "    <tr style=\"text-align: right;\">\n",
       "      <th></th>\n",
       "      <th></th>\n",
       "      <th>% correct</th>\n",
       "      <th>z</th>\n",
       "      <th>percentile</th>\n",
       "      <th>t</th>\n",
       "      <th>df</th>\n",
       "      <th>p</th>\n",
       "    </tr>\n",
       "  </thead>\n",
       "  <tbody>\n",
       "    <tr>\n",
       "      <th>Face evaluation</th>\n",
       "      <th>Eyes test</th>\n",
       "      <td>72</td>\n",
       "      <td>-0.813348</td>\n",
       "      <td>21</td>\n",
       "      <td>-0.80</td>\n",
       "      <td>49</td>\n",
       "      <td>0.425</td>\n",
       "    </tr>\n",
       "    <tr>\n",
       "      <th rowspan=\"3\" valign=\"top\">Visuo-spatial</th>\n",
       "      <th>BLRD-A</th>\n",
       "      <td>33</td>\n",
       "      <td>-2.523242</td>\n",
       "      <td>1</td>\n",
       "      <td>-2.52</td>\n",
       "      <td>173</td>\n",
       "      <td>0.013</td>\n",
       "    </tr>\n",
       "    <tr>\n",
       "      <th>BLRD-B</th>\n",
       "      <td>38</td>\n",
       "      <td>-2.015474</td>\n",
       "      <td>2</td>\n",
       "      <td>-2.01</td>\n",
       "      <td>173</td>\n",
       "      <td>0.046</td>\n",
       "    </tr>\n",
       "    <tr>\n",
       "      <th>LPS2-Visual</th>\n",
       "      <td>48</td>\n",
       "      <td>-1.001154</td>\n",
       "      <td>16</td>\n",
       "      <td>-1.00</td>\n",
       "      <td>128</td>\n",
       "      <td>0.321</td>\n",
       "    </tr>\n",
       "  </tbody>\n",
       "</table>\n",
       "</div>"
      ],
      "text/plain": [
       "                            % correct         z percentile      t   df      p\n",
       "Face evaluation Eyes test          72 -0.813348         21  -0.80   49  0.425\n",
       "Visuo-spatial   BLRD-A             33 -2.523242          1  -2.52  173  0.013\n",
       "                BLRD-B             38 -2.015474          2  -2.01  173  0.046\n",
       "                LPS2-Visual        48 -1.001154         16  -1.00  128  0.321"
      ]
     },
     "execution_count": 28,
     "metadata": {},
     "output_type": "execute_result"
    }
   ],
   "source": [
    "results_df = pd.concat([eyes_df,blrd_df,lps2_df])\n",
    "results_df"
   ]
  },
  {
   "cell_type": "code",
   "execution_count": 29,
   "metadata": {
    "collapsed": true
   },
   "outputs": [],
   "source": [
    "results_df.to_csv('../reports/tables/penandpaper_main_results.csv')"
   ]
  }
 ],
 "metadata": {
  "kernelspec": {
   "display_name": "Python 2",
   "language": "python",
   "name": "python2"
  },
  "language_info": {
   "codemirror_mode": {
    "name": "ipython",
    "version": 2
   },
   "file_extension": ".py",
   "mimetype": "text/x-python",
   "name": "python",
   "nbconvert_exporter": "python",
   "pygments_lexer": "ipython2",
   "version": "2.7.9"
  },
  "varInspector": {
   "cols": {
    "lenName": 16,
    "lenType": 16,
    "lenVar": 40
   },
   "kernels_config": {
    "python": {
     "delete_cmd_postfix": "",
     "delete_cmd_prefix": "del ",
     "library": "var_list.py",
     "varRefreshCmd": "print(var_dic_list())"
    },
    "r": {
     "delete_cmd_postfix": ") ",
     "delete_cmd_prefix": "rm(",
     "library": "var_list.r",
     "varRefreshCmd": "cat(var_dic_list()) "
    }
   },
   "types_to_exclude": [
    "module",
    "function",
    "builtin_function_or_method",
    "instance",
    "_Feature"
   ],
   "window_display": false
  }
 },
 "nbformat": 4,
 "nbformat_minor": 2
}
