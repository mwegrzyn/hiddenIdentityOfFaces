{
 "cells": [
  {
   "cell_type": "markdown",
   "metadata": {},
   "source": [
    "# Compare patient with normative samples from other studies"
   ]
  },
  {
   "cell_type": "markdown",
   "metadata": {},
   "source": [
    "### import modules"
   ]
  },
  {
   "cell_type": "code",
   "execution_count": 1,
   "metadata": {
    "collapsed": true
   },
   "outputs": [],
   "source": [
    "import sys\n",
    "import os\n",
    "import fnmatch\n",
    "\n",
    "import numpy as np\n",
    "import pandas as pd\n",
    "from scipy import stats\n",
    "\n",
    "sys.path.append('../modules/')\n",
    "import case_stats as cs"
   ]
  },
  {
   "cell_type": "markdown",
   "metadata": {},
   "source": [
    "### Reading the eyes in the mind"
   ]
  },
  {
   "cell_type": "code",
   "execution_count": 2,
   "metadata": {
    "collapsed": true
   },
   "outputs": [],
   "source": [
    "group_mean = 28.6\n",
    "group_std = 3.2\n",
    "group_n = 50\n",
    "pat_mean = 26\n",
    "\n",
    "max_score = 36"
   ]
  },
  {
   "cell_type": "markdown",
   "metadata": {},
   "source": [
    "percent correct responses"
   ]
  },
  {
   "cell_type": "code",
   "execution_count": 3,
   "metadata": {},
   "outputs": [
    {
     "data": {
      "text/plain": [
       "'72'"
      ]
     },
     "execution_count": 3,
     "metadata": {},
     "output_type": "execute_result"
    }
   ],
   "source": [
    "pat_percent = (float(pat_mean) / max_score) * 100\n",
    "'%0.f' % pat_percent"
   ]
  },
  {
   "cell_type": "markdown",
   "metadata": {},
   "source": [
    "### convert each participant's scores into z-scores, then transform the z-scores into percentiles"
   ]
  },
  {
   "cell_type": "code",
   "execution_count": 4,
   "metadata": {},
   "outputs": [
    {
     "name": "stderr",
     "output_type": "stream",
     "text": [
      "/home/mwegrzyn/Documents/MS_PROSOP/venv/local/lib/python2.7/site-packages/sklearn/utils/validation.py:429: DataConversionWarning: Data with input dtype int64 was converted to float64 by StandardScaler.\n",
      "  warnings.warn(msg, _DataConversionWarning)\n"
     ]
    },
    {
     "data": {
      "text/plain": [
       "'z= -0.813 ; percentile= 21'"
      ]
     },
     "execution_count": 4,
     "metadata": {},
     "output_type": "execute_result"
    }
   ],
   "source": [
    "'z= %.3f ; percentile= %.0f' % cs.make_percentiles(group_mean, group_std,\n",
    "                                                   pat_mean)"
   ]
  },
  {
   "cell_type": "markdown",
   "metadata": {},
   "source": [
    "### compute a t-test patient vs controls, using the fromula by Crawford and Howell"
   ]
  },
  {
   "cell_type": "code",
   "execution_count": 5,
   "metadata": {},
   "outputs": [
    {
     "name": "stdout",
     "output_type": "stream",
     "text": [
      "t=-0.80, df=49 p=0.4250\n"
     ]
    }
   ],
   "source": [
    "t, df, p = cs.ttest_single(pat_mean, group_mean, group_std, group_n)\n",
    "print 't=%.2f, df=%.0f p=%.4f' % (t, df, p)"
   ]
  },
  {
   "cell_type": "code",
   "execution_count": 6,
   "metadata": {
    "collapsed": true
   },
   "outputs": [],
   "source": [
    "def make_df(group_mean, group_std, group_n, pat_mean, max_score, test_name,\n",
    "            domain_name):\n",
    "\n",
    "    # get percent correct\n",
    "    pat_percent = (float(pat_mean) / max_score) * 100\n",
    "\n",
    "    # make percentile score\n",
    "    z, percentile_score = cs.make_percentiles(group_mean, group_std, pat_mean)\n",
    "\n",
    "    # compute inferential statistics\n",
    "    t, df, p = cs.ttest_single(pat_mean, group_mean, group_std, group_n)\n",
    "\n",
    "    # put data into dictionary\n",
    "    d = {\n",
    "        '% correct': '%0.f' % pat_percent,\n",
    "        'z': z,\n",
    "        'percentile': '%0.f' % percentile_score,\n",
    "        't': '%.2f' % t,\n",
    "        'df': int(df),\n",
    "        'p': '%.3f' % p\n",
    "    }\n",
    "\n",
    "    # transform into dataframe\n",
    "    result_df = pd.DataFrame(d, index=[test_name])\n",
    "    # format the dataframe\n",
    "    result_df = result_df.loc[:,\n",
    "                              ['% correct', 'z', 'percentile', 't', 'df', 'p']]\n",
    "    result_df.index = [[domain_name] * result_df.shape[0], result_df.index]\n",
    "\n",
    "    return result_df"
   ]
  },
  {
   "cell_type": "markdown",
   "metadata": {},
   "source": [
    "### compute all statistics "
   ]
  },
  {
   "cell_type": "code",
   "execution_count": 7,
   "metadata": {},
   "outputs": [
    {
     "data": {
      "text/html": [
       "<div>\n",
       "<style>\n",
       "    .dataframe thead tr:only-child th {\n",
       "        text-align: right;\n",
       "    }\n",
       "\n",
       "    .dataframe thead th {\n",
       "        text-align: left;\n",
       "    }\n",
       "\n",
       "    .dataframe tbody tr th {\n",
       "        vertical-align: top;\n",
       "    }\n",
       "</style>\n",
       "<table border=\"1\" class=\"dataframe\">\n",
       "  <thead>\n",
       "    <tr style=\"text-align: right;\">\n",
       "      <th></th>\n",
       "      <th></th>\n",
       "      <th>% correct</th>\n",
       "      <th>z</th>\n",
       "      <th>percentile</th>\n",
       "      <th>t</th>\n",
       "      <th>df</th>\n",
       "      <th>p</th>\n",
       "    </tr>\n",
       "  </thead>\n",
       "  <tbody>\n",
       "    <tr>\n",
       "      <th>Face evaluation</th>\n",
       "      <th>Eyes test</th>\n",
       "      <td>72</td>\n",
       "      <td>-0.812299</td>\n",
       "      <td>21</td>\n",
       "      <td>-0.80</td>\n",
       "      <td>49</td>\n",
       "      <td>0.425</td>\n",
       "    </tr>\n",
       "  </tbody>\n",
       "</table>\n",
       "</div>"
      ],
      "text/plain": [
       "                          % correct         z percentile      t  df      p\n",
       "Face evaluation Eyes test        72 -0.812299         21  -0.80  49  0.425"
      ]
     },
     "execution_count": 7,
     "metadata": {},
     "output_type": "execute_result"
    }
   ],
   "source": [
    "group_mean = 28.6\n",
    "group_std = 3.2\n",
    "group_n = 50\n",
    "pat_mean = 26\n",
    "max_score = 36\n",
    "\n",
    "eyes_df = make_df(\n",
    "    group_mean,\n",
    "    group_std,\n",
    "    group_n,\n",
    "    pat_mean,\n",
    "    max_score,\n",
    "    test_name='Eyes test',\n",
    "    domain_name='Face evaluation')\n",
    "\n",
    "eyes_df"
   ]
  },
  {
   "cell_type": "markdown",
   "metadata": {},
   "source": [
    "### Bergen Test"
   ]
  },
  {
   "cell_type": "code",
   "execution_count": 8,
   "metadata": {},
   "outputs": [
    {
     "data": {
      "text/html": [
       "<div>\n",
       "<style>\n",
       "    .dataframe thead tr:only-child th {\n",
       "        text-align: right;\n",
       "    }\n",
       "\n",
       "    .dataframe thead th {\n",
       "        text-align: left;\n",
       "    }\n",
       "\n",
       "    .dataframe tbody tr th {\n",
       "        vertical-align: top;\n",
       "    }\n",
       "</style>\n",
       "<table border=\"1\" class=\"dataframe\">\n",
       "  <thead>\n",
       "    <tr style=\"text-align: right;\">\n",
       "      <th></th>\n",
       "      <th></th>\n",
       "      <th>% correct</th>\n",
       "      <th>z</th>\n",
       "      <th>percentile</th>\n",
       "      <th>t</th>\n",
       "      <th>df</th>\n",
       "      <th>p</th>\n",
       "    </tr>\n",
       "  </thead>\n",
       "  <tbody>\n",
       "    <tr>\n",
       "      <th>Visuo-spatial</th>\n",
       "      <th>BRLD-A</th>\n",
       "      <td>33</td>\n",
       "      <td>-2.523836</td>\n",
       "      <td>1</td>\n",
       "      <td>-2.52</td>\n",
       "      <td>173</td>\n",
       "      <td>0.013</td>\n",
       "    </tr>\n",
       "  </tbody>\n",
       "</table>\n",
       "</div>"
      ],
      "text/plain": [
       "                     % correct         z percentile      t   df      p\n",
       "Visuo-spatial BRLD-A        33 -2.523836          1  -2.52  173  0.013"
      ]
     },
     "execution_count": 8,
     "metadata": {},
     "output_type": "execute_result"
    }
   ],
   "source": [
    "group_mean = 110.24\n",
    "group_std = 24.67\n",
    "group_n = 174\n",
    "pat_mean = 48\n",
    "max_score = 144\n",
    "\n",
    "blrda_df = make_df(\n",
    "    group_mean,\n",
    "    group_std,\n",
    "    group_n,\n",
    "    pat_mean,\n",
    "    max_score,\n",
    "    test_name='BRLD-A',\n",
    "    domain_name='Visuo-spatial')\n",
    "\n",
    "blrda_df"
   ]
  },
  {
   "cell_type": "code",
   "execution_count": 9,
   "metadata": {},
   "outputs": [
    {
     "data": {
      "text/html": [
       "<div>\n",
       "<style>\n",
       "    .dataframe thead tr:only-child th {\n",
       "        text-align: right;\n",
       "    }\n",
       "\n",
       "    .dataframe thead th {\n",
       "        text-align: left;\n",
       "    }\n",
       "\n",
       "    .dataframe tbody tr th {\n",
       "        vertical-align: top;\n",
       "    }\n",
       "</style>\n",
       "<table border=\"1\" class=\"dataframe\">\n",
       "  <thead>\n",
       "    <tr style=\"text-align: right;\">\n",
       "      <th></th>\n",
       "      <th></th>\n",
       "      <th>% correct</th>\n",
       "      <th>z</th>\n",
       "      <th>percentile</th>\n",
       "      <th>t</th>\n",
       "      <th>df</th>\n",
       "      <th>p</th>\n",
       "    </tr>\n",
       "  </thead>\n",
       "  <tbody>\n",
       "    <tr>\n",
       "      <th>Visuo-spatial</th>\n",
       "      <th>BRLD-B</th>\n",
       "      <td>38</td>\n",
       "      <td>-2.01505</td>\n",
       "      <td>2</td>\n",
       "      <td>-2.01</td>\n",
       "      <td>173</td>\n",
       "      <td>0.046</td>\n",
       "    </tr>\n",
       "  </tbody>\n",
       "</table>\n",
       "</div>"
      ],
      "text/plain": [
       "                     % correct        z percentile      t   df      p\n",
       "Visuo-spatial BRLD-B        38 -2.01505          2  -2.01  173  0.046"
      ]
     },
     "execution_count": 9,
     "metadata": {},
     "output_type": "execute_result"
    }
   ],
   "source": [
    "group_mean = 109.73\n",
    "group_std = 27.64\n",
    "group_n = 174\n",
    "pat_mean = 54\n",
    "max_score = 144\n",
    "\n",
    "blrdb_df = make_df(\n",
    "    group_mean,\n",
    "    group_std,\n",
    "    group_n,\n",
    "    pat_mean,\n",
    "    max_score,\n",
    "    test_name='BRLD-B',\n",
    "    domain_name='Visuo-spatial')\n",
    "\n",
    "blrdb_df"
   ]
  },
  {
   "cell_type": "code",
   "execution_count": 10,
   "metadata": {},
   "outputs": [
    {
     "data": {
      "text/html": [
       "<div>\n",
       "<style>\n",
       "    .dataframe thead tr:only-child th {\n",
       "        text-align: right;\n",
       "    }\n",
       "\n",
       "    .dataframe thead th {\n",
       "        text-align: left;\n",
       "    }\n",
       "\n",
       "    .dataframe tbody tr th {\n",
       "        vertical-align: top;\n",
       "    }\n",
       "</style>\n",
       "<table border=\"1\" class=\"dataframe\">\n",
       "  <thead>\n",
       "    <tr style=\"text-align: right;\">\n",
       "      <th></th>\n",
       "      <th></th>\n",
       "      <th>% correct</th>\n",
       "      <th>z</th>\n",
       "      <th>percentile</th>\n",
       "      <th>t</th>\n",
       "      <th>df</th>\n",
       "      <th>p</th>\n",
       "    </tr>\n",
       "  </thead>\n",
       "  <tbody>\n",
       "    <tr>\n",
       "      <th rowspan=\"2\" valign=\"top\">Visuo-spatial</th>\n",
       "      <th>BRLD-A</th>\n",
       "      <td>33</td>\n",
       "      <td>-2.523836</td>\n",
       "      <td>1</td>\n",
       "      <td>-2.52</td>\n",
       "      <td>173</td>\n",
       "      <td>0.013</td>\n",
       "    </tr>\n",
       "    <tr>\n",
       "      <th>BRLD-B</th>\n",
       "      <td>38</td>\n",
       "      <td>-2.015050</td>\n",
       "      <td>2</td>\n",
       "      <td>-2.01</td>\n",
       "      <td>173</td>\n",
       "      <td>0.046</td>\n",
       "    </tr>\n",
       "  </tbody>\n",
       "</table>\n",
       "</div>"
      ],
      "text/plain": [
       "                     % correct         z percentile      t   df      p\n",
       "Visuo-spatial BRLD-A        33 -2.523836          1  -2.52  173  0.013\n",
       "              BRLD-B        38 -2.015050          2  -2.01  173  0.046"
      ]
     },
     "execution_count": 10,
     "metadata": {},
     "output_type": "execute_result"
    }
   ],
   "source": [
    "blrd_df = pd.concat([blrda_df, blrdb_df])\n",
    "blrd_df"
   ]
  },
  {
   "cell_type": "markdown",
   "metadata": {},
   "source": [
    "### LPS 2"
   ]
  },
  {
   "cell_type": "code",
   "execution_count": 11,
   "metadata": {},
   "outputs": [
    {
     "data": {
      "text/html": [
       "<div>\n",
       "<style>\n",
       "    .dataframe thead tr:only-child th {\n",
       "        text-align: right;\n",
       "    }\n",
       "\n",
       "    .dataframe thead th {\n",
       "        text-align: left;\n",
       "    }\n",
       "\n",
       "    .dataframe tbody tr th {\n",
       "        vertical-align: top;\n",
       "    }\n",
       "</style>\n",
       "<table border=\"1\" class=\"dataframe\">\n",
       "  <thead>\n",
       "    <tr style=\"text-align: right;\">\n",
       "      <th></th>\n",
       "      <th></th>\n",
       "      <th>% correct</th>\n",
       "      <th>z</th>\n",
       "      <th>percentile</th>\n",
       "      <th>t</th>\n",
       "      <th>df</th>\n",
       "      <th>p</th>\n",
       "    </tr>\n",
       "  </thead>\n",
       "  <tbody>\n",
       "    <tr>\n",
       "      <th>Visuo-spatial</th>\n",
       "      <th>LPS2-Visual</th>\n",
       "      <td>48</td>\n",
       "      <td>-0.998214</td>\n",
       "      <td>16</td>\n",
       "      <td>-1.00</td>\n",
       "      <td>128</td>\n",
       "      <td>0.321</td>\n",
       "    </tr>\n",
       "  </tbody>\n",
       "</table>\n",
       "</div>"
      ],
      "text/plain": [
       "                          % correct         z percentile      t   df      p\n",
       "Visuo-spatial LPS2-Visual        48 -0.998214         16  -1.00  128  0.321"
      ]
     },
     "execution_count": 11,
     "metadata": {},
     "output_type": "execute_result"
    }
   ],
   "source": [
    "group_mean = 76  # iq 100\n",
    "group_std = (94 - 58) / 2.  # range from iq 85 to iq 115\n",
    "group_n = 129\n",
    "pat_1, pat_2, pat_3 = 12, 26, 20\n",
    "pat_mean = pat_1 + pat_2 + pat_3\n",
    "max_score = 40 + 40 + 40\n",
    "\n",
    "lps2_df = make_df(\n",
    "    group_mean,\n",
    "    group_std,\n",
    "    group_n,\n",
    "    pat_mean,\n",
    "    max_score,\n",
    "    test_name='LPS2-Visual',\n",
    "    domain_name='Visuo-spatial')\n",
    "\n",
    "lps2_df"
   ]
  },
  {
   "cell_type": "markdown",
   "metadata": {},
   "source": [
    "### store everything in one table"
   ]
  },
  {
   "cell_type": "code",
   "execution_count": 12,
   "metadata": {},
   "outputs": [
    {
     "data": {
      "text/html": [
       "<div>\n",
       "<style>\n",
       "    .dataframe thead tr:only-child th {\n",
       "        text-align: right;\n",
       "    }\n",
       "\n",
       "    .dataframe thead th {\n",
       "        text-align: left;\n",
       "    }\n",
       "\n",
       "    .dataframe tbody tr th {\n",
       "        vertical-align: top;\n",
       "    }\n",
       "</style>\n",
       "<table border=\"1\" class=\"dataframe\">\n",
       "  <thead>\n",
       "    <tr style=\"text-align: right;\">\n",
       "      <th></th>\n",
       "      <th></th>\n",
       "      <th>% correct</th>\n",
       "      <th>z</th>\n",
       "      <th>percentile</th>\n",
       "      <th>t</th>\n",
       "      <th>df</th>\n",
       "      <th>p</th>\n",
       "    </tr>\n",
       "  </thead>\n",
       "  <tbody>\n",
       "    <tr>\n",
       "      <th>Face evaluation</th>\n",
       "      <th>Eyes test</th>\n",
       "      <td>72</td>\n",
       "      <td>-0.812299</td>\n",
       "      <td>21</td>\n",
       "      <td>-0.80</td>\n",
       "      <td>49</td>\n",
       "      <td>0.425</td>\n",
       "    </tr>\n",
       "    <tr>\n",
       "      <th rowspan=\"3\" valign=\"top\">Visuo-spatial</th>\n",
       "      <th>BRLD-A</th>\n",
       "      <td>33</td>\n",
       "      <td>-2.523836</td>\n",
       "      <td>1</td>\n",
       "      <td>-2.52</td>\n",
       "      <td>173</td>\n",
       "      <td>0.013</td>\n",
       "    </tr>\n",
       "    <tr>\n",
       "      <th>BRLD-B</th>\n",
       "      <td>38</td>\n",
       "      <td>-2.015050</td>\n",
       "      <td>2</td>\n",
       "      <td>-2.01</td>\n",
       "      <td>173</td>\n",
       "      <td>0.046</td>\n",
       "    </tr>\n",
       "    <tr>\n",
       "      <th>LPS2-Visual</th>\n",
       "      <td>48</td>\n",
       "      <td>-0.998214</td>\n",
       "      <td>16</td>\n",
       "      <td>-1.00</td>\n",
       "      <td>128</td>\n",
       "      <td>0.321</td>\n",
       "    </tr>\n",
       "  </tbody>\n",
       "</table>\n",
       "</div>"
      ],
      "text/plain": [
       "                            % correct         z percentile      t   df      p\n",
       "Face evaluation Eyes test          72 -0.812299         21  -0.80   49  0.425\n",
       "Visuo-spatial   BRLD-A             33 -2.523836          1  -2.52  173  0.013\n",
       "                BRLD-B             38 -2.015050          2  -2.01  173  0.046\n",
       "                LPS2-Visual        48 -0.998214         16  -1.00  128  0.321"
      ]
     },
     "execution_count": 12,
     "metadata": {},
     "output_type": "execute_result"
    }
   ],
   "source": [
    "results_df = pd.concat([eyes_df, blrd_df, lps2_df])\n",
    "results_df"
   ]
  },
  {
   "cell_type": "code",
   "execution_count": 13,
   "metadata": {
    "collapsed": true
   },
   "outputs": [],
   "source": [
    "results_df.to_csv('../reports/tables/penandpaper_main_results.csv')"
   ]
  }
 ],
 "metadata": {
  "kernelspec": {
   "display_name": "Python 2",
   "language": "python",
   "name": "python2"
  },
  "language_info": {
   "codemirror_mode": {
    "name": "ipython",
    "version": 2
   },
   "file_extension": ".py",
   "mimetype": "text/x-python",
   "name": "python",
   "nbconvert_exporter": "python",
   "pygments_lexer": "ipython2",
   "version": "2.7.9"
  },
  "varInspector": {
   "cols": {
    "lenName": 16,
    "lenType": 16,
    "lenVar": 40
   },
   "kernels_config": {
    "python": {
     "delete_cmd_postfix": "",
     "delete_cmd_prefix": "del ",
     "library": "var_list.py",
     "varRefreshCmd": "print(var_dic_list())"
    },
    "r": {
     "delete_cmd_postfix": ") ",
     "delete_cmd_prefix": "rm(",
     "library": "var_list.r",
     "varRefreshCmd": "cat(var_dic_list()) "
    }
   },
   "types_to_exclude": [
    "module",
    "function",
    "builtin_function_or_method",
    "instance",
    "_Feature"
   ],
   "window_display": false
  }
 },
 "nbformat": 4,
 "nbformat_minor": 2
}
