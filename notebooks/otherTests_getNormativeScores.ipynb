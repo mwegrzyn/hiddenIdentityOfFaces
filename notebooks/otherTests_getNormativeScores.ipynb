{
 "cells": [
  {
   "cell_type": "markdown",
   "metadata": {},
   "source": [
    "# Compare patient with normative samples from other studies"
   ]
  },
  {
   "cell_type": "markdown",
   "metadata": {},
   "source": [
    "### import modules"
   ]
  },
  {
   "cell_type": "code",
   "execution_count": 1,
   "metadata": {
    "collapsed": true
   },
   "outputs": [],
   "source": [
    "import sys\n",
    "import os\n",
    "import fnmatch\n",
    "\n",
    "import numpy as np\n",
    "import pandas as pd\n",
    "from scipy import stats\n",
    "\n",
    "sys.path.append('../modules/')\n",
    "import case_stats as cs"
   ]
  },
  {
   "cell_type": "markdown",
   "metadata": {},
   "source": [
    "### Reading the eyes in the mind"
   ]
  },
  {
   "cell_type": "code",
   "execution_count": 17,
   "metadata": {
    "collapsed": true
   },
   "outputs": [],
   "source": [
    "group_mean = 28.6\n",
    "group_std = 3.2\n",
    "group_n = 50\n",
    "pat_mean = 26\n",
    "\n",
    "max_score = 36"
   ]
  },
  {
   "cell_type": "markdown",
   "metadata": {
    "variables": {
     " group_mean ": "28.6",
     " group_n ": "50",
     " group_std ": "3.2",
     " max_score ": "36"
    }
   },
   "source": [
    "In the test, participants see the eye region of a face and have to select which of four terms best describes the mental state expressed by the face. A maximal score of {{ max_score }} can be reached. To compute percentile scores, we used a normative sample of {{ group_n }} female student controls from a prevous study (Baron-Cohen et al. 2001; Table 3, Group 3). This group has a mean score of {{ group_mean }} and standard deviation of {{ group_std }}."
   ]
  },
  {
   "cell_type": "markdown",
   "metadata": {},
   "source": [
    "percent correct responses"
   ]
  },
  {
   "cell_type": "code",
   "execution_count": 3,
   "metadata": {},
   "outputs": [
    {
     "data": {
      "text/plain": [
       "'72'"
      ]
     },
     "execution_count": 3,
     "metadata": {},
     "output_type": "execute_result"
    }
   ],
   "source": [
    "pat_percent = (float(pat_mean) / max_score) * 100\n",
    "'%0.f' % pat_percent"
   ]
  },
  {
   "cell_type": "markdown",
   "metadata": {},
   "source": [
    "### convert each participant's scores into z-scores, then transform the z-scores into percentiles"
   ]
  },
  {
   "cell_type": "code",
   "execution_count": 4,
   "metadata": {},
   "outputs": [
    {
     "name": "stderr",
     "output_type": "stream",
     "text": [
      "/home/mwegrzyn/Documents/MS_PROSOP/venv/local/lib/python2.7/site-packages/sklearn/utils/validation.py:429: DataConversionWarning: Data with input dtype int64 was converted to float64 by StandardScaler.\n",
      "  warnings.warn(msg, _DataConversionWarning)\n"
     ]
    },
    {
     "data": {
      "text/plain": [
       "'z= -0.814 ; percentile= 21'"
      ]
     },
     "execution_count": 4,
     "metadata": {},
     "output_type": "execute_result"
    }
   ],
   "source": [
    "'z= %.3f ; percentile= %.0f' % cs.make_percentiles(group_mean, group_std,\n",
    "                                                   pat_mean)"
   ]
  },
  {
   "cell_type": "markdown",
   "metadata": {},
   "source": [
    "### compute a t-test patient vs controls, using the fromula by Crawford and Howell"
   ]
  },
  {
   "cell_type": "code",
   "execution_count": 5,
   "metadata": {},
   "outputs": [
    {
     "name": "stdout",
     "output_type": "stream",
     "text": [
      "t=-0.80, df=49 p=0.4250\n"
     ]
    }
   ],
   "source": [
    "t, df, p = cs.ttest_single(pat_mean, group_mean, group_std, group_n)\n",
    "print 't=%.2f, df=%.0f p=%.4f' % (t, df, p)"
   ]
  },
  {
   "cell_type": "code",
   "execution_count": 6,
   "metadata": {
    "collapsed": true
   },
   "outputs": [],
   "source": [
    "def make_df(group_mean, group_std, group_n, pat_mean, max_score, test_name,\n",
    "            domain_name):\n",
    "\n",
    "    # get percent correct\n",
    "    pat_percent = (float(pat_mean) / max_score) * 100\n",
    "\n",
    "    # make percentile score\n",
    "    z, percentile_score = cs.make_percentiles(group_mean, group_std, pat_mean)\n",
    "\n",
    "    # compute inferential statistics\n",
    "    t, df, p = cs.ttest_single(pat_mean, group_mean, group_std, group_n)\n",
    "\n",
    "    # put data into dictionary\n",
    "    d = {\n",
    "        '% correct': '%0.f' % pat_percent,\n",
    "        'z': z,\n",
    "        'percentile': '%0.f' % percentile_score,\n",
    "        't': '%.2f' % t,\n",
    "        'df': int(df),\n",
    "        'p': '%.3f' % p\n",
    "    }\n",
    "\n",
    "    # transform into dataframe\n",
    "    result_df = pd.DataFrame(d, index=[test_name])\n",
    "    # format the dataframe\n",
    "    result_df = result_df.loc[:,\n",
    "                              ['% correct', 'z', 'percentile', 't', 'df', 'p']]\n",
    "    result_df.index = [[domain_name] * result_df.shape[0], result_df.index]\n",
    "\n",
    "    return result_df"
   ]
  },
  {
   "cell_type": "markdown",
   "metadata": {},
   "source": [
    "### compute all statistics "
   ]
  },
  {
   "cell_type": "code",
   "execution_count": 7,
   "metadata": {},
   "outputs": [
    {
     "data": {
      "text/html": [
       "<div>\n",
       "<style>\n",
       "    .dataframe thead tr:only-child th {\n",
       "        text-align: right;\n",
       "    }\n",
       "\n",
       "    .dataframe thead th {\n",
       "        text-align: left;\n",
       "    }\n",
       "\n",
       "    .dataframe tbody tr th {\n",
       "        vertical-align: top;\n",
       "    }\n",
       "</style>\n",
       "<table border=\"1\" class=\"dataframe\">\n",
       "  <thead>\n",
       "    <tr style=\"text-align: right;\">\n",
       "      <th></th>\n",
       "      <th></th>\n",
       "      <th>% correct</th>\n",
       "      <th>z</th>\n",
       "      <th>percentile</th>\n",
       "      <th>t</th>\n",
       "      <th>df</th>\n",
       "      <th>p</th>\n",
       "    </tr>\n",
       "  </thead>\n",
       "  <tbody>\n",
       "    <tr>\n",
       "      <th>Face evaluation</th>\n",
       "      <th>Eyes test</th>\n",
       "      <td>72</td>\n",
       "      <td>-0.812548</td>\n",
       "      <td>21</td>\n",
       "      <td>-0.80</td>\n",
       "      <td>49</td>\n",
       "      <td>0.425</td>\n",
       "    </tr>\n",
       "  </tbody>\n",
       "</table>\n",
       "</div>"
      ],
      "text/plain": [
       "                          % correct         z percentile      t  df      p\n",
       "Face evaluation Eyes test        72 -0.812548         21  -0.80  49  0.425"
      ]
     },
     "execution_count": 7,
     "metadata": {},
     "output_type": "execute_result"
    }
   ],
   "source": [
    "group_mean = 28.6\n",
    "group_std = 3.2\n",
    "group_n = 50\n",
    "pat_mean = 26\n",
    "max_score = 36\n",
    "\n",
    "eyes_df = make_df(\n",
    "    group_mean,\n",
    "    group_std,\n",
    "    group_n,\n",
    "    pat_mean,\n",
    "    max_score,\n",
    "    test_name='Eyes test',\n",
    "    domain_name='Face evaluation')\n",
    "\n",
    "eyes_df"
   ]
  },
  {
   "cell_type": "markdown",
   "metadata": {},
   "source": [
    "### Bergen Test"
   ]
  },
  {
   "cell_type": "markdown",
   "metadata": {},
   "source": [
    "To investigate body perception, we used the The Bergen Right-Left Discrimination Test (BRLD; Ofte 2002). Here, body perception and mental rotation of bodies are tested using stick figures on which the left and right hand has to be identified. For example, a stick figure facing is shown from its front and the left hand has to be identified (it is on the right of the image, as the stick figure is facing us). The task is made more difficult by the stick figure holding sometimes crossing its hands. The test contains of three parts (back view, front view, alternating view) and the participant has 90 seconds time for each, after which the number of correct responses is counted.\n",
    "After this, a variation of the BRLD was administered, which works identically, but all stick figures are upside down (hence, in a rear view the left hand is on the right side)."
   ]
  },
  {
   "cell_type": "markdown",
   "metadata": {},
   "source": [
    "    BLRT\n",
    "precent correct 10  \n",
    "percentile 2\n"
   ]
  },
  {
   "cell_type": "code",
   "execution_count": 16,
   "metadata": {},
   "outputs": [
    {
     "data": {
      "text/html": [
       "<div>\n",
       "<style>\n",
       "    .dataframe thead tr:only-child th {\n",
       "        text-align: right;\n",
       "    }\n",
       "\n",
       "    .dataframe thead th {\n",
       "        text-align: left;\n",
       "    }\n",
       "\n",
       "    .dataframe tbody tr th {\n",
       "        vertical-align: top;\n",
       "    }\n",
       "</style>\n",
       "<table border=\"1\" class=\"dataframe\">\n",
       "  <thead>\n",
       "    <tr style=\"text-align: right;\">\n",
       "      <th></th>\n",
       "      <th></th>\n",
       "      <th>% correct</th>\n",
       "      <th>z</th>\n",
       "      <th>percentile</th>\n",
       "      <th>t</th>\n",
       "      <th>df</th>\n",
       "      <th>p</th>\n",
       "    </tr>\n",
       "  </thead>\n",
       "  <tbody>\n",
       "    <tr>\n",
       "      <th>Visuo-spatial</th>\n",
       "      <th>BLRD-A</th>\n",
       "      <td>33</td>\n",
       "      <td>-2.521069</td>\n",
       "      <td>1</td>\n",
       "      <td>-2.52</td>\n",
       "      <td>173</td>\n",
       "      <td>0.013</td>\n",
       "    </tr>\n",
       "  </tbody>\n",
       "</table>\n",
       "</div>"
      ],
      "text/plain": [
       "                     % correct         z percentile      t   df      p\n",
       "Visuo-spatial BLRD-A        33 -2.521069          1  -2.52  173  0.013"
      ]
     },
     "execution_count": 16,
     "metadata": {},
     "output_type": "execute_result"
    }
   ],
   "source": [
    "group_mean = 110.24\n",
    "group_std = 24.67\n",
    "group_n = 174\n",
    "pat_mean = 48\n",
    "max_score = 144\n",
    "\n",
    "blrda_df = make_df(\n",
    "    group_mean,\n",
    "    group_std,\n",
    "    group_n,\n",
    "    pat_mean,\n",
    "    max_score,\n",
    "    test_name='BLRD-A',\n",
    "    domain_name='Visuo-spatial')\n",
    "\n",
    "blrda_df"
   ]
  },
  {
   "cell_type": "markdown",
   "metadata": {
    "variables": {
     " group_n ": "174",
     " int(round(group_mean,0)) ": "110",
     " int(round(group_std,0)) ": "25",
     " max_score ": "144"
    }
   },
   "source": [
    "A maximal score of {{ max_score }} can be reached in each part and normative values are available for each of the two parts. We used data from a normative sample of n={{ group_n }} adult participants (124 female, mean age 28 years) collected by Grewe et al. (2014). For the BRLD-A, the normative sample had a mean score of {{ int(round(group_mean,0)) }} and standard deviation of {{ int(round(group_std,0)) }}."
   ]
  },
  {
   "cell_type": "code",
   "execution_count": 9,
   "metadata": {},
   "outputs": [
    {
     "data": {
      "text/html": [
       "<div>\n",
       "<style>\n",
       "    .dataframe thead tr:only-child th {\n",
       "        text-align: right;\n",
       "    }\n",
       "\n",
       "    .dataframe thead th {\n",
       "        text-align: left;\n",
       "    }\n",
       "\n",
       "    .dataframe tbody tr th {\n",
       "        vertical-align: top;\n",
       "    }\n",
       "</style>\n",
       "<table border=\"1\" class=\"dataframe\">\n",
       "  <thead>\n",
       "    <tr style=\"text-align: right;\">\n",
       "      <th></th>\n",
       "      <th></th>\n",
       "      <th>% correct</th>\n",
       "      <th>z</th>\n",
       "      <th>percentile</th>\n",
       "      <th>t</th>\n",
       "      <th>df</th>\n",
       "      <th>p</th>\n",
       "    </tr>\n",
       "  </thead>\n",
       "  <tbody>\n",
       "    <tr>\n",
       "      <th>Visuo-spatial</th>\n",
       "      <th>BLRD-B</th>\n",
       "      <td>38</td>\n",
       "      <td>-2.017036</td>\n",
       "      <td>2</td>\n",
       "      <td>-2.01</td>\n",
       "      <td>173</td>\n",
       "      <td>0.046</td>\n",
       "    </tr>\n",
       "  </tbody>\n",
       "</table>\n",
       "</div>"
      ],
      "text/plain": [
       "                     % correct         z percentile      t   df      p\n",
       "Visuo-spatial BLRD-B        38 -2.017036          2  -2.01  173  0.046"
      ]
     },
     "execution_count": 9,
     "metadata": {},
     "output_type": "execute_result"
    }
   ],
   "source": [
    "group_mean = 109.73\n",
    "group_std = 27.64\n",
    "group_n = 174\n",
    "pat_mean = 54\n",
    "max_score = 144\n",
    "\n",
    "blrdb_df = make_df(\n",
    "    group_mean,\n",
    "    group_std,\n",
    "    group_n,\n",
    "    pat_mean,\n",
    "    max_score,\n",
    "    test_name='BLRD-B',\n",
    "    domain_name='Visuo-spatial')\n",
    "\n",
    "blrdb_df"
   ]
  },
  {
   "cell_type": "markdown",
   "metadata": {
    "variables": {
     " int(round(group_mean,0)) ": "110",
     " int(round(group_std,0)) ": "28"
    }
   },
   "source": [
    " For the BRLD-B, the normative sample has a mean score of {{ int(round(group_mean,0)) }} and standard deviation of {{ int(round(group_std,0)) }}."
   ]
  },
  {
   "cell_type": "code",
   "execution_count": 10,
   "metadata": {},
   "outputs": [
    {
     "data": {
      "text/html": [
       "<div>\n",
       "<style>\n",
       "    .dataframe thead tr:only-child th {\n",
       "        text-align: right;\n",
       "    }\n",
       "\n",
       "    .dataframe thead th {\n",
       "        text-align: left;\n",
       "    }\n",
       "\n",
       "    .dataframe tbody tr th {\n",
       "        vertical-align: top;\n",
       "    }\n",
       "</style>\n",
       "<table border=\"1\" class=\"dataframe\">\n",
       "  <thead>\n",
       "    <tr style=\"text-align: right;\">\n",
       "      <th></th>\n",
       "      <th></th>\n",
       "      <th>% correct</th>\n",
       "      <th>z</th>\n",
       "      <th>percentile</th>\n",
       "      <th>t</th>\n",
       "      <th>df</th>\n",
       "      <th>p</th>\n",
       "    </tr>\n",
       "  </thead>\n",
       "  <tbody>\n",
       "    <tr>\n",
       "      <th rowspan=\"2\" valign=\"top\">Visuo-spatial</th>\n",
       "      <th>BLRD-A</th>\n",
       "      <td>33</td>\n",
       "      <td>-2.523143</td>\n",
       "      <td>1</td>\n",
       "      <td>-2.52</td>\n",
       "      <td>173</td>\n",
       "      <td>0.013</td>\n",
       "    </tr>\n",
       "    <tr>\n",
       "      <th>BLRD-B</th>\n",
       "      <td>38</td>\n",
       "      <td>-2.017036</td>\n",
       "      <td>2</td>\n",
       "      <td>-2.01</td>\n",
       "      <td>173</td>\n",
       "      <td>0.046</td>\n",
       "    </tr>\n",
       "  </tbody>\n",
       "</table>\n",
       "</div>"
      ],
      "text/plain": [
       "                     % correct         z percentile      t   df      p\n",
       "Visuo-spatial BLRD-A        33 -2.523143          1  -2.52  173  0.013\n",
       "              BLRD-B        38 -2.017036          2  -2.01  173  0.046"
      ]
     },
     "execution_count": 10,
     "metadata": {},
     "output_type": "execute_result"
    }
   ],
   "source": [
    "blrd_df = pd.concat([blrda_df, blrdb_df])\n",
    "blrd_df"
   ]
  },
  {
   "cell_type": "markdown",
   "metadata": {},
   "source": [
    "### LPS 2"
   ]
  },
  {
   "cell_type": "code",
   "execution_count": 15,
   "metadata": {},
   "outputs": [
    {
     "data": {
      "text/html": [
       "<div>\n",
       "<style>\n",
       "    .dataframe thead tr:only-child th {\n",
       "        text-align: right;\n",
       "    }\n",
       "\n",
       "    .dataframe thead th {\n",
       "        text-align: left;\n",
       "    }\n",
       "\n",
       "    .dataframe tbody tr th {\n",
       "        vertical-align: top;\n",
       "    }\n",
       "</style>\n",
       "<table border=\"1\" class=\"dataframe\">\n",
       "  <thead>\n",
       "    <tr style=\"text-align: right;\">\n",
       "      <th></th>\n",
       "      <th></th>\n",
       "      <th>% correct</th>\n",
       "      <th>z</th>\n",
       "      <th>percentile</th>\n",
       "      <th>t</th>\n",
       "      <th>df</th>\n",
       "      <th>p</th>\n",
       "    </tr>\n",
       "  </thead>\n",
       "  <tbody>\n",
       "    <tr>\n",
       "      <th>Visuo-spatial</th>\n",
       "      <th>LPS2-Visual</th>\n",
       "      <td>48</td>\n",
       "      <td>-1.001067</td>\n",
       "      <td>16</td>\n",
       "      <td>-1.00</td>\n",
       "      <td>128</td>\n",
       "      <td>0.321</td>\n",
       "    </tr>\n",
       "  </tbody>\n",
       "</table>\n",
       "</div>"
      ],
      "text/plain": [
       "                          % correct         z percentile      t   df      p\n",
       "Visuo-spatial LPS2-Visual        48 -1.001067         16  -1.00  128  0.321"
      ]
     },
     "execution_count": 15,
     "metadata": {},
     "output_type": "execute_result"
    }
   ],
   "source": [
    "group_mean = 76  # iq 100\n",
    "group_std = (94 - 58) / 2.  # range from iq 85 to iq 115\n",
    "group_n = 129\n",
    "pat_1, pat_2, pat_3 = 12, 26, 20\n",
    "pat_mean = pat_1 + pat_2 + pat_3\n",
    "max_score = 40 + 40 + 40\n",
    "\n",
    "lps2_df = make_df(\n",
    "    group_mean,\n",
    "    group_std,\n",
    "    group_n,\n",
    "    pat_mean,\n",
    "    max_score,\n",
    "    test_name='LPS2-Visual',\n",
    "    domain_name='Visuo-spatial')\n",
    "\n",
    "lps2_df"
   ]
  },
  {
   "cell_type": "markdown",
   "metadata": {
    "variables": {
     " '%0.f'%group_std ": "18",
     " group_mean ": "76",
     " group_n ": "129",
     " max_score ": "120"
    }
   },
   "source": [
    "To screen for impairments in visuo-spatial abilities, three subtests of the LPS-2 (Horn), form A were used. In the first subtest, five rotated numbers are presented of which one is a mirror-image of the other four. The task is to identify and mark the mirrored item. In the second subtest, a three-dimensional geometric figure is shown and the task is to determine of how many areas it is composed (i.e. 6 for a cube). In the third subtest a number of intertwined geometric figures are shown alongside individual geometric figures and the task is to find the one figure which could fit into the intertwined configuration (e.g. a triangle into a star). For each part, the participant has a predetermined amount of time to complete as many trials as possible, with two minutes for the first and third part and three minutes for the second part. A summary score for visual-spatial intelligence (Gv) can be computed, based on the summed performance on all three subtests. A maximal score of {{ max_score }} can be reached.  \n",
    "Normative values can be computed for the summary score, based on an adult normative sample of n={{ group_n }} with mean {{ group_mean }} and standard deviation {{ '%0.f'%group_std }}."
   ]
  },
  {
   "cell_type": "markdown",
   "metadata": {},
   "source": [
    "### store everything in one table"
   ]
  },
  {
   "cell_type": "code",
   "execution_count": 12,
   "metadata": {},
   "outputs": [
    {
     "data": {
      "text/html": [
       "<div>\n",
       "<style>\n",
       "    .dataframe thead tr:only-child th {\n",
       "        text-align: right;\n",
       "    }\n",
       "\n",
       "    .dataframe thead th {\n",
       "        text-align: left;\n",
       "    }\n",
       "\n",
       "    .dataframe tbody tr th {\n",
       "        vertical-align: top;\n",
       "    }\n",
       "</style>\n",
       "<table border=\"1\" class=\"dataframe\">\n",
       "  <thead>\n",
       "    <tr style=\"text-align: right;\">\n",
       "      <th></th>\n",
       "      <th></th>\n",
       "      <th>% correct</th>\n",
       "      <th>z</th>\n",
       "      <th>percentile</th>\n",
       "      <th>t</th>\n",
       "      <th>df</th>\n",
       "      <th>p</th>\n",
       "    </tr>\n",
       "  </thead>\n",
       "  <tbody>\n",
       "    <tr>\n",
       "      <th>Face evaluation</th>\n",
       "      <th>Eyes test</th>\n",
       "      <td>72</td>\n",
       "      <td>-0.812548</td>\n",
       "      <td>21</td>\n",
       "      <td>-0.80</td>\n",
       "      <td>49</td>\n",
       "      <td>0.425</td>\n",
       "    </tr>\n",
       "    <tr>\n",
       "      <th rowspan=\"3\" valign=\"top\">Visuo-spatial</th>\n",
       "      <th>BLRD-A</th>\n",
       "      <td>33</td>\n",
       "      <td>-2.523143</td>\n",
       "      <td>1</td>\n",
       "      <td>-2.52</td>\n",
       "      <td>173</td>\n",
       "      <td>0.013</td>\n",
       "    </tr>\n",
       "    <tr>\n",
       "      <th>BLRD-B</th>\n",
       "      <td>38</td>\n",
       "      <td>-2.017036</td>\n",
       "      <td>2</td>\n",
       "      <td>-2.01</td>\n",
       "      <td>173</td>\n",
       "      <td>0.046</td>\n",
       "    </tr>\n",
       "    <tr>\n",
       "      <th>LPS2-Visual</th>\n",
       "      <td>48</td>\n",
       "      <td>-0.998285</td>\n",
       "      <td>16</td>\n",
       "      <td>-1.00</td>\n",
       "      <td>128</td>\n",
       "      <td>0.321</td>\n",
       "    </tr>\n",
       "  </tbody>\n",
       "</table>\n",
       "</div>"
      ],
      "text/plain": [
       "                            % correct         z percentile      t   df      p\n",
       "Face evaluation Eyes test          72 -0.812548         21  -0.80   49  0.425\n",
       "Visuo-spatial   BLRD-A             33 -2.523143          1  -2.52  173  0.013\n",
       "                BLRD-B             38 -2.017036          2  -2.01  173  0.046\n",
       "                LPS2-Visual        48 -0.998285         16  -1.00  128  0.321"
      ]
     },
     "execution_count": 12,
     "metadata": {},
     "output_type": "execute_result"
    }
   ],
   "source": [
    "results_df = pd.concat([eyes_df, blrd_df, lps2_df])\n",
    "results_df"
   ]
  },
  {
   "cell_type": "code",
   "execution_count": 13,
   "metadata": {
    "collapsed": true
   },
   "outputs": [],
   "source": [
    "results_df.to_csv('../reports/tables/penandpaper_main_results.csv')"
   ]
  }
 ],
 "metadata": {
  "kernelspec": {
   "display_name": "Python 2",
   "language": "python",
   "name": "python2"
  },
  "language_info": {
   "codemirror_mode": {
    "name": "ipython",
    "version": 2
   },
   "file_extension": ".py",
   "mimetype": "text/x-python",
   "name": "python",
   "nbconvert_exporter": "python",
   "pygments_lexer": "ipython2",
   "version": "2.7.9"
  },
  "varInspector": {
   "cols": {
    "lenName": 16,
    "lenType": 16,
    "lenVar": 40
   },
   "kernels_config": {
    "python": {
     "delete_cmd_postfix": "",
     "delete_cmd_prefix": "del ",
     "library": "var_list.py",
     "varRefreshCmd": "print(var_dic_list())"
    },
    "r": {
     "delete_cmd_postfix": ") ",
     "delete_cmd_prefix": "rm(",
     "library": "var_list.r",
     "varRefreshCmd": "cat(var_dic_list()) "
    }
   },
   "types_to_exclude": [
    "module",
    "function",
    "builtin_function_or_method",
    "instance",
    "_Feature"
   ],
   "window_display": false
  }
 },
 "nbformat": 4,
 "nbformat_minor": 2
}
