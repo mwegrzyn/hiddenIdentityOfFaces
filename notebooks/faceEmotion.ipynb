{
 "cells": [
  {
   "cell_type": "markdown",
   "metadata": {},
   "source": [
    "# Face Emotion Analysis"
   ]
  },
  {
   "cell_type": "markdown",
   "metadata": {},
   "source": [
    "### importing modules"
   ]
  },
  {
   "cell_type": "code",
   "execution_count": 1,
   "metadata": {
    "collapsed": true
   },
   "outputs": [],
   "source": [
    "import sys\n",
    "import os\n",
    "import fnmatch\n",
    "\n",
    "import numpy as np\n",
    "import pandas as pd\n",
    "from PIL import Image\n",
    "\n",
    "import seaborn as sns\n",
    "import matplotlib.pyplot as plt\n",
    "%matplotlib inline\n",
    "\n",
    "sys.path.append('../modules/')\n",
    "import case_stats as cs"
   ]
  },
  {
   "cell_type": "markdown",
   "metadata": {},
   "source": [
    "settings for plot formatting"
   ]
  },
  {
   "cell_type": "code",
   "execution_count": 2,
   "metadata": {
    "collapsed": true
   },
   "outputs": [],
   "source": [
    "myPal = sns.color_palette(\"Set1\")\n",
    "sns.set_context(\"talk\", font_scale=1.4)\n",
    "sns.set_style(\"white\")"
   ]
  },
  {
   "cell_type": "markdown",
   "metadata": {},
   "source": [
    "settings for group labelling"
   ]
  },
  {
   "cell_type": "code",
   "execution_count": 3,
   "metadata": {
    "collapsed": true
   },
   "outputs": [],
   "source": [
    "labelCoding = {'JB':0,'A':1}\n",
    "myGLabels={'JB':'JB','A':'controls'}"
   ]
  },
  {
   "cell_type": "markdown",
   "metadata": {},
   "source": [
    "### get logfiles"
   ]
  },
  {
   "cell_type": "code",
   "execution_count": 4,
   "metadata": {
    "collapsed": true
   },
   "outputs": [],
   "source": [
    "def getLogfile(whichfolder, whichexperiment):\n",
    "\n",
    "    loglist = []\n",
    "    for fileName in os.listdir(whichfolder):\n",
    "        if fnmatch.fnmatch(fileName, whichexperiment):\n",
    "            loglist.append(whichfolder+fileName)\n",
    "    return loglist"
   ]
  },
  {
   "cell_type": "code",
   "execution_count": 5,
   "metadata": {
    "collapsed": true
   },
   "outputs": [],
   "source": [
    "logList = getLogfile('../faceEmotion/experiment/data/','*.csv')\n",
    "logList.sort()"
   ]
  },
  {
   "cell_type": "markdown",
   "metadata": {},
   "source": [
    "Example:"
   ]
  },
  {
   "cell_type": "code",
   "execution_count": 6,
   "metadata": {
    "scrolled": true
   },
   "outputs": [
    {
     "data": {
      "text/plain": [
       "['../faceEmotion/experiment/data/A_10_facesParametric_2015_Sep_20_1307.csv',\n",
       " '../faceEmotion/experiment/data/A_11_facesParametric_2015_Sep_25_1753.csv',\n",
       " '../faceEmotion/experiment/data/A_12_facesParametric_2015_Oct_11_1221.csv',\n",
       " '../faceEmotion/experiment/data/A_13_facesParametric_2015_Oct_11_1620.csv',\n",
       " '../faceEmotion/experiment/data/A_14_facesParametric_2015_Nov_01_1250.csv',\n",
       " '../faceEmotion/experiment/data/A_15_facesParametric_2015_Nov_02_1800.csv',\n",
       " '../faceEmotion/experiment/data/A_16_facesParametric_2015_Nov_04_2015.csv',\n",
       " '../faceEmotion/experiment/data/A_17_facesParametric_2015_Oct_20_1435.csv',\n",
       " '../faceEmotion/experiment/data/A_1_facesParametric_2015_Aug_23_1225.csv',\n",
       " '../faceEmotion/experiment/data/A_2_facesParametric_2015_Sep_13_1402.csv',\n",
       " '../faceEmotion/experiment/data/A_3_facesParametric_2015_Sep_02_1456.csv',\n",
       " '../faceEmotion/experiment/data/A_4_facesParametric_2015_Sep_02_1917.csv',\n",
       " '../faceEmotion/experiment/data/A_5_facesParametric_2015_Sep_06_1239.csv',\n",
       " '../faceEmotion/experiment/data/A_6_facesParametric_2015_Sep_06_1320.csv',\n",
       " '../faceEmotion/experiment/data/A_7_facesParametric_2015_Sep_18_1934.csv',\n",
       " '../faceEmotion/experiment/data/A_8_facesParametric_2015_Sep_16_1913.csv',\n",
       " '../faceEmotion/experiment/data/A_9_facesParametric_2015_Sep_20_1229.csv',\n",
       " '../faceEmotion/experiment/data/JB_001_facesParametric_2016_Oct_20_1313.csv']"
      ]
     },
     "execution_count": 6,
     "metadata": {},
     "output_type": "execute_result"
    }
   ],
   "source": [
    "logList"
   ]
  },
  {
   "cell_type": "code",
   "execution_count": 7,
   "metadata": {
    "collapsed": true,
    "scrolled": true
   },
   "outputs": [],
   "source": [
    "df = pd.read_csv(logList[-1])"
   ]
  },
  {
   "cell_type": "markdown",
   "metadata": {},
   "source": [
    "### Extract Responses from logfile"
   ]
  },
  {
   "cell_type": "code",
   "execution_count": 8,
   "metadata": {
    "collapsed": true
   },
   "outputs": [],
   "source": [
    "def getBasicResps(fileName):\n",
    "    df = pd.read_csv(fileName)\n",
    "\n",
    "    ## merge scales into one column\n",
    "    \n",
    "    # convert None to NaN\n",
    "    df = df.replace(r'None', np.nan, regex=True)\n",
    "    df['basicRating1.response'] = df['basicRating1.response'].fillna(df['basicRating2.response']).fillna(df['basicRating3.response']).fillna(df['basicRating4.response'])\n",
    "    df['basicRating1.rt'] = df['basicRating1.rt'].fillna(df['basicRating2.rt']).fillna(df['basicRating3.rt']).fillna(df['basicRating4.rt'])\n",
    "   \n",
    "    # boil down to just the essentials\n",
    "    thisDf = pd.concat([df['img'],\n",
    "                        df['basicRating1.response'],\n",
    "                        df['basicRating1.rt']\n",
    "                       ],axis=1)\n",
    "    \n",
    "    return thisDf[1:85]"
   ]
  },
  {
   "cell_type": "markdown",
   "metadata": {},
   "source": [
    "Example: "
   ]
  },
  {
   "cell_type": "code",
   "execution_count": 9,
   "metadata": {
    "scrolled": true
   },
   "outputs": [
    {
     "data": {
      "text/html": [
       "<div>\n",
       "<style>\n",
       "    .dataframe thead tr:only-child th {\n",
       "        text-align: right;\n",
       "    }\n",
       "\n",
       "    .dataframe thead th {\n",
       "        text-align: left;\n",
       "    }\n",
       "\n",
       "    .dataframe tbody tr th {\n",
       "        vertical-align: top;\n",
       "    }\n",
       "</style>\n",
       "<table border=\"1\" class=\"dataframe\">\n",
       "  <thead>\n",
       "    <tr style=\"text-align: right;\">\n",
       "      <th></th>\n",
       "      <th>img</th>\n",
       "      <th>basicRating1.response</th>\n",
       "      <th>basicRating1.rt</th>\n",
       "    </tr>\n",
       "  </thead>\n",
       "  <tbody>\n",
       "    <tr>\n",
       "      <th>1</th>\n",
       "      <td>./basicStim/07F_DI_O.jpg</td>\n",
       "      <td>DIS</td>\n",
       "      <td>4.694</td>\n",
       "    </tr>\n",
       "    <tr>\n",
       "      <th>2</th>\n",
       "      <td>./basicStim/21M_AN_O.jpg</td>\n",
       "      <td>ANG</td>\n",
       "      <td>2.516</td>\n",
       "    </tr>\n",
       "    <tr>\n",
       "      <th>3</th>\n",
       "      <td>./basicStim/34M_HA_O.jpg</td>\n",
       "      <td>HAP</td>\n",
       "      <td>3.038</td>\n",
       "    </tr>\n",
       "    <tr>\n",
       "      <th>4</th>\n",
       "      <td>./basicStim/01F_HA_O.jpg</td>\n",
       "      <td>HAP</td>\n",
       "      <td>4.044</td>\n",
       "    </tr>\n",
       "    <tr>\n",
       "      <th>5</th>\n",
       "      <td>./basicStim/07F_FE_O.jpg</td>\n",
       "      <td>DIS</td>\n",
       "      <td>3.888</td>\n",
       "    </tr>\n",
       "  </tbody>\n",
       "</table>\n",
       "</div>"
      ],
      "text/plain": [
       "                        img basicRating1.response basicRating1.rt\n",
       "1  ./basicStim/07F_DI_O.jpg                   DIS           4.694\n",
       "2  ./basicStim/21M_AN_O.jpg                   ANG           2.516\n",
       "3  ./basicStim/34M_HA_O.jpg                   HAP           3.038\n",
       "4  ./basicStim/01F_HA_O.jpg                   HAP           4.044\n",
       "5  ./basicStim/07F_FE_O.jpg                   DIS           3.888"
      ]
     },
     "execution_count": 9,
     "metadata": {},
     "output_type": "execute_result"
    }
   ],
   "source": [
    "getBasicResps(logList[-1]).head()"
   ]
  },
  {
   "cell_type": "markdown",
   "metadata": {},
   "source": [
    "## Get Conditions from Filenames"
   ]
  },
  {
   "cell_type": "code",
   "execution_count": 10,
   "metadata": {
    "collapsed": true
   },
   "outputs": [],
   "source": [
    "def getConds(df):\n",
    "    \n",
    "    df['conds'] = [entry[entry.find('_')+1:entry.rfind('_')] for entry in df['img'] ]\n",
    "    df = df.sort_values(by='conds')\n",
    "    df.index = [df['conds'],df.index]\n",
    "    \n",
    "    return df"
   ]
  },
  {
   "cell_type": "markdown",
   "metadata": {},
   "source": [
    "Example:"
   ]
  },
  {
   "cell_type": "code",
   "execution_count": 11,
   "metadata": {},
   "outputs": [
    {
     "data": {
      "text/html": [
       "<div>\n",
       "<style>\n",
       "    .dataframe thead tr:only-child th {\n",
       "        text-align: right;\n",
       "    }\n",
       "\n",
       "    .dataframe thead th {\n",
       "        text-align: left;\n",
       "    }\n",
       "\n",
       "    .dataframe tbody tr th {\n",
       "        vertical-align: top;\n",
       "    }\n",
       "</style>\n",
       "<table border=\"1\" class=\"dataframe\">\n",
       "  <thead>\n",
       "    <tr style=\"text-align: right;\">\n",
       "      <th></th>\n",
       "      <th></th>\n",
       "      <th>img</th>\n",
       "      <th>basicRating1.response</th>\n",
       "      <th>basicRating1.rt</th>\n",
       "      <th>conds</th>\n",
       "    </tr>\n",
       "    <tr>\n",
       "      <th>conds</th>\n",
       "      <th></th>\n",
       "      <th></th>\n",
       "      <th></th>\n",
       "      <th></th>\n",
       "      <th></th>\n",
       "    </tr>\n",
       "  </thead>\n",
       "  <tbody>\n",
       "    <tr>\n",
       "      <th rowspan=\"5\" valign=\"top\">AN</th>\n",
       "      <th>28</th>\n",
       "      <td>./basicStim/24M_AN_O.jpg</td>\n",
       "      <td>ANG</td>\n",
       "      <td>1.038</td>\n",
       "      <td>AN</td>\n",
       "    </tr>\n",
       "    <tr>\n",
       "      <th>2</th>\n",
       "      <td>./basicStim/21M_AN_O.jpg</td>\n",
       "      <td>ANG</td>\n",
       "      <td>2.516</td>\n",
       "      <td>AN</td>\n",
       "    </tr>\n",
       "    <tr>\n",
       "      <th>35</th>\n",
       "      <td>./basicStim/01F_AN_O.jpg</td>\n",
       "      <td>ANG</td>\n",
       "      <td>2.172</td>\n",
       "      <td>AN</td>\n",
       "    </tr>\n",
       "    <tr>\n",
       "      <th>78</th>\n",
       "      <td>./basicStim/03F_AN_O.jpg</td>\n",
       "      <td>ANG</td>\n",
       "      <td>2.885</td>\n",
       "      <td>AN</td>\n",
       "    </tr>\n",
       "    <tr>\n",
       "      <th>74</th>\n",
       "      <td>./basicStim/36M_AN_O.jpg</td>\n",
       "      <td>ANG</td>\n",
       "      <td>1.269</td>\n",
       "      <td>AN</td>\n",
       "    </tr>\n",
       "  </tbody>\n",
       "</table>\n",
       "</div>"
      ],
      "text/plain": [
       "                               img basicRating1.response basicRating1.rt conds\n",
       "conds                                                                         \n",
       "AN    28  ./basicStim/24M_AN_O.jpg                   ANG           1.038    AN\n",
       "      2   ./basicStim/21M_AN_O.jpg                   ANG           2.516    AN\n",
       "      35  ./basicStim/01F_AN_O.jpg                   ANG           2.172    AN\n",
       "      78  ./basicStim/03F_AN_O.jpg                   ANG           2.885    AN\n",
       "      74  ./basicStim/36M_AN_O.jpg                   ANG           1.269    AN"
      ]
     },
     "execution_count": 11,
     "metadata": {},
     "output_type": "execute_result"
    }
   ],
   "source": [
    "getConds(getBasicResps(logList[-1])).head()"
   ]
  },
  {
   "cell_type": "markdown",
   "metadata": {},
   "source": [
    "### Evaluate whether response is correct or not (binary)"
   ]
  },
  {
   "cell_type": "code",
   "execution_count": 12,
   "metadata": {
    "collapsed": true,
    "scrolled": true
   },
   "outputs": [],
   "source": [
    "def addEval(df):\n",
    "    \n",
    "    resp = []\n",
    "    for index,entry in enumerate( df['basicRating1.response'] ):\n",
    "        # for each correct response, append a one\n",
    "        if entry=='ANG' and df['conds'][index]=='AN':\n",
    "            resp.append(1)\n",
    "        elif entry=='ANG' and df['conds'][index]=='AN':\n",
    "            resp.append(1)\n",
    "        elif entry=='DIS' and df['conds'][index]=='DI':\n",
    "            resp.append(1)\n",
    "        elif entry=='FEA' and df['conds'][index]=='FE':\n",
    "            resp.append(1)\n",
    "        elif entry=='HAP' and df['conds'][index]=='HA':\n",
    "            resp.append(1)\n",
    "        elif entry=='NTR' and df['conds'][index]=='NE':\n",
    "            resp.append(1)\n",
    "        elif entry=='SAD' and df['conds'][index]=='SA':\n",
    "            resp.append(1)\n",
    "        elif entry=='SUP' and df['conds'][index]=='SP':\n",
    "            resp.append(1)   \n",
    "        # all other responses must be incorrect; we append a zero\n",
    "        else:\n",
    "            resp.append(0)\n",
    "\n",
    "    df['resp'] = resp\n",
    "        \n",
    "    return df"
   ]
  },
  {
   "cell_type": "markdown",
   "metadata": {},
   "source": [
    "Example:"
   ]
  },
  {
   "cell_type": "code",
   "execution_count": 13,
   "metadata": {},
   "outputs": [
    {
     "data": {
      "text/html": [
       "<div>\n",
       "<style>\n",
       "    .dataframe thead tr:only-child th {\n",
       "        text-align: right;\n",
       "    }\n",
       "\n",
       "    .dataframe thead th {\n",
       "        text-align: left;\n",
       "    }\n",
       "\n",
       "    .dataframe tbody tr th {\n",
       "        vertical-align: top;\n",
       "    }\n",
       "</style>\n",
       "<table border=\"1\" class=\"dataframe\">\n",
       "  <thead>\n",
       "    <tr style=\"text-align: right;\">\n",
       "      <th></th>\n",
       "      <th></th>\n",
       "      <th>img</th>\n",
       "      <th>basicRating1.response</th>\n",
       "      <th>basicRating1.rt</th>\n",
       "      <th>conds</th>\n",
       "      <th>resp</th>\n",
       "    </tr>\n",
       "    <tr>\n",
       "      <th>conds</th>\n",
       "      <th></th>\n",
       "      <th></th>\n",
       "      <th></th>\n",
       "      <th></th>\n",
       "      <th></th>\n",
       "      <th></th>\n",
       "    </tr>\n",
       "  </thead>\n",
       "  <tbody>\n",
       "    <tr>\n",
       "      <th rowspan=\"5\" valign=\"top\">AN</th>\n",
       "      <th>28</th>\n",
       "      <td>./basicStim/24M_AN_O.jpg</td>\n",
       "      <td>ANG</td>\n",
       "      <td>1.038</td>\n",
       "      <td>AN</td>\n",
       "      <td>1</td>\n",
       "    </tr>\n",
       "    <tr>\n",
       "      <th>2</th>\n",
       "      <td>./basicStim/21M_AN_O.jpg</td>\n",
       "      <td>ANG</td>\n",
       "      <td>2.516</td>\n",
       "      <td>AN</td>\n",
       "      <td>1</td>\n",
       "    </tr>\n",
       "    <tr>\n",
       "      <th>35</th>\n",
       "      <td>./basicStim/01F_AN_O.jpg</td>\n",
       "      <td>ANG</td>\n",
       "      <td>2.172</td>\n",
       "      <td>AN</td>\n",
       "      <td>1</td>\n",
       "    </tr>\n",
       "    <tr>\n",
       "      <th>78</th>\n",
       "      <td>./basicStim/03F_AN_O.jpg</td>\n",
       "      <td>ANG</td>\n",
       "      <td>2.885</td>\n",
       "      <td>AN</td>\n",
       "      <td>1</td>\n",
       "    </tr>\n",
       "    <tr>\n",
       "      <th>74</th>\n",
       "      <td>./basicStim/36M_AN_O.jpg</td>\n",
       "      <td>ANG</td>\n",
       "      <td>1.269</td>\n",
       "      <td>AN</td>\n",
       "      <td>1</td>\n",
       "    </tr>\n",
       "  </tbody>\n",
       "</table>\n",
       "</div>"
      ],
      "text/plain": [
       "                               img basicRating1.response basicRating1.rt  \\\n",
       "conds                                                                      \n",
       "AN    28  ./basicStim/24M_AN_O.jpg                   ANG           1.038   \n",
       "      2   ./basicStim/21M_AN_O.jpg                   ANG           2.516   \n",
       "      35  ./basicStim/01F_AN_O.jpg                   ANG           2.172   \n",
       "      78  ./basicStim/03F_AN_O.jpg                   ANG           2.885   \n",
       "      74  ./basicStim/36M_AN_O.jpg                   ANG           1.269   \n",
       "\n",
       "         conds  resp  \n",
       "conds                 \n",
       "AN    28    AN     1  \n",
       "      2     AN     1  \n",
       "      35    AN     1  \n",
       "      78    AN     1  \n",
       "      74    AN     1  "
      ]
     },
     "execution_count": 13,
     "metadata": {},
     "output_type": "execute_result"
    }
   ],
   "source": [
    "addEval(getConds(getBasicResps(logList[-1]))).head()"
   ]
  },
  {
   "cell_type": "markdown",
   "metadata": {},
   "source": [
    "### Average over trials"
   ]
  },
  {
   "cell_type": "markdown",
   "metadata": {},
   "source": [
    "Count and average the correct responses. Add a participant number to the index."
   ]
  },
  {
   "cell_type": "code",
   "execution_count": 14,
   "metadata": {
    "collapsed": true
   },
   "outputs": [],
   "source": [
    "def getAvg(df,p):\n",
    "    meanDf = pd.DataFrame([df.loc[cond]['resp'].mean()] for cond in df.index.levels[0])\n",
    "    meanDf['cond'] = [cond for cond in df.index.levels[0]]\n",
    "    meanDf.index = [[p]*len(meanDf.index), meanDf['cond'] ]\n",
    "    meanDf.index.names = ['id','cond']\n",
    "    \n",
    "    return meanDf"
   ]
  },
  {
   "cell_type": "markdown",
   "metadata": {},
   "source": [
    "Example:"
   ]
  },
  {
   "cell_type": "code",
   "execution_count": 15,
   "metadata": {},
   "outputs": [
    {
     "data": {
      "text/html": [
       "<div>\n",
       "<style>\n",
       "    .dataframe thead tr:only-child th {\n",
       "        text-align: right;\n",
       "    }\n",
       "\n",
       "    .dataframe thead th {\n",
       "        text-align: left;\n",
       "    }\n",
       "\n",
       "    .dataframe tbody tr th {\n",
       "        vertical-align: top;\n",
       "    }\n",
       "</style>\n",
       "<table border=\"1\" class=\"dataframe\">\n",
       "  <thead>\n",
       "    <tr style=\"text-align: right;\">\n",
       "      <th></th>\n",
       "      <th></th>\n",
       "      <th>0</th>\n",
       "      <th>cond</th>\n",
       "    </tr>\n",
       "    <tr>\n",
       "      <th>id</th>\n",
       "      <th>cond</th>\n",
       "      <th></th>\n",
       "      <th></th>\n",
       "    </tr>\n",
       "  </thead>\n",
       "  <tbody>\n",
       "    <tr>\n",
       "      <th rowspan=\"5\" valign=\"top\">JB</th>\n",
       "      <th>AN</th>\n",
       "      <td>0.916667</td>\n",
       "      <td>AN</td>\n",
       "    </tr>\n",
       "    <tr>\n",
       "      <th>DI</th>\n",
       "      <td>0.916667</td>\n",
       "      <td>DI</td>\n",
       "    </tr>\n",
       "    <tr>\n",
       "      <th>FE</th>\n",
       "      <td>0.666667</td>\n",
       "      <td>FE</td>\n",
       "    </tr>\n",
       "    <tr>\n",
       "      <th>HA</th>\n",
       "      <td>1.000000</td>\n",
       "      <td>HA</td>\n",
       "    </tr>\n",
       "    <tr>\n",
       "      <th>NE</th>\n",
       "      <td>0.916667</td>\n",
       "      <td>NE</td>\n",
       "    </tr>\n",
       "  </tbody>\n",
       "</table>\n",
       "</div>"
      ],
      "text/plain": [
       "                0 cond\n",
       "id cond               \n",
       "JB AN    0.916667   AN\n",
       "   DI    0.916667   DI\n",
       "   FE    0.666667   FE\n",
       "   HA    1.000000   HA\n",
       "   NE    0.916667   NE"
      ]
     },
     "execution_count": 15,
     "metadata": {},
     "output_type": "execute_result"
    }
   ],
   "source": [
    "getAvg(addEval(getConds(getBasicResps(logList[-1]))),'JB').head()"
   ]
  },
  {
   "cell_type": "markdown",
   "metadata": {},
   "source": [
    "### Do all this for a participant"
   ]
  },
  {
   "cell_type": "markdown",
   "metadata": {},
   "source": [
    "Takes all the functions from above and applies them directly to a logfile. Also gets the participant number form the logfile name."
   ]
  },
  {
   "cell_type": "code",
   "execution_count": 16,
   "metadata": {
    "collapsed": true,
    "scrolled": true
   },
   "outputs": [],
   "source": [
    "def makeOne(fileName):\n",
    "    df = getBasicResps(fileName)\n",
    "\n",
    "    condDf = getConds(df)\n",
    "    \n",
    "    respDf = addEval(condDf)\n",
    "    \n",
    "    p = fileName[fileName.rfind('/')+1:fileName.find('faces')-1]\n",
    "    avgDf = getAvg(respDf,p)\n",
    "    return avgDf"
   ]
  },
  {
   "cell_type": "markdown",
   "metadata": {},
   "source": [
    "Example:"
   ]
  },
  {
   "cell_type": "code",
   "execution_count": 17,
   "metadata": {
    "scrolled": true
   },
   "outputs": [
    {
     "data": {
      "text/html": [
       "<div>\n",
       "<style>\n",
       "    .dataframe thead tr:only-child th {\n",
       "        text-align: right;\n",
       "    }\n",
       "\n",
       "    .dataframe thead th {\n",
       "        text-align: left;\n",
       "    }\n",
       "\n",
       "    .dataframe tbody tr th {\n",
       "        vertical-align: top;\n",
       "    }\n",
       "</style>\n",
       "<table border=\"1\" class=\"dataframe\">\n",
       "  <thead>\n",
       "    <tr style=\"text-align: right;\">\n",
       "      <th></th>\n",
       "      <th></th>\n",
       "      <th>0</th>\n",
       "      <th>cond</th>\n",
       "    </tr>\n",
       "    <tr>\n",
       "      <th>id</th>\n",
       "      <th>cond</th>\n",
       "      <th></th>\n",
       "      <th></th>\n",
       "    </tr>\n",
       "  </thead>\n",
       "  <tbody>\n",
       "    <tr>\n",
       "      <th rowspan=\"7\" valign=\"top\">JB_001</th>\n",
       "      <th>AN</th>\n",
       "      <td>0.916667</td>\n",
       "      <td>AN</td>\n",
       "    </tr>\n",
       "    <tr>\n",
       "      <th>DI</th>\n",
       "      <td>0.916667</td>\n",
       "      <td>DI</td>\n",
       "    </tr>\n",
       "    <tr>\n",
       "      <th>FE</th>\n",
       "      <td>0.666667</td>\n",
       "      <td>FE</td>\n",
       "    </tr>\n",
       "    <tr>\n",
       "      <th>HA</th>\n",
       "      <td>1.000000</td>\n",
       "      <td>HA</td>\n",
       "    </tr>\n",
       "    <tr>\n",
       "      <th>NE</th>\n",
       "      <td>0.916667</td>\n",
       "      <td>NE</td>\n",
       "    </tr>\n",
       "    <tr>\n",
       "      <th>SA</th>\n",
       "      <td>0.916667</td>\n",
       "      <td>SA</td>\n",
       "    </tr>\n",
       "    <tr>\n",
       "      <th>SP</th>\n",
       "      <td>0.833333</td>\n",
       "      <td>SP</td>\n",
       "    </tr>\n",
       "  </tbody>\n",
       "</table>\n",
       "</div>"
      ],
      "text/plain": [
       "                    0 cond\n",
       "id     cond               \n",
       "JB_001 AN    0.916667   AN\n",
       "       DI    0.916667   DI\n",
       "       FE    0.666667   FE\n",
       "       HA    1.000000   HA\n",
       "       NE    0.916667   NE\n",
       "       SA    0.916667   SA\n",
       "       SP    0.833333   SP"
      ]
     },
     "execution_count": 17,
     "metadata": {},
     "output_type": "execute_result"
    }
   ],
   "source": [
    "makeOne(logList[-1])"
   ]
  },
  {
   "cell_type": "markdown",
   "metadata": {},
   "source": [
    "## Do this for whole group"
   ]
  },
  {
   "cell_type": "code",
   "execution_count": 18,
   "metadata": {
    "collapsed": true
   },
   "outputs": [],
   "source": [
    "def makeBig(loglist):\n",
    "    for logfile in loglist:\n",
    "        thisDf = makeOne(logfile)\n",
    "        withinDf = thisDf.drop('cond',1).unstack()\n",
    "        \n",
    "        try:\n",
    "            bigDf = pd.concat([bigDf,withinDf])\n",
    "        except:\n",
    "            bigDf = withinDf\n",
    "    \n",
    "    groups = [a.split('_')[0] for a in bigDf.index]\n",
    "    \n",
    "    bigDf.index = [groups, bigDf.index ]\n",
    "    bigDf.index.names = ['group','id']\n",
    "    bigDf.columns = bigDf.columns.droplevel()\n",
    "    return bigDf"
   ]
  },
  {
   "cell_type": "markdown",
   "metadata": {},
   "source": [
    "This is the main table for the analyses:"
   ]
  },
  {
   "cell_type": "code",
   "execution_count": 19,
   "metadata": {
    "collapsed": true
   },
   "outputs": [],
   "source": [
    "bigDf = makeBig(logList)"
   ]
  },
  {
   "cell_type": "code",
   "execution_count": 20,
   "metadata": {},
   "outputs": [
    {
     "data": {
      "text/plain": [
       "group  id    \n",
       "A      A_10      0.785714\n",
       "       A_11      0.845238\n",
       "       A_12      0.702381\n",
       "       A_13      0.833333\n",
       "       A_14      0.809524\n",
       "       A_15      0.702381\n",
       "       A_16      0.833333\n",
       "       A_17      0.892857\n",
       "       A_1       0.726190\n",
       "       A_2       0.857143\n",
       "       A_3       0.750000\n",
       "       A_4       0.547619\n",
       "       A_5       0.821429\n",
       "       A_6       0.833333\n",
       "       A_7       0.809524\n",
       "       A_8       0.857143\n",
       "       A_9       0.797619\n",
       "JB     JB_001    0.880952\n",
       "dtype: float64"
      ]
     },
     "execution_count": 20,
     "metadata": {},
     "output_type": "execute_result"
    }
   ],
   "source": [
    "bigDf.mean(axis=1)"
   ]
  },
  {
   "cell_type": "markdown",
   "metadata": {},
   "source": [
    "Save as csv for later re-use:"
   ]
  },
  {
   "cell_type": "code",
   "execution_count": 21,
   "metadata": {
    "collapsed": true
   },
   "outputs": [],
   "source": [
    "bigDf.to_csv('../faceEmotion/output/basicExpressions.csv')"
   ]
  },
  {
   "cell_type": "markdown",
   "metadata": {},
   "source": [
    "### collect and save main results"
   ]
  },
  {
   "cell_type": "code",
   "execution_count": 22,
   "metadata": {},
   "outputs": [
    {
     "data": {
      "text/html": [
       "<div>\n",
       "<style>\n",
       "    .dataframe thead tr:only-child th {\n",
       "        text-align: right;\n",
       "    }\n",
       "\n",
       "    .dataframe thead th {\n",
       "        text-align: left;\n",
       "    }\n",
       "\n",
       "    .dataframe tbody tr th {\n",
       "        vertical-align: top;\n",
       "    }\n",
       "</style>\n",
       "<table border=\"1\" class=\"dataframe\">\n",
       "  <thead>\n",
       "    <tr style=\"text-align: right;\">\n",
       "      <th></th>\n",
       "      <th>mean</th>\n",
       "    </tr>\n",
       "  </thead>\n",
       "  <tbody>\n",
       "    <tr>\n",
       "      <th>A_10</th>\n",
       "      <td>0.785714</td>\n",
       "    </tr>\n",
       "    <tr>\n",
       "      <th>A_11</th>\n",
       "      <td>0.845238</td>\n",
       "    </tr>\n",
       "    <tr>\n",
       "      <th>A_12</th>\n",
       "      <td>0.702381</td>\n",
       "    </tr>\n",
       "    <tr>\n",
       "      <th>A_13</th>\n",
       "      <td>0.833333</td>\n",
       "    </tr>\n",
       "    <tr>\n",
       "      <th>A_14</th>\n",
       "      <td>0.809524</td>\n",
       "    </tr>\n",
       "    <tr>\n",
       "      <th>A_15</th>\n",
       "      <td>0.702381</td>\n",
       "    </tr>\n",
       "    <tr>\n",
       "      <th>A_16</th>\n",
       "      <td>0.833333</td>\n",
       "    </tr>\n",
       "    <tr>\n",
       "      <th>A_17</th>\n",
       "      <td>0.892857</td>\n",
       "    </tr>\n",
       "    <tr>\n",
       "      <th>A_1</th>\n",
       "      <td>0.726190</td>\n",
       "    </tr>\n",
       "    <tr>\n",
       "      <th>A_2</th>\n",
       "      <td>0.857143</td>\n",
       "    </tr>\n",
       "    <tr>\n",
       "      <th>A_3</th>\n",
       "      <td>0.750000</td>\n",
       "    </tr>\n",
       "    <tr>\n",
       "      <th>A_4</th>\n",
       "      <td>0.547619</td>\n",
       "    </tr>\n",
       "    <tr>\n",
       "      <th>A_5</th>\n",
       "      <td>0.821429</td>\n",
       "    </tr>\n",
       "    <tr>\n",
       "      <th>A_6</th>\n",
       "      <td>0.833333</td>\n",
       "    </tr>\n",
       "    <tr>\n",
       "      <th>A_7</th>\n",
       "      <td>0.809524</td>\n",
       "    </tr>\n",
       "    <tr>\n",
       "      <th>A_8</th>\n",
       "      <td>0.857143</td>\n",
       "    </tr>\n",
       "    <tr>\n",
       "      <th>A_9</th>\n",
       "      <td>0.797619</td>\n",
       "    </tr>\n",
       "    <tr>\n",
       "      <th>JB</th>\n",
       "      <td>0.880952</td>\n",
       "    </tr>\n",
       "  </tbody>\n",
       "</table>\n",
       "</div>"
      ],
      "text/plain": [
       "          mean\n",
       "A_10  0.785714\n",
       "A_11  0.845238\n",
       "A_12  0.702381\n",
       "A_13  0.833333\n",
       "A_14  0.809524\n",
       "A_15  0.702381\n",
       "A_16  0.833333\n",
       "A_17  0.892857\n",
       "A_1   0.726190\n",
       "A_2   0.857143\n",
       "A_3   0.750000\n",
       "A_4   0.547619\n",
       "A_5   0.821429\n",
       "A_6   0.833333\n",
       "A_7   0.809524\n",
       "A_8   0.857143\n",
       "A_9   0.797619\n",
       "JB    0.880952"
      ]
     },
     "execution_count": 22,
     "metadata": {},
     "output_type": "execute_result"
    }
   ],
   "source": [
    "meanDf = pd.DataFrame(bigDf.mean(axis=1),columns=['mean'])\n",
    "meanDf.index = [[x,'JB']['JB' in x] for x in meanDf.index.get_level_values(1)]\n",
    "meanDf"
   ]
  },
  {
   "cell_type": "markdown",
   "metadata": {},
   "source": [
    "raw data"
   ]
  },
  {
   "cell_type": "code",
   "execution_count": 23,
   "metadata": {},
   "outputs": [
    {
     "data": {
      "text/html": [
       "<div>\n",
       "<style>\n",
       "    .dataframe thead tr:only-child th {\n",
       "        text-align: right;\n",
       "    }\n",
       "\n",
       "    .dataframe thead th {\n",
       "        text-align: left;\n",
       "    }\n",
       "\n",
       "    .dataframe tbody tr th {\n",
       "        vertical-align: top;\n",
       "    }\n",
       "</style>\n",
       "<table border=\"1\" class=\"dataframe\">\n",
       "  <thead>\n",
       "    <tr style=\"text-align: right;\">\n",
       "      <th></th>\n",
       "      <th>% correct</th>\n",
       "    </tr>\n",
       "  </thead>\n",
       "  <tbody>\n",
       "    <tr>\n",
       "      <th>mean</th>\n",
       "      <td>88.095238</td>\n",
       "    </tr>\n",
       "  </tbody>\n",
       "</table>\n",
       "</div>"
      ],
      "text/plain": [
       "      % correct\n",
       "mean  88.095238"
      ]
     },
     "execution_count": 23,
     "metadata": {},
     "output_type": "execute_result"
    }
   ],
   "source": [
    "raw_df = meanDf.loc[['JB']].T * 100\n",
    "raw_df.index = raw_df.index.get_level_values(0)\n",
    "raw_df.columns = ['% correct']\n",
    "raw_df"
   ]
  },
  {
   "cell_type": "markdown",
   "metadata": {},
   "source": [
    "percentile score"
   ]
  },
  {
   "cell_type": "code",
   "execution_count": 24,
   "metadata": {},
   "outputs": [
    {
     "data": {
      "text/html": [
       "<div>\n",
       "<style>\n",
       "    .dataframe thead tr:only-child th {\n",
       "        text-align: right;\n",
       "    }\n",
       "\n",
       "    .dataframe thead th {\n",
       "        text-align: left;\n",
       "    }\n",
       "\n",
       "    .dataframe tbody tr th {\n",
       "        vertical-align: top;\n",
       "    }\n",
       "</style>\n",
       "<table border=\"1\" class=\"dataframe\">\n",
       "  <thead>\n",
       "    <tr style=\"text-align: right;\">\n",
       "      <th></th>\n",
       "      <th>percentile</th>\n",
       "      <th>z</th>\n",
       "    </tr>\n",
       "  </thead>\n",
       "  <tbody>\n",
       "    <tr>\n",
       "      <th>mean</th>\n",
       "      <td>87.49195</td>\n",
       "      <td>1.149958</td>\n",
       "    </tr>\n",
       "  </tbody>\n",
       "</table>\n",
       "</div>"
      ],
      "text/plain": [
       "      percentile         z\n",
       "mean    87.49195  1.149958"
      ]
     },
     "execution_count": 24,
     "metadata": {},
     "output_type": "execute_result"
    }
   ],
   "source": [
    "percentile_df = cs.make_percentile_df(meanDf,'JB')\n",
    "percentile_df"
   ]
  },
  {
   "cell_type": "markdown",
   "metadata": {},
   "source": [
    "ttest results"
   ]
  },
  {
   "cell_type": "code",
   "execution_count": 25,
   "metadata": {},
   "outputs": [
    {
     "data": {
      "text/html": [
       "<div>\n",
       "<style>\n",
       "    .dataframe thead tr:only-child th {\n",
       "        text-align: right;\n",
       "    }\n",
       "\n",
       "    .dataframe thead th {\n",
       "        text-align: left;\n",
       "    }\n",
       "\n",
       "    .dataframe tbody tr th {\n",
       "        vertical-align: top;\n",
       "    }\n",
       "</style>\n",
       "<table border=\"1\" class=\"dataframe\">\n",
       "  <thead>\n",
       "    <tr style=\"text-align: right;\">\n",
       "      <th></th>\n",
       "      <th>t</th>\n",
       "      <th>df</th>\n",
       "      <th>p</th>\n",
       "    </tr>\n",
       "  </thead>\n",
       "  <tbody>\n",
       "    <tr>\n",
       "      <th>mean</th>\n",
       "      <td>1.08</td>\n",
       "      <td>16</td>\n",
       "      <td>0.294</td>\n",
       "    </tr>\n",
       "  </tbody>\n",
       "</table>\n",
       "</div>"
      ],
      "text/plain": [
       "         t  df      p\n",
       "mean  1.08  16  0.294"
      ]
     },
     "execution_count": 25,
     "metadata": {},
     "output_type": "execute_result"
    }
   ],
   "source": [
    "ttest_df = cs.make_tstats_df(meanDf,'JB')\n",
    "ttest_df"
   ]
  },
  {
   "cell_type": "markdown",
   "metadata": {},
   "source": [
    "save everything in one table"
   ]
  },
  {
   "cell_type": "code",
   "execution_count": 26,
   "metadata": {},
   "outputs": [
    {
     "data": {
      "text/html": [
       "<div>\n",
       "<style>\n",
       "    .dataframe thead tr:only-child th {\n",
       "        text-align: right;\n",
       "    }\n",
       "\n",
       "    .dataframe thead th {\n",
       "        text-align: left;\n",
       "    }\n",
       "\n",
       "    .dataframe tbody tr th {\n",
       "        vertical-align: top;\n",
       "    }\n",
       "</style>\n",
       "<table border=\"1\" class=\"dataframe\">\n",
       "  <thead>\n",
       "    <tr style=\"text-align: right;\">\n",
       "      <th></th>\n",
       "      <th></th>\n",
       "      <th>% correct</th>\n",
       "      <th>percentile</th>\n",
       "      <th>z</th>\n",
       "      <th>t</th>\n",
       "      <th>df</th>\n",
       "      <th>p</th>\n",
       "    </tr>\n",
       "  </thead>\n",
       "  <tbody>\n",
       "    <tr>\n",
       "      <th>Face evaluation</th>\n",
       "      <th>Emotion recognition</th>\n",
       "      <td>88.095238</td>\n",
       "      <td>87.49195</td>\n",
       "      <td>1.149958</td>\n",
       "      <td>1.08</td>\n",
       "      <td>16</td>\n",
       "      <td>0.294</td>\n",
       "    </tr>\n",
       "  </tbody>\n",
       "</table>\n",
       "</div>"
      ],
      "text/plain": [
       "                                     % correct  percentile         z     t  \\\n",
       "Face evaluation Emotion recognition  88.095238    87.49195  1.149958  1.08   \n",
       "\n",
       "                                     df      p  \n",
       "Face evaluation Emotion recognition  16  0.294  "
      ]
     },
     "execution_count": 26,
     "metadata": {},
     "output_type": "execute_result"
    }
   ],
   "source": [
    "result_df = pd.concat([raw_df, percentile_df, ttest_df],axis=1)\n",
    "# add hierarchy to index\n",
    "result_df.index = [['Face evaluation']*result_df.shape[0], ['Emotion recognition']]\n",
    "result_df"
   ]
  },
  {
   "cell_type": "markdown",
   "metadata": {},
   "source": [
    "Save to file"
   ]
  },
  {
   "cell_type": "code",
   "execution_count": 27,
   "metadata": {
    "collapsed": true
   },
   "outputs": [],
   "source": [
    "result_df.to_csv('../reports/tables/emofaces_main_results.csv')"
   ]
  },
  {
   "cell_type": "markdown",
   "metadata": {},
   "source": [
    "## Basic Plotting"
   ]
  },
  {
   "cell_type": "code",
   "execution_count": 60,
   "metadata": {
    "collapsed": true
   },
   "outputs": [],
   "source": [
    "plt.legend?"
   ]
  },
  {
   "cell_type": "code",
   "execution_count": 110,
   "metadata": {
    "collapsed": true,
    "scrolled": true
   },
   "outputs": [],
   "source": [
    "def makeBar(bigDf):\n",
    "    \n",
    "    copyDf = bigDf[['HA','NE','SP','AN','DI','SA','FE']].copy()\n",
    "\n",
    "    fig = plt.figure(figsize=(12,8))\n",
    "    \n",
    "    d = {'JB':'JB','A':'Controls'}\n",
    "    \n",
    "    add = 0\n",
    "    \n",
    "    for index,group in enumerate(copyDf.index.levels[0]):\n",
    "\n",
    "        plt.bar(np.arange(0,14,2)+add,\n",
    "                copyDf.loc[group].mean(),\n",
    "                yerr=copyDf.loc[group].std()/np.sqrt(len(copyDf.loc[group]))*1.96,\n",
    "                color=myPal[labelCoding[group]],\n",
    "                ecolor='k',\n",
    "                label=d[group])\n",
    "\n",
    "        add+=0.8\n",
    "\n",
    "    plt.legend(loc='lower right',bbox_to_anchor=(1.2,0.1))\n",
    "    plt.xticks(np.arange(0,14,2)+0.4, copyDf.columns )\n",
    "    plt.yticks(np.arange(0,1.1,.2), ['%s%%'%x for x in np.arange(0,1.1,.2)*100] )\n",
    "    plt.ylim(0,1.05)\n",
    "    \n",
    "    plt.ylabel('percent correct answers')\n",
    "    plt.xlabel('emotion expression')\n",
    "    \n",
    "    sns.despine(bottom=True,trim=True)\n",
    "    plt.show()"
   ]
  },
  {
   "cell_type": "code",
   "execution_count": 111,
   "metadata": {
    "collapsed": true
   },
   "outputs": [],
   "source": [
    "sns.set_style('ticks')"
   ]
  },
  {
   "cell_type": "code",
   "execution_count": 112,
   "metadata": {},
   "outputs": [
    {
     "data": {
      "image/png": "[encoded data removed]",
      "text/plain": [
       "<matplotlib.figure.Figure at 0x7f0ae8356910>"
      ]
     },
     "metadata": {},
     "output_type": "display_data"
    }
   ],
   "source": [
    "makeBar(bigDf)"
   ]
  },
  {
   "cell_type": "markdown",
   "metadata": {},
   "source": [
    "## Responses with confusions"
   ]
  },
  {
   "cell_type": "markdown",
   "metadata": {},
   "source": [
    "Extract information from dataFrame in a more systematic way:"
   ]
  },
  {
   "cell_type": "code",
   "execution_count": 30,
   "metadata": {
    "collapsed": true,
    "scrolled": true
   },
   "outputs": [],
   "source": [
    "def recodeResponses(df):\n",
    "    g = []; e = []\n",
    "    for i in df.index:\n",
    "        thisImg = df.loc[i]['img']\n",
    "        thisGender = thisImg[ thisImg.rfind('/')+3 ]\n",
    "        thisEmo = thisImg[ thisImg.find('_')+1 : thisImg.find('_')+3 ]\n",
    "\n",
    "        g.append(thisGender)\n",
    "        e.append(thisEmo)\n",
    "    \n",
    "    df['fgender'] = g\n",
    "    df['emo'] = e\n",
    "\n",
    "    return df "
   ]
  },
  {
   "cell_type": "markdown",
   "metadata": {},
   "source": [
    "Example:"
   ]
  },
  {
   "cell_type": "code",
   "execution_count": 31,
   "metadata": {},
   "outputs": [
    {
     "name": "stdout",
     "output_type": "stream",
     "text": [
      "../faceEmotion/experiment/data/JB_001_facesParametric_2016_Oct_20_1313.csv\n"
     ]
    }
   ],
   "source": [
    "print logList[-1]"
   ]
  },
  {
   "cell_type": "code",
   "execution_count": 32,
   "metadata": {
    "collapsed": true
   },
   "outputs": [],
   "source": [
    "df = getBasicResps(logList[-1])"
   ]
  },
  {
   "cell_type": "code",
   "execution_count": 33,
   "metadata": {
    "scrolled": true
   },
   "outputs": [
    {
     "data": {
      "text/html": [
       "<div>\n",
       "<style>\n",
       "    .dataframe thead tr:only-child th {\n",
       "        text-align: right;\n",
       "    }\n",
       "\n",
       "    .dataframe thead th {\n",
       "        text-align: left;\n",
       "    }\n",
       "\n",
       "    .dataframe tbody tr th {\n",
       "        vertical-align: top;\n",
       "    }\n",
       "</style>\n",
       "<table border=\"1\" class=\"dataframe\">\n",
       "  <thead>\n",
       "    <tr style=\"text-align: right;\">\n",
       "      <th></th>\n",
       "      <th>img</th>\n",
       "      <th>basicRating1.response</th>\n",
       "      <th>basicRating1.rt</th>\n",
       "      <th>fgender</th>\n",
       "      <th>emo</th>\n",
       "    </tr>\n",
       "  </thead>\n",
       "  <tbody>\n",
       "    <tr>\n",
       "      <th>1</th>\n",
       "      <td>./basicStim/07F_DI_O.jpg</td>\n",
       "      <td>DIS</td>\n",
       "      <td>4.694</td>\n",
       "      <td>F</td>\n",
       "      <td>DI</td>\n",
       "    </tr>\n",
       "    <tr>\n",
       "      <th>2</th>\n",
       "      <td>./basicStim/21M_AN_O.jpg</td>\n",
       "      <td>ANG</td>\n",
       "      <td>2.516</td>\n",
       "      <td>M</td>\n",
       "      <td>AN</td>\n",
       "    </tr>\n",
       "    <tr>\n",
       "      <th>3</th>\n",
       "      <td>./basicStim/34M_HA_O.jpg</td>\n",
       "      <td>HAP</td>\n",
       "      <td>3.038</td>\n",
       "      <td>M</td>\n",
       "      <td>HA</td>\n",
       "    </tr>\n",
       "    <tr>\n",
       "      <th>4</th>\n",
       "      <td>./basicStim/01F_HA_O.jpg</td>\n",
       "      <td>HAP</td>\n",
       "      <td>4.044</td>\n",
       "      <td>F</td>\n",
       "      <td>HA</td>\n",
       "    </tr>\n",
       "    <tr>\n",
       "      <th>5</th>\n",
       "      <td>./basicStim/07F_FE_O.jpg</td>\n",
       "      <td>DIS</td>\n",
       "      <td>3.888</td>\n",
       "      <td>F</td>\n",
       "      <td>FE</td>\n",
       "    </tr>\n",
       "  </tbody>\n",
       "</table>\n",
       "</div>"
      ],
      "text/plain": [
       "                        img basicRating1.response basicRating1.rt fgender emo\n",
       "1  ./basicStim/07F_DI_O.jpg                   DIS           4.694       F  DI\n",
       "2  ./basicStim/21M_AN_O.jpg                   ANG           2.516       M  AN\n",
       "3  ./basicStim/34M_HA_O.jpg                   HAP           3.038       M  HA\n",
       "4  ./basicStim/01F_HA_O.jpg                   HAP           4.044       F  HA\n",
       "5  ./basicStim/07F_FE_O.jpg                   DIS           3.888       F  FE"
      ]
     },
     "execution_count": 33,
     "metadata": {},
     "output_type": "execute_result"
    }
   ],
   "source": [
    "recodeResponses(df).head()"
   ]
  },
  {
   "cell_type": "markdown",
   "metadata": {},
   "source": [
    "Get full range of responses to each expression:"
   ]
  },
  {
   "cell_type": "code",
   "execution_count": 34,
   "metadata": {
    "collapsed": true
   },
   "outputs": [],
   "source": [
    "def getAllResponses(df,p):\n",
    "    \n",
    "    d = {}\n",
    "\n",
    "    # prepare dict\n",
    "    for entry in df.index:\n",
    "        d[df.loc[entry]['emo']] = { 'F':{'HAP':0,'SAD':0,'ANG':0,'FEA':0,'DIS':0,'SUP':0,'NTR':0},\n",
    "                                   'M':{'HAP':0,'SAD':0,'ANG':0,'FEA':0,'DIS':0,'SUP':0,'NTR':0}\n",
    "                                 }  \n",
    "    # fill dict\n",
    "    for entry in df.index:\n",
    "        thisResp = df.loc[entry]['basicRating1.response']\n",
    "        thisFace = df.loc[entry]['emo']\n",
    "        thisFGender = df.loc[entry]['fgender']\n",
    "        try:\n",
    "            d[thisFace][thisFGender][thisResp] +=1\n",
    "        except:\n",
    "            pass\n",
    "\n",
    "\n",
    "    bigDf = pd.DataFrame()\n",
    "    for entry in d:\n",
    "        thisDf = pd.DataFrame(d[entry])\n",
    "        thisDf.index = [ [entry]*len(thisDf.index), thisDf.index ]\n",
    "        bigDf = pd.concat([bigDf, thisDf])\n",
    "\n",
    "\n",
    "    bigDf = bigDf.sort_index()\n",
    "    bigDf = bigDf.T\n",
    "    bigDf.index = [[p]*len(bigDf.index), bigDf.index]\n",
    "    bigDf.index.names = ['pNum','fGender']\n",
    "\n",
    "    return bigDf"
   ]
  },
  {
   "cell_type": "markdown",
   "metadata": {},
   "source": [
    "Example:"
   ]
  },
  {
   "cell_type": "code",
   "execution_count": 35,
   "metadata": {
    "scrolled": true
   },
   "outputs": [
    {
     "data": {
      "text/html": [
       "<div>\n",
       "<style>\n",
       "    .dataframe thead tr:only-child th {\n",
       "        text-align: right;\n",
       "    }\n",
       "\n",
       "    .dataframe thead th {\n",
       "        text-align: left;\n",
       "    }\n",
       "\n",
       "    .dataframe tbody tr th {\n",
       "        vertical-align: top;\n",
       "    }\n",
       "</style>\n",
       "<table border=\"1\" class=\"dataframe\">\n",
       "  <thead>\n",
       "    <tr>\n",
       "      <th></th>\n",
       "      <th></th>\n",
       "      <th colspan=\"7\" halign=\"left\">AN</th>\n",
       "      <th colspan=\"3\" halign=\"left\">DI</th>\n",
       "      <th>...</th>\n",
       "      <th colspan=\"3\" halign=\"left\">SA</th>\n",
       "      <th colspan=\"7\" halign=\"left\">SP</th>\n",
       "    </tr>\n",
       "    <tr>\n",
       "      <th></th>\n",
       "      <th></th>\n",
       "      <th>ANG</th>\n",
       "      <th>DIS</th>\n",
       "      <th>FEA</th>\n",
       "      <th>HAP</th>\n",
       "      <th>NTR</th>\n",
       "      <th>SAD</th>\n",
       "      <th>SUP</th>\n",
       "      <th>ANG</th>\n",
       "      <th>DIS</th>\n",
       "      <th>FEA</th>\n",
       "      <th>...</th>\n",
       "      <th>NTR</th>\n",
       "      <th>SAD</th>\n",
       "      <th>SUP</th>\n",
       "      <th>ANG</th>\n",
       "      <th>DIS</th>\n",
       "      <th>FEA</th>\n",
       "      <th>HAP</th>\n",
       "      <th>NTR</th>\n",
       "      <th>SAD</th>\n",
       "      <th>SUP</th>\n",
       "    </tr>\n",
       "    <tr>\n",
       "      <th>pNum</th>\n",
       "      <th>fGender</th>\n",
       "      <th></th>\n",
       "      <th></th>\n",
       "      <th></th>\n",
       "      <th></th>\n",
       "      <th></th>\n",
       "      <th></th>\n",
       "      <th></th>\n",
       "      <th></th>\n",
       "      <th></th>\n",
       "      <th></th>\n",
       "      <th></th>\n",
       "      <th></th>\n",
       "      <th></th>\n",
       "      <th></th>\n",
       "      <th></th>\n",
       "      <th></th>\n",
       "      <th></th>\n",
       "      <th></th>\n",
       "      <th></th>\n",
       "      <th></th>\n",
       "      <th></th>\n",
       "    </tr>\n",
       "  </thead>\n",
       "  <tbody>\n",
       "    <tr>\n",
       "      <th rowspan=\"2\" valign=\"top\">JB</th>\n",
       "      <th>F</th>\n",
       "      <td>6</td>\n",
       "      <td>0</td>\n",
       "      <td>0</td>\n",
       "      <td>0</td>\n",
       "      <td>0</td>\n",
       "      <td>0</td>\n",
       "      <td>0</td>\n",
       "      <td>0</td>\n",
       "      <td>6</td>\n",
       "      <td>0</td>\n",
       "      <td>...</td>\n",
       "      <td>0</td>\n",
       "      <td>6</td>\n",
       "      <td>0</td>\n",
       "      <td>0</td>\n",
       "      <td>0</td>\n",
       "      <td>1</td>\n",
       "      <td>0</td>\n",
       "      <td>0</td>\n",
       "      <td>0</td>\n",
       "      <td>5</td>\n",
       "    </tr>\n",
       "    <tr>\n",
       "      <th>M</th>\n",
       "      <td>5</td>\n",
       "      <td>0</td>\n",
       "      <td>0</td>\n",
       "      <td>0</td>\n",
       "      <td>0</td>\n",
       "      <td>1</td>\n",
       "      <td>0</td>\n",
       "      <td>0</td>\n",
       "      <td>5</td>\n",
       "      <td>0</td>\n",
       "      <td>...</td>\n",
       "      <td>0</td>\n",
       "      <td>5</td>\n",
       "      <td>0</td>\n",
       "      <td>0</td>\n",
       "      <td>0</td>\n",
       "      <td>1</td>\n",
       "      <td>0</td>\n",
       "      <td>0</td>\n",
       "      <td>0</td>\n",
       "      <td>5</td>\n",
       "    </tr>\n",
       "  </tbody>\n",
       "</table>\n",
       "<p>2 rows × 49 columns</p>\n",
       "</div>"
      ],
      "text/plain": [
       "              AN                          DI         ...  SA          SP      \\\n",
       "             ANG DIS FEA HAP NTR SAD SUP ANG DIS FEA ... NTR SAD SUP ANG DIS   \n",
       "pNum fGender                                         ...                       \n",
       "JB   F         6   0   0   0   0   0   0   0   6   0 ...   0   6   0   0   0   \n",
       "     M         5   0   0   0   0   1   0   0   5   0 ...   0   5   0   0   0   \n",
       "\n",
       "                                  \n",
       "             FEA HAP NTR SAD SUP  \n",
       "pNum fGender                      \n",
       "JB   F         1   0   0   0   5  \n",
       "     M         1   0   0   0   5  \n",
       "\n",
       "[2 rows x 49 columns]"
      ]
     },
     "execution_count": 35,
     "metadata": {},
     "output_type": "execute_result"
    }
   ],
   "source": [
    "getAllResponses(df,'JB')"
   ]
  },
  {
   "cell_type": "code",
   "execution_count": 36,
   "metadata": {},
   "outputs": [
    {
     "data": {
      "text/html": [
       "<div>\n",
       "<style>\n",
       "    .dataframe thead tr:only-child th {\n",
       "        text-align: right;\n",
       "    }\n",
       "\n",
       "    .dataframe thead th {\n",
       "        text-align: left;\n",
       "    }\n",
       "\n",
       "    .dataframe tbody tr th {\n",
       "        vertical-align: top;\n",
       "    }\n",
       "</style>\n",
       "<table border=\"1\" class=\"dataframe\">\n",
       "  <thead>\n",
       "    <tr>\n",
       "      <th></th>\n",
       "      <th colspan=\"7\" halign=\"left\">F</th>\n",
       "    </tr>\n",
       "    <tr>\n",
       "      <th></th>\n",
       "      <th>ANG</th>\n",
       "      <th>DIS</th>\n",
       "      <th>FEA</th>\n",
       "      <th>HAP</th>\n",
       "      <th>NTR</th>\n",
       "      <th>SAD</th>\n",
       "      <th>SUP</th>\n",
       "    </tr>\n",
       "  </thead>\n",
       "  <tbody>\n",
       "    <tr>\n",
       "      <th>AN</th>\n",
       "      <td>100.0</td>\n",
       "      <td>0.000000</td>\n",
       "      <td>0.000000</td>\n",
       "      <td>0.0</td>\n",
       "      <td>0.0</td>\n",
       "      <td>0.0</td>\n",
       "      <td>0.000000</td>\n",
       "    </tr>\n",
       "    <tr>\n",
       "      <th>DI</th>\n",
       "      <td>0.0</td>\n",
       "      <td>100.000000</td>\n",
       "      <td>0.000000</td>\n",
       "      <td>0.0</td>\n",
       "      <td>0.0</td>\n",
       "      <td>0.0</td>\n",
       "      <td>0.000000</td>\n",
       "    </tr>\n",
       "    <tr>\n",
       "      <th>FE</th>\n",
       "      <td>0.0</td>\n",
       "      <td>33.333333</td>\n",
       "      <td>66.666667</td>\n",
       "      <td>0.0</td>\n",
       "      <td>0.0</td>\n",
       "      <td>0.0</td>\n",
       "      <td>0.000000</td>\n",
       "    </tr>\n",
       "    <tr>\n",
       "      <th>HA</th>\n",
       "      <td>0.0</td>\n",
       "      <td>0.000000</td>\n",
       "      <td>0.000000</td>\n",
       "      <td>100.0</td>\n",
       "      <td>0.0</td>\n",
       "      <td>0.0</td>\n",
       "      <td>0.000000</td>\n",
       "    </tr>\n",
       "    <tr>\n",
       "      <th>NE</th>\n",
       "      <td>0.0</td>\n",
       "      <td>0.000000</td>\n",
       "      <td>0.000000</td>\n",
       "      <td>0.0</td>\n",
       "      <td>100.0</td>\n",
       "      <td>0.0</td>\n",
       "      <td>0.000000</td>\n",
       "    </tr>\n",
       "    <tr>\n",
       "      <th>SA</th>\n",
       "      <td>0.0</td>\n",
       "      <td>0.000000</td>\n",
       "      <td>0.000000</td>\n",
       "      <td>0.0</td>\n",
       "      <td>0.0</td>\n",
       "      <td>100.0</td>\n",
       "      <td>0.000000</td>\n",
       "    </tr>\n",
       "    <tr>\n",
       "      <th>SP</th>\n",
       "      <td>0.0</td>\n",
       "      <td>0.000000</td>\n",
       "      <td>16.666667</td>\n",
       "      <td>0.0</td>\n",
       "      <td>0.0</td>\n",
       "      <td>0.0</td>\n",
       "      <td>83.333333</td>\n",
       "    </tr>\n",
       "  </tbody>\n",
       "</table>\n",
       "</div>"
      ],
      "text/plain": [
       "        F                                                       \n",
       "      ANG         DIS        FEA    HAP    NTR    SAD        SUP\n",
       "AN  100.0    0.000000   0.000000    0.0    0.0    0.0   0.000000\n",
       "DI    0.0  100.000000   0.000000    0.0    0.0    0.0   0.000000\n",
       "FE    0.0   33.333333  66.666667    0.0    0.0    0.0   0.000000\n",
       "HA    0.0    0.000000   0.000000  100.0    0.0    0.0   0.000000\n",
       "NE    0.0    0.000000   0.000000    0.0  100.0    0.0   0.000000\n",
       "SA    0.0    0.000000   0.000000    0.0    0.0  100.0   0.000000\n",
       "SP    0.0    0.000000  16.666667    0.0    0.0    0.0  83.333333"
      ]
     },
     "execution_count": 36,
     "metadata": {},
     "output_type": "execute_result"
    }
   ],
   "source": [
    "pd.DataFrame( pd.DataFrame( getAllResponses(df,'JB').loc['JB'].loc['F'] ).unstack() )/6.*100"
   ]
  },
  {
   "cell_type": "markdown",
   "metadata": {},
   "source": [
    "### Showing full confusion matrix as heatmap"
   ]
  },
  {
   "cell_type": "code",
   "execution_count": 37,
   "metadata": {},
   "outputs": [
    {
     "data": {
      "image/png": "[encoded data removed]",
      "text/plain": [
       "<matplotlib.figure.Figure at 0x7f0aeaaec410>"
      ]
     },
     "metadata": {},
     "output_type": "display_data"
    }
   ],
   "source": [
    "fig = plt.figure(figsize=(14,7))\n",
    "for i,fGender in enumerate(['F','M']):\n",
    "    confDf = pd.DataFrame( pd.DataFrame( getAllResponses(df,'JB').loc['JB'].loc[fGender] ).unstack() )/6.*100\n",
    "    ax = plt.subplot('12'+str(i+1))\n",
    "    sns.heatmap(confDf,square=True);\n",
    "    ax.set_title(fGender)\n",
    "plt.show()"
   ]
  },
  {
   "cell_type": "markdown",
   "metadata": {},
   "source": [
    "### Do this for all participants"
   ]
  },
  {
   "cell_type": "code",
   "execution_count": 38,
   "metadata": {
    "collapsed": true,
    "scrolled": true
   },
   "outputs": [],
   "source": [
    "def confusionDf(loglist):\n",
    "    allRespDf = pd.DataFrame()\n",
    "\n",
    "    for logfile in loglist:\n",
    "        \n",
    "        rawDf = getBasicResps(logfile)\n",
    "        pName = logfile[logfile.rfind('/')+1:logfile.find('_faces')]\n",
    "        thisDf = getAllResponses( recodeResponses(rawDf),pName )\n",
    "\n",
    "        allRespDf = pd.concat([allRespDf,thisDf])\n",
    "    \n",
    "    # some restructuring...\n",
    "    allRespDf = allRespDf.unstack(1)\n",
    "    groupIndex = [ x.split('_')[0] for x in allRespDf.index ]\n",
    "    allRespDf.index = [ groupIndex,allRespDf.index  ]\n",
    "    allRespDf.columns = allRespDf.columns.swaplevel(0, 2)\n",
    "    allRespDf.sort_index(level=0, axis=1, inplace=True)\n",
    "    allRespDf.columns = allRespDf.columns.swaplevel(1, 2)\n",
    "    allRespDf.sort_index(level=0, axis=1, inplace=True)\n",
    "    return allRespDf/6. # divide by number of trials in each condition (12 faces)"
   ]
  },
  {
   "cell_type": "code",
   "execution_count": 39,
   "metadata": {
    "collapsed": true
   },
   "outputs": [],
   "source": [
    "confDf = confusionDf(logList)"
   ]
  },
  {
   "cell_type": "markdown",
   "metadata": {},
   "source": [
    "Example:"
   ]
  },
  {
   "cell_type": "code",
   "execution_count": 40,
   "metadata": {
    "scrolled": true
   },
   "outputs": [
    {
     "data": {
      "text/html": [
       "<div>\n",
       "<style>\n",
       "    .dataframe thead tr:only-child th {\n",
       "        text-align: right;\n",
       "    }\n",
       "\n",
       "    .dataframe thead th {\n",
       "        text-align: left;\n",
       "    }\n",
       "\n",
       "    .dataframe tbody tr th {\n",
       "        vertical-align: top;\n",
       "    }\n",
       "</style>\n",
       "<table border=\"1\" class=\"dataframe\">\n",
       "  <thead>\n",
       "    <tr>\n",
       "      <th></th>\n",
       "      <th>fGender</th>\n",
       "      <th colspan=\"10\" halign=\"left\">F</th>\n",
       "      <th>...</th>\n",
       "      <th colspan=\"10\" halign=\"left\">M</th>\n",
       "    </tr>\n",
       "    <tr>\n",
       "      <th></th>\n",
       "      <th></th>\n",
       "      <th colspan=\"7\" halign=\"left\">AN</th>\n",
       "      <th colspan=\"3\" halign=\"left\">DI</th>\n",
       "      <th>...</th>\n",
       "      <th colspan=\"3\" halign=\"left\">SA</th>\n",
       "      <th colspan=\"7\" halign=\"left\">SP</th>\n",
       "    </tr>\n",
       "    <tr>\n",
       "      <th></th>\n",
       "      <th></th>\n",
       "      <th>ANG</th>\n",
       "      <th>DIS</th>\n",
       "      <th>FEA</th>\n",
       "      <th>HAP</th>\n",
       "      <th>NTR</th>\n",
       "      <th>SAD</th>\n",
       "      <th>SUP</th>\n",
       "      <th>ANG</th>\n",
       "      <th>DIS</th>\n",
       "      <th>FEA</th>\n",
       "      <th>...</th>\n",
       "      <th>NTR</th>\n",
       "      <th>SAD</th>\n",
       "      <th>SUP</th>\n",
       "      <th>ANG</th>\n",
       "      <th>DIS</th>\n",
       "      <th>FEA</th>\n",
       "      <th>HAP</th>\n",
       "      <th>NTR</th>\n",
       "      <th>SAD</th>\n",
       "      <th>SUP</th>\n",
       "    </tr>\n",
       "    <tr>\n",
       "      <th></th>\n",
       "      <th>pNum</th>\n",
       "      <th></th>\n",
       "      <th></th>\n",
       "      <th></th>\n",
       "      <th></th>\n",
       "      <th></th>\n",
       "      <th></th>\n",
       "      <th></th>\n",
       "      <th></th>\n",
       "      <th></th>\n",
       "      <th></th>\n",
       "      <th></th>\n",
       "      <th></th>\n",
       "      <th></th>\n",
       "      <th></th>\n",
       "      <th></th>\n",
       "      <th></th>\n",
       "      <th></th>\n",
       "      <th></th>\n",
       "      <th></th>\n",
       "      <th></th>\n",
       "      <th></th>\n",
       "    </tr>\n",
       "  </thead>\n",
       "  <tbody>\n",
       "    <tr>\n",
       "      <th rowspan=\"4\" valign=\"top\">A</th>\n",
       "      <th>A_6</th>\n",
       "      <td>1.000000</td>\n",
       "      <td>0.0</td>\n",
       "      <td>0.000000</td>\n",
       "      <td>0.0</td>\n",
       "      <td>0.0</td>\n",
       "      <td>0.0</td>\n",
       "      <td>0.0</td>\n",
       "      <td>0.166667</td>\n",
       "      <td>0.833333</td>\n",
       "      <td>0.0</td>\n",
       "      <td>...</td>\n",
       "      <td>0.166667</td>\n",
       "      <td>0.500000</td>\n",
       "      <td>0.000000</td>\n",
       "      <td>0.0</td>\n",
       "      <td>0.0</td>\n",
       "      <td>0.000000</td>\n",
       "      <td>0.166667</td>\n",
       "      <td>0.0</td>\n",
       "      <td>0.0</td>\n",
       "      <td>0.833333</td>\n",
       "    </tr>\n",
       "    <tr>\n",
       "      <th>A_7</th>\n",
       "      <td>1.000000</td>\n",
       "      <td>0.0</td>\n",
       "      <td>0.000000</td>\n",
       "      <td>0.0</td>\n",
       "      <td>0.0</td>\n",
       "      <td>0.0</td>\n",
       "      <td>0.0</td>\n",
       "      <td>0.166667</td>\n",
       "      <td>0.833333</td>\n",
       "      <td>0.0</td>\n",
       "      <td>...</td>\n",
       "      <td>0.000000</td>\n",
       "      <td>0.666667</td>\n",
       "      <td>0.166667</td>\n",
       "      <td>0.0</td>\n",
       "      <td>0.0</td>\n",
       "      <td>0.166667</td>\n",
       "      <td>0.000000</td>\n",
       "      <td>0.0</td>\n",
       "      <td>0.0</td>\n",
       "      <td>0.833333</td>\n",
       "    </tr>\n",
       "    <tr>\n",
       "      <th>A_8</th>\n",
       "      <td>0.833333</td>\n",
       "      <td>0.0</td>\n",
       "      <td>0.166667</td>\n",
       "      <td>0.0</td>\n",
       "      <td>0.0</td>\n",
       "      <td>0.0</td>\n",
       "      <td>0.0</td>\n",
       "      <td>0.166667</td>\n",
       "      <td>0.833333</td>\n",
       "      <td>0.0</td>\n",
       "      <td>...</td>\n",
       "      <td>0.166667</td>\n",
       "      <td>0.833333</td>\n",
       "      <td>0.000000</td>\n",
       "      <td>0.0</td>\n",
       "      <td>0.0</td>\n",
       "      <td>0.000000</td>\n",
       "      <td>0.000000</td>\n",
       "      <td>0.0</td>\n",
       "      <td>0.0</td>\n",
       "      <td>1.000000</td>\n",
       "    </tr>\n",
       "    <tr>\n",
       "      <th>A_9</th>\n",
       "      <td>1.000000</td>\n",
       "      <td>0.0</td>\n",
       "      <td>0.000000</td>\n",
       "      <td>0.0</td>\n",
       "      <td>0.0</td>\n",
       "      <td>0.0</td>\n",
       "      <td>0.0</td>\n",
       "      <td>0.000000</td>\n",
       "      <td>1.000000</td>\n",
       "      <td>0.0</td>\n",
       "      <td>...</td>\n",
       "      <td>0.166667</td>\n",
       "      <td>0.666667</td>\n",
       "      <td>0.166667</td>\n",
       "      <td>0.0</td>\n",
       "      <td>0.0</td>\n",
       "      <td>0.000000</td>\n",
       "      <td>0.000000</td>\n",
       "      <td>0.0</td>\n",
       "      <td>0.0</td>\n",
       "      <td>1.000000</td>\n",
       "    </tr>\n",
       "    <tr>\n",
       "      <th>JB</th>\n",
       "      <th>JB_001</th>\n",
       "      <td>1.000000</td>\n",
       "      <td>0.0</td>\n",
       "      <td>0.000000</td>\n",
       "      <td>0.0</td>\n",
       "      <td>0.0</td>\n",
       "      <td>0.0</td>\n",
       "      <td>0.0</td>\n",
       "      <td>0.000000</td>\n",
       "      <td>1.000000</td>\n",
       "      <td>0.0</td>\n",
       "      <td>...</td>\n",
       "      <td>0.000000</td>\n",
       "      <td>0.833333</td>\n",
       "      <td>0.000000</td>\n",
       "      <td>0.0</td>\n",
       "      <td>0.0</td>\n",
       "      <td>0.166667</td>\n",
       "      <td>0.000000</td>\n",
       "      <td>0.0</td>\n",
       "      <td>0.0</td>\n",
       "      <td>0.833333</td>\n",
       "    </tr>\n",
       "  </tbody>\n",
       "</table>\n",
       "<p>5 rows × 98 columns</p>\n",
       "</div>"
      ],
      "text/plain": [
       "fGender           F                                                         \\\n",
       "                 AN                                           DI             \n",
       "                ANG  DIS       FEA  HAP  NTR  SAD  SUP       ANG       DIS   \n",
       "   pNum                                                                      \n",
       "A  A_6     1.000000  0.0  0.000000  0.0  0.0  0.0  0.0  0.166667  0.833333   \n",
       "   A_7     1.000000  0.0  0.000000  0.0  0.0  0.0  0.0  0.166667  0.833333   \n",
       "   A_8     0.833333  0.0  0.166667  0.0  0.0  0.0  0.0  0.166667  0.833333   \n",
       "   A_9     1.000000  0.0  0.000000  0.0  0.0  0.0  0.0  0.000000  1.000000   \n",
       "JB JB_001  1.000000  0.0  0.000000  0.0  0.0  0.0  0.0  0.000000  1.000000   \n",
       "\n",
       "fGender           ...            M                                          \\\n",
       "                  ...           SA                       SP                  \n",
       "           FEA    ...          NTR       SAD       SUP  ANG  DIS       FEA   \n",
       "   pNum           ...                                                        \n",
       "A  A_6     0.0    ...     0.166667  0.500000  0.000000  0.0  0.0  0.000000   \n",
       "   A_7     0.0    ...     0.000000  0.666667  0.166667  0.0  0.0  0.166667   \n",
       "   A_8     0.0    ...     0.166667  0.833333  0.000000  0.0  0.0  0.000000   \n",
       "   A_9     0.0    ...     0.166667  0.666667  0.166667  0.0  0.0  0.000000   \n",
       "JB JB_001  0.0    ...     0.000000  0.833333  0.000000  0.0  0.0  0.166667   \n",
       "\n",
       "fGender                                  \n",
       "                                         \n",
       "                HAP  NTR  SAD       SUP  \n",
       "   pNum                                  \n",
       "A  A_6     0.166667  0.0  0.0  0.833333  \n",
       "   A_7     0.000000  0.0  0.0  0.833333  \n",
       "   A_8     0.000000  0.0  0.0  1.000000  \n",
       "   A_9     0.000000  0.0  0.0  1.000000  \n",
       "JB JB_001  0.000000  0.0  0.0  0.833333  \n",
       "\n",
       "[5 rows x 98 columns]"
      ]
     },
     "execution_count": 40,
     "metadata": {},
     "output_type": "execute_result"
    }
   ],
   "source": [
    "confDf.tail()"
   ]
  },
  {
   "cell_type": "markdown",
   "metadata": {},
   "source": [
    "### Split the big plot into one for female, one for male faces"
   ]
  },
  {
   "cell_type": "code",
   "execution_count": 41,
   "metadata": {
    "collapsed": true
   },
   "outputs": [],
   "source": [
    "fConfDf = confDf['F']\n",
    "mConfDf = confDf['M']"
   ]
  },
  {
   "cell_type": "code",
   "execution_count": 42,
   "metadata": {},
   "outputs": [
    {
     "data": {
      "text/html": [
       "<div>\n",
       "<style>\n",
       "    .dataframe thead tr:only-child th {\n",
       "        text-align: right;\n",
       "    }\n",
       "\n",
       "    .dataframe thead th {\n",
       "        text-align: left;\n",
       "    }\n",
       "\n",
       "    .dataframe tbody tr th {\n",
       "        vertical-align: top;\n",
       "    }\n",
       "</style>\n",
       "<table border=\"1\" class=\"dataframe\">\n",
       "  <thead>\n",
       "    <tr>\n",
       "      <th></th>\n",
       "      <th></th>\n",
       "      <th colspan=\"7\" halign=\"left\">AN</th>\n",
       "      <th colspan=\"3\" halign=\"left\">DI</th>\n",
       "      <th>...</th>\n",
       "      <th colspan=\"3\" halign=\"left\">SA</th>\n",
       "      <th colspan=\"7\" halign=\"left\">SP</th>\n",
       "    </tr>\n",
       "    <tr>\n",
       "      <th></th>\n",
       "      <th></th>\n",
       "      <th>ANG</th>\n",
       "      <th>DIS</th>\n",
       "      <th>FEA</th>\n",
       "      <th>HAP</th>\n",
       "      <th>NTR</th>\n",
       "      <th>SAD</th>\n",
       "      <th>SUP</th>\n",
       "      <th>ANG</th>\n",
       "      <th>DIS</th>\n",
       "      <th>FEA</th>\n",
       "      <th>...</th>\n",
       "      <th>NTR</th>\n",
       "      <th>SAD</th>\n",
       "      <th>SUP</th>\n",
       "      <th>ANG</th>\n",
       "      <th>DIS</th>\n",
       "      <th>FEA</th>\n",
       "      <th>HAP</th>\n",
       "      <th>NTR</th>\n",
       "      <th>SAD</th>\n",
       "      <th>SUP</th>\n",
       "    </tr>\n",
       "    <tr>\n",
       "      <th></th>\n",
       "      <th>pNum</th>\n",
       "      <th></th>\n",
       "      <th></th>\n",
       "      <th></th>\n",
       "      <th></th>\n",
       "      <th></th>\n",
       "      <th></th>\n",
       "      <th></th>\n",
       "      <th></th>\n",
       "      <th></th>\n",
       "      <th></th>\n",
       "      <th></th>\n",
       "      <th></th>\n",
       "      <th></th>\n",
       "      <th></th>\n",
       "      <th></th>\n",
       "      <th></th>\n",
       "      <th></th>\n",
       "      <th></th>\n",
       "      <th></th>\n",
       "      <th></th>\n",
       "      <th></th>\n",
       "    </tr>\n",
       "  </thead>\n",
       "  <tbody>\n",
       "    <tr>\n",
       "      <th rowspan=\"4\" valign=\"top\">A</th>\n",
       "      <th>A_6</th>\n",
       "      <td>1.000000</td>\n",
       "      <td>0.0</td>\n",
       "      <td>0.000000</td>\n",
       "      <td>0.0</td>\n",
       "      <td>0.0</td>\n",
       "      <td>0.0</td>\n",
       "      <td>0.0</td>\n",
       "      <td>0.166667</td>\n",
       "      <td>0.833333</td>\n",
       "      <td>0.0</td>\n",
       "      <td>...</td>\n",
       "      <td>0.0</td>\n",
       "      <td>0.666667</td>\n",
       "      <td>0.0</td>\n",
       "      <td>0.0</td>\n",
       "      <td>0.0</td>\n",
       "      <td>0.000000</td>\n",
       "      <td>0.166667</td>\n",
       "      <td>0.0</td>\n",
       "      <td>0.0</td>\n",
       "      <td>0.833333</td>\n",
       "    </tr>\n",
       "    <tr>\n",
       "      <th>A_7</th>\n",
       "      <td>1.000000</td>\n",
       "      <td>0.0</td>\n",
       "      <td>0.000000</td>\n",
       "      <td>0.0</td>\n",
       "      <td>0.0</td>\n",
       "      <td>0.0</td>\n",
       "      <td>0.0</td>\n",
       "      <td>0.166667</td>\n",
       "      <td>0.833333</td>\n",
       "      <td>0.0</td>\n",
       "      <td>...</td>\n",
       "      <td>0.0</td>\n",
       "      <td>1.000000</td>\n",
       "      <td>0.0</td>\n",
       "      <td>0.0</td>\n",
       "      <td>0.0</td>\n",
       "      <td>0.000000</td>\n",
       "      <td>0.000000</td>\n",
       "      <td>0.0</td>\n",
       "      <td>0.0</td>\n",
       "      <td>1.000000</td>\n",
       "    </tr>\n",
       "    <tr>\n",
       "      <th>A_8</th>\n",
       "      <td>0.833333</td>\n",
       "      <td>0.0</td>\n",
       "      <td>0.166667</td>\n",
       "      <td>0.0</td>\n",
       "      <td>0.0</td>\n",
       "      <td>0.0</td>\n",
       "      <td>0.0</td>\n",
       "      <td>0.166667</td>\n",
       "      <td>0.833333</td>\n",
       "      <td>0.0</td>\n",
       "      <td>...</td>\n",
       "      <td>0.0</td>\n",
       "      <td>1.000000</td>\n",
       "      <td>0.0</td>\n",
       "      <td>0.0</td>\n",
       "      <td>0.0</td>\n",
       "      <td>0.333333</td>\n",
       "      <td>0.000000</td>\n",
       "      <td>0.0</td>\n",
       "      <td>0.0</td>\n",
       "      <td>0.666667</td>\n",
       "    </tr>\n",
       "    <tr>\n",
       "      <th>A_9</th>\n",
       "      <td>1.000000</td>\n",
       "      <td>0.0</td>\n",
       "      <td>0.000000</td>\n",
       "      <td>0.0</td>\n",
       "      <td>0.0</td>\n",
       "      <td>0.0</td>\n",
       "      <td>0.0</td>\n",
       "      <td>0.000000</td>\n",
       "      <td>1.000000</td>\n",
       "      <td>0.0</td>\n",
       "      <td>...</td>\n",
       "      <td>0.0</td>\n",
       "      <td>0.833333</td>\n",
       "      <td>0.0</td>\n",
       "      <td>0.0</td>\n",
       "      <td>0.0</td>\n",
       "      <td>0.166667</td>\n",
       "      <td>0.166667</td>\n",
       "      <td>0.0</td>\n",
       "      <td>0.0</td>\n",
       "      <td>0.666667</td>\n",
       "    </tr>\n",
       "    <tr>\n",
       "      <th>JB</th>\n",
       "      <th>JB_001</th>\n",
       "      <td>1.000000</td>\n",
       "      <td>0.0</td>\n",
       "      <td>0.000000</td>\n",
       "      <td>0.0</td>\n",
       "      <td>0.0</td>\n",
       "      <td>0.0</td>\n",
       "      <td>0.0</td>\n",
       "      <td>0.000000</td>\n",
       "      <td>1.000000</td>\n",
       "      <td>0.0</td>\n",
       "      <td>...</td>\n",
       "      <td>0.0</td>\n",
       "      <td>1.000000</td>\n",
       "      <td>0.0</td>\n",
       "      <td>0.0</td>\n",
       "      <td>0.0</td>\n",
       "      <td>0.166667</td>\n",
       "      <td>0.000000</td>\n",
       "      <td>0.0</td>\n",
       "      <td>0.0</td>\n",
       "      <td>0.833333</td>\n",
       "    </tr>\n",
       "  </tbody>\n",
       "</table>\n",
       "<p>5 rows × 49 columns</p>\n",
       "</div>"
      ],
      "text/plain": [
       "                 AN                                           DI            \\\n",
       "                ANG  DIS       FEA  HAP  NTR  SAD  SUP       ANG       DIS   \n",
       "   pNum                                                                      \n",
       "A  A_6     1.000000  0.0  0.000000  0.0  0.0  0.0  0.0  0.166667  0.833333   \n",
       "   A_7     1.000000  0.0  0.000000  0.0  0.0  0.0  0.0  0.166667  0.833333   \n",
       "   A_8     0.833333  0.0  0.166667  0.0  0.0  0.0  0.0  0.166667  0.833333   \n",
       "   A_9     1.000000  0.0  0.000000  0.0  0.0  0.0  0.0  0.000000  1.000000   \n",
       "JB JB_001  1.000000  0.0  0.000000  0.0  0.0  0.0  0.0  0.000000  1.000000   \n",
       "\n",
       "                  ...      SA                  SP                           \\\n",
       "           FEA    ...     NTR       SAD  SUP  ANG  DIS       FEA       HAP   \n",
       "   pNum           ...                                                        \n",
       "A  A_6     0.0    ...     0.0  0.666667  0.0  0.0  0.0  0.000000  0.166667   \n",
       "   A_7     0.0    ...     0.0  1.000000  0.0  0.0  0.0  0.000000  0.000000   \n",
       "   A_8     0.0    ...     0.0  1.000000  0.0  0.0  0.0  0.333333  0.000000   \n",
       "   A_9     0.0    ...     0.0  0.833333  0.0  0.0  0.0  0.166667  0.166667   \n",
       "JB JB_001  0.0    ...     0.0  1.000000  0.0  0.0  0.0  0.166667  0.000000   \n",
       "\n",
       "                               \n",
       "           NTR  SAD       SUP  \n",
       "   pNum                        \n",
       "A  A_6     0.0  0.0  0.833333  \n",
       "   A_7     0.0  0.0  1.000000  \n",
       "   A_8     0.0  0.0  0.666667  \n",
       "   A_9     0.0  0.0  0.666667  \n",
       "JB JB_001  0.0  0.0  0.833333  \n",
       "\n",
       "[5 rows x 49 columns]"
      ]
     },
     "execution_count": 42,
     "metadata": {},
     "output_type": "execute_result"
    }
   ],
   "source": [
    "fConfDf.tail()"
   ]
  },
  {
   "cell_type": "code",
   "execution_count": 43,
   "metadata": {},
   "outputs": [
    {
     "data": {
      "text/html": [
       "<div>\n",
       "<style>\n",
       "    .dataframe thead tr:only-child th {\n",
       "        text-align: right;\n",
       "    }\n",
       "\n",
       "    .dataframe thead th {\n",
       "        text-align: left;\n",
       "    }\n",
       "\n",
       "    .dataframe tbody tr th {\n",
       "        vertical-align: top;\n",
       "    }\n",
       "</style>\n",
       "<table border=\"1\" class=\"dataframe\">\n",
       "  <thead>\n",
       "    <tr>\n",
       "      <th></th>\n",
       "      <th></th>\n",
       "      <th colspan=\"7\" halign=\"left\">AN</th>\n",
       "      <th colspan=\"3\" halign=\"left\">DI</th>\n",
       "      <th>...</th>\n",
       "      <th colspan=\"3\" halign=\"left\">SA</th>\n",
       "      <th colspan=\"7\" halign=\"left\">SP</th>\n",
       "    </tr>\n",
       "    <tr>\n",
       "      <th></th>\n",
       "      <th></th>\n",
       "      <th>ANG</th>\n",
       "      <th>DIS</th>\n",
       "      <th>FEA</th>\n",
       "      <th>HAP</th>\n",
       "      <th>NTR</th>\n",
       "      <th>SAD</th>\n",
       "      <th>SUP</th>\n",
       "      <th>ANG</th>\n",
       "      <th>DIS</th>\n",
       "      <th>FEA</th>\n",
       "      <th>...</th>\n",
       "      <th>NTR</th>\n",
       "      <th>SAD</th>\n",
       "      <th>SUP</th>\n",
       "      <th>ANG</th>\n",
       "      <th>DIS</th>\n",
       "      <th>FEA</th>\n",
       "      <th>HAP</th>\n",
       "      <th>NTR</th>\n",
       "      <th>SAD</th>\n",
       "      <th>SUP</th>\n",
       "    </tr>\n",
       "    <tr>\n",
       "      <th></th>\n",
       "      <th>pNum</th>\n",
       "      <th></th>\n",
       "      <th></th>\n",
       "      <th></th>\n",
       "      <th></th>\n",
       "      <th></th>\n",
       "      <th></th>\n",
       "      <th></th>\n",
       "      <th></th>\n",
       "      <th></th>\n",
       "      <th></th>\n",
       "      <th></th>\n",
       "      <th></th>\n",
       "      <th></th>\n",
       "      <th></th>\n",
       "      <th></th>\n",
       "      <th></th>\n",
       "      <th></th>\n",
       "      <th></th>\n",
       "      <th></th>\n",
       "      <th></th>\n",
       "      <th></th>\n",
       "    </tr>\n",
       "  </thead>\n",
       "  <tbody>\n",
       "    <tr>\n",
       "      <th rowspan=\"4\" valign=\"top\">A</th>\n",
       "      <th>A_6</th>\n",
       "      <td>1.000000</td>\n",
       "      <td>0.000000</td>\n",
       "      <td>0.000000</td>\n",
       "      <td>0.0</td>\n",
       "      <td>0.0</td>\n",
       "      <td>0.000000</td>\n",
       "      <td>0.0</td>\n",
       "      <td>0.0</td>\n",
       "      <td>0.833333</td>\n",
       "      <td>0.000000</td>\n",
       "      <td>...</td>\n",
       "      <td>0.166667</td>\n",
       "      <td>0.500000</td>\n",
       "      <td>0.000000</td>\n",
       "      <td>0.0</td>\n",
       "      <td>0.0</td>\n",
       "      <td>0.000000</td>\n",
       "      <td>0.166667</td>\n",
       "      <td>0.0</td>\n",
       "      <td>0.0</td>\n",
       "      <td>0.833333</td>\n",
       "    </tr>\n",
       "    <tr>\n",
       "      <th>A_7</th>\n",
       "      <td>0.833333</td>\n",
       "      <td>0.166667</td>\n",
       "      <td>0.000000</td>\n",
       "      <td>0.0</td>\n",
       "      <td>0.0</td>\n",
       "      <td>0.000000</td>\n",
       "      <td>0.0</td>\n",
       "      <td>0.0</td>\n",
       "      <td>0.666667</td>\n",
       "      <td>0.000000</td>\n",
       "      <td>...</td>\n",
       "      <td>0.000000</td>\n",
       "      <td>0.666667</td>\n",
       "      <td>0.166667</td>\n",
       "      <td>0.0</td>\n",
       "      <td>0.0</td>\n",
       "      <td>0.166667</td>\n",
       "      <td>0.000000</td>\n",
       "      <td>0.0</td>\n",
       "      <td>0.0</td>\n",
       "      <td>0.833333</td>\n",
       "    </tr>\n",
       "    <tr>\n",
       "      <th>A_8</th>\n",
       "      <td>1.000000</td>\n",
       "      <td>0.000000</td>\n",
       "      <td>0.000000</td>\n",
       "      <td>0.0</td>\n",
       "      <td>0.0</td>\n",
       "      <td>0.000000</td>\n",
       "      <td>0.0</td>\n",
       "      <td>0.0</td>\n",
       "      <td>0.666667</td>\n",
       "      <td>0.166667</td>\n",
       "      <td>...</td>\n",
       "      <td>0.166667</td>\n",
       "      <td>0.833333</td>\n",
       "      <td>0.000000</td>\n",
       "      <td>0.0</td>\n",
       "      <td>0.0</td>\n",
       "      <td>0.000000</td>\n",
       "      <td>0.000000</td>\n",
       "      <td>0.0</td>\n",
       "      <td>0.0</td>\n",
       "      <td>1.000000</td>\n",
       "    </tr>\n",
       "    <tr>\n",
       "      <th>A_9</th>\n",
       "      <td>0.833333</td>\n",
       "      <td>0.000000</td>\n",
       "      <td>0.166667</td>\n",
       "      <td>0.0</td>\n",
       "      <td>0.0</td>\n",
       "      <td>0.000000</td>\n",
       "      <td>0.0</td>\n",
       "      <td>0.0</td>\n",
       "      <td>0.333333</td>\n",
       "      <td>0.000000</td>\n",
       "      <td>...</td>\n",
       "      <td>0.166667</td>\n",
       "      <td>0.666667</td>\n",
       "      <td>0.166667</td>\n",
       "      <td>0.0</td>\n",
       "      <td>0.0</td>\n",
       "      <td>0.000000</td>\n",
       "      <td>0.000000</td>\n",
       "      <td>0.0</td>\n",
       "      <td>0.0</td>\n",
       "      <td>1.000000</td>\n",
       "    </tr>\n",
       "    <tr>\n",
       "      <th>JB</th>\n",
       "      <th>JB_001</th>\n",
       "      <td>0.833333</td>\n",
       "      <td>0.000000</td>\n",
       "      <td>0.000000</td>\n",
       "      <td>0.0</td>\n",
       "      <td>0.0</td>\n",
       "      <td>0.166667</td>\n",
       "      <td>0.0</td>\n",
       "      <td>0.0</td>\n",
       "      <td>0.833333</td>\n",
       "      <td>0.000000</td>\n",
       "      <td>...</td>\n",
       "      <td>0.000000</td>\n",
       "      <td>0.833333</td>\n",
       "      <td>0.000000</td>\n",
       "      <td>0.0</td>\n",
       "      <td>0.0</td>\n",
       "      <td>0.166667</td>\n",
       "      <td>0.000000</td>\n",
       "      <td>0.0</td>\n",
       "      <td>0.0</td>\n",
       "      <td>0.833333</td>\n",
       "    </tr>\n",
       "  </tbody>\n",
       "</table>\n",
       "<p>5 rows × 49 columns</p>\n",
       "</div>"
      ],
      "text/plain": [
       "                 AN                                                DI  \\\n",
       "                ANG       DIS       FEA  HAP  NTR       SAD  SUP  ANG   \n",
       "   pNum                                                                 \n",
       "A  A_6     1.000000  0.000000  0.000000  0.0  0.0  0.000000  0.0  0.0   \n",
       "   A_7     0.833333  0.166667  0.000000  0.0  0.0  0.000000  0.0  0.0   \n",
       "   A_8     1.000000  0.000000  0.000000  0.0  0.0  0.000000  0.0  0.0   \n",
       "   A_9     0.833333  0.000000  0.166667  0.0  0.0  0.000000  0.0  0.0   \n",
       "JB JB_001  0.833333  0.000000  0.000000  0.0  0.0  0.166667  0.0  0.0   \n",
       "\n",
       "                                 ...           SA                       SP  \\\n",
       "                DIS       FEA    ...          NTR       SAD       SUP  ANG   \n",
       "   pNum                          ...                                         \n",
       "A  A_6     0.833333  0.000000    ...     0.166667  0.500000  0.000000  0.0   \n",
       "   A_7     0.666667  0.000000    ...     0.000000  0.666667  0.166667  0.0   \n",
       "   A_8     0.666667  0.166667    ...     0.166667  0.833333  0.000000  0.0   \n",
       "   A_9     0.333333  0.000000    ...     0.166667  0.666667  0.166667  0.0   \n",
       "JB JB_001  0.833333  0.000000    ...     0.000000  0.833333  0.000000  0.0   \n",
       "\n",
       "                                                        \n",
       "           DIS       FEA       HAP  NTR  SAD       SUP  \n",
       "   pNum                                                 \n",
       "A  A_6     0.0  0.000000  0.166667  0.0  0.0  0.833333  \n",
       "   A_7     0.0  0.166667  0.000000  0.0  0.0  0.833333  \n",
       "   A_8     0.0  0.000000  0.000000  0.0  0.0  1.000000  \n",
       "   A_9     0.0  0.000000  0.000000  0.0  0.0  1.000000  \n",
       "JB JB_001  0.0  0.166667  0.000000  0.0  0.0  0.833333  \n",
       "\n",
       "[5 rows x 49 columns]"
      ]
     },
     "execution_count": 43,
     "metadata": {},
     "output_type": "execute_result"
    }
   ],
   "source": [
    "mConfDf.tail()"
   ]
  },
  {
   "cell_type": "markdown",
   "metadata": {},
   "source": [
    "## Plotting of all responses (incl. confusions)"
   ]
  },
  {
   "cell_type": "code",
   "execution_count": 44,
   "metadata": {},
   "outputs": [
    {
     "data": {
      "image/png": "[encoded data removed]",
      "text/plain": [
       "<matplotlib.figure.Figure at 0x7f0aea937d90>"
      ]
     },
     "metadata": {},
     "output_type": "display_data"
    }
   ],
   "source": [
    "stackColors = sns.color_palette(\"Set1\", 7)\n",
    "sns.palplot(stackColors)"
   ]
  },
  {
   "cell_type": "code",
   "execution_count": 45,
   "metadata": {
    "collapsed": true
   },
   "outputs": [],
   "source": [
    "#http://stackoverflow.com/a/214657\n",
    "def rgb2hex(rgb):\n",
    "    return '#%02x%02x%02x' % rgb"
   ]
  },
  {
   "cell_type": "code",
   "execution_count": 100,
   "metadata": {
    "collapsed": true
   },
   "outputs": [],
   "source": [
    "def makeConfPlot(confDf,group,count):\n",
    "    \n",
    "    # we have 3 subplots here\n",
    "    ax = plt.subplot(1,2,count)\n",
    "\n",
    "    # order of face expressions is defined by hand here, instead of\n",
    "    # using the columns, so the order is as we wish it to be\n",
    "    faceExpressions = ['HA','NE','SP','AN','DI','SA','FE']\n",
    "    faceAnswers = ['HAP','NTR','SUP','ANG','DIS','SAD','FEA']\n",
    "    \n",
    "    # we loop through all expressions\n",
    "    for i,emo in enumerate( faceExpressions ):\n",
    "        \n",
    "        # since we build a stacked plot, we have to initialize a value that\n",
    "        # tells us where to start. We start at the very bottom, hence 0\n",
    "        sumSoFar = 0\n",
    "        \n",
    "        # we get the values of all conditions, and their names, as defined\n",
    "        # in the index\n",
    "        thisMean = confDf.loc[group][emo].mean()\n",
    "        thisIndex = thisMean.index\n",
    "        \n",
    "        # firstly, we are interested in the correct response, which will be\n",
    "        # always at the bottom of the stack plot and printed in a strong color\n",
    "        \n",
    "        # corrPos is the position of the current expression in the list of all expressions\n",
    "        corrPos = faceExpressions.index(emo)\n",
    "        # and we also get the name of the answer at this position (cave: the order of lists\n",
    "        # must match!)\n",
    "        corrEntry = faceAnswers[corrPos]\n",
    "\n",
    "        # we get the positions of all the other answers\n",
    "        incorrAnswers = faceAnswers[:corrPos]+faceAnswers[corrPos+1:]\n",
    "        \n",
    "        # we get the value of the correct answer\n",
    "        entry = thisMean[corrEntry]\n",
    "        # we get the name of the correct answer\n",
    "        answer = faceAnswers[corrPos]\n",
    "        \n",
    "        # we take the color list and extract the color for the correct position\n",
    "        thisColor = stackColors[corrPos]\n",
    "        thisHex = rgb2hex( (thisColor[0]*255,thisColor[1]*255,thisColor[2]*255) )\n",
    "        # the colors for the remaining 7-1 colors are stored here:\n",
    "        incorrColors = stackColors[:corrPos]+stackColors[corrPos+1:]\n",
    "        \n",
    "            \n",
    "        # this is the first bar we generate, it starts at the bottom (sumSoFar=0) and\n",
    "        # has a strong color (alpha=1)\n",
    "        ax.bar(i,\n",
    "                entry,\n",
    "                bottom=sumSoFar,\n",
    "                color=thisHex,\n",
    "                label=faceExpressions[corrPos],# answer,  # CAVE : HACK! \n",
    "                alpha=1.)      \n",
    "        \n",
    "        # to stack the rest of the bars on top, we update the sum to be\n",
    "        # the value (% correct) of the current condition\n",
    "        sumSoFar = entry\n",
    "        \n",
    "        # we loop through the remaining (incorrect answers)\n",
    "        for j,answer in enumerate(incorrAnswers):\n",
    "            entry = thisMean[answer]\n",
    "\n",
    "            thisColor = incorrColors[j]\n",
    "            thisHex = rgb2hex( (thisColor[0]*255,thisColor[1]*255,thisColor[2]*255) )\n",
    "            \n",
    "            # same thing as above, but without the legend and with transparency\n",
    "            ax.bar(i,\n",
    "                    entry,\n",
    "                    bottom=sumSoFar,\n",
    "                    color=thisHex,\n",
    "                    alpha=0.5\n",
    "                        )           \n",
    "            # for each run of the loop, we update the sumSoFar so we\n",
    "            # always stack each expression at the top\n",
    "            sumSoFar+=entry\n",
    "    \n",
    "    # get rid of figure box\n",
    "    sns.despine(bottom=True,trim=True)\n",
    "    \n",
    "    # x labels for each plot\n",
    "    ax.set_xlabel('Basic Expression',fontsize=14)\n",
    "    # y labels only for the first plot\n",
    "    if i ==0:\n",
    "        ax.set_ylabel('% of responses')\n",
    "    else:\n",
    "        ax.set_ylabel('')\n",
    "\n",
    "    # axes annotation for all plots\n",
    "    plt.xticks(np.arange(0,7,1), faceExpressions,fontsize=12)\n",
    "    plt.yticks(np.arange(0,1.01,0.1), [str(a)+'%' for a in  np.arange(0,101,10)],fontsize=14)\n",
    "\n",
    "    ax.set_ylim(0,1)\n",
    "    \n",
    "    # getting the name of each subplot right\n",
    "    groupNames = {'JB':'JB',\n",
    "                  'A':'controls',}\n",
    "    ax.set_title(groupNames[group],position=(0.5,1.03) )\n",
    "    \n",
    "    # legend only at the very end (3rd plot)\n",
    "    if count == 2:\n",
    "        plt.legend(loc='best',bbox_to_anchor=[1,1])"
   ]
  },
  {
   "cell_type": "code",
   "execution_count": 113,
   "metadata": {
    "collapsed": true
   },
   "outputs": [],
   "source": [
    "def makeAllConfPlots(confDf):\n",
    "\n",
    "    plt.figure(figsize=(16,5),dpi=300)\n",
    "    thisDf = confDf.groupby(level=[1,2],axis=1).mean()\n",
    "    \n",
    "    # loop through participant groups\n",
    "    for i,group in enumerate( ['A','JB'] ):\n",
    "        makeConfPlot(thisDf,group,i+1)\n",
    "\n",
    "    # show in notebook\n",
    "    plt.show()    "
   ]
  },
  {
   "cell_type": "code",
   "execution_count": 114,
   "metadata": {},
   "outputs": [
    {
     "data": {
      "image/png": "[encoded data removed]",
      "text/plain": [
       "<matplotlib.figure.Figure at 0x7f0ae6d6b0d0>"
      ]
     },
     "metadata": {},
     "output_type": "display_data"
    }
   ],
   "source": [
    "makeAllConfPlots(confDf)"
   ]
  },
  {
   "cell_type": "code",
   "execution_count": 90,
   "metadata": {
    "collapsed": true
   },
   "outputs": [],
   "source": [
    "sns.set_style('white')"
   ]
  },
  {
   "cell_type": "markdown",
   "metadata": {},
   "source": [
    "## Getting a global emo score for each participant"
   ]
  },
  {
   "cell_type": "markdown",
   "metadata": {},
   "source": [
    "This averages all correct responses, so we have one value per participant, which indicates percentage of correct responses overall."
   ]
  },
  {
   "cell_type": "code",
   "execution_count": 91,
   "metadata": {},
   "outputs": [
    {
     "data": {
      "text/html": [
       "<div>\n",
       "<style>\n",
       "    .dataframe thead tr:only-child th {\n",
       "        text-align: right;\n",
       "    }\n",
       "\n",
       "    .dataframe thead th {\n",
       "        text-align: left;\n",
       "    }\n",
       "\n",
       "    .dataframe tbody tr th {\n",
       "        vertical-align: top;\n",
       "    }\n",
       "</style>\n",
       "<table border=\"1\" class=\"dataframe\">\n",
       "  <thead>\n",
       "    <tr style=\"text-align: right;\">\n",
       "      <th></th>\n",
       "      <th>cond</th>\n",
       "      <th>AN</th>\n",
       "      <th>DI</th>\n",
       "      <th>FE</th>\n",
       "      <th>HA</th>\n",
       "      <th>NE</th>\n",
       "      <th>SA</th>\n",
       "      <th>SP</th>\n",
       "    </tr>\n",
       "    <tr>\n",
       "      <th>group</th>\n",
       "      <th>id</th>\n",
       "      <th></th>\n",
       "      <th></th>\n",
       "      <th></th>\n",
       "      <th></th>\n",
       "      <th></th>\n",
       "      <th></th>\n",
       "      <th></th>\n",
       "    </tr>\n",
       "  </thead>\n",
       "  <tbody>\n",
       "    <tr>\n",
       "      <th rowspan=\"5\" valign=\"top\">A</th>\n",
       "      <th>A_10</th>\n",
       "      <td>1.000000</td>\n",
       "      <td>0.750000</td>\n",
       "      <td>0.416667</td>\n",
       "      <td>1.000000</td>\n",
       "      <td>0.916667</td>\n",
       "      <td>0.916667</td>\n",
       "      <td>0.500000</td>\n",
       "    </tr>\n",
       "    <tr>\n",
       "      <th>A_11</th>\n",
       "      <td>0.916667</td>\n",
       "      <td>0.916667</td>\n",
       "      <td>0.833333</td>\n",
       "      <td>1.000000</td>\n",
       "      <td>0.666667</td>\n",
       "      <td>0.666667</td>\n",
       "      <td>0.916667</td>\n",
       "    </tr>\n",
       "    <tr>\n",
       "      <th>A_12</th>\n",
       "      <td>0.666667</td>\n",
       "      <td>0.666667</td>\n",
       "      <td>0.083333</td>\n",
       "      <td>1.000000</td>\n",
       "      <td>0.916667</td>\n",
       "      <td>0.750000</td>\n",
       "      <td>0.833333</td>\n",
       "    </tr>\n",
       "    <tr>\n",
       "      <th>A_13</th>\n",
       "      <td>0.833333</td>\n",
       "      <td>0.916667</td>\n",
       "      <td>0.416667</td>\n",
       "      <td>1.000000</td>\n",
       "      <td>0.916667</td>\n",
       "      <td>0.750000</td>\n",
       "      <td>1.000000</td>\n",
       "    </tr>\n",
       "    <tr>\n",
       "      <th>A_14</th>\n",
       "      <td>1.000000</td>\n",
       "      <td>0.833333</td>\n",
       "      <td>0.250000</td>\n",
       "      <td>0.916667</td>\n",
       "      <td>1.000000</td>\n",
       "      <td>0.750000</td>\n",
       "      <td>0.916667</td>\n",
       "    </tr>\n",
       "  </tbody>\n",
       "</table>\n",
       "</div>"
      ],
      "text/plain": [
       "cond              AN        DI        FE        HA        NE        SA  \\\n",
       "group id                                                                 \n",
       "A     A_10  1.000000  0.750000  0.416667  1.000000  0.916667  0.916667   \n",
       "      A_11  0.916667  0.916667  0.833333  1.000000  0.666667  0.666667   \n",
       "      A_12  0.666667  0.666667  0.083333  1.000000  0.916667  0.750000   \n",
       "      A_13  0.833333  0.916667  0.416667  1.000000  0.916667  0.750000   \n",
       "      A_14  1.000000  0.833333  0.250000  0.916667  1.000000  0.750000   \n",
       "\n",
       "cond              SP  \n",
       "group id              \n",
       "A     A_10  0.500000  \n",
       "      A_11  0.916667  \n",
       "      A_12  0.833333  \n",
       "      A_13  1.000000  \n",
       "      A_14  0.916667  "
      ]
     },
     "execution_count": 91,
     "metadata": {},
     "output_type": "execute_result"
    }
   ],
   "source": [
    "bigDf.head()"
   ]
  },
  {
   "cell_type": "markdown",
   "metadata": {},
   "source": [
    "### make overall percent correct and make swarmplot"
   ]
  },
  {
   "cell_type": "code",
   "execution_count": 50,
   "metadata": {
    "collapsed": true
   },
   "outputs": [],
   "source": [
    "globalCorrectDf = pd.DataFrame( bigDf.mean(axis=1) )*100\n",
    "globalCorrectDf.columns = ['% correct']\n",
    "globalCorrectDf['group'] = [['controls','JB'][x=='JB_001'] for x in globalCorrectDf.index.levels[1]]\n",
    "globalCorrectDf['dummy'] = [0 for x in globalCorrectDf['group']]"
   ]
  },
  {
   "cell_type": "code",
   "execution_count": 51,
   "metadata": {
    "scrolled": true
   },
   "outputs": [
    {
     "data": {
      "text/html": [
       "<div>\n",
       "<style>\n",
       "    .dataframe thead tr:only-child th {\n",
       "        text-align: right;\n",
       "    }\n",
       "\n",
       "    .dataframe thead th {\n",
       "        text-align: left;\n",
       "    }\n",
       "\n",
       "    .dataframe tbody tr th {\n",
       "        vertical-align: top;\n",
       "    }\n",
       "</style>\n",
       "<table border=\"1\" class=\"dataframe\">\n",
       "  <thead>\n",
       "    <tr style=\"text-align: right;\">\n",
       "      <th></th>\n",
       "      <th></th>\n",
       "      <th>% correct</th>\n",
       "      <th>group</th>\n",
       "      <th>dummy</th>\n",
       "    </tr>\n",
       "    <tr>\n",
       "      <th>group</th>\n",
       "      <th>id</th>\n",
       "      <th></th>\n",
       "      <th></th>\n",
       "      <th></th>\n",
       "    </tr>\n",
       "  </thead>\n",
       "  <tbody>\n",
       "    <tr>\n",
       "      <th rowspan=\"4\" valign=\"top\">A</th>\n",
       "      <th>A_6</th>\n",
       "      <td>83.333333</td>\n",
       "      <td>controls</td>\n",
       "      <td>0</td>\n",
       "    </tr>\n",
       "    <tr>\n",
       "      <th>A_7</th>\n",
       "      <td>80.952381</td>\n",
       "      <td>controls</td>\n",
       "      <td>0</td>\n",
       "    </tr>\n",
       "    <tr>\n",
       "      <th>A_8</th>\n",
       "      <td>85.714286</td>\n",
       "      <td>controls</td>\n",
       "      <td>0</td>\n",
       "    </tr>\n",
       "    <tr>\n",
       "      <th>A_9</th>\n",
       "      <td>79.761905</td>\n",
       "      <td>controls</td>\n",
       "      <td>0</td>\n",
       "    </tr>\n",
       "    <tr>\n",
       "      <th>JB</th>\n",
       "      <th>JB_001</th>\n",
       "      <td>88.095238</td>\n",
       "      <td>JB</td>\n",
       "      <td>0</td>\n",
       "    </tr>\n",
       "  </tbody>\n",
       "</table>\n",
       "</div>"
      ],
      "text/plain": [
       "              % correct     group  dummy\n",
       "group id                                \n",
       "A     A_6     83.333333  controls      0\n",
       "      A_7     80.952381  controls      0\n",
       "      A_8     85.714286  controls      0\n",
       "      A_9     79.761905  controls      0\n",
       "JB    JB_001  88.095238        JB      0"
      ]
     },
     "execution_count": 51,
     "metadata": {},
     "output_type": "execute_result"
    }
   ],
   "source": [
    "globalCorrectDf.tail()"
   ]
  },
  {
   "cell_type": "markdown",
   "metadata": {},
   "source": [
    "### Plot"
   ]
  },
  {
   "cell_type": "code",
   "execution_count": 52,
   "metadata": {
    "collapsed": true
   },
   "outputs": [],
   "source": [
    "sns.set_context('poster')\n",
    "sns.set_style('white')"
   ]
  },
  {
   "cell_type": "code",
   "execution_count": 53,
   "metadata": {},
   "outputs": [
    {
     "data": {
      "image/png": "[encoded data removed]",
      "text/plain": [
       "<matplotlib.figure.Figure at 0x7f0ae81a2510>"
      ]
     },
     "metadata": {},
     "output_type": "display_data"
    }
   ],
   "source": [
    "sns.set_palette(sns.color_palette('Set1',2)[::-1])\n",
    "myPalette = sns.color_palette('Set1',2)[::-1]\n",
    "sns.palplot(myPalette)"
   ]
  },
  {
   "cell_type": "code",
   "execution_count": 54,
   "metadata": {
    "collapsed": true
   },
   "outputs": [],
   "source": [
    "swarmFig,ax = plt.subplots(1,1,figsize=(6,4))\n",
    "sns.swarmplot(data=globalCorrectDf,x='dummy',y='% correct',hue='group',\n",
    "              size=18,orient='v',edgecolor='white',linewidth=1,alpha=0.8,ax=ax)\n",
    "plt.xlabel('')\n",
    "plt.legend(loc='lower right')\n",
    "plt.xticks([])\n",
    "plt.ylim(50,100)\n",
    "plt.title('Recogition of basic emotions')\n",
    "sns.despine()\n",
    "plt.close()"
   ]
  },
  {
   "cell_type": "code",
   "execution_count": 55,
   "metadata": {},
   "outputs": [
    {
     "data": {
      "image/png": "[encoded data removed]",
      "text/plain": [
       "<matplotlib.figure.Figure at 0x7f0ae8032a50>"
      ]
     },
     "execution_count": 55,
     "metadata": {},
     "output_type": "execute_result"
    }
   ],
   "source": [
    "swarmFig"
   ]
  },
  {
   "cell_type": "code",
   "execution_count": 56,
   "metadata": {
    "collapsed": true
   },
   "outputs": [],
   "source": [
    "swarmFig.savefig('../reports/figures/emofaces_main_figure.png',bbox_inches='tight',dpi=300)"
   ]
  },
  {
   "cell_type": "code",
   "execution_count": 57,
   "metadata": {},
   "outputs": [
    {
     "data": {
      "image/png": "[encoded data removed]",
      "text/plain": [
       "<PIL.PngImagePlugin.PngImageFile image mode=RGBA size=1697x1088 at 0x7F0AE7F9E290>"
      ]
     },
     "execution_count": 57,
     "metadata": {},
     "output_type": "execute_result"
    }
   ],
   "source": [
    "Image.open('../reports/figures/emofaces_main_figure.png')"
   ]
  }
 ],
 "metadata": {
  "kernelspec": {
   "display_name": "Python 2",
   "language": "python",
   "name": "python2"
  },
  "language_info": {
   "codemirror_mode": {
    "name": "ipython",
    "version": 2
   },
   "file_extension": ".py",
   "mimetype": "text/x-python",
   "name": "python",
   "nbconvert_exporter": "python",
   "pygments_lexer": "ipython2",
   "version": "2.7.9"
  },
  "varInspector": {
   "cols": {
    "lenName": 16,
    "lenType": 16,
    "lenVar": 40
   },
   "kernels_config": {
    "python": {
     "delete_cmd_postfix": "",
     "delete_cmd_prefix": "del ",
     "library": "var_list.py",
     "varRefreshCmd": "print(var_dic_list())"
    },
    "r": {
     "delete_cmd_postfix": ") ",
     "delete_cmd_prefix": "rm(",
     "library": "var_list.r",
     "varRefreshCmd": "cat(var_dic_list()) "
    }
   },
   "types_to_exclude": [
    "module",
    "function",
    "builtin_function_or_method",
    "instance",
    "_Feature"
   ],
   "window_display": false
  }
 },
 "nbformat": 4,
 "nbformat_minor": 1
}
