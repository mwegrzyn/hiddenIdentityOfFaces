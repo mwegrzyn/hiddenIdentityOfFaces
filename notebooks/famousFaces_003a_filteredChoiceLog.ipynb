{
 "cells": [
  {
   "cell_type": "markdown",
   "metadata": {},
   "source": [
    "# Celebrity Multiple Choice - Filtered Version  "
   ]
  },
  {
   "cell_type": "markdown",
   "metadata": {},
   "source": [
    "psychoPy stores data in log and in csv format. For most participants, this notebook (using .log) gets all data, but for two participants (JB and #3) this does not work and only the csv version is complete. So we first run this, and then later we run another script for data extraction and merge the two."
   ]
  },
  {
   "cell_type": "markdown",
   "metadata": {},
   "source": [
    "### import modules"
   ]
  },
  {
   "cell_type": "code",
   "execution_count": 1,
   "metadata": {
    "collapsed": true
   },
   "outputs": [],
   "source": [
    "import os\n",
    "import fnmatch\n",
    "\n",
    "import numpy as np\n",
    "import pandas as pd"
   ]
  },
  {
   "cell_type": "markdown",
   "metadata": {},
   "source": [
    "### get logfiles"
   ]
  },
  {
   "cell_type": "code",
   "execution_count": 2,
   "metadata": {
    "collapsed": true
   },
   "outputs": [],
   "source": [
    "def getLogfile(whichfolder, whichexperiment):\n",
    "\n",
    "    loglist = []\n",
    "    for fileName in os.listdir(whichfolder):\n",
    "        if fnmatch.fnmatch(fileName, whichexperiment):\n",
    "            loglist.append(whichfolder+fileName)\n",
    "    loglist.sort()\n",
    "    return loglist"
   ]
  },
  {
   "cell_type": "code",
   "execution_count": 3,
   "metadata": {},
   "outputs": [],
   "source": [
    "logList = getLogfile('../famousFiltered/experiment/data/','*.log')"
   ]
  },
  {
   "cell_type": "code",
   "execution_count": 4,
   "metadata": {
    "scrolled": false
   },
   "outputs": [
    {
     "data": {
      "text/plain": [
       "['../famousFiltered/experiment/data/10_famFaceFilter_2017_Feb_06_1253.log',\n",
       " '../famousFiltered/experiment/data/11_famFaceFilter_2017_Feb_07_1055.log',\n",
       " '../famousFiltered/experiment/data/12_famFaceFilter_2017_Feb_07_1327.log',\n",
       " '../famousFiltered/experiment/data/13_famFaceFilter_2017_Feb_08_1104.log',\n",
       " '../famousFiltered/experiment/data/14_famFaceFilter_2017_Feb_08_1322.log',\n",
       " '../famousFiltered/experiment/data/15_famFaceFilter_2017_Feb_08_1512.log',\n",
       " '../famousFiltered/experiment/data/16_famFaceFilter_2017_Feb_09_1301.log',\n",
       " '../famousFiltered/experiment/data/17_famFaceFilter_2017_Feb_09_1535.log',\n",
       " '../famousFiltered/experiment/data/18_famFaceFilter_2017_Feb_16_1655.log',\n",
       " '../famousFiltered/experiment/data/19_famFaceFilter_2017_Feb_20_1110.log',\n",
       " '../famousFiltered/experiment/data/1_famFaceFilter_2017_Jan_24_1324.log',\n",
       " '../famousFiltered/experiment/data/20_famFaceFilter_2017_Feb_20_1713.log',\n",
       " '../famousFiltered/experiment/data/21_famFaceFilter_2017_Feb_22_1111.log',\n",
       " '../famousFiltered/experiment/data/22_famFaceFilter_2017_Feb_23_1505.log',\n",
       " '../famousFiltered/experiment/data/23_famFaceFilter_2017_Feb_23_1717.log',\n",
       " '../famousFiltered/experiment/data/24_famFaceFilter_2017_Feb_24_1121.log',\n",
       " '../famousFiltered/experiment/data/25_famFaceFilter_2017_Feb_24_1505.log',\n",
       " '../famousFiltered/experiment/data/26_famFaceFilter_2017_Feb_28_1246.log',\n",
       " '../famousFiltered/experiment/data/27_famFaceFilter_2017_Mrz_01_1642.log',\n",
       " '../famousFiltered/experiment/data/2_famFaceFilter_2017_Jan_25_1055.log',\n",
       " '../famousFiltered/experiment/data/3_famFaceFilter_2017_Jan_25_1257.log',\n",
       " '../famousFiltered/experiment/data/4_famFaceFilter_2017_Jan_25_1502.log',\n",
       " '../famousFiltered/experiment/data/5_famFaceFilter_2017_Jan_26_1056.log',\n",
       " '../famousFiltered/experiment/data/6_famFaceFilter_2017_Jan_27_1049.log',\n",
       " '../famousFiltered/experiment/data/7_famFaceFilter_2017_Jan_30_1503.log',\n",
       " '../famousFiltered/experiment/data/8_famFaceFilter_2017_Feb_01_1709.log',\n",
       " '../famousFiltered/experiment/data/9_famFaceFilter_2017_Feb_02_1304.log']"
      ]
     },
     "execution_count": 4,
     "metadata": {},
     "output_type": "execute_result"
    }
   ],
   "source": [
    "logList"
   ]
  },
  {
   "cell_type": "markdown",
   "metadata": {},
   "source": [
    "### get content from logfile"
   ]
  },
  {
   "cell_type": "code",
   "execution_count": 5,
   "metadata": {
    "collapsed": true
   },
   "outputs": [],
   "source": [
    "def getContent(logFile):\n",
    "    with open(logFile,'r') as f:\n",
    "        return f.readlines()"
   ]
  },
  {
   "cell_type": "code",
   "execution_count": 6,
   "metadata": {
    "collapsed": true
   },
   "outputs": [],
   "source": [
    "logFile = logList[-1]"
   ]
  },
  {
   "cell_type": "code",
   "execution_count": 7,
   "metadata": {},
   "outputs": [
    {
     "data": {
      "text/plain": [
       "'../famousFiltered/experiment/data/9_famFaceFilter_2017_Feb_02_1304.log'"
      ]
     },
     "execution_count": 7,
     "metadata": {},
     "output_type": "execute_result"
    }
   ],
   "source": [
    "logFile"
   ]
  },
  {
   "cell_type": "code",
   "execution_count": 8,
   "metadata": {
    "collapsed": true
   },
   "outputs": [],
   "source": [
    "thisTxt = getContent(logFile)"
   ]
  },
  {
   "cell_type": "markdown",
   "metadata": {},
   "source": [
    "### get familiarity ratings"
   ]
  },
  {
   "cell_type": "code",
   "execution_count": 9,
   "metadata": {
    "collapsed": true,
    "scrolled": true
   },
   "outputs": [],
   "source": [
    "def getFamiliar(thisTxt,cond):\n",
    "    d = {}\n",
    "    # find stimulus\n",
    "    for i,entry in enumerate(thisTxt):\n",
    "        if cond in entry and '.png' in entry and 'imageBekannt: image' in entry:\n",
    "            \n",
    "            thisEntry = thisTxt[i].split('\\t')\n",
    "            stim = thisEntry[-1].split('/')[-1][:-6]\n",
    "            \n",
    "            for n in range(i,len(thisTxt)):\n",
    "                thisEntry = thisTxt[n]\n",
    "                if 'Keypress:' in thisEntry:\n",
    "                    try:\n",
    "                        resp = int(int(thisEntry.split(' ')[-1][:-1]) == 1)\n",
    "                        #resp = thisEntry.split(' ')[-1][:-1]\n",
    "                        break\n",
    "                    except:\n",
    "                        for j in range(n,n+10):\n",
    "                            try:\n",
    "                                thisEntry = thisTxt[j]\n",
    "                                resp = int(int(thisEntry.split(' ')[-1][:-1]) == 1)\n",
    "                            except:\n",
    "                                pass\n",
    "            for n in range(i,len(thisTxt)):\n",
    "                thisEntry = thisTxt[n]\n",
    "                if 'rating=' in thisEntry and 'ratingB' in thisEntry:\n",
    "                    resp = int(thisEntry.split('/')[-1].split('.')[-1][:-1] == 'ja')\n",
    "                    break\n",
    "            d[stim] = {'resp': resp}\n",
    "    df = pd.DataFrame(d).T\n",
    "    return df"
   ]
  },
  {
   "cell_type": "code",
   "execution_count": 10,
   "metadata": {
    "collapsed": true,
    "scrolled": true
   },
   "outputs": [],
   "source": [
    "famDf = getFamiliar(thisTxt,'smoo')"
   ]
  },
  {
   "cell_type": "code",
   "execution_count": 11,
   "metadata": {
    "scrolled": true
   },
   "outputs": [
    {
     "data": {
      "text/html": [
       "<div>\n",
       "<style>\n",
       "    .dataframe thead tr:only-child th {\n",
       "        text-align: right;\n",
       "    }\n",
       "\n",
       "    .dataframe thead th {\n",
       "        text-align: left;\n",
       "    }\n",
       "\n",
       "    .dataframe tbody tr th {\n",
       "        vertical-align: top;\n",
       "    }\n",
       "</style>\n",
       "<table border=\"1\" class=\"dataframe\">\n",
       "  <thead>\n",
       "    <tr style=\"text-align: right;\">\n",
       "      <th></th>\n",
       "      <th>resp</th>\n",
       "    </tr>\n",
       "  </thead>\n",
       "  <tbody>\n",
       "    <tr>\n",
       "      <th>smoo15_UrsulavonderLeyen4_1</th>\n",
       "      <td>1</td>\n",
       "    </tr>\n",
       "    <tr>\n",
       "      <th>smoo15_UrsulavonderLeyen5_1</th>\n",
       "      <td>1</td>\n",
       "    </tr>\n",
       "    <tr>\n",
       "      <th>smoo15_WillSmith1_1</th>\n",
       "      <td>1</td>\n",
       "    </tr>\n",
       "    <tr>\n",
       "      <th>smoo15_WillSmith4_1</th>\n",
       "      <td>1</td>\n",
       "    </tr>\n",
       "    <tr>\n",
       "      <th>smoo15_WillSmith5_1</th>\n",
       "      <td>1</td>\n",
       "    </tr>\n",
       "  </tbody>\n",
       "</table>\n",
       "</div>"
      ],
      "text/plain": [
       "                             resp\n",
       "smoo15_UrsulavonderLeyen4_1     1\n",
       "smoo15_UrsulavonderLeyen5_1     1\n",
       "smoo15_WillSmith1_1             1\n",
       "smoo15_WillSmith4_1             1\n",
       "smoo15_WillSmith5_1             1"
      ]
     },
     "execution_count": 11,
     "metadata": {},
     "output_type": "execute_result"
    }
   ],
   "source": [
    "famDf.tail()"
   ]
  },
  {
   "cell_type": "markdown",
   "metadata": {},
   "source": [
    "### evaluate context"
   ]
  },
  {
   "cell_type": "code",
   "execution_count": 12,
   "metadata": {
    "collapsed": true
   },
   "outputs": [],
   "source": [
    "def getContext(thisTxt,cond):\n",
    "    d = {}\n",
    "    # find stimulus\n",
    "    for i,entry in enumerate(thisTxt):\n",
    "        if cond in entry and '.png' in entry and 'imageBekannt: image' in entry:\n",
    "            \n",
    "            thisEntry = thisTxt[i].split('\\t')\n",
    "            stim = thisEntry[-1].split('/')[-1][:-6]\n",
    "            \n",
    "            for n in range(i+15,len(thisTxt)):\n",
    "                thisEntry = thisTxt[n]\n",
    "                if 'Keypress:' in thisEntry:\n",
    "                    try:\n",
    "                        resp = int(thisEntry.split(' ')[-1][:-1])\n",
    "                        break\n",
    "                    except:\n",
    "                        pass\n",
    "                        \n",
    "            for n in range(i,len(thisTxt)):\n",
    "                thisEntry = thisTxt[n]\n",
    "                if 'rating=' in thisEntry and 'ratingK' in thisEntry:\n",
    "                    resp = thisEntry.split('=')[-1][:-1]\n",
    "                    if resp == 'dummy':\n",
    "                        # because there are hidden placeholder buttons next to the act button in the experiment\n",
    "                        # any dummy response will be an act response where the participant aimed the mouse cursor\n",
    "                        # a little bit to the side\n",
    "                        resp = 'act'\n",
    "                    break\n",
    "\n",
    "            d[stim] = {'resp': resp}\n",
    "    df = pd.DataFrame(d).T\n",
    "    return df"
   ]
  },
  {
   "cell_type": "code",
   "execution_count": 13,
   "metadata": {
    "collapsed": true,
    "scrolled": true
   },
   "outputs": [],
   "source": [
    "contextDf = getContext(thisTxt,'smoo')"
   ]
  },
  {
   "cell_type": "code",
   "execution_count": 14,
   "metadata": {
    "scrolled": true
   },
   "outputs": [
    {
     "data": {
      "text/html": [
       "<div>\n",
       "<style>\n",
       "    .dataframe thead tr:only-child th {\n",
       "        text-align: right;\n",
       "    }\n",
       "\n",
       "    .dataframe thead th {\n",
       "        text-align: left;\n",
       "    }\n",
       "\n",
       "    .dataframe tbody tr th {\n",
       "        vertical-align: top;\n",
       "    }\n",
       "</style>\n",
       "<table border=\"1\" class=\"dataframe\">\n",
       "  <thead>\n",
       "    <tr style=\"text-align: right;\">\n",
       "      <th></th>\n",
       "      <th>resp</th>\n",
       "    </tr>\n",
       "  </thead>\n",
       "  <tbody>\n",
       "    <tr>\n",
       "      <th>smoo15_UrsulavonderLeyen4_1</th>\n",
       "      <td>polit</td>\n",
       "    </tr>\n",
       "    <tr>\n",
       "      <th>smoo15_UrsulavonderLeyen5_1</th>\n",
       "      <td>polit</td>\n",
       "    </tr>\n",
       "    <tr>\n",
       "      <th>smoo15_WillSmith1_1</th>\n",
       "      <td>act</td>\n",
       "    </tr>\n",
       "    <tr>\n",
       "      <th>smoo15_WillSmith4_1</th>\n",
       "      <td>act</td>\n",
       "    </tr>\n",
       "    <tr>\n",
       "      <th>smoo15_WillSmith5_1</th>\n",
       "      <td>act</td>\n",
       "    </tr>\n",
       "  </tbody>\n",
       "</table>\n",
       "</div>"
      ],
      "text/plain": [
       "                              resp\n",
       "smoo15_UrsulavonderLeyen4_1  polit\n",
       "smoo15_UrsulavonderLeyen5_1  polit\n",
       "smoo15_WillSmith1_1            act\n",
       "smoo15_WillSmith4_1            act\n",
       "smoo15_WillSmith5_1            act"
      ]
     },
     "execution_count": 14,
     "metadata": {},
     "output_type": "execute_result"
    }
   ],
   "source": [
    "contextDf.tail()"
   ]
  },
  {
   "cell_type": "markdown",
   "metadata": {},
   "source": [
    "### recode context"
   ]
  },
  {
   "cell_type": "markdown",
   "metadata": {},
   "source": [
    "This is necessary in all cases where a participant did not use the mouse but the keyboard. On the keyboard, each answer could be given using a number. So we also need to look for numbers and recode them to strings"
   ]
  },
  {
   "cell_type": "code",
   "execution_count": 15,
   "metadata": {
    "collapsed": true
   },
   "outputs": [],
   "source": [
    "def recodeThis(contextDf):\n",
    "    recodeDict = {1:'act',2:'music',3:'host',4:'polit',5:'sport'}\n",
    "\n",
    "    d = {}\n",
    "    for idx in contextDf.index:\n",
    "        thisAns = contextDf.loc[idx]['resp']\n",
    "        try:\n",
    "            int(thisAns)\n",
    "            recoded = recodeDict[thisAns]\n",
    "            d[idx] = recoded\n",
    "        except:\n",
    "            d[idx] = thisAns\n",
    "    return pd.DataFrame(d,index=['context']).T"
   ]
  },
  {
   "cell_type": "code",
   "execution_count": 16,
   "metadata": {
    "scrolled": false
   },
   "outputs": [
    {
     "data": {
      "text/html": [
       "<div>\n",
       "<style>\n",
       "    .dataframe thead tr:only-child th {\n",
       "        text-align: right;\n",
       "    }\n",
       "\n",
       "    .dataframe thead th {\n",
       "        text-align: left;\n",
       "    }\n",
       "\n",
       "    .dataframe tbody tr th {\n",
       "        vertical-align: top;\n",
       "    }\n",
       "</style>\n",
       "<table border=\"1\" class=\"dataframe\">\n",
       "  <thead>\n",
       "    <tr style=\"text-align: right;\">\n",
       "      <th></th>\n",
       "      <th>context</th>\n",
       "    </tr>\n",
       "  </thead>\n",
       "  <tbody>\n",
       "    <tr>\n",
       "      <th>smoo15_RobertSeanLeonard(Wilson)8_1</th>\n",
       "      <td>act</td>\n",
       "    </tr>\n",
       "    <tr>\n",
       "      <th>smoo15_TomCruise1_1</th>\n",
       "      <td>act</td>\n",
       "    </tr>\n",
       "    <tr>\n",
       "      <th>smoo15_TomCruise4_1</th>\n",
       "      <td>act</td>\n",
       "    </tr>\n",
       "    <tr>\n",
       "      <th>smoo15_TomCruise5_1</th>\n",
       "      <td>act</td>\n",
       "    </tr>\n",
       "    <tr>\n",
       "      <th>smoo15_UrsulavonderLeyen1_1</th>\n",
       "      <td>polit</td>\n",
       "    </tr>\n",
       "    <tr>\n",
       "      <th>smoo15_UrsulavonderLeyen4_1</th>\n",
       "      <td>polit</td>\n",
       "    </tr>\n",
       "    <tr>\n",
       "      <th>smoo15_UrsulavonderLeyen5_1</th>\n",
       "      <td>polit</td>\n",
       "    </tr>\n",
       "    <tr>\n",
       "      <th>smoo15_WillSmith1_1</th>\n",
       "      <td>act</td>\n",
       "    </tr>\n",
       "    <tr>\n",
       "      <th>smoo15_WillSmith4_1</th>\n",
       "      <td>act</td>\n",
       "    </tr>\n",
       "    <tr>\n",
       "      <th>smoo15_WillSmith5_1</th>\n",
       "      <td>act</td>\n",
       "    </tr>\n",
       "  </tbody>\n",
       "</table>\n",
       "</div>"
      ],
      "text/plain": [
       "                                    context\n",
       "smoo15_RobertSeanLeonard(Wilson)8_1     act\n",
       "smoo15_TomCruise1_1                     act\n",
       "smoo15_TomCruise4_1                     act\n",
       "smoo15_TomCruise5_1                     act\n",
       "smoo15_UrsulavonderLeyen1_1           polit\n",
       "smoo15_UrsulavonderLeyen4_1           polit\n",
       "smoo15_UrsulavonderLeyen5_1           polit\n",
       "smoo15_WillSmith1_1                     act\n",
       "smoo15_WillSmith4_1                     act\n",
       "smoo15_WillSmith5_1                     act"
      ]
     },
     "execution_count": 16,
     "metadata": {},
     "output_type": "execute_result"
    }
   ],
   "source": [
    "recodeThis(contextDf).tail(10)"
   ]
  },
  {
   "cell_type": "markdown",
   "metadata": {},
   "source": [
    "### merge familiarity and context"
   ]
  },
  {
   "cell_type": "code",
   "execution_count": 17,
   "metadata": {
    "collapsed": true
   },
   "outputs": [],
   "source": [
    "def makeMergeDf(thisTxt,cond):\n",
    "    famDf = getFamiliar(thisTxt,cond)\n",
    "    contextDf = getContext(thisTxt,cond)\n",
    "    recodeDf = recodeThis(contextDf)\n",
    "\n",
    "    mergeDf = pd.concat([famDf,recodeDf],axis=1)\n",
    "    return mergeDf"
   ]
  },
  {
   "cell_type": "code",
   "execution_count": 18,
   "metadata": {
    "collapsed": true
   },
   "outputs": [],
   "source": [
    "thisDf = makeMergeDf(thisTxt,'smoo')"
   ]
  },
  {
   "cell_type": "code",
   "execution_count": 19,
   "metadata": {},
   "outputs": [
    {
     "data": {
      "text/html": [
       "<div>\n",
       "<style>\n",
       "    .dataframe thead tr:only-child th {\n",
       "        text-align: right;\n",
       "    }\n",
       "\n",
       "    .dataframe thead th {\n",
       "        text-align: left;\n",
       "    }\n",
       "\n",
       "    .dataframe tbody tr th {\n",
       "        vertical-align: top;\n",
       "    }\n",
       "</style>\n",
       "<table border=\"1\" class=\"dataframe\">\n",
       "  <thead>\n",
       "    <tr style=\"text-align: right;\">\n",
       "      <th></th>\n",
       "      <th>resp</th>\n",
       "      <th>context</th>\n",
       "    </tr>\n",
       "  </thead>\n",
       "  <tbody>\n",
       "    <tr>\n",
       "      <th>smoo15_UrsulavonderLeyen4_1</th>\n",
       "      <td>1</td>\n",
       "      <td>polit</td>\n",
       "    </tr>\n",
       "    <tr>\n",
       "      <th>smoo15_UrsulavonderLeyen5_1</th>\n",
       "      <td>1</td>\n",
       "      <td>polit</td>\n",
       "    </tr>\n",
       "    <tr>\n",
       "      <th>smoo15_WillSmith1_1</th>\n",
       "      <td>1</td>\n",
       "      <td>act</td>\n",
       "    </tr>\n",
       "    <tr>\n",
       "      <th>smoo15_WillSmith4_1</th>\n",
       "      <td>1</td>\n",
       "      <td>act</td>\n",
       "    </tr>\n",
       "    <tr>\n",
       "      <th>smoo15_WillSmith5_1</th>\n",
       "      <td>1</td>\n",
       "      <td>act</td>\n",
       "    </tr>\n",
       "  </tbody>\n",
       "</table>\n",
       "</div>"
      ],
      "text/plain": [
       "                             resp context\n",
       "smoo15_UrsulavonderLeyen4_1     1   polit\n",
       "smoo15_UrsulavonderLeyen5_1     1   polit\n",
       "smoo15_WillSmith1_1             1     act\n",
       "smoo15_WillSmith4_1             1     act\n",
       "smoo15_WillSmith5_1             1     act"
      ]
     },
     "execution_count": 19,
     "metadata": {},
     "output_type": "execute_result"
    }
   ],
   "source": [
    "thisDf.tail()"
   ]
  },
  {
   "cell_type": "markdown",
   "metadata": {},
   "source": [
    "### evaluate context responses"
   ]
  },
  {
   "cell_type": "markdown",
   "metadata": {},
   "source": [
    "reference list:"
   ]
  },
  {
   "cell_type": "code",
   "execution_count": 20,
   "metadata": {
    "collapsed": true
   },
   "outputs": [],
   "source": [
    "contextDf = pd.read_csv('../famousCheck/contextList.csv')"
   ]
  },
  {
   "cell_type": "code",
   "execution_count": 21,
   "metadata": {},
   "outputs": [
    {
     "data": {
      "text/html": [
       "<div>\n",
       "<style>\n",
       "    .dataframe thead tr:only-child th {\n",
       "        text-align: right;\n",
       "    }\n",
       "\n",
       "    .dataframe thead th {\n",
       "        text-align: left;\n",
       "    }\n",
       "\n",
       "    .dataframe tbody tr th {\n",
       "        vertical-align: top;\n",
       "    }\n",
       "</style>\n",
       "<table border=\"1\" class=\"dataframe\">\n",
       "  <thead>\n",
       "    <tr style=\"text-align: right;\">\n",
       "      <th></th>\n",
       "      <th>name</th>\n",
       "      <th>context</th>\n",
       "    </tr>\n",
       "  </thead>\n",
       "  <tbody>\n",
       "    <tr>\n",
       "      <th>32</th>\n",
       "      <td>Lisa Edelstein</td>\n",
       "      <td>act</td>\n",
       "    </tr>\n",
       "    <tr>\n",
       "      <th>33</th>\n",
       "      <td>Mila Kunis</td>\n",
       "      <td>act</td>\n",
       "    </tr>\n",
       "    <tr>\n",
       "      <th>34</th>\n",
       "      <td>Omar Epps</td>\n",
       "      <td>act</td>\n",
       "    </tr>\n",
       "    <tr>\n",
       "      <th>35</th>\n",
       "      <td>Sahra Wagenknecht</td>\n",
       "      <td>polit</td>\n",
       "    </tr>\n",
       "    <tr>\n",
       "      <th>36</th>\n",
       "      <td>Shakira</td>\n",
       "      <td>music</td>\n",
       "    </tr>\n",
       "    <tr>\n",
       "      <th>37</th>\n",
       "      <td>Sigmar Gabriel</td>\n",
       "      <td>polit</td>\n",
       "    </tr>\n",
       "    <tr>\n",
       "      <th>38</th>\n",
       "      <td>Taylor Swift</td>\n",
       "      <td>music</td>\n",
       "    </tr>\n",
       "    <tr>\n",
       "      <th>39</th>\n",
       "      <td>Tom Cruise</td>\n",
       "      <td>act</td>\n",
       "    </tr>\n",
       "    <tr>\n",
       "      <th>40</th>\n",
       "      <td>Ursula vonderLeyen</td>\n",
       "      <td>polit</td>\n",
       "    </tr>\n",
       "    <tr>\n",
       "      <th>41</th>\n",
       "      <td>Usher</td>\n",
       "      <td>music</td>\n",
       "    </tr>\n",
       "  </tbody>\n",
       "</table>\n",
       "</div>"
      ],
      "text/plain": [
       "                  name context\n",
       "32      Lisa Edelstein     act\n",
       "33          Mila Kunis     act\n",
       "34           Omar Epps     act\n",
       "35   Sahra Wagenknecht   polit\n",
       "36             Shakira   music\n",
       "37      Sigmar Gabriel   polit\n",
       "38        Taylor Swift   music\n",
       "39          Tom Cruise     act\n",
       "40  Ursula vonderLeyen   polit\n",
       "41               Usher   music"
      ]
     },
     "execution_count": 21,
     "metadata": {},
     "output_type": "execute_result"
    }
   ],
   "source": [
    "contextDf.tail(10)"
   ]
  },
  {
   "cell_type": "code",
   "execution_count": 22,
   "metadata": {
    "collapsed": true,
    "scrolled": true
   },
   "outputs": [],
   "source": [
    "def evalResp(df,contextDf=contextDf):\n",
    "    \n",
    "    respDict = {}\n",
    "\n",
    "    for i in df.index:\n",
    "\n",
    "        resp = df.loc[i]['context']\n",
    "        bekannt = df.loc[i]['resp']\n",
    "\n",
    "        for idx in contextDf.index:\n",
    "            correct = contextDf.loc[idx]['context']\n",
    "            thisName = contextDf.loc[idx]['name']\n",
    "            \n",
    "            for namePart in thisName.split(' '):\n",
    "                if namePart in i:\n",
    "\n",
    "                    respDict[i] = {'correct':correct,\n",
    "                                          'bekannt':bekannt,\n",
    "                                          'context':resp,\n",
    "                                          'eval': int(resp in correct)}\n",
    "                    \n",
    "    respDf = pd.DataFrame( respDict ).T\n",
    "    \n",
    "    return respDf"
   ]
  },
  {
   "cell_type": "code",
   "execution_count": 23,
   "metadata": {
    "collapsed": true
   },
   "outputs": [],
   "source": [
    "evalDf = evalResp(thisDf)"
   ]
  },
  {
   "cell_type": "code",
   "execution_count": 24,
   "metadata": {},
   "outputs": [
    {
     "data": {
      "text/html": [
       "<div>\n",
       "<style>\n",
       "    .dataframe thead tr:only-child th {\n",
       "        text-align: right;\n",
       "    }\n",
       "\n",
       "    .dataframe thead th {\n",
       "        text-align: left;\n",
       "    }\n",
       "\n",
       "    .dataframe tbody tr th {\n",
       "        vertical-align: top;\n",
       "    }\n",
       "</style>\n",
       "<table border=\"1\" class=\"dataframe\">\n",
       "  <thead>\n",
       "    <tr style=\"text-align: right;\">\n",
       "      <th></th>\n",
       "      <th>bekannt</th>\n",
       "      <th>context</th>\n",
       "      <th>correct</th>\n",
       "      <th>eval</th>\n",
       "    </tr>\n",
       "  </thead>\n",
       "  <tbody>\n",
       "    <tr>\n",
       "      <th>smoo15_HughLaurie(DrHouse)2_1</th>\n",
       "      <td>1</td>\n",
       "      <td>act</td>\n",
       "      <td>act</td>\n",
       "      <td>1</td>\n",
       "    </tr>\n",
       "    <tr>\n",
       "      <th>smoo15_HughLaurie(DrHouse)4_1</th>\n",
       "      <td>1</td>\n",
       "      <td>act</td>\n",
       "      <td>act</td>\n",
       "      <td>1</td>\n",
       "    </tr>\n",
       "    <tr>\n",
       "      <th>smoo15_GuentherJauch3_1</th>\n",
       "      <td>1</td>\n",
       "      <td>host</td>\n",
       "      <td>host</td>\n",
       "      <td>1</td>\n",
       "    </tr>\n",
       "    <tr>\n",
       "      <th>smoo15_GuentherJauch2_1</th>\n",
       "      <td>1</td>\n",
       "      <td>host</td>\n",
       "      <td>host</td>\n",
       "      <td>1</td>\n",
       "    </tr>\n",
       "    <tr>\n",
       "      <th>smoo15_MariskaHargitay(Liv)4_4</th>\n",
       "      <td>0</td>\n",
       "      <td>host</td>\n",
       "      <td>act</td>\n",
       "      <td>0</td>\n",
       "    </tr>\n",
       "    <tr>\n",
       "      <th>smoo15_EmilyDeschanel3_1</th>\n",
       "      <td>1</td>\n",
       "      <td>music</td>\n",
       "      <td>act</td>\n",
       "      <td>0</td>\n",
       "    </tr>\n",
       "    <tr>\n",
       "      <th>smoo15_EmilyDeschanel6_12</th>\n",
       "      <td>1</td>\n",
       "      <td>music</td>\n",
       "      <td>act</td>\n",
       "      <td>0</td>\n",
       "    </tr>\n",
       "    <tr>\n",
       "      <th>smoo15_Ice-T(OdafinFinTutuola)5_1</th>\n",
       "      <td>0</td>\n",
       "      <td>host</td>\n",
       "      <td>act music</td>\n",
       "      <td>0</td>\n",
       "    </tr>\n",
       "    <tr>\n",
       "      <th>smoo15_Ice-T(OdafinFinTutuola)6_1</th>\n",
       "      <td>0</td>\n",
       "      <td>host</td>\n",
       "      <td>act music</td>\n",
       "      <td>0</td>\n",
       "    </tr>\n",
       "    <tr>\n",
       "      <th>smoo15_Ice-T(OdafinFinTutuola)7_1</th>\n",
       "      <td>0</td>\n",
       "      <td>host</td>\n",
       "      <td>act music</td>\n",
       "      <td>0</td>\n",
       "    </tr>\n",
       "    <tr>\n",
       "      <th>smoo15_JasonSegel(Marshall)6_1</th>\n",
       "      <td>0</td>\n",
       "      <td>host</td>\n",
       "      <td>act</td>\n",
       "      <td>0</td>\n",
       "    </tr>\n",
       "    <tr>\n",
       "      <th>smoo15_KatjaBurkard1_1</th>\n",
       "      <td>0</td>\n",
       "      <td>act</td>\n",
       "      <td>host</td>\n",
       "      <td>0</td>\n",
       "    </tr>\n",
       "    <tr>\n",
       "      <th>smoo15_JoshRadnor(Ted)6_2</th>\n",
       "      <td>0</td>\n",
       "      <td>music</td>\n",
       "      <td>act</td>\n",
       "      <td>0</td>\n",
       "    </tr>\n",
       "    <tr>\n",
       "      <th>smoo15_NicoleKidman5_1</th>\n",
       "      <td>1</td>\n",
       "      <td>music</td>\n",
       "      <td>act</td>\n",
       "      <td>0</td>\n",
       "    </tr>\n",
       "    <tr>\n",
       "      <th>smoo15_GeorgeClooney11_1</th>\n",
       "      <td>0</td>\n",
       "      <td>music</td>\n",
       "      <td>act</td>\n",
       "      <td>0</td>\n",
       "    </tr>\n",
       "  </tbody>\n",
       "</table>\n",
       "</div>"
      ],
      "text/plain": [
       "                                  bekannt context    correct eval\n",
       "smoo15_HughLaurie(DrHouse)2_1           1     act        act    1\n",
       "smoo15_HughLaurie(DrHouse)4_1           1     act        act    1\n",
       "smoo15_GuentherJauch3_1                 1    host       host    1\n",
       "smoo15_GuentherJauch2_1                 1    host       host    1\n",
       "smoo15_MariskaHargitay(Liv)4_4          0    host        act    0\n",
       "smoo15_EmilyDeschanel3_1                1   music        act    0\n",
       "smoo15_EmilyDeschanel6_12               1   music        act    0\n",
       "smoo15_Ice-T(OdafinFinTutuola)5_1       0    host  act music    0\n",
       "smoo15_Ice-T(OdafinFinTutuola)6_1       0    host  act music    0\n",
       "smoo15_Ice-T(OdafinFinTutuola)7_1       0    host  act music    0\n",
       "smoo15_JasonSegel(Marshall)6_1          0    host        act    0\n",
       "smoo15_KatjaBurkard1_1                  0     act       host    0\n",
       "smoo15_JoshRadnor(Ted)6_2               0   music        act    0\n",
       "smoo15_NicoleKidman5_1                  1   music        act    0\n",
       "smoo15_GeorgeClooney11_1                0   music        act    0"
      ]
     },
     "execution_count": 24,
     "metadata": {},
     "output_type": "execute_result"
    }
   ],
   "source": [
    "evalDf.sort_values(by='eval',ascending=False).tail(15)"
   ]
  },
  {
   "cell_type": "markdown",
   "metadata": {},
   "source": [
    "### get rid of unknown faces"
   ]
  },
  {
   "cell_type": "code",
   "execution_count": 26,
   "metadata": {},
   "outputs": [],
   "source": [
    "checkDf = pd.read_csv('../famousCheck/output/famousFamiliarity_%s.csv' % 9)"
   ]
  },
  {
   "cell_type": "code",
   "execution_count": 27,
   "metadata": {
    "scrolled": false
   },
   "outputs": [
    {
     "data": {
      "text/html": [
       "<div>\n",
       "<style>\n",
       "    .dataframe thead tr:only-child th {\n",
       "        text-align: right;\n",
       "    }\n",
       "\n",
       "    .dataframe thead th {\n",
       "        text-align: left;\n",
       "    }\n",
       "\n",
       "    .dataframe tbody tr th {\n",
       "        vertical-align: top;\n",
       "    }\n",
       "</style>\n",
       "<table border=\"1\" class=\"dataframe\">\n",
       "  <thead>\n",
       "    <tr style=\"text-align: right;\">\n",
       "      <th></th>\n",
       "      <th>img</th>\n",
       "      <th>name</th>\n",
       "      <th>bekannt</th>\n",
       "    </tr>\n",
       "  </thead>\n",
       "  <tbody>\n",
       "    <tr>\n",
       "      <th>37</th>\n",
       "      <td>./img/SigmarGabriel1.jpg</td>\n",
       "      <td>Sigmar Gabriel</td>\n",
       "      <td>ja</td>\n",
       "    </tr>\n",
       "    <tr>\n",
       "      <th>38</th>\n",
       "      <td>./img/BritneySpears5.jpg</td>\n",
       "      <td>Britney Spears</td>\n",
       "      <td>ja</td>\n",
       "    </tr>\n",
       "    <tr>\n",
       "      <th>39</th>\n",
       "      <td>./img/EmilyDeschanel3.jpg</td>\n",
       "      <td>Emily Deschanel</td>\n",
       "      <td>ja</td>\n",
       "    </tr>\n",
       "    <tr>\n",
       "      <th>40</th>\n",
       "      <td>./img/AlysonHannigan(Lily)1.jpg</td>\n",
       "      <td>Alyson Hannigan</td>\n",
       "      <td>ja</td>\n",
       "    </tr>\n",
       "    <tr>\n",
       "      <th>41</th>\n",
       "      <td>./img/BarackObama2.jpg</td>\n",
       "      <td>Barack Obama</td>\n",
       "      <td>ja</td>\n",
       "    </tr>\n",
       "  </tbody>\n",
       "</table>\n",
       "</div>"
      ],
      "text/plain": [
       "                                img             name bekannt\n",
       "37         ./img/SigmarGabriel1.jpg   Sigmar Gabriel      ja\n",
       "38         ./img/BritneySpears5.jpg   Britney Spears      ja\n",
       "39        ./img/EmilyDeschanel3.jpg  Emily Deschanel      ja\n",
       "40  ./img/AlysonHannigan(Lily)1.jpg  Alyson Hannigan      ja\n",
       "41           ./img/BarackObama2.jpg     Barack Obama      ja"
      ]
     },
     "execution_count": 27,
     "metadata": {},
     "output_type": "execute_result"
    }
   ],
   "source": [
    "checkDf.tail()"
   ]
  },
  {
   "cell_type": "code",
   "execution_count": 28,
   "metadata": {
    "collapsed": true
   },
   "outputs": [],
   "source": [
    "def cleanUp(evalDf,checkDf=checkDf):\n",
    "    copyDf = evalDf.copy()\n",
    "    for idx in evalDf.index:\n",
    "        #print idx\n",
    "        for j in checkDf.index:\n",
    "            status = (checkDf.loc[j]['bekannt'] == 'nein')\n",
    "            name = checkDf.loc[j]['name'].split(' ')\n",
    "            if status:\n",
    "                for sub in name:\n",
    "                    if sub in idx and len(sub)>3:# the >3 is a hack to prevent 'von' and 'der' in von der Leyen to be used for matching\n",
    "                        # this is a hack to prevent Robert Sean Leonard matching Leonard[o] DiCaprio\n",
    "                        if sub == 'Leonard' and 'DiCaprio' in idx:\n",
    "                            pass\n",
    "                        else:\n",
    "                            #print sub,idx\n",
    "                            copyDf.drop(idx,inplace=True)\n",
    "                            break\n",
    "    return copyDf"
   ]
  },
  {
   "cell_type": "code",
   "execution_count": 29,
   "metadata": {
    "collapsed": true,
    "scrolled": true
   },
   "outputs": [],
   "source": [
    "cleanDf = cleanUp(evalDf)"
   ]
  },
  {
   "cell_type": "code",
   "execution_count": 30,
   "metadata": {
    "scrolled": true
   },
   "outputs": [
    {
     "data": {
      "text/html": [
       "<div>\n",
       "<style>\n",
       "    .dataframe thead tr:only-child th {\n",
       "        text-align: right;\n",
       "    }\n",
       "\n",
       "    .dataframe thead th {\n",
       "        text-align: left;\n",
       "    }\n",
       "\n",
       "    .dataframe tbody tr th {\n",
       "        vertical-align: top;\n",
       "    }\n",
       "</style>\n",
       "<table border=\"1\" class=\"dataframe\">\n",
       "  <thead>\n",
       "    <tr style=\"text-align: right;\">\n",
       "      <th></th>\n",
       "      <th>bekannt</th>\n",
       "      <th>context</th>\n",
       "      <th>correct</th>\n",
       "      <th>eval</th>\n",
       "    </tr>\n",
       "  </thead>\n",
       "  <tbody>\n",
       "    <tr>\n",
       "      <th>smoo15_UrsulavonderLeyen4_1</th>\n",
       "      <td>1</td>\n",
       "      <td>polit</td>\n",
       "      <td>polit</td>\n",
       "      <td>1</td>\n",
       "    </tr>\n",
       "    <tr>\n",
       "      <th>smoo15_UrsulavonderLeyen5_1</th>\n",
       "      <td>1</td>\n",
       "      <td>polit</td>\n",
       "      <td>polit</td>\n",
       "      <td>1</td>\n",
       "    </tr>\n",
       "    <tr>\n",
       "      <th>smoo15_WillSmith1_1</th>\n",
       "      <td>1</td>\n",
       "      <td>act</td>\n",
       "      <td>act music</td>\n",
       "      <td>1</td>\n",
       "    </tr>\n",
       "    <tr>\n",
       "      <th>smoo15_WillSmith4_1</th>\n",
       "      <td>1</td>\n",
       "      <td>act</td>\n",
       "      <td>act music</td>\n",
       "      <td>1</td>\n",
       "    </tr>\n",
       "    <tr>\n",
       "      <th>smoo15_WillSmith5_1</th>\n",
       "      <td>1</td>\n",
       "      <td>act</td>\n",
       "      <td>act music</td>\n",
       "      <td>1</td>\n",
       "    </tr>\n",
       "  </tbody>\n",
       "</table>\n",
       "</div>"
      ],
      "text/plain": [
       "                            bekannt context    correct eval\n",
       "smoo15_UrsulavonderLeyen4_1       1   polit      polit    1\n",
       "smoo15_UrsulavonderLeyen5_1       1   polit      polit    1\n",
       "smoo15_WillSmith1_1               1     act  act music    1\n",
       "smoo15_WillSmith4_1               1     act  act music    1\n",
       "smoo15_WillSmith5_1               1     act  act music    1"
      ]
     },
     "execution_count": 30,
     "metadata": {},
     "output_type": "execute_result"
    }
   ],
   "source": [
    "cleanDf.tail()"
   ]
  },
  {
   "cell_type": "markdown",
   "metadata": {},
   "source": [
    "### get percent correct for one participant"
   ]
  },
  {
   "cell_type": "code",
   "execution_count": 31,
   "metadata": {
    "collapsed": true
   },
   "outputs": [],
   "source": [
    "def makePercent(evalDf,pName):\n",
    "    d = {}\n",
    "    percentBekannt= evalDf['bekannt'].mean()*100\n",
    "    percentKontext = evalDf['eval'].mean()*100\n",
    "    d[pName] = {'familiarity':percentBekannt,\n",
    "                'context':percentKontext}\n",
    "    df = pd.DataFrame(d).T\n",
    "    df.index = [pName]\n",
    "    return df"
   ]
  },
  {
   "cell_type": "code",
   "execution_count": 33,
   "metadata": {},
   "outputs": [
    {
     "data": {
      "text/html": [
       "<div>\n",
       "<style>\n",
       "    .dataframe thead tr:only-child th {\n",
       "        text-align: right;\n",
       "    }\n",
       "\n",
       "    .dataframe thead th {\n",
       "        text-align: left;\n",
       "    }\n",
       "\n",
       "    .dataframe tbody tr th {\n",
       "        vertical-align: top;\n",
       "    }\n",
       "</style>\n",
       "<table border=\"1\" class=\"dataframe\">\n",
       "  <thead>\n",
       "    <tr style=\"text-align: right;\">\n",
       "      <th></th>\n",
       "      <th>context</th>\n",
       "      <th>familiarity</th>\n",
       "    </tr>\n",
       "  </thead>\n",
       "  <tbody>\n",
       "    <tr>\n",
       "      <th>pName</th>\n",
       "      <td>89.393939</td>\n",
       "      <td>86.363636</td>\n",
       "    </tr>\n",
       "  </tbody>\n",
       "</table>\n",
       "</div>"
      ],
      "text/plain": [
       "         context  familiarity\n",
       "pName  89.393939    86.363636"
      ]
     },
     "execution_count": 33,
     "metadata": {},
     "output_type": "execute_result"
    }
   ],
   "source": [
    "makePercent(cleanDf,'pName')"
   ]
  },
  {
   "cell_type": "markdown",
   "metadata": {},
   "source": [
    "### make one filter"
   ]
  },
  {
   "cell_type": "code",
   "execution_count": 34,
   "metadata": {
    "collapsed": true
   },
   "outputs": [],
   "source": [
    "def makeCond(logFile,cond,contextDf=contextDf):\n",
    "    pName = logFile.split('/')[-1].split('_')[0]\n",
    "    \n",
    "    thisTxt = getContent(logFile)\n",
    "    thisDf = makeMergeDf(thisTxt,cond)\n",
    "    evalDf = evalResp(thisDf,contextDf=contextDf)\n",
    "    \n",
    "    checkDf = pd.read_csv('../famousCheck/output/famousFamiliarity_%s.csv' % pName)\n",
    "    cleanDf = cleanUp(evalDf,checkDf=checkDf)\n",
    "    percentDf = makePercent(cleanDf,cond)\n",
    "    return percentDf\n"
   ]
  },
  {
   "cell_type": "code",
   "execution_count": 35,
   "metadata": {
    "collapsed": true
   },
   "outputs": [],
   "source": [
    "thisDf = makeCond(logList[-1],'smoo',contextDf=contextDf)"
   ]
  },
  {
   "cell_type": "code",
   "execution_count": 36,
   "metadata": {},
   "outputs": [
    {
     "data": {
      "text/html": [
       "<div>\n",
       "<style>\n",
       "    .dataframe thead tr:only-child th {\n",
       "        text-align: right;\n",
       "    }\n",
       "\n",
       "    .dataframe thead th {\n",
       "        text-align: left;\n",
       "    }\n",
       "\n",
       "    .dataframe tbody tr th {\n",
       "        vertical-align: top;\n",
       "    }\n",
       "</style>\n",
       "<table border=\"1\" class=\"dataframe\">\n",
       "  <thead>\n",
       "    <tr style=\"text-align: right;\">\n",
       "      <th></th>\n",
       "      <th>context</th>\n",
       "      <th>familiarity</th>\n",
       "    </tr>\n",
       "  </thead>\n",
       "  <tbody>\n",
       "    <tr>\n",
       "      <th>smoo</th>\n",
       "      <td>89.393939</td>\n",
       "      <td>86.363636</td>\n",
       "    </tr>\n",
       "  </tbody>\n",
       "</table>\n",
       "</div>"
      ],
      "text/plain": [
       "        context  familiarity\n",
       "smoo  89.393939    86.363636"
      ]
     },
     "execution_count": 36,
     "metadata": {},
     "output_type": "execute_result"
    }
   ],
   "source": [
    "thisDf"
   ]
  },
  {
   "cell_type": "markdown",
   "metadata": {},
   "source": [
    "### make participant"
   ]
  },
  {
   "cell_type": "code",
   "execution_count": 37,
   "metadata": {
    "collapsed": true
   },
   "outputs": [],
   "source": [
    "def makeParticipant(logFile,contextDf=contextDf):\n",
    "    pName = logFile.split('/')[-1].split('_')[0]\n",
    "    \n",
    "    pDf = pd.DataFrame()\n",
    "    for cond in ['smoo','edges','gray']:\n",
    "        thisCond = makeCond(logFile,cond,contextDf=contextDf)\n",
    "        pDf = pd.concat([pDf,thisCond])\n",
    "    \n",
    "    pDf = pd.DataFrame(pDf.stack() ).T\n",
    "    pDf.index = [pName]\n",
    "    return pDf"
   ]
  },
  {
   "cell_type": "code",
   "execution_count": 38,
   "metadata": {},
   "outputs": [
    {
     "data": {
      "text/html": [
       "<div>\n",
       "<style>\n",
       "    .dataframe thead tr:only-child th {\n",
       "        text-align: right;\n",
       "    }\n",
       "\n",
       "    .dataframe thead th {\n",
       "        text-align: left;\n",
       "    }\n",
       "\n",
       "    .dataframe tbody tr th {\n",
       "        vertical-align: top;\n",
       "    }\n",
       "</style>\n",
       "<table border=\"1\" class=\"dataframe\">\n",
       "  <thead>\n",
       "    <tr>\n",
       "      <th></th>\n",
       "      <th colspan=\"2\" halign=\"left\">smoo</th>\n",
       "      <th colspan=\"2\" halign=\"left\">edges</th>\n",
       "      <th colspan=\"2\" halign=\"left\">gray</th>\n",
       "    </tr>\n",
       "    <tr>\n",
       "      <th></th>\n",
       "      <th>context</th>\n",
       "      <th>familiarity</th>\n",
       "      <th>context</th>\n",
       "      <th>familiarity</th>\n",
       "      <th>context</th>\n",
       "      <th>familiarity</th>\n",
       "    </tr>\n",
       "  </thead>\n",
       "  <tbody>\n",
       "    <tr>\n",
       "      <th>9</th>\n",
       "      <td>89.393939</td>\n",
       "      <td>86.363636</td>\n",
       "      <td>100.0</td>\n",
       "      <td>98.484848</td>\n",
       "      <td>96.969697</td>\n",
       "      <td>98.484848</td>\n",
       "    </tr>\n",
       "  </tbody>\n",
       "</table>\n",
       "</div>"
      ],
      "text/plain": [
       "        smoo               edges                   gray            \n",
       "     context familiarity context familiarity    context familiarity\n",
       "9  89.393939   86.363636   100.0   98.484848  96.969697   98.484848"
      ]
     },
     "execution_count": 38,
     "metadata": {},
     "output_type": "execute_result"
    }
   ],
   "source": [
    "makeParticipant(logList[-1])"
   ]
  },
  {
   "cell_type": "markdown",
   "metadata": {},
   "source": [
    "### do this for all participants"
   ]
  },
  {
   "cell_type": "code",
   "execution_count": 39,
   "metadata": {
    "collapsed": true
   },
   "outputs": [],
   "source": [
    "def makeBigDf(logList,contextDf=contextDf):\n",
    "    bigDf = pd.DataFrame()\n",
    "    for logFile in logList:\n",
    "        try:\n",
    "            thisDf = makeParticipant(logFile,contextDf=contextDf)\n",
    "            bigDf = pd.concat([bigDf,thisDf])\n",
    "        except:\n",
    "            print '!!!!',logFile\n",
    "    return bigDf"
   ]
  },
  {
   "cell_type": "code",
   "execution_count": 40,
   "metadata": {
    "scrolled": true
   },
   "outputs": [
    {
     "name": "stdout",
     "output_type": "stream",
     "text": [
      "!!!! ../famousFiltered/experiment/data/3_famFaceFilter_2017_Jan_25_1257.log\n"
     ]
    }
   ],
   "source": [
    "bigDf = makeBigDf(logList)"
   ]
  },
  {
   "cell_type": "code",
   "execution_count": 41,
   "metadata": {
    "collapsed": true
   },
   "outputs": [],
   "source": [
    "bigDf.to_csv('../famousFiltered/output/filteredChoiceLog.csv')"
   ]
  }
 ],
 "metadata": {
  "kernelspec": {
   "display_name": "Python 2",
   "language": "python",
   "name": "python2"
  },
  "language_info": {
   "codemirror_mode": {
    "name": "ipython",
    "version": 2
   },
   "file_extension": ".py",
   "mimetype": "text/x-python",
   "name": "python",
   "nbconvert_exporter": "python",
   "pygments_lexer": "ipython2",
   "version": "2.7.9"
  }
 },
 "nbformat": 4,
 "nbformat_minor": 1
}
