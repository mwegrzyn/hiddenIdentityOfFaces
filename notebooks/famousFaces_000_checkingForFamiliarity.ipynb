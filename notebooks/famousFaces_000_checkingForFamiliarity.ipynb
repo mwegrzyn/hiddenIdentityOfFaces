{
 "cells": [
  {
   "cell_type": "markdown",
   "metadata": {},
   "source": [
    "# Checking which celebrities are known  \n",
    "\n",
    "And using this information for analysis of other experiments"
   ]
  },
  {
   "cell_type": "markdown",
   "metadata": {},
   "source": [
    "### import modules"
   ]
  },
  {
   "cell_type": "code",
   "execution_count": 1,
   "metadata": {
    "collapsed": true
   },
   "outputs": [],
   "source": [
    "import os\n",
    "import fnmatch\n",
    "import qgrid\n",
    "\n",
    "import pandas as pd"
   ]
  },
  {
   "cell_type": "markdown",
   "metadata": {},
   "source": [
    "### get logfiles"
   ]
  },
  {
   "cell_type": "code",
   "execution_count": 2,
   "metadata": {
    "collapsed": true
   },
   "outputs": [],
   "source": [
    "def getLogfile(whichfolder, whichexperiment):\n",
    "\n",
    "    loglist = []\n",
    "    for fileName in os.listdir(whichfolder):\n",
    "        if fnmatch.fnmatch(fileName, whichexperiment):\n",
    "            loglist.append(whichfolder+fileName)\n",
    "    loglist.sort()\n",
    "    return loglist"
   ]
  },
  {
   "cell_type": "code",
   "execution_count": 3,
   "metadata": {
    "collapsed": true
   },
   "outputs": [],
   "source": [
    "logList = getLogfile('../famousCheck/experiment/data/','*.csv')"
   ]
  },
  {
   "cell_type": "code",
   "execution_count": 4,
   "metadata": {},
   "outputs": [
    {
     "data": {
      "text/plain": [
       "['../famousCheck/experiment/data/6_textInputTest_2017_Jan_27_1111.csv',\n",
       " '../famousCheck/experiment/data/7_textInputTest_2017_Jan_30_1524.csv',\n",
       " '../famousCheck/experiment/data/8_textInputTest_2017_Feb_01_1735.csv',\n",
       " '../famousCheck/experiment/data/9_textInputTest_2017_Feb_02_1329.csv',\n",
       " '../famousCheck/experiment/data/jb_textInputTest_2016_Nov_23_1453.csv']"
      ]
     },
     "execution_count": 4,
     "metadata": {},
     "output_type": "execute_result"
    }
   ],
   "source": [
    "logList[-5:]"
   ]
  },
  {
   "cell_type": "markdown",
   "metadata": {},
   "source": [
    "### load a logfile"
   ]
  },
  {
   "cell_type": "code",
   "execution_count": 5,
   "metadata": {},
   "outputs": [
    {
     "data": {
      "text/plain": [
       "'../famousCheck/experiment/data/14_textInputTest_2017_Feb_08_1348.csv'"
      ]
     },
     "execution_count": 5,
     "metadata": {},
     "output_type": "execute_result"
    }
   ],
   "source": [
    "logList[4]"
   ]
  },
  {
   "cell_type": "code",
   "execution_count": 6,
   "metadata": {
    "collapsed": true
   },
   "outputs": [],
   "source": [
    "df = pd.read_csv(logList[4],index_col=[0],header=0)"
   ]
  },
  {
   "cell_type": "markdown",
   "metadata": {},
   "source": [
    "### extract relevant columns"
   ]
  },
  {
   "cell_type": "code",
   "execution_count": 7,
   "metadata": {
    "collapsed": true
   },
   "outputs": [],
   "source": [
    "def getCols(df):\n",
    "    thisDf = pd.concat([df['name'], df['ratingBekannt.response'] ],axis=1)\n",
    "    thisDf.index = df.index\n",
    "    thisDf.columns = ['name','bekannt']\n",
    "    thisDf = thisDf.dropna()\n",
    "    return thisDf"
   ]
  },
  {
   "cell_type": "code",
   "execution_count": 8,
   "metadata": {
    "collapsed": true
   },
   "outputs": [],
   "source": [
    "thisDf = getCols(df)"
   ]
  },
  {
   "cell_type": "code",
   "execution_count": 9,
   "metadata": {},
   "outputs": [
    {
     "data": {
      "text/html": [
       "<div>\n",
       "<style>\n",
       "    .dataframe thead tr:only-child th {\n",
       "        text-align: right;\n",
       "    }\n",
       "\n",
       "    .dataframe thead th {\n",
       "        text-align: left;\n",
       "    }\n",
       "\n",
       "    .dataframe tbody tr th {\n",
       "        vertical-align: top;\n",
       "    }\n",
       "</style>\n",
       "<table border=\"1\" class=\"dataframe\">\n",
       "  <thead>\n",
       "    <tr style=\"text-align: right;\">\n",
       "      <th></th>\n",
       "      <th>name</th>\n",
       "      <th>bekannt</th>\n",
       "    </tr>\n",
       "    <tr>\n",
       "      <th>img</th>\n",
       "      <th></th>\n",
       "      <th></th>\n",
       "    </tr>\n",
       "  </thead>\n",
       "  <tbody>\n",
       "    <tr>\n",
       "      <th>./img/BarackObama2.jpg</th>\n",
       "      <td>Barack Obama</td>\n",
       "      <td>ja</td>\n",
       "    </tr>\n",
       "    <tr>\n",
       "      <th>./img/JudithRakers7.jpg</th>\n",
       "      <td>Judith Rakers</td>\n",
       "      <td>nein</td>\n",
       "    </tr>\n",
       "    <tr>\n",
       "      <th>./img/OmarEpps(DrEricForeman)1.jpg</th>\n",
       "      <td>Omar Epps</td>\n",
       "      <td>ja</td>\n",
       "    </tr>\n",
       "    <tr>\n",
       "      <th>./img/JimParsons(SheldonCooper)1.jpg</th>\n",
       "      <td>Jim Parsons</td>\n",
       "      <td>ja</td>\n",
       "    </tr>\n",
       "    <tr>\n",
       "      <th>./img/BritneySpears5.jpg</th>\n",
       "      <td>Britney Spears</td>\n",
       "      <td>ja</td>\n",
       "    </tr>\n",
       "    <tr>\n",
       "      <th>./img/HughLaurie(DrHouse)9.jpg</th>\n",
       "      <td>Hugh Laurie</td>\n",
       "      <td>ja</td>\n",
       "    </tr>\n",
       "    <tr>\n",
       "      <th>./img/EmilyDeschanel3.jpg</th>\n",
       "      <td>Emily Deschanel</td>\n",
       "      <td>nein</td>\n",
       "    </tr>\n",
       "    <tr>\n",
       "      <th>./img/CarenMiosga4.jpg</th>\n",
       "      <td>Caren Miosga</td>\n",
       "      <td>nein</td>\n",
       "    </tr>\n",
       "    <tr>\n",
       "      <th>./img/JoachimLoew1.jpg</th>\n",
       "      <td>Joachim Löw</td>\n",
       "      <td>nein</td>\n",
       "    </tr>\n",
       "    <tr>\n",
       "      <th>./img/AlysonHannigan(Lily)1.jpg</th>\n",
       "      <td>Alyson Hannigan</td>\n",
       "      <td>ja</td>\n",
       "    </tr>\n",
       "    <tr>\n",
       "      <th>./img/KaleyCuoco(Penny)2.jpg</th>\n",
       "      <td>Kaley Cuoco</td>\n",
       "      <td>ja</td>\n",
       "    </tr>\n",
       "    <tr>\n",
       "      <th>./img/SahraWagenknecht6.jpg</th>\n",
       "      <td>Sahra Wagenknecht</td>\n",
       "      <td>nein</td>\n",
       "    </tr>\n",
       "    <tr>\n",
       "      <th>./img/GeorgeClooney6.jpg</th>\n",
       "      <td>George Clooney</td>\n",
       "      <td>ja</td>\n",
       "    </tr>\n",
       "    <tr>\n",
       "      <th>./img/JasonSegel(Marshall)2.jpg</th>\n",
       "      <td>Jason Segel</td>\n",
       "      <td>ja</td>\n",
       "    </tr>\n",
       "    <tr>\n",
       "      <th>./img/JoshRadnor(Ted)1.jpg</th>\n",
       "      <td>Josh Radnor</td>\n",
       "      <td>ja</td>\n",
       "    </tr>\n",
       "    <tr>\n",
       "      <th>./img/Shakira1.jpg</th>\n",
       "      <td>Shakira</td>\n",
       "      <td>ja</td>\n",
       "    </tr>\n",
       "    <tr>\n",
       "      <th>./img/NeilPatrickHarris(Barney)4.jpg</th>\n",
       "      <td>Neil Patrick Harris</td>\n",
       "      <td>ja</td>\n",
       "    </tr>\n",
       "    <tr>\n",
       "      <th>./img/BastianSchweinsteiger1.jpg</th>\n",
       "      <td>Bastian Schweinsteiger</td>\n",
       "      <td>nein</td>\n",
       "    </tr>\n",
       "    <tr>\n",
       "      <th>./img/LisaEdelstein(DrLisaCuddy)2.jpg</th>\n",
       "      <td>Lisa Edelstein</td>\n",
       "      <td>ja</td>\n",
       "    </tr>\n",
       "    <tr>\n",
       "      <th>./img/GuentherJauch2.jpg</th>\n",
       "      <td>Günther Jauch</td>\n",
       "      <td>nein</td>\n",
       "    </tr>\n",
       "    <tr>\n",
       "      <th>./img/RobertSeanLeonard(Wilson)2.jpg</th>\n",
       "      <td>Robert Sean Leonard</td>\n",
       "      <td>ja</td>\n",
       "    </tr>\n",
       "    <tr>\n",
       "      <th>./img/SigmarGabriel1.jpg</th>\n",
       "      <td>Sigmar Gabriel</td>\n",
       "      <td>nein</td>\n",
       "    </tr>\n",
       "    <tr>\n",
       "      <th>./img/Usher1.jpg</th>\n",
       "      <td>Usher</td>\n",
       "      <td>nein</td>\n",
       "    </tr>\n",
       "    <tr>\n",
       "      <th>./img/DannFlorek(DonaldDonCragen)1.jpg</th>\n",
       "      <td>Dann Florek</td>\n",
       "      <td>nein</td>\n",
       "    </tr>\n",
       "    <tr>\n",
       "      <th>./img/NicoleKidman4.jpg</th>\n",
       "      <td>Nicole Kidman</td>\n",
       "      <td>ja</td>\n",
       "    </tr>\n",
       "    <tr>\n",
       "      <th>./img/TaylorSwift1.jpg</th>\n",
       "      <td>Taylor Swift</td>\n",
       "      <td>nein</td>\n",
       "    </tr>\n",
       "    <tr>\n",
       "      <th>./img/Ice-T(OdafinFinTutuola)1.jpg</th>\n",
       "      <td>Ice-T</td>\n",
       "      <td>ja</td>\n",
       "    </tr>\n",
       "    <tr>\n",
       "      <th>./img/ElvisPresley1.jpg</th>\n",
       "      <td>Elvis Presley</td>\n",
       "      <td>ja</td>\n",
       "    </tr>\n",
       "    <tr>\n",
       "      <th>./img/MariskaHargitay(Liv)1.jpg</th>\n",
       "      <td>Mariska Hargitay</td>\n",
       "      <td>nein</td>\n",
       "    </tr>\n",
       "    <tr>\n",
       "      <th>./img/CobieSmulders(Robin)2.jpg</th>\n",
       "      <td>Cobie Smulders</td>\n",
       "      <td>ja</td>\n",
       "    </tr>\n",
       "    <tr>\n",
       "      <th>./img/MilaKunis5.jpg</th>\n",
       "      <td>Mila Kunis</td>\n",
       "      <td>nein</td>\n",
       "    </tr>\n",
       "    <tr>\n",
       "      <th>./img/KatjaBurkard5.jpg</th>\n",
       "      <td>Katja Burkard</td>\n",
       "      <td>nein</td>\n",
       "    </tr>\n",
       "    <tr>\n",
       "      <th>./img/UrsulavonderLeyen1.jpg</th>\n",
       "      <td>Ursula von der Leyen</td>\n",
       "      <td>nein</td>\n",
       "    </tr>\n",
       "    <tr>\n",
       "      <th>./img/BenedictCumberbatch4.jpg</th>\n",
       "      <td>Benedict Cumberbatch</td>\n",
       "      <td>ja</td>\n",
       "    </tr>\n",
       "    <tr>\n",
       "      <th>./img/AngelaMerkel1.jpg</th>\n",
       "      <td>Angela Merkel</td>\n",
       "      <td>ja</td>\n",
       "    </tr>\n",
       "    <tr>\n",
       "      <th>./img/Beyonce2.jpg</th>\n",
       "      <td>Beyoncé</td>\n",
       "      <td>ja</td>\n",
       "    </tr>\n",
       "    <tr>\n",
       "      <th>./img/TomCruise2.jpg</th>\n",
       "      <td>Tom Cruise</td>\n",
       "      <td>ja</td>\n",
       "    </tr>\n",
       "    <tr>\n",
       "      <th>./img/LeonardoDiCaprio1.jpg</th>\n",
       "      <td>Leonardo DiCaprio</td>\n",
       "      <td>ja</td>\n",
       "    </tr>\n",
       "    <tr>\n",
       "      <th>./img/CristinMilioti(Tracy_Mutter)1.jpg</th>\n",
       "      <td>Cristin Milioti</td>\n",
       "      <td>ja</td>\n",
       "    </tr>\n",
       "    <tr>\n",
       "      <th>./img/WillSmith4.jpg</th>\n",
       "      <td>Will Smith</td>\n",
       "      <td>ja</td>\n",
       "    </tr>\n",
       "    <tr>\n",
       "      <th>./img/JanHofer1.jpg</th>\n",
       "      <td>Jan Hofer</td>\n",
       "      <td>nein</td>\n",
       "    </tr>\n",
       "    <tr>\n",
       "      <th>./img/EmmaWatson(HermioneGranger)1.jpg</th>\n",
       "      <td>Emma Watson</td>\n",
       "      <td>ja</td>\n",
       "    </tr>\n",
       "  </tbody>\n",
       "</table>\n",
       "</div>"
      ],
      "text/plain": [
       "                                                           name bekannt\n",
       "img                                                                    \n",
       "./img/BarackObama2.jpg                             Barack Obama      ja\n",
       "./img/JudithRakers7.jpg                           Judith Rakers    nein\n",
       "./img/OmarEpps(DrEricForeman)1.jpg                    Omar Epps      ja\n",
       "./img/JimParsons(SheldonCooper)1.jpg                Jim Parsons      ja\n",
       "./img/BritneySpears5.jpg                         Britney Spears      ja\n",
       "./img/HughLaurie(DrHouse)9.jpg                      Hugh Laurie      ja\n",
       "./img/EmilyDeschanel3.jpg                       Emily Deschanel    nein\n",
       "./img/CarenMiosga4.jpg                             Caren Miosga    nein\n",
       "./img/JoachimLoew1.jpg                              Joachim Löw    nein\n",
       "./img/AlysonHannigan(Lily)1.jpg                 Alyson Hannigan      ja\n",
       "./img/KaleyCuoco(Penny)2.jpg                        Kaley Cuoco      ja\n",
       "./img/SahraWagenknecht6.jpg                   Sahra Wagenknecht    nein\n",
       "./img/GeorgeClooney6.jpg                         George Clooney      ja\n",
       "./img/JasonSegel(Marshall)2.jpg                     Jason Segel      ja\n",
       "./img/JoshRadnor(Ted)1.jpg                          Josh Radnor      ja\n",
       "./img/Shakira1.jpg                                      Shakira      ja\n",
       "./img/NeilPatrickHarris(Barney)4.jpg        Neil Patrick Harris      ja\n",
       "./img/BastianSchweinsteiger1.jpg         Bastian Schweinsteiger    nein\n",
       "./img/LisaEdelstein(DrLisaCuddy)2.jpg            Lisa Edelstein      ja\n",
       "./img/GuentherJauch2.jpg                          Günther Jauch    nein\n",
       "./img/RobertSeanLeonard(Wilson)2.jpg        Robert Sean Leonard      ja\n",
       "./img/SigmarGabriel1.jpg                         Sigmar Gabriel    nein\n",
       "./img/Usher1.jpg                                          Usher    nein\n",
       "./img/DannFlorek(DonaldDonCragen)1.jpg              Dann Florek    nein\n",
       "./img/NicoleKidman4.jpg                           Nicole Kidman      ja\n",
       "./img/TaylorSwift1.jpg                             Taylor Swift    nein\n",
       "./img/Ice-T(OdafinFinTutuola)1.jpg                        Ice-T      ja\n",
       "./img/ElvisPresley1.jpg                           Elvis Presley      ja\n",
       "./img/MariskaHargitay(Liv)1.jpg                Mariska Hargitay    nein\n",
       "./img/CobieSmulders(Robin)2.jpg                  Cobie Smulders      ja\n",
       "./img/MilaKunis5.jpg                                 Mila Kunis    nein\n",
       "./img/KatjaBurkard5.jpg                           Katja Burkard    nein\n",
       "./img/UrsulavonderLeyen1.jpg               Ursula von der Leyen    nein\n",
       "./img/BenedictCumberbatch4.jpg             Benedict Cumberbatch      ja\n",
       "./img/AngelaMerkel1.jpg                           Angela Merkel      ja\n",
       "./img/Beyonce2.jpg                                      Beyoncé      ja\n",
       "./img/TomCruise2.jpg                                 Tom Cruise      ja\n",
       "./img/LeonardoDiCaprio1.jpg                   Leonardo DiCaprio      ja\n",
       "./img/CristinMilioti(Tracy_Mutter)1.jpg         Cristin Milioti      ja\n",
       "./img/WillSmith4.jpg                                 Will Smith      ja\n",
       "./img/JanHofer1.jpg                                   Jan Hofer    nein\n",
       "./img/EmmaWatson(HermioneGranger)1.jpg              Emma Watson      ja"
      ]
     },
     "execution_count": 9,
     "metadata": {},
     "output_type": "execute_result"
    }
   ],
   "source": [
    "thisDf"
   ]
  },
  {
   "cell_type": "markdown",
   "metadata": {
    "collapsed": true
   },
   "source": [
    "## do this for all participants"
   ]
  },
  {
   "cell_type": "code",
   "execution_count": 10,
   "metadata": {
    "collapsed": true
   },
   "outputs": [],
   "source": [
    "d = {}\n",
    "for logFile in logList:\n",
    "    \n",
    "    pNum = logFile.split('/')[-1].split('_')[0]\n",
    "    \n",
    "    df = pd.read_csv(logFile,index_col=[0],header=0)\n",
    "    thisDf = getCols(df)\n",
    "    thisDf.to_csv('../famousCheck/output/famousFamiliarity_%s.csv' % pNum)\n",
    "    # count number of known people\n",
    "    a = list(thisDf.bekannt)\n",
    "    d[pNum] = float(a.count('ja'))/len(a)*100"
   ]
  },
  {
   "cell_type": "code",
   "execution_count": 11,
   "metadata": {
    "collapsed": true
   },
   "outputs": [],
   "source": [
    "df = pd.DataFrame(d,index=['known']).T"
   ]
  },
  {
   "cell_type": "code",
   "execution_count": 12,
   "metadata": {
    "collapsed": true
   },
   "outputs": [],
   "source": [
    "df.to_csv('../famousCheck/output/familiarFaces.csv')"
   ]
  },
  {
   "cell_type": "code",
   "execution_count": 13,
   "metadata": {
    "collapsed": true
   },
   "outputs": [],
   "source": [
    "import seaborn as sns\n",
    "import matplotlib.pylab as plt\n",
    "%matplotlib inline"
   ]
  },
  {
   "cell_type": "code",
   "execution_count": 14,
   "metadata": {
    "collapsed": true
   },
   "outputs": [],
   "source": [
    "snsDf = df.copy()\n",
    "snsDf['hue'] = [['control','JB'][x=='jb'] for x in snsDf.index]\n",
    "snsDf['x'] = [0 for x in snsDf.index]"
   ]
  },
  {
   "cell_type": "code",
   "execution_count": 15,
   "metadata": {},
   "outputs": [
    {
     "data": {
      "text/html": [
       "<div>\n",
       "<style>\n",
       "    .dataframe thead tr:only-child th {\n",
       "        text-align: right;\n",
       "    }\n",
       "\n",
       "    .dataframe thead th {\n",
       "        text-align: left;\n",
       "    }\n",
       "\n",
       "    .dataframe tbody tr th {\n",
       "        vertical-align: top;\n",
       "    }\n",
       "</style>\n",
       "<table border=\"1\" class=\"dataframe\">\n",
       "  <thead>\n",
       "    <tr style=\"text-align: right;\">\n",
       "      <th></th>\n",
       "      <th>known</th>\n",
       "      <th>hue</th>\n",
       "      <th>x</th>\n",
       "    </tr>\n",
       "  </thead>\n",
       "  <tbody>\n",
       "    <tr>\n",
       "      <th>6</th>\n",
       "      <td>76.190476</td>\n",
       "      <td>control</td>\n",
       "      <td>0</td>\n",
       "    </tr>\n",
       "    <tr>\n",
       "      <th>7</th>\n",
       "      <td>76.190476</td>\n",
       "      <td>control</td>\n",
       "      <td>0</td>\n",
       "    </tr>\n",
       "    <tr>\n",
       "      <th>8</th>\n",
       "      <td>90.476190</td>\n",
       "      <td>control</td>\n",
       "      <td>0</td>\n",
       "    </tr>\n",
       "    <tr>\n",
       "      <th>9</th>\n",
       "      <td>85.714286</td>\n",
       "      <td>control</td>\n",
       "      <td>0</td>\n",
       "    </tr>\n",
       "    <tr>\n",
       "      <th>jb</th>\n",
       "      <td>88.095238</td>\n",
       "      <td>JB</td>\n",
       "      <td>0</td>\n",
       "    </tr>\n",
       "  </tbody>\n",
       "</table>\n",
       "</div>"
      ],
      "text/plain": [
       "        known      hue  x\n",
       "6   76.190476  control  0\n",
       "7   76.190476  control  0\n",
       "8   90.476190  control  0\n",
       "9   85.714286  control  0\n",
       "jb  88.095238       JB  0"
      ]
     },
     "execution_count": 15,
     "metadata": {},
     "output_type": "execute_result"
    }
   ],
   "source": [
    "snsDf.tail()"
   ]
  },
  {
   "cell_type": "code",
   "execution_count": 16,
   "metadata": {
    "collapsed": true
   },
   "outputs": [],
   "source": [
    "swarmFig,ax = plt.subplots(1,1,figsize=(8,6))\n",
    "sns.swarmplot(data=snsDf,x='x',y='known',hue='hue',\n",
    "              size=16,orient='v',edgecolor='white',linewidth=1,alpha=0.8,ax=ax)\n",
    "\n",
    "plt.title('Celebrity knowledge')\n",
    "plt.ylim(0,100)\n",
    "plt.close()"
   ]
  },
  {
   "cell_type": "code",
   "execution_count": 17,
   "metadata": {},
   "outputs": [
    {
     "data": {
      "image/png": "[encoded data removed]",
      "text/plain": [
       "<matplotlib.figure.Figure at 0x7f15d61f8fd0>"
      ]
     },
     "execution_count": 17,
     "metadata": {},
     "output_type": "execute_result"
    }
   ],
   "source": [
    "swarmFig"
   ]
  },
  {
   "cell_type": "markdown",
   "metadata": {},
   "source": [
    "### who is best known overall?"
   ]
  },
  {
   "cell_type": "code",
   "execution_count": 18,
   "metadata": {
    "collapsed": true,
    "scrolled": true
   },
   "outputs": [],
   "source": [
    "famList = getLogfile('../famousCheck/output/','famousFamiliarity*.csv')"
   ]
  },
  {
   "cell_type": "code",
   "execution_count": 19,
   "metadata": {
    "collapsed": true
   },
   "outputs": [],
   "source": [
    "famFile = famList[-1]"
   ]
  },
  {
   "cell_type": "code",
   "execution_count": 20,
   "metadata": {
    "collapsed": true
   },
   "outputs": [],
   "source": [
    "bigDf = pd.DataFrame()\n",
    "for famFile in famList:\n",
    "    pName = famFile.split('/')[-1].split('_')[-1].split('.')[0]\n",
    "\n",
    "    thisDf = pd.read_csv(famFile,index_col=[1])\n",
    "    thisDf = thisDf.drop('img',axis=1).T\n",
    "    thisDf.index = [pName]\n",
    "    bigDf = pd.concat([bigDf,thisDf])"
   ]
  },
  {
   "cell_type": "code",
   "execution_count": 21,
   "metadata": {
    "collapsed": true,
    "scrolled": true
   },
   "outputs": [],
   "source": [
    "bigDf[bigDf=='ja'] = 1\n",
    "bigDf[bigDf=='nein'] = 0"
   ]
  },
  {
   "cell_type": "code",
   "execution_count": 22,
   "metadata": {
    "collapsed": true,
    "scrolled": true
   },
   "outputs": [],
   "source": [
    "meanDf = pd.DataFrame( bigDf.mean() )\n",
    "meanDf.columns = ['mean']\n",
    "meanDf = meanDf.sort_values(by='mean',ascending=False)"
   ]
  },
  {
   "cell_type": "code",
   "execution_count": 23,
   "metadata": {
    "collapsed": true
   },
   "outputs": [],
   "source": [
    "import matplotlib\n",
    "import numpy as np\n",
    "matplotlib.rc('font', family='Arial')"
   ]
  },
  {
   "cell_type": "code",
   "execution_count": 24,
   "metadata": {},
   "outputs": [
    {
     "data": {
      "image/png": "[encoded data removed]",
      "text/plain": [
       "<matplotlib.figure.Figure at 0x7f15c95b4b90>"
      ]
     },
     "metadata": {},
     "output_type": "display_data"
    }
   ],
   "source": [
    "plt.figure(figsize=(16,6))\n",
    "plt.plot(list(meanDf['mean']),'-o')\n",
    "plt.xticks(range(meanDf.index.size),[x.decode(\"utf8\") for x in meanDf.index],rotation=90);\n",
    "plt.ylim(0,1.01)\n",
    "plt.yticks(np.arange(0,1.01,0.1),['%s%%' % x for x in np.arange(0,101,10)] )\n",
    "plt.show()"
   ]
  },
  {
   "cell_type": "code",
   "execution_count": null,
   "metadata": {
    "collapsed": true
   },
   "outputs": [],
   "source": []
  }
 ],
 "metadata": {
  "kernelspec": {
   "display_name": "Python 2",
   "language": "python",
   "name": "python2"
  },
  "language_info": {
   "codemirror_mode": {
    "name": "ipython",
    "version": 2
   },
   "file_extension": ".py",
   "mimetype": "text/x-python",
   "name": "python",
   "nbconvert_exporter": "python",
   "pygments_lexer": "ipython2",
   "version": "2.7.9"
  }
 },
 "nbformat": 4,
 "nbformat_minor": 1
}
