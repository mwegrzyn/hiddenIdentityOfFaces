{
 "cells": [
  {
   "cell_type": "markdown",
   "metadata": {},
   "source": [
    "# Celebrity Multiple Choice"
   ]
  },
  {
   "cell_type": "markdown",
   "metadata": {},
   "source": [
    "### import modules"
   ]
  },
  {
   "cell_type": "code",
   "execution_count": 1,
   "metadata": {
    "collapsed": true
   },
   "outputs": [],
   "source": [
    "import os\n",
    "import fnmatch\n",
    "\n",
    "import numpy as np\n",
    "import pandas as pd"
   ]
  },
  {
   "cell_type": "markdown",
   "metadata": {},
   "source": [
    "### get logfiles"
   ]
  },
  {
   "cell_type": "code",
   "execution_count": 2,
   "metadata": {
    "collapsed": true
   },
   "outputs": [],
   "source": [
    "def getLogfile(whichfolder, whichexperiment):\n",
    "\n",
    "    loglist = []\n",
    "    for fileName in os.listdir(whichfolder):\n",
    "        if fnmatch.fnmatch(fileName, whichexperiment):\n",
    "            loglist.append(whichfolder+fileName)\n",
    "    loglist.sort()\n",
    "    return loglist"
   ]
  },
  {
   "cell_type": "code",
   "execution_count": 3,
   "metadata": {
    "collapsed": true
   },
   "outputs": [],
   "source": [
    "logList = getLogfile('../famousInner/experiment/data/','*.log')"
   ]
  },
  {
   "cell_type": "code",
   "execution_count": 4,
   "metadata": {
    "scrolled": true
   },
   "outputs": [
    {
     "data": {
      "text/plain": [
       "['../famousInner/experiment/data/6_famFaceGrey_2017_Jan_27_1016.log',\n",
       " '../famousInner/experiment/data/7_famFaceGrey_2017_Jan_30_1434.log',\n",
       " '../famousInner/experiment/data/8_famFaceGrey_2017_Feb_01_1624.log',\n",
       " '../famousInner/experiment/data/9_famFaceGrey_2017_Feb_02_1225.log',\n",
       " '../famousInner/experiment/data/jb_famFaceGrey_2016_Nov_23_1406.log']"
      ]
     },
     "execution_count": 4,
     "metadata": {},
     "output_type": "execute_result"
    }
   ],
   "source": [
    "logList[-5:]"
   ]
  },
  {
   "cell_type": "markdown",
   "metadata": {},
   "source": [
    "### get content from logfile"
   ]
  },
  {
   "cell_type": "code",
   "execution_count": 5,
   "metadata": {
    "collapsed": true
   },
   "outputs": [],
   "source": [
    "def getContent(logFile):\n",
    "    with open(logFile,'r') as f:\n",
    "        return f.readlines()"
   ]
  },
  {
   "cell_type": "code",
   "execution_count": 6,
   "metadata": {
    "collapsed": true
   },
   "outputs": [],
   "source": [
    "logFile = logList[-1]"
   ]
  },
  {
   "cell_type": "code",
   "execution_count": 7,
   "metadata": {},
   "outputs": [
    {
     "data": {
      "text/plain": [
       "'../famousInner/experiment/data/jb_famFaceGrey_2016_Nov_23_1406.log'"
      ]
     },
     "execution_count": 7,
     "metadata": {},
     "output_type": "execute_result"
    }
   ],
   "source": [
    "logFile"
   ]
  },
  {
   "cell_type": "code",
   "execution_count": 8,
   "metadata": {
    "collapsed": true
   },
   "outputs": [],
   "source": [
    "thisTxt = getContent(logFile)"
   ]
  },
  {
   "cell_type": "markdown",
   "metadata": {},
   "source": [
    "### get familiarity ratings"
   ]
  },
  {
   "cell_type": "code",
   "execution_count": 9,
   "metadata": {
    "collapsed": true,
    "scrolled": true
   },
   "outputs": [],
   "source": [
    "def getFamiliar(thisTxt):\n",
    "    d = {}\n",
    "    # find stimulus\n",
    "    for i,entry in enumerate(thisTxt):\n",
    "        if '_cut.png' in entry and 'imageBekannt: image' in entry:\n",
    "            \n",
    "            thisEntry = thisTxt[i].split('\\t')\n",
    "            stim = thisEntry[-1].split('/')[-1][:-6]\n",
    "            \n",
    "            for n in range(i,len(thisTxt)):\n",
    "                thisEntry = thisTxt[n]\n",
    "                if 'Keypress:' in thisEntry:\n",
    "                    try:\n",
    "                        resp = int(int(thisEntry.split(' ')[-1][:-1]) == 1)\n",
    "                        #resp = thisEntry.split(' ')[-1][:-1]\n",
    "                        break\n",
    "                    except:\n",
    "                        for j in range(n,n+10):\n",
    "                            try:\n",
    "                                thisEntry = thisTxt[j]\n",
    "                                resp = int(int(thisEntry.split(' ')[-1][:-1]) == 1)\n",
    "                            except:\n",
    "                                pass\n",
    "            for n in range(i,len(thisTxt)):\n",
    "                thisEntry = thisTxt[n]\n",
    "                if 'rating=' in thisEntry and 'ratingB' in thisEntry:\n",
    "                    resp = int(thisEntry.split('/')[-1].split('.')[-1][:-1] == 'ja')\n",
    "                    #resp = thisEntry.split('/')[-1].split('.')[-1][:-1]\n",
    "                    break\n",
    "            d[stim] = {'resp': resp}\n",
    "    df = pd.DataFrame(d).T\n",
    "    return df"
   ]
  },
  {
   "cell_type": "code",
   "execution_count": 10,
   "metadata": {
    "collapsed": true,
    "scrolled": true
   },
   "outputs": [],
   "source": [
    "famDf = getFamiliar(thisTxt)"
   ]
  },
  {
   "cell_type": "code",
   "execution_count": 11,
   "metadata": {
    "scrolled": true
   },
   "outputs": [
    {
     "data": {
      "text/html": [
       "<div>\n",
       "<style>\n",
       "    .dataframe thead tr:only-child th {\n",
       "        text-align: right;\n",
       "    }\n",
       "\n",
       "    .dataframe thead th {\n",
       "        text-align: left;\n",
       "    }\n",
       "\n",
       "    .dataframe tbody tr th {\n",
       "        vertical-align: top;\n",
       "    }\n",
       "</style>\n",
       "<table border=\"1\" class=\"dataframe\">\n",
       "  <thead>\n",
       "    <tr style=\"text-align: right;\">\n",
       "      <th></th>\n",
       "      <th>resp</th>\n",
       "    </tr>\n",
       "  </thead>\n",
       "  <tbody>\n",
       "    <tr>\n",
       "      <th>notfamousface5_1_cut</th>\n",
       "      <td>0</td>\n",
       "    </tr>\n",
       "    <tr>\n",
       "      <th>notfamousface6_8_cut</th>\n",
       "      <td>0</td>\n",
       "    </tr>\n",
       "    <tr>\n",
       "      <th>notfamousface7_cut</th>\n",
       "      <td>0</td>\n",
       "    </tr>\n",
       "    <tr>\n",
       "      <th>notfamousface8_9_cut</th>\n",
       "      <td>0</td>\n",
       "    </tr>\n",
       "    <tr>\n",
       "      <th>notfamousface9_1_cut</th>\n",
       "      <td>0</td>\n",
       "    </tr>\n",
       "  </tbody>\n",
       "</table>\n",
       "</div>"
      ],
      "text/plain": [
       "                      resp\n",
       "notfamousface5_1_cut     0\n",
       "notfamousface6_8_cut     0\n",
       "notfamousface7_cut       0\n",
       "notfamousface8_9_cut     0\n",
       "notfamousface9_1_cut     0"
      ]
     },
     "execution_count": 11,
     "metadata": {},
     "output_type": "execute_result"
    }
   ],
   "source": [
    "famDf.tail()"
   ]
  },
  {
   "cell_type": "markdown",
   "metadata": {},
   "source": [
    "### evaluate context"
   ]
  },
  {
   "cell_type": "code",
   "execution_count": 12,
   "metadata": {
    "collapsed": true
   },
   "outputs": [],
   "source": [
    "def getContext(thisTxt):\n",
    "    d = {}\n",
    "    # find stimulus\n",
    "    for i,entry in enumerate(thisTxt):\n",
    "        if '_cut.png' in entry and 'imageBekannt: image' in entry:\n",
    "            \n",
    "            thisEntry = thisTxt[i].split('\\t')\n",
    "            stim = thisEntry[-1].split('/')[-1][:-6]\n",
    "            \n",
    "            for n in range(i+15,len(thisTxt)):\n",
    "                thisEntry = thisTxt[n]\n",
    "                if 'Keypress:' in thisEntry:\n",
    "                    try:\n",
    "                        resp = int(thisEntry.split(' ')[-1][:-1])\n",
    "                        break\n",
    "                    except:\n",
    "                        pass\n",
    "                        \n",
    "            for n in range(i,len(thisTxt)):\n",
    "                thisEntry = thisTxt[n]\n",
    "                if 'rating=' in thisEntry and 'ratingK' in thisEntry:\n",
    "                    resp = thisEntry.split('=')[-1][:-1]\n",
    "                    if resp == 'dummy':\n",
    "                        resp = 'act'\n",
    "                    break\n",
    "\n",
    "            d[stim] = {'resp': resp}\n",
    "    df = pd.DataFrame(d).T\n",
    "    return df"
   ]
  },
  {
   "cell_type": "code",
   "execution_count": 13,
   "metadata": {
    "collapsed": true,
    "scrolled": true
   },
   "outputs": [],
   "source": [
    "contextDf = getContext(thisTxt)"
   ]
  },
  {
   "cell_type": "code",
   "execution_count": 14,
   "metadata": {
    "scrolled": true
   },
   "outputs": [
    {
     "data": {
      "text/html": [
       "<div>\n",
       "<style>\n",
       "    .dataframe thead tr:only-child th {\n",
       "        text-align: right;\n",
       "    }\n",
       "\n",
       "    .dataframe thead th {\n",
       "        text-align: left;\n",
       "    }\n",
       "\n",
       "    .dataframe tbody tr th {\n",
       "        vertical-align: top;\n",
       "    }\n",
       "</style>\n",
       "<table border=\"1\" class=\"dataframe\">\n",
       "  <thead>\n",
       "    <tr style=\"text-align: right;\">\n",
       "      <th></th>\n",
       "      <th>resp</th>\n",
       "    </tr>\n",
       "  </thead>\n",
       "  <tbody>\n",
       "    <tr>\n",
       "      <th>notfamousface5_1_cut</th>\n",
       "      <td>act</td>\n",
       "    </tr>\n",
       "    <tr>\n",
       "      <th>notfamousface6_8_cut</th>\n",
       "      <td>act</td>\n",
       "    </tr>\n",
       "    <tr>\n",
       "      <th>notfamousface7_cut</th>\n",
       "      <td>act</td>\n",
       "    </tr>\n",
       "    <tr>\n",
       "      <th>notfamousface8_9_cut</th>\n",
       "      <td>act</td>\n",
       "    </tr>\n",
       "    <tr>\n",
       "      <th>notfamousface9_1_cut</th>\n",
       "      <td>act</td>\n",
       "    </tr>\n",
       "  </tbody>\n",
       "</table>\n",
       "</div>"
      ],
      "text/plain": [
       "                     resp\n",
       "notfamousface5_1_cut  act\n",
       "notfamousface6_8_cut  act\n",
       "notfamousface7_cut    act\n",
       "notfamousface8_9_cut  act\n",
       "notfamousface9_1_cut  act"
      ]
     },
     "execution_count": 14,
     "metadata": {},
     "output_type": "execute_result"
    }
   ],
   "source": [
    "contextDf.tail()"
   ]
  },
  {
   "cell_type": "markdown",
   "metadata": {},
   "source": [
    "### recode context"
   ]
  },
  {
   "cell_type": "code",
   "execution_count": 15,
   "metadata": {
    "collapsed": true
   },
   "outputs": [],
   "source": [
    "def recodeThis(contextDf):\n",
    "    recodeDict = {1:'act',2:'music',3:'host',4:'polit',5:'sport'}\n",
    "\n",
    "    d = {}\n",
    "    for idx in contextDf.index:\n",
    "        thisAns = contextDf.loc[idx]['resp']\n",
    "        try:\n",
    "            int(thisAns)\n",
    "            recoded = recodeDict[thisAns]\n",
    "            d[idx] = recoded\n",
    "        except:\n",
    "            d[idx] = thisAns\n",
    "    return pd.DataFrame(d,index=['context']).T"
   ]
  },
  {
   "cell_type": "code",
   "execution_count": 16,
   "metadata": {
    "scrolled": false
   },
   "outputs": [
    {
     "data": {
      "text/html": [
       "<div>\n",
       "<style>\n",
       "    .dataframe thead tr:only-child th {\n",
       "        text-align: right;\n",
       "    }\n",
       "\n",
       "    .dataframe thead th {\n",
       "        text-align: left;\n",
       "    }\n",
       "\n",
       "    .dataframe tbody tr th {\n",
       "        vertical-align: top;\n",
       "    }\n",
       "</style>\n",
       "<table border=\"1\" class=\"dataframe\">\n",
       "  <thead>\n",
       "    <tr style=\"text-align: right;\">\n",
       "      <th></th>\n",
       "      <th>context</th>\n",
       "    </tr>\n",
       "  </thead>\n",
       "  <tbody>\n",
       "    <tr>\n",
       "      <th>notfamousface5_1_cut</th>\n",
       "      <td>act</td>\n",
       "    </tr>\n",
       "    <tr>\n",
       "      <th>notfamousface6_8_cut</th>\n",
       "      <td>act</td>\n",
       "    </tr>\n",
       "    <tr>\n",
       "      <th>notfamousface7_cut</th>\n",
       "      <td>act</td>\n",
       "    </tr>\n",
       "    <tr>\n",
       "      <th>notfamousface8_9_cut</th>\n",
       "      <td>act</td>\n",
       "    </tr>\n",
       "    <tr>\n",
       "      <th>notfamousface9_1_cut</th>\n",
       "      <td>act</td>\n",
       "    </tr>\n",
       "  </tbody>\n",
       "</table>\n",
       "</div>"
      ],
      "text/plain": [
       "                     context\n",
       "notfamousface5_1_cut     act\n",
       "notfamousface6_8_cut     act\n",
       "notfamousface7_cut       act\n",
       "notfamousface8_9_cut     act\n",
       "notfamousface9_1_cut     act"
      ]
     },
     "execution_count": 16,
     "metadata": {},
     "output_type": "execute_result"
    }
   ],
   "source": [
    "recodeThis(contextDf).tail()"
   ]
  },
  {
   "cell_type": "markdown",
   "metadata": {},
   "source": [
    "### merge familiarity and context"
   ]
  },
  {
   "cell_type": "code",
   "execution_count": 17,
   "metadata": {
    "collapsed": true
   },
   "outputs": [],
   "source": [
    "def makeMergeDf(thisTxt):\n",
    "    famDf = getFamiliar(thisTxt)\n",
    "    contextDf = getContext(thisTxt)\n",
    "    recodeDf = recodeThis(contextDf)\n",
    "\n",
    "    mergeDf = pd.concat([famDf,recodeDf],axis=1)\n",
    "    return mergeDf"
   ]
  },
  {
   "cell_type": "code",
   "execution_count": 18,
   "metadata": {
    "collapsed": true
   },
   "outputs": [],
   "source": [
    "thisDf = makeMergeDf(thisTxt)"
   ]
  },
  {
   "cell_type": "code",
   "execution_count": 19,
   "metadata": {},
   "outputs": [
    {
     "data": {
      "text/html": [
       "<div>\n",
       "<style>\n",
       "    .dataframe thead tr:only-child th {\n",
       "        text-align: right;\n",
       "    }\n",
       "\n",
       "    .dataframe thead th {\n",
       "        text-align: left;\n",
       "    }\n",
       "\n",
       "    .dataframe tbody tr th {\n",
       "        vertical-align: top;\n",
       "    }\n",
       "</style>\n",
       "<table border=\"1\" class=\"dataframe\">\n",
       "  <thead>\n",
       "    <tr style=\"text-align: right;\">\n",
       "      <th></th>\n",
       "      <th>resp</th>\n",
       "      <th>context</th>\n",
       "    </tr>\n",
       "  </thead>\n",
       "  <tbody>\n",
       "    <tr>\n",
       "      <th>notfamousface5_1_cut</th>\n",
       "      <td>0</td>\n",
       "      <td>act</td>\n",
       "    </tr>\n",
       "    <tr>\n",
       "      <th>notfamousface6_8_cut</th>\n",
       "      <td>0</td>\n",
       "      <td>act</td>\n",
       "    </tr>\n",
       "    <tr>\n",
       "      <th>notfamousface7_cut</th>\n",
       "      <td>0</td>\n",
       "      <td>act</td>\n",
       "    </tr>\n",
       "    <tr>\n",
       "      <th>notfamousface8_9_cut</th>\n",
       "      <td>0</td>\n",
       "      <td>act</td>\n",
       "    </tr>\n",
       "    <tr>\n",
       "      <th>notfamousface9_1_cut</th>\n",
       "      <td>0</td>\n",
       "      <td>act</td>\n",
       "    </tr>\n",
       "  </tbody>\n",
       "</table>\n",
       "</div>"
      ],
      "text/plain": [
       "                      resp context\n",
       "notfamousface5_1_cut     0     act\n",
       "notfamousface6_8_cut     0     act\n",
       "notfamousface7_cut       0     act\n",
       "notfamousface8_9_cut     0     act\n",
       "notfamousface9_1_cut     0     act"
      ]
     },
     "execution_count": 19,
     "metadata": {},
     "output_type": "execute_result"
    }
   ],
   "source": [
    "thisDf.tail()"
   ]
  },
  {
   "cell_type": "markdown",
   "metadata": {},
   "source": [
    "### evaluate context responses"
   ]
  },
  {
   "cell_type": "markdown",
   "metadata": {},
   "source": [
    "reference list:"
   ]
  },
  {
   "cell_type": "code",
   "execution_count": 20,
   "metadata": {
    "collapsed": true
   },
   "outputs": [],
   "source": [
    "contextDf = pd.read_csv('../famousCheck/contextList.csv')"
   ]
  },
  {
   "cell_type": "code",
   "execution_count": 21,
   "metadata": {},
   "outputs": [
    {
     "data": {
      "text/html": [
       "<div>\n",
       "<style>\n",
       "    .dataframe thead tr:only-child th {\n",
       "        text-align: right;\n",
       "    }\n",
       "\n",
       "    .dataframe thead th {\n",
       "        text-align: left;\n",
       "    }\n",
       "\n",
       "    .dataframe tbody tr th {\n",
       "        vertical-align: top;\n",
       "    }\n",
       "</style>\n",
       "<table border=\"1\" class=\"dataframe\">\n",
       "  <thead>\n",
       "    <tr style=\"text-align: right;\">\n",
       "      <th></th>\n",
       "      <th>name</th>\n",
       "      <th>context</th>\n",
       "    </tr>\n",
       "  </thead>\n",
       "  <tbody>\n",
       "    <tr>\n",
       "      <th>37</th>\n",
       "      <td>Sigmar Gabriel</td>\n",
       "      <td>polit</td>\n",
       "    </tr>\n",
       "    <tr>\n",
       "      <th>38</th>\n",
       "      <td>Taylor Swift</td>\n",
       "      <td>music</td>\n",
       "    </tr>\n",
       "    <tr>\n",
       "      <th>39</th>\n",
       "      <td>Tom Cruise</td>\n",
       "      <td>act</td>\n",
       "    </tr>\n",
       "    <tr>\n",
       "      <th>40</th>\n",
       "      <td>Ursula vonderLeyen</td>\n",
       "      <td>polit</td>\n",
       "    </tr>\n",
       "    <tr>\n",
       "      <th>41</th>\n",
       "      <td>Usher</td>\n",
       "      <td>music</td>\n",
       "    </tr>\n",
       "  </tbody>\n",
       "</table>\n",
       "</div>"
      ],
      "text/plain": [
       "                  name context\n",
       "37      Sigmar Gabriel   polit\n",
       "38        Taylor Swift   music\n",
       "39          Tom Cruise     act\n",
       "40  Ursula vonderLeyen   polit\n",
       "41               Usher   music"
      ]
     },
     "execution_count": 21,
     "metadata": {},
     "output_type": "execute_result"
    }
   ],
   "source": [
    "contextDf.tail()"
   ]
  },
  {
   "cell_type": "markdown",
   "metadata": {},
   "source": [
    "### check if the context given is the right context for that person"
   ]
  },
  {
   "cell_type": "code",
   "execution_count": 22,
   "metadata": {
    "collapsed": true,
    "scrolled": true
   },
   "outputs": [],
   "source": [
    "def evalResp(df,contextDf=contextDf):\n",
    "    \n",
    "    respDict = {}\n",
    "\n",
    "    for i in df.index:\n",
    "\n",
    "        resp = df.loc[i]['context']\n",
    "        bekannt = df.loc[i]['resp']\n",
    "\n",
    "        for idx in contextDf.index:\n",
    "            correct = contextDf.loc[idx]['context']\n",
    "            thisName = contextDf.loc[idx]['name']\n",
    "            \n",
    "            for namePart in thisName.split(' '):\n",
    "                if namePart in i:\n",
    "\n",
    "                    respDict[i] = {'corrAns':correct,\n",
    "                                          'familiarity':bekannt,\n",
    "                                          'corrContext':resp,\n",
    "                                          'context': int(resp in correct)}\n",
    "                    \n",
    "    respDf = pd.DataFrame( respDict ).T\n",
    "    \n",
    "    return respDf"
   ]
  },
  {
   "cell_type": "code",
   "execution_count": 23,
   "metadata": {
    "collapsed": true
   },
   "outputs": [],
   "source": [
    "evalDf = evalResp(thisDf)"
   ]
  },
  {
   "cell_type": "code",
   "execution_count": 24,
   "metadata": {},
   "outputs": [
    {
     "data": {
      "text/html": [
       "<div>\n",
       "<style>\n",
       "    .dataframe thead tr:only-child th {\n",
       "        text-align: right;\n",
       "    }\n",
       "\n",
       "    .dataframe thead th {\n",
       "        text-align: left;\n",
       "    }\n",
       "\n",
       "    .dataframe tbody tr th {\n",
       "        vertical-align: top;\n",
       "    }\n",
       "</style>\n",
       "<table border=\"1\" class=\"dataframe\">\n",
       "  <thead>\n",
       "    <tr style=\"text-align: right;\">\n",
       "      <th></th>\n",
       "      <th>context</th>\n",
       "      <th>corrAns</th>\n",
       "      <th>corrContext</th>\n",
       "      <th>familiarity</th>\n",
       "    </tr>\n",
       "  </thead>\n",
       "  <tbody>\n",
       "    <tr>\n",
       "      <th>Usher11_1_cut</th>\n",
       "      <td>0</td>\n",
       "      <td>music</td>\n",
       "      <td>act</td>\n",
       "      <td>0</td>\n",
       "    </tr>\n",
       "    <tr>\n",
       "      <th>Usher1_1_cut</th>\n",
       "      <td>0</td>\n",
       "      <td>music</td>\n",
       "      <td>act</td>\n",
       "      <td>0</td>\n",
       "    </tr>\n",
       "    <tr>\n",
       "      <th>Usher2_1_cut</th>\n",
       "      <td>0</td>\n",
       "      <td>music</td>\n",
       "      <td>act</td>\n",
       "      <td>0</td>\n",
       "    </tr>\n",
       "    <tr>\n",
       "      <th>Usher4_1_cut</th>\n",
       "      <td>0</td>\n",
       "      <td>music</td>\n",
       "      <td>act</td>\n",
       "      <td>0</td>\n",
       "    </tr>\n",
       "    <tr>\n",
       "      <th>Usher7_1_cut</th>\n",
       "      <td>0</td>\n",
       "      <td>music</td>\n",
       "      <td>act</td>\n",
       "      <td>0</td>\n",
       "    </tr>\n",
       "    <tr>\n",
       "      <th>WillSmith14_1_cut</th>\n",
       "      <td>1</td>\n",
       "      <td>act music</td>\n",
       "      <td>act</td>\n",
       "      <td>1</td>\n",
       "    </tr>\n",
       "    <tr>\n",
       "      <th>WillSmith1_1_cut</th>\n",
       "      <td>1</td>\n",
       "      <td>act music</td>\n",
       "      <td>act</td>\n",
       "      <td>1</td>\n",
       "    </tr>\n",
       "    <tr>\n",
       "      <th>WillSmith4_1_cut</th>\n",
       "      <td>1</td>\n",
       "      <td>act music</td>\n",
       "      <td>act</td>\n",
       "      <td>1</td>\n",
       "    </tr>\n",
       "    <tr>\n",
       "      <th>WillSmith5_1_cut</th>\n",
       "      <td>1</td>\n",
       "      <td>act music</td>\n",
       "      <td>act</td>\n",
       "      <td>1</td>\n",
       "    </tr>\n",
       "    <tr>\n",
       "      <th>WillSmith6_1_cut</th>\n",
       "      <td>1</td>\n",
       "      <td>act music</td>\n",
       "      <td>act</td>\n",
       "      <td>1</td>\n",
       "    </tr>\n",
       "  </tbody>\n",
       "</table>\n",
       "</div>"
      ],
      "text/plain": [
       "                  context    corrAns corrContext familiarity\n",
       "Usher11_1_cut           0      music         act           0\n",
       "Usher1_1_cut            0      music         act           0\n",
       "Usher2_1_cut            0      music         act           0\n",
       "Usher4_1_cut            0      music         act           0\n",
       "Usher7_1_cut            0      music         act           0\n",
       "WillSmith14_1_cut       1  act music         act           1\n",
       "WillSmith1_1_cut        1  act music         act           1\n",
       "WillSmith4_1_cut        1  act music         act           1\n",
       "WillSmith5_1_cut        1  act music         act           1\n",
       "WillSmith6_1_cut        1  act music         act           1"
      ]
     },
     "execution_count": 24,
     "metadata": {},
     "output_type": "execute_result"
    }
   ],
   "source": [
    "evalDf.tail(10)"
   ]
  },
  {
   "cell_type": "markdown",
   "metadata": {},
   "source": [
    "### get rid of unknown faces"
   ]
  },
  {
   "cell_type": "code",
   "execution_count": 25,
   "metadata": {
    "collapsed": true
   },
   "outputs": [],
   "source": [
    "checkDf = pd.read_csv('../famousCheck/output/famousFamiliarity_%s.csv' % 'jb')"
   ]
  },
  {
   "cell_type": "code",
   "execution_count": 26,
   "metadata": {
    "scrolled": false
   },
   "outputs": [
    {
     "data": {
      "text/html": [
       "<div>\n",
       "<style>\n",
       "    .dataframe thead tr:only-child th {\n",
       "        text-align: right;\n",
       "    }\n",
       "\n",
       "    .dataframe thead th {\n",
       "        text-align: left;\n",
       "    }\n",
       "\n",
       "    .dataframe tbody tr th {\n",
       "        vertical-align: top;\n",
       "    }\n",
       "</style>\n",
       "<table border=\"1\" class=\"dataframe\">\n",
       "  <thead>\n",
       "    <tr style=\"text-align: right;\">\n",
       "      <th></th>\n",
       "      <th>img</th>\n",
       "      <th>name</th>\n",
       "      <th>bekannt</th>\n",
       "    </tr>\n",
       "  </thead>\n",
       "  <tbody>\n",
       "    <tr>\n",
       "      <th>37</th>\n",
       "      <td>./img/AngelaMerkel1.jpg</td>\n",
       "      <td>Angela Merkel</td>\n",
       "      <td>ja</td>\n",
       "    </tr>\n",
       "    <tr>\n",
       "      <th>38</th>\n",
       "      <td>./img/ElvisPresley1.jpg</td>\n",
       "      <td>Elvis Presley</td>\n",
       "      <td>ja</td>\n",
       "    </tr>\n",
       "    <tr>\n",
       "      <th>39</th>\n",
       "      <td>./img/LeonardoDiCaprio1.jpg</td>\n",
       "      <td>Leonardo DiCaprio</td>\n",
       "      <td>ja</td>\n",
       "    </tr>\n",
       "    <tr>\n",
       "      <th>40</th>\n",
       "      <td>./img/JasonSegel(Marshall)2.jpg</td>\n",
       "      <td>Jason Segel</td>\n",
       "      <td>ja</td>\n",
       "    </tr>\n",
       "    <tr>\n",
       "      <th>41</th>\n",
       "      <td>./img/NeilPatrickHarris(Barney)4.jpg</td>\n",
       "      <td>Neil Patrick Harris</td>\n",
       "      <td>ja</td>\n",
       "    </tr>\n",
       "  </tbody>\n",
       "</table>\n",
       "</div>"
      ],
      "text/plain": [
       "                                     img                 name bekannt\n",
       "37               ./img/AngelaMerkel1.jpg        Angela Merkel      ja\n",
       "38               ./img/ElvisPresley1.jpg        Elvis Presley      ja\n",
       "39           ./img/LeonardoDiCaprio1.jpg    Leonardo DiCaprio      ja\n",
       "40       ./img/JasonSegel(Marshall)2.jpg          Jason Segel      ja\n",
       "41  ./img/NeilPatrickHarris(Barney)4.jpg  Neil Patrick Harris      ja"
      ]
     },
     "execution_count": 26,
     "metadata": {},
     "output_type": "execute_result"
    }
   ],
   "source": [
    "checkDf.tail()"
   ]
  },
  {
   "cell_type": "code",
   "execution_count": 27,
   "metadata": {
    "collapsed": true
   },
   "outputs": [],
   "source": [
    "def cleanUp(evalDf,checkDf):\n",
    "    \n",
    "    copyDf = evalDf.copy()\n",
    "    \n",
    "    # for each image that was evaluated in the task\n",
    "    for idx in evalDf.index:\n",
    "        \n",
    "        # we look through all images in the checkDf\n",
    "        for j in checkDf.index:\n",
    "            \n",
    "            # we look at the name of the image in checkDf and whether it is known or not\n",
    "            status = (checkDf.loc[j]['bekannt'] == 'nein')\n",
    "            name = checkDf.loc[j]['name'].split(' ')\n",
    "\n",
    "            # if the image is not known\n",
    "            if status:\n",
    "\n",
    "                # we look through the first and last name of  that image\n",
    "                for sub in name:\n",
    "\n",
    "                    # if the first or last name of that image are in the name of the evaluated image\n",
    "                    if sub in idx and len(sub)>3:# the >3 is a hack to prevent 'von' and 'der' in von der Leyen to be used for matching\n",
    "                        \n",
    "                        # this is a hack to prevent Robert Sean Leonard matching Leonard[o] DiCaprio\n",
    "                        if sub == 'Leonard' and 'DiCaprio' in idx:\n",
    "                            pass\n",
    "                        else:\n",
    "                            copyDf.drop(idx,inplace=True)\n",
    "                            # once the match has been found, we do not need to go on\n",
    "                            break\n",
    "\n",
    "    return copyDf"
   ]
  },
  {
   "cell_type": "code",
   "execution_count": 28,
   "metadata": {
    "collapsed": true,
    "scrolled": true
   },
   "outputs": [],
   "source": [
    "cleanDf = cleanUp(evalDf,checkDf)"
   ]
  },
  {
   "cell_type": "code",
   "execution_count": 29,
   "metadata": {
    "scrolled": true
   },
   "outputs": [
    {
     "data": {
      "text/html": [
       "<div>\n",
       "<style>\n",
       "    .dataframe thead tr:only-child th {\n",
       "        text-align: right;\n",
       "    }\n",
       "\n",
       "    .dataframe thead th {\n",
       "        text-align: left;\n",
       "    }\n",
       "\n",
       "    .dataframe tbody tr th {\n",
       "        vertical-align: top;\n",
       "    }\n",
       "</style>\n",
       "<table border=\"1\" class=\"dataframe\">\n",
       "  <thead>\n",
       "    <tr style=\"text-align: right;\">\n",
       "      <th></th>\n",
       "      <th>context</th>\n",
       "      <th>corrAns</th>\n",
       "      <th>corrContext</th>\n",
       "      <th>familiarity</th>\n",
       "    </tr>\n",
       "  </thead>\n",
       "  <tbody>\n",
       "    <tr>\n",
       "      <th>UrsulavonderLeyen1_1_cut</th>\n",
       "      <td>0</td>\n",
       "      <td>polit</td>\n",
       "      <td>act</td>\n",
       "      <td>0</td>\n",
       "    </tr>\n",
       "    <tr>\n",
       "      <th>UrsulavonderLeyen4_1_cut</th>\n",
       "      <td>0</td>\n",
       "      <td>polit</td>\n",
       "      <td>act</td>\n",
       "      <td>0</td>\n",
       "    </tr>\n",
       "    <tr>\n",
       "      <th>UrsulavonderLeyen5_1_cut</th>\n",
       "      <td>0</td>\n",
       "      <td>polit</td>\n",
       "      <td>act</td>\n",
       "      <td>0</td>\n",
       "    </tr>\n",
       "    <tr>\n",
       "      <th>UrsulavonderLeyen7_1_cut</th>\n",
       "      <td>0</td>\n",
       "      <td>polit</td>\n",
       "      <td>act</td>\n",
       "      <td>0</td>\n",
       "    </tr>\n",
       "    <tr>\n",
       "      <th>UrsulavonderLeyen8_2_cut</th>\n",
       "      <td>0</td>\n",
       "      <td>polit</td>\n",
       "      <td>act</td>\n",
       "      <td>0</td>\n",
       "    </tr>\n",
       "    <tr>\n",
       "      <th>WillSmith14_1_cut</th>\n",
       "      <td>1</td>\n",
       "      <td>act music</td>\n",
       "      <td>act</td>\n",
       "      <td>1</td>\n",
       "    </tr>\n",
       "    <tr>\n",
       "      <th>WillSmith1_1_cut</th>\n",
       "      <td>1</td>\n",
       "      <td>act music</td>\n",
       "      <td>act</td>\n",
       "      <td>1</td>\n",
       "    </tr>\n",
       "    <tr>\n",
       "      <th>WillSmith4_1_cut</th>\n",
       "      <td>1</td>\n",
       "      <td>act music</td>\n",
       "      <td>act</td>\n",
       "      <td>1</td>\n",
       "    </tr>\n",
       "    <tr>\n",
       "      <th>WillSmith5_1_cut</th>\n",
       "      <td>1</td>\n",
       "      <td>act music</td>\n",
       "      <td>act</td>\n",
       "      <td>1</td>\n",
       "    </tr>\n",
       "    <tr>\n",
       "      <th>WillSmith6_1_cut</th>\n",
       "      <td>1</td>\n",
       "      <td>act music</td>\n",
       "      <td>act</td>\n",
       "      <td>1</td>\n",
       "    </tr>\n",
       "  </tbody>\n",
       "</table>\n",
       "</div>"
      ],
      "text/plain": [
       "                         context    corrAns corrContext familiarity\n",
       "UrsulavonderLeyen1_1_cut       0      polit         act           0\n",
       "UrsulavonderLeyen4_1_cut       0      polit         act           0\n",
       "UrsulavonderLeyen5_1_cut       0      polit         act           0\n",
       "UrsulavonderLeyen7_1_cut       0      polit         act           0\n",
       "UrsulavonderLeyen8_2_cut       0      polit         act           0\n",
       "WillSmith14_1_cut              1  act music         act           1\n",
       "WillSmith1_1_cut               1  act music         act           1\n",
       "WillSmith4_1_cut               1  act music         act           1\n",
       "WillSmith5_1_cut               1  act music         act           1\n",
       "WillSmith6_1_cut               1  act music         act           1"
      ]
     },
     "execution_count": 29,
     "metadata": {},
     "output_type": "execute_result"
    }
   ],
   "source": [
    "cleanDf.tail(10)"
   ]
  },
  {
   "cell_type": "markdown",
   "metadata": {},
   "source": [
    "### split into known by JB and unknown"
   ]
  },
  {
   "cell_type": "code",
   "execution_count": 30,
   "metadata": {
    "collapsed": true
   },
   "outputs": [],
   "source": [
    "jbRecogDf = pd.read_csv('../famousCheck/recognizableList.csv')"
   ]
  },
  {
   "cell_type": "code",
   "execution_count": 31,
   "metadata": {
    "collapsed": true
   },
   "outputs": [],
   "source": [
    "def makeRecogSplit(thisDf,jbRecogDf=jbRecogDf):\n",
    "    \n",
    "    df = thisDf.copy()\n",
    "    \n",
    "    # for each entry in the response df\n",
    "    for i in df.index:\n",
    "        thisName = i\n",
    "        # for each name in the recoglist\n",
    "        for j in jbRecogDf.index:\n",
    "            thisRecog = jbRecogDf.loc[j]['name']\n",
    "            thisStatus = jbRecogDf.loc[j]['recognizable']\n",
    "            # if the names match\n",
    "            if thisRecog in thisName:\n",
    "                # set the status of the \n",
    "                df.set_value(i,'jbRecog',thisStatus)\n",
    "           \n",
    "    return df"
   ]
  },
  {
   "cell_type": "code",
   "execution_count": 35,
   "metadata": {
    "collapsed": true
   },
   "outputs": [],
   "source": [
    "df = makeRecogSplit(cleanDf)"
   ]
  },
  {
   "cell_type": "code",
   "execution_count": 36,
   "metadata": {},
   "outputs": [
    {
     "data": {
      "text/html": [
       "<div>\n",
       "<style>\n",
       "    .dataframe thead tr:only-child th {\n",
       "        text-align: right;\n",
       "    }\n",
       "\n",
       "    .dataframe thead th {\n",
       "        text-align: left;\n",
       "    }\n",
       "\n",
       "    .dataframe tbody tr th {\n",
       "        vertical-align: top;\n",
       "    }\n",
       "</style>\n",
       "<table border=\"1\" class=\"dataframe\">\n",
       "  <thead>\n",
       "    <tr style=\"text-align: right;\">\n",
       "      <th></th>\n",
       "      <th>context</th>\n",
       "      <th>corrAns</th>\n",
       "      <th>corrContext</th>\n",
       "      <th>familiarity</th>\n",
       "      <th>jbRecog</th>\n",
       "    </tr>\n",
       "  </thead>\n",
       "  <tbody>\n",
       "    <tr>\n",
       "      <th>WillSmith14_1_cut</th>\n",
       "      <td>1</td>\n",
       "      <td>act music</td>\n",
       "      <td>act</td>\n",
       "      <td>1</td>\n",
       "      <td>JB*</td>\n",
       "    </tr>\n",
       "    <tr>\n",
       "      <th>WillSmith1_1_cut</th>\n",
       "      <td>1</td>\n",
       "      <td>act music</td>\n",
       "      <td>act</td>\n",
       "      <td>1</td>\n",
       "      <td>JB*</td>\n",
       "    </tr>\n",
       "    <tr>\n",
       "      <th>WillSmith4_1_cut</th>\n",
       "      <td>1</td>\n",
       "      <td>act music</td>\n",
       "      <td>act</td>\n",
       "      <td>1</td>\n",
       "      <td>JB*</td>\n",
       "    </tr>\n",
       "    <tr>\n",
       "      <th>WillSmith5_1_cut</th>\n",
       "      <td>1</td>\n",
       "      <td>act music</td>\n",
       "      <td>act</td>\n",
       "      <td>1</td>\n",
       "      <td>JB*</td>\n",
       "    </tr>\n",
       "    <tr>\n",
       "      <th>WillSmith6_1_cut</th>\n",
       "      <td>1</td>\n",
       "      <td>act music</td>\n",
       "      <td>act</td>\n",
       "      <td>1</td>\n",
       "      <td>JB*</td>\n",
       "    </tr>\n",
       "  </tbody>\n",
       "</table>\n",
       "</div>"
      ],
      "text/plain": [
       "                  context    corrAns corrContext familiarity jbRecog\n",
       "WillSmith14_1_cut       1  act music         act           1     JB*\n",
       "WillSmith1_1_cut        1  act music         act           1     JB*\n",
       "WillSmith4_1_cut        1  act music         act           1     JB*\n",
       "WillSmith5_1_cut        1  act music         act           1     JB*\n",
       "WillSmith6_1_cut        1  act music         act           1     JB*"
      ]
     },
     "execution_count": 36,
     "metadata": {},
     "output_type": "execute_result"
    }
   ],
   "source": [
    "df.tail()"
   ]
  },
  {
   "cell_type": "markdown",
   "metadata": {},
   "source": [
    "### get percent correct for one participant"
   ]
  },
  {
   "cell_type": "code",
   "execution_count": 39,
   "metadata": {
    "collapsed": true
   },
   "outputs": [],
   "source": [
    "def makePercent(evalDf,pName):\n",
    "    d = {}\n",
    "\n",
    "    if pName == 'jb':\n",
    "        splitDf = makeRecogSplit(evalDf)\n",
    "        countDf = splitDf.drop(['corrAns','corrContext'],axis=1).groupby('jbRecog').count()\n",
    "        sumDf = splitDf.drop(['corrAns','corrContext'],axis=1).groupby('jbRecog').sum()\n",
    "        df = sumDf/countDf\n",
    "    else:\n",
    "        df = pd.DataFrame( evalDf.mean() ).T\n",
    "        df.index = [pName]\n",
    "\n",
    "    return df"
   ]
  },
  {
   "cell_type": "code",
   "execution_count": 40,
   "metadata": {},
   "outputs": [
    {
     "data": {
      "text/html": [
       "<div>\n",
       "<style>\n",
       "    .dataframe thead tr:only-child th {\n",
       "        text-align: right;\n",
       "    }\n",
       "\n",
       "    .dataframe thead th {\n",
       "        text-align: left;\n",
       "    }\n",
       "\n",
       "    .dataframe tbody tr th {\n",
       "        vertical-align: top;\n",
       "    }\n",
       "</style>\n",
       "<table border=\"1\" class=\"dataframe\">\n",
       "  <thead>\n",
       "    <tr style=\"text-align: right;\">\n",
       "      <th></th>\n",
       "      <th>context</th>\n",
       "      <th>familiarity</th>\n",
       "    </tr>\n",
       "  </thead>\n",
       "  <tbody>\n",
       "    <tr>\n",
       "      <th>example</th>\n",
       "      <td>0.664865</td>\n",
       "      <td>0.47027</td>\n",
       "    </tr>\n",
       "  </tbody>\n",
       "</table>\n",
       "</div>"
      ],
      "text/plain": [
       "          context  familiarity\n",
       "example  0.664865      0.47027"
      ]
     },
     "execution_count": 40,
     "metadata": {},
     "output_type": "execute_result"
    }
   ],
   "source": [
    "makePercent(cleanDf,'example')"
   ]
  },
  {
   "cell_type": "code",
   "execution_count": 41,
   "metadata": {
    "collapsed": true
   },
   "outputs": [],
   "source": [
    "def makeParticipant(logFile,contextDf=contextDf):\n",
    "    pName = logFile.split('/')[-1].split('_')[0]\n",
    "    \n",
    "    thisTxt = getContent(logFile)\n",
    "    thisDf = makeMergeDf(thisTxt)\n",
    "    evalDf = evalResp(thisDf,contextDf=contextDf)\n",
    "    \n",
    "    checkDf = pd.read_csv('../famousCheck/output/famousFamiliarity_%s.csv' % pName)\n",
    "    cleanDf = cleanUp(evalDf,checkDf)\n",
    "    percentDf = makePercent(cleanDf,pName)\n",
    "    return percentDf"
   ]
  },
  {
   "cell_type": "code",
   "execution_count": 42,
   "metadata": {
    "collapsed": true
   },
   "outputs": [],
   "source": [
    "thisDf = makeParticipant(logList[-1])"
   ]
  },
  {
   "cell_type": "code",
   "execution_count": 43,
   "metadata": {},
   "outputs": [
    {
     "data": {
      "text/html": [
       "<div>\n",
       "<style>\n",
       "    .dataframe thead tr:only-child th {\n",
       "        text-align: right;\n",
       "    }\n",
       "\n",
       "    .dataframe thead th {\n",
       "        text-align: left;\n",
       "    }\n",
       "\n",
       "    .dataframe tbody tr th {\n",
       "        vertical-align: top;\n",
       "    }\n",
       "</style>\n",
       "<table border=\"1\" class=\"dataframe\">\n",
       "  <thead>\n",
       "    <tr style=\"text-align: right;\">\n",
       "      <th></th>\n",
       "      <th>context</th>\n",
       "      <th>familiarity</th>\n",
       "    </tr>\n",
       "    <tr>\n",
       "      <th>jbRecog</th>\n",
       "      <th></th>\n",
       "      <th></th>\n",
       "    </tr>\n",
       "  </thead>\n",
       "  <tbody>\n",
       "    <tr>\n",
       "      <th>JB</th>\n",
       "      <td>0.582609</td>\n",
       "      <td>0.313043</td>\n",
       "    </tr>\n",
       "    <tr>\n",
       "      <th>JB*</th>\n",
       "      <td>0.800000</td>\n",
       "      <td>0.723077</td>\n",
       "    </tr>\n",
       "  </tbody>\n",
       "</table>\n",
       "</div>"
      ],
      "text/plain": [
       "          context  familiarity\n",
       "jbRecog                       \n",
       "JB       0.582609     0.313043\n",
       "JB*      0.800000     0.723077"
      ]
     },
     "execution_count": 43,
     "metadata": {},
     "output_type": "execute_result"
    }
   ],
   "source": [
    "thisDf"
   ]
  },
  {
   "cell_type": "markdown",
   "metadata": {},
   "source": [
    "### do this for all participants"
   ]
  },
  {
   "cell_type": "code",
   "execution_count": 44,
   "metadata": {
    "collapsed": true
   },
   "outputs": [],
   "source": [
    "def makeBigDf(logList,contextDf=contextDf):\n",
    "    bigDf = pd.DataFrame()\n",
    "    for logFile in logList:\n",
    "        print logFile\n",
    "        thisDf = makeParticipant(logFile,contextDf=contextDf)\n",
    "        bigDf = pd.concat([bigDf,thisDf])\n",
    "    return bigDf*100"
   ]
  },
  {
   "cell_type": "code",
   "execution_count": 45,
   "metadata": {
    "scrolled": false
   },
   "outputs": [
    {
     "name": "stdout",
     "output_type": "stream",
     "text": [
      "../famousInner/experiment/data/10_famFaceGrey_2017_Feb_06_1227.log\n",
      "../famousInner/experiment/data/11_famFaceGrey_2017_Feb_07_1027.log\n",
      "../famousInner/experiment/data/12_famFaceGrey_2017_Feb_07_1229.log\n",
      "../famousInner/experiment/data/13_famFaceGrey_2017_Feb_08_1028.log\n",
      "../famousInner/experiment/data/14_famFaceGrey_2017_Feb_08_1228.log\n",
      "../famousInner/experiment/data/15_famFaceGrey_2017_Feb_08_1444.log\n",
      "../famousInner/experiment/data/16_famFaceGrey_2017_Feb_09_1224.log\n",
      "../famousInner/experiment/data/17_famFaceGrey_2017_Feb_09_1443.log\n",
      "../famousInner/experiment/data/18_famFaceGrey_2017_Feb_16_1621.log\n",
      "../famousInner/experiment/data/19_famFaceGrey_2017_Feb_20_1032.log\n",
      "../famousInner/experiment/data/1_famFaceGrey_2017_Jan_24_1251.log\n",
      "../famousInner/experiment/data/20_famFaceGrey_2017_Feb_20_1627.log\n",
      "../famousInner/experiment/data/21_famFaceGrey_2017_Feb_22_1031.log\n",
      "../famousInner/experiment/data/22_famFaceGrey_2017_Feb_23_1429.log\n",
      "../famousInner/experiment/data/23_famFaceGrey_2017_Feb_23_1634.log\n",
      "../famousInner/experiment/data/24_famFaceGrey_2017_Feb_24_1027.log\n",
      "../famousInner/experiment/data/25_famFaceGrey_2017_Feb_24_1429.log\n",
      "../famousInner/experiment/data/26_famFaceGrey_2017_Feb_28_1210.log\n",
      "../famousInner/experiment/data/27_famFaceGrey_2017_Mrz_01_1615.log\n",
      "../famousInner/experiment/data/2_famFaceGrey_2017_Jan_25_1025.log\n",
      "../famousInner/experiment/data/3_famFaceGrey_2017_Jan_25_1225.log\n",
      "../famousInner/experiment/data/4_famFaceGrey_2017_Jan_25_1425.log\n",
      "../famousInner/experiment/data/5_famFaceGrey_2017_Jan_26_1027.log\n",
      "../famousInner/experiment/data/6_famFaceGrey_2017_Jan_27_1016.log\n",
      "../famousInner/experiment/data/7_famFaceGrey_2017_Jan_30_1434.log\n",
      "../famousInner/experiment/data/8_famFaceGrey_2017_Feb_01_1624.log\n",
      "../famousInner/experiment/data/9_famFaceGrey_2017_Feb_02_1225.log\n",
      "../famousInner/experiment/data/jb_famFaceGrey_2016_Nov_23_1406.log\n"
     ]
    }
   ],
   "source": [
    "bigDf = makeBigDf(logList)"
   ]
  },
  {
   "cell_type": "code",
   "execution_count": 46,
   "metadata": {
    "collapsed": true
   },
   "outputs": [],
   "source": [
    "bigDf.columns = [['inner']*2,bigDf.columns]"
   ]
  },
  {
   "cell_type": "code",
   "execution_count": 47,
   "metadata": {},
   "outputs": [
    {
     "data": {
      "text/html": [
       "<div>\n",
       "<style>\n",
       "    .dataframe thead tr:only-child th {\n",
       "        text-align: right;\n",
       "    }\n",
       "\n",
       "    .dataframe thead th {\n",
       "        text-align: left;\n",
       "    }\n",
       "\n",
       "    .dataframe tbody tr th {\n",
       "        vertical-align: top;\n",
       "    }\n",
       "</style>\n",
       "<table border=\"1\" class=\"dataframe\">\n",
       "  <thead>\n",
       "    <tr>\n",
       "      <th></th>\n",
       "      <th colspan=\"2\" halign=\"left\">inner</th>\n",
       "    </tr>\n",
       "    <tr>\n",
       "      <th></th>\n",
       "      <th>context</th>\n",
       "      <th>familiarity</th>\n",
       "    </tr>\n",
       "  </thead>\n",
       "  <tbody>\n",
       "    <tr>\n",
       "      <th>7</th>\n",
       "      <td>88.750000</td>\n",
       "      <td>87.500000</td>\n",
       "    </tr>\n",
       "    <tr>\n",
       "      <th>8</th>\n",
       "      <td>90.526316</td>\n",
       "      <td>89.473684</td>\n",
       "    </tr>\n",
       "    <tr>\n",
       "      <th>9</th>\n",
       "      <td>87.777778</td>\n",
       "      <td>85.000000</td>\n",
       "    </tr>\n",
       "    <tr>\n",
       "      <th>JB</th>\n",
       "      <td>58.260870</td>\n",
       "      <td>31.304348</td>\n",
       "    </tr>\n",
       "    <tr>\n",
       "      <th>JB*</th>\n",
       "      <td>80.000000</td>\n",
       "      <td>72.307692</td>\n",
       "    </tr>\n",
       "  </tbody>\n",
       "</table>\n",
       "</div>"
      ],
      "text/plain": [
       "         inner            \n",
       "       context familiarity\n",
       "7    88.750000   87.500000\n",
       "8    90.526316   89.473684\n",
       "9    87.777778   85.000000\n",
       "JB   58.260870   31.304348\n",
       "JB*  80.000000   72.307692"
      ]
     },
     "execution_count": 47,
     "metadata": {},
     "output_type": "execute_result"
    }
   ],
   "source": [
    "bigDf.tail()"
   ]
  },
  {
   "cell_type": "markdown",
   "metadata": {},
   "source": [
    "### save for later re-use"
   ]
  },
  {
   "cell_type": "code",
   "execution_count": 48,
   "metadata": {
    "collapsed": true
   },
   "outputs": [],
   "source": [
    "bigDf.to_csv('../famousInner/output/innerChoice.csv')"
   ]
  }
 ],
 "metadata": {
  "kernelspec": {
   "display_name": "Python 2",
   "language": "python",
   "name": "python2"
  },
  "language_info": {
   "codemirror_mode": {
    "name": "ipython",
    "version": 2
   },
   "file_extension": ".py",
   "mimetype": "text/x-python",
   "name": "python",
   "nbconvert_exporter": "python",
   "pygments_lexer": "ipython2",
   "version": "2.7.9"
  }
 },
 "nbformat": 4,
 "nbformat_minor": 1
}
