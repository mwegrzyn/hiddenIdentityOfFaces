{
 "cells": [
  {
   "cell_type": "markdown",
   "metadata": {},
   "source": [
    "# Celebrity Naming"
   ]
  },
  {
   "cell_type": "markdown",
   "metadata": {},
   "source": [
    "### import modules"
   ]
  },
  {
   "cell_type": "code",
   "execution_count": 3,
   "metadata": {
    "collapsed": true
   },
   "outputs": [],
   "source": [
    "import os\n",
    "import fnmatch\n",
    "\n",
    "import numpy as np\n",
    "import pandas as pd"
   ]
  },
  {
   "cell_type": "markdown",
   "metadata": {},
   "source": [
    "### get logfiles"
   ]
  },
  {
   "cell_type": "code",
   "execution_count": 4,
   "metadata": {
    "collapsed": true
   },
   "outputs": [],
   "source": [
    "def getLogfile(whichfolder, whichexperiment):\n",
    "\n",
    "    loglist = []\n",
    "    for fileName in os.listdir(whichfolder):\n",
    "        if fnmatch.fnmatch(fileName, whichexperiment):\n",
    "            loglist.append(whichfolder+fileName)\n",
    "    loglist.sort()\n",
    "    return loglist"
   ]
  },
  {
   "cell_type": "code",
   "execution_count": 7,
   "metadata": {
    "collapsed": true
   },
   "outputs": [],
   "source": [
    "logList = getLogfile('../famousInner/experiment/data/','*.csv')"
   ]
  },
  {
   "cell_type": "code",
   "execution_count": 8,
   "metadata": {},
   "outputs": [
    {
     "data": {
      "text/plain": [
       "['../famousInner/experiment/data/6_famFaceGrey_2017_Jan_27_1016.csv',\n",
       " '../famousInner/experiment/data/7_famFaceGrey_2017_Jan_30_1434.csv',\n",
       " '../famousInner/experiment/data/8_famFaceGrey_2017_Feb_01_1624.csv',\n",
       " '../famousInner/experiment/data/9_famFaceGrey_2017_Feb_02_1225.csv',\n",
       " '../famousInner/experiment/data/jb_famFaceGrey_2016_Nov_23_1406.csv']"
      ]
     },
     "execution_count": 8,
     "metadata": {},
     "output_type": "execute_result"
    }
   ],
   "source": [
    "logList[-5:]"
   ]
  },
  {
   "cell_type": "markdown",
   "metadata": {},
   "source": [
    "### get logfile into df"
   ]
  },
  {
   "cell_type": "code",
   "execution_count": 9,
   "metadata": {
    "collapsed": true
   },
   "outputs": [],
   "source": [
    "def makeDf(csvFile):\n",
    "    df = pd.read_csv(csvFile,index_col=[0],header=0)\n",
    "    thisDf = pd.concat([df['pic'], df['inputText'] ],axis=1)\n",
    "    thisDf.columns = ['filename','text']\n",
    "    #thisDf = thisDf.dropna()\n",
    "    return thisDf.loc[thisDf.index[1:]]"
   ]
  },
  {
   "cell_type": "code",
   "execution_count": 10,
   "metadata": {
    "collapsed": true
   },
   "outputs": [],
   "source": [
    "thisDf = makeDf(logList[-1])"
   ]
  },
  {
   "cell_type": "code",
   "execution_count": 11,
   "metadata": {
    "scrolled": true
   },
   "outputs": [
    {
     "data": {
      "text/html": [
       "<div>\n",
       "<style>\n",
       "    .dataframe thead tr:only-child th {\n",
       "        text-align: right;\n",
       "    }\n",
       "\n",
       "    .dataframe thead th {\n",
       "        text-align: left;\n",
       "    }\n",
       "\n",
       "    .dataframe tbody tr th {\n",
       "        vertical-align: top;\n",
       "    }\n",
       "</style>\n",
       "<table border=\"1\" class=\"dataframe\">\n",
       "  <thead>\n",
       "    <tr style=\"text-align: right;\">\n",
       "      <th></th>\n",
       "      <th>filename</th>\n",
       "      <th>text</th>\n",
       "    </tr>\n",
       "    <tr>\n",
       "      <th>num</th>\n",
       "      <th></th>\n",
       "      <th></th>\n",
       "    </tr>\n",
       "  </thead>\n",
       "  <tbody>\n",
       "    <tr>\n",
       "      <th>87.0</th>\n",
       "      <td>./greyInner/Ice-T(OdafinFinTutuola)12_1_cut.png</td>\n",
       "      <td>Law und order</td>\n",
       "    </tr>\n",
       "    <tr>\n",
       "      <th>166.0</th>\n",
       "      <td>./greyInner/RobertSeanLeonard(Wilson)1_1_cut.png</td>\n",
       "      <td>Wilson</td>\n",
       "    </tr>\n",
       "    <tr>\n",
       "      <th>77.0</th>\n",
       "      <td>./greyInner/GeorgeClooney15_1_cut.png</td>\n",
       "      <td>NaN</td>\n",
       "    </tr>\n",
       "    <tr>\n",
       "      <th>112.0</th>\n",
       "      <td>./greyInner/JoshRadnor(Ted)3_1_cut.png</td>\n",
       "      <td>NaN</td>\n",
       "    </tr>\n",
       "    <tr>\n",
       "      <th>156.0</th>\n",
       "      <td>./greyInner/NicoleKidman14_1_cut.png</td>\n",
       "      <td>Nicole Kidman</td>\n",
       "    </tr>\n",
       "  </tbody>\n",
       "</table>\n",
       "</div>"
      ],
      "text/plain": [
       "                                               filename            text\n",
       "num                                                                    \n",
       "87.0    ./greyInner/Ice-T(OdafinFinTutuola)12_1_cut.png  Law und order \n",
       "166.0  ./greyInner/RobertSeanLeonard(Wilson)1_1_cut.png          Wilson\n",
       "77.0              ./greyInner/GeorgeClooney15_1_cut.png             NaN\n",
       "112.0            ./greyInner/JoshRadnor(Ted)3_1_cut.png             NaN\n",
       "156.0              ./greyInner/NicoleKidman14_1_cut.png   Nicole Kidman"
      ]
     },
     "execution_count": 11,
     "metadata": {},
     "output_type": "execute_result"
    }
   ],
   "source": [
    "thisDf.head()"
   ]
  },
  {
   "cell_type": "markdown",
   "metadata": {},
   "source": [
    "### checking if naming is correct (does not take typos,nicknames,abbrevations etc. into account)"
   ]
  },
  {
   "cell_type": "code",
   "execution_count": 12,
   "metadata": {
    "collapsed": true
   },
   "outputs": [],
   "source": [
    "def firstRoughCheck(thisDf):\n",
    "    d = {}\n",
    "    for entry in thisDf.index:\n",
    "        thisEntry = thisDf.loc[entry]\n",
    "        #print thisEntry\n",
    "        fileName = str(thisEntry.filename).lower()\n",
    "        try:\n",
    "            ans = str(thisEntry.text).lower()\n",
    "        except:\n",
    "            #print thisEntry.text\n",
    "            ans = '9999999999'\n",
    "        d[entry] = 0\n",
    "        for subentry in ans.split():\n",
    "            if subentry in fileName:\n",
    "                d[entry] = 1\n",
    "                \n",
    "    df = pd.DataFrame(d,index=['hit']).T   \n",
    "    autoDf = pd.concat([thisDf,df],axis=1)\n",
    "    return autoDf"
   ]
  },
  {
   "cell_type": "code",
   "execution_count": 13,
   "metadata": {
    "collapsed": true
   },
   "outputs": [],
   "source": [
    "autoDf = firstRoughCheck(thisDf)"
   ]
  },
  {
   "cell_type": "code",
   "execution_count": 14,
   "metadata": {
    "scrolled": true
   },
   "outputs": [
    {
     "data": {
      "text/html": [
       "<div>\n",
       "<style>\n",
       "    .dataframe thead tr:only-child th {\n",
       "        text-align: right;\n",
       "    }\n",
       "\n",
       "    .dataframe thead th {\n",
       "        text-align: left;\n",
       "    }\n",
       "\n",
       "    .dataframe tbody tr th {\n",
       "        vertical-align: top;\n",
       "    }\n",
       "</style>\n",
       "<table border=\"1\" class=\"dataframe\">\n",
       "  <thead>\n",
       "    <tr style=\"text-align: right;\">\n",
       "      <th></th>\n",
       "      <th>filename</th>\n",
       "      <th>text</th>\n",
       "      <th>hit</th>\n",
       "    </tr>\n",
       "  </thead>\n",
       "  <tbody>\n",
       "    <tr>\n",
       "      <th>1.0</th>\n",
       "      <td>./greyInner/AlysonHannigan(Lily)1_1_cut.png</td>\n",
       "      <td>Lily</td>\n",
       "      <td>1</td>\n",
       "    </tr>\n",
       "    <tr>\n",
       "      <th>2.0</th>\n",
       "      <td>./greyInner/AlysonHannigan(Lily)12_2_cut.png</td>\n",
       "      <td>Lily</td>\n",
       "      <td>1</td>\n",
       "    </tr>\n",
       "    <tr>\n",
       "      <th>3.0</th>\n",
       "      <td>./greyInner/AlysonHannigan(Lily)14_2_cut.png</td>\n",
       "      <td>Lily</td>\n",
       "      <td>1</td>\n",
       "    </tr>\n",
       "    <tr>\n",
       "      <th>4.0</th>\n",
       "      <td>./greyInner/AlysonHannigan(Lily)5_4_cut.png</td>\n",
       "      <td>Lily</td>\n",
       "      <td>1</td>\n",
       "    </tr>\n",
       "    <tr>\n",
       "      <th>5.0</th>\n",
       "      <td>./greyInner/AlysonHannigan(Lily)8_3_cut.png</td>\n",
       "      <td>Lily</td>\n",
       "      <td>1</td>\n",
       "    </tr>\n",
       "  </tbody>\n",
       "</table>\n",
       "</div>"
      ],
      "text/plain": [
       "                                         filename  text  hit\n",
       "1.0   ./greyInner/AlysonHannigan(Lily)1_1_cut.png  Lily    1\n",
       "2.0  ./greyInner/AlysonHannigan(Lily)12_2_cut.png  Lily    1\n",
       "3.0  ./greyInner/AlysonHannigan(Lily)14_2_cut.png  Lily    1\n",
       "4.0   ./greyInner/AlysonHannigan(Lily)5_4_cut.png  Lily    1\n",
       "5.0   ./greyInner/AlysonHannigan(Lily)8_3_cut.png  Lily    1"
      ]
     },
     "execution_count": 14,
     "metadata": {},
     "output_type": "execute_result"
    }
   ],
   "source": [
    "autoDf.head()"
   ]
  },
  {
   "cell_type": "code",
   "execution_count": 15,
   "metadata": {},
   "outputs": [
    {
     "data": {
      "text/plain": [
       "(224, 3)"
      ]
     },
     "execution_count": 15,
     "metadata": {},
     "output_type": "execute_result"
    }
   ],
   "source": [
    "autoDf.shape"
   ]
  },
  {
   "cell_type": "markdown",
   "metadata": {},
   "source": [
    "### load file checking familiarity with celebrities and eliminate unfamiliar"
   ]
  },
  {
   "cell_type": "code",
   "execution_count": 16,
   "metadata": {
    "collapsed": true
   },
   "outputs": [],
   "source": [
    "pName = 'jb'"
   ]
  },
  {
   "cell_type": "code",
   "execution_count": 17,
   "metadata": {
    "collapsed": true
   },
   "outputs": [],
   "source": [
    "checkDf = pd.read_csv('../famousCheck/output/famousFamiliarity_%s.csv' % pName)"
   ]
  },
  {
   "cell_type": "code",
   "execution_count": 18,
   "metadata": {
    "scrolled": true
   },
   "outputs": [
    {
     "data": {
      "text/html": [
       "<div>\n",
       "<style>\n",
       "    .dataframe thead tr:only-child th {\n",
       "        text-align: right;\n",
       "    }\n",
       "\n",
       "    .dataframe thead th {\n",
       "        text-align: left;\n",
       "    }\n",
       "\n",
       "    .dataframe tbody tr th {\n",
       "        vertical-align: top;\n",
       "    }\n",
       "</style>\n",
       "<table border=\"1\" class=\"dataframe\">\n",
       "  <thead>\n",
       "    <tr style=\"text-align: right;\">\n",
       "      <th></th>\n",
       "      <th>img</th>\n",
       "      <th>name</th>\n",
       "      <th>bekannt</th>\n",
       "    </tr>\n",
       "  </thead>\n",
       "  <tbody>\n",
       "    <tr>\n",
       "      <th>0</th>\n",
       "      <td>./img/Beyonce2.jpg</td>\n",
       "      <td>Beyoncé</td>\n",
       "      <td>ja</td>\n",
       "    </tr>\n",
       "    <tr>\n",
       "      <th>1</th>\n",
       "      <td>./img/AlysonHannigan(Lily)1.jpg</td>\n",
       "      <td>Alyson Hannigan</td>\n",
       "      <td>ja</td>\n",
       "    </tr>\n",
       "    <tr>\n",
       "      <th>2</th>\n",
       "      <td>./img/RobertSeanLeonard(Wilson)2.jpg</td>\n",
       "      <td>Robert Sean Leonard</td>\n",
       "      <td>ja</td>\n",
       "    </tr>\n",
       "    <tr>\n",
       "      <th>3</th>\n",
       "      <td>./img/GuentherJauch2.jpg</td>\n",
       "      <td>Günther Jauch</td>\n",
       "      <td>ja</td>\n",
       "    </tr>\n",
       "    <tr>\n",
       "      <th>4</th>\n",
       "      <td>./img/JimParsons(SheldonCooper)1.jpg</td>\n",
       "      <td>Jim Parsons</td>\n",
       "      <td>ja</td>\n",
       "    </tr>\n",
       "    <tr>\n",
       "      <th>5</th>\n",
       "      <td>./img/SigmarGabriel1.jpg</td>\n",
       "      <td>Sigmar Gabriel</td>\n",
       "      <td>ja</td>\n",
       "    </tr>\n",
       "    <tr>\n",
       "      <th>6</th>\n",
       "      <td>./img/Shakira1.jpg</td>\n",
       "      <td>Shakira</td>\n",
       "      <td>ja</td>\n",
       "    </tr>\n",
       "    <tr>\n",
       "      <th>7</th>\n",
       "      <td>./img/SahraWagenknecht6.jpg</td>\n",
       "      <td>Sahra Wagenknecht</td>\n",
       "      <td>ja</td>\n",
       "    </tr>\n",
       "    <tr>\n",
       "      <th>8</th>\n",
       "      <td>./img/NicoleKidman4.jpg</td>\n",
       "      <td>Nicole Kidman</td>\n",
       "      <td>ja</td>\n",
       "    </tr>\n",
       "    <tr>\n",
       "      <th>9</th>\n",
       "      <td>./img/TaylorSwift1.jpg</td>\n",
       "      <td>Taylor Swift</td>\n",
       "      <td>nein</td>\n",
       "    </tr>\n",
       "    <tr>\n",
       "      <th>10</th>\n",
       "      <td>./img/BritneySpears5.jpg</td>\n",
       "      <td>Britney Spears</td>\n",
       "      <td>ja</td>\n",
       "    </tr>\n",
       "    <tr>\n",
       "      <th>11</th>\n",
       "      <td>./img/EmmaWatson(HermioneGranger)1.jpg</td>\n",
       "      <td>Emma Watson</td>\n",
       "      <td>nein</td>\n",
       "    </tr>\n",
       "    <tr>\n",
       "      <th>12</th>\n",
       "      <td>./img/JudithRakers7.jpg</td>\n",
       "      <td>Judith Rakers</td>\n",
       "      <td>ja</td>\n",
       "    </tr>\n",
       "    <tr>\n",
       "      <th>13</th>\n",
       "      <td>./img/BarackObama2.jpg</td>\n",
       "      <td>Barack Obama</td>\n",
       "      <td>ja</td>\n",
       "    </tr>\n",
       "    <tr>\n",
       "      <th>14</th>\n",
       "      <td>./img/CobieSmulders(Robin)2.jpg</td>\n",
       "      <td>Cobie Smulders</td>\n",
       "      <td>ja</td>\n",
       "    </tr>\n",
       "    <tr>\n",
       "      <th>15</th>\n",
       "      <td>./img/KatjaBurkard5.jpg</td>\n",
       "      <td>Katja Burkard</td>\n",
       "      <td>ja</td>\n",
       "    </tr>\n",
       "    <tr>\n",
       "      <th>16</th>\n",
       "      <td>./img/JoachimLoew1.jpg</td>\n",
       "      <td>Joachim Löw</td>\n",
       "      <td>ja</td>\n",
       "    </tr>\n",
       "    <tr>\n",
       "      <th>17</th>\n",
       "      <td>./img/TomCruise2.jpg</td>\n",
       "      <td>Tom Cruise</td>\n",
       "      <td>ja</td>\n",
       "    </tr>\n",
       "    <tr>\n",
       "      <th>18</th>\n",
       "      <td>./img/BastianSchweinsteiger1.jpg</td>\n",
       "      <td>Bastian Schweinsteiger</td>\n",
       "      <td>ja</td>\n",
       "    </tr>\n",
       "    <tr>\n",
       "      <th>19</th>\n",
       "      <td>./img/MariskaHargitay(Liv)1.jpg</td>\n",
       "      <td>Mariska Hargitay</td>\n",
       "      <td>ja</td>\n",
       "    </tr>\n",
       "    <tr>\n",
       "      <th>20</th>\n",
       "      <td>./img/Ice-T(OdafinFinTutuola)1.jpg</td>\n",
       "      <td>Ice-T</td>\n",
       "      <td>ja</td>\n",
       "    </tr>\n",
       "    <tr>\n",
       "      <th>21</th>\n",
       "      <td>./img/MilaKunis5.jpg</td>\n",
       "      <td>Mila Kunis</td>\n",
       "      <td>ja</td>\n",
       "    </tr>\n",
       "    <tr>\n",
       "      <th>22</th>\n",
       "      <td>./img/JoshRadnor(Ted)1.jpg</td>\n",
       "      <td>Josh Radnor</td>\n",
       "      <td>ja</td>\n",
       "    </tr>\n",
       "    <tr>\n",
       "      <th>23</th>\n",
       "      <td>./img/EmilyDeschanel3.jpg</td>\n",
       "      <td>Emily Deschanel</td>\n",
       "      <td>ja</td>\n",
       "    </tr>\n",
       "    <tr>\n",
       "      <th>24</th>\n",
       "      <td>./img/JanHofer1.jpg</td>\n",
       "      <td>Jan Hofer</td>\n",
       "      <td>ja</td>\n",
       "    </tr>\n",
       "    <tr>\n",
       "      <th>25</th>\n",
       "      <td>./img/BenedictCumberbatch4.jpg</td>\n",
       "      <td>Benedict Cumberbatch</td>\n",
       "      <td>nein</td>\n",
       "    </tr>\n",
       "    <tr>\n",
       "      <th>26</th>\n",
       "      <td>./img/LisaEdelstein(DrLisaCuddy)2.jpg</td>\n",
       "      <td>Lisa Edelstein</td>\n",
       "      <td>ja</td>\n",
       "    </tr>\n",
       "    <tr>\n",
       "      <th>27</th>\n",
       "      <td>./img/CarenMiosga4.jpg</td>\n",
       "      <td>Caren Miosga</td>\n",
       "      <td>ja</td>\n",
       "    </tr>\n",
       "    <tr>\n",
       "      <th>28</th>\n",
       "      <td>./img/Usher1.jpg</td>\n",
       "      <td>Usher</td>\n",
       "      <td>nein</td>\n",
       "    </tr>\n",
       "    <tr>\n",
       "      <th>29</th>\n",
       "      <td>./img/OmarEpps(DrEricForeman)1.jpg</td>\n",
       "      <td>Omar Epps</td>\n",
       "      <td>ja</td>\n",
       "    </tr>\n",
       "    <tr>\n",
       "      <th>30</th>\n",
       "      <td>./img/GeorgeClooney6.jpg</td>\n",
       "      <td>George Clooney</td>\n",
       "      <td>ja</td>\n",
       "    </tr>\n",
       "    <tr>\n",
       "      <th>31</th>\n",
       "      <td>./img/DannFlorek(DonaldDonCragen)1.jpg</td>\n",
       "      <td>Dann Florek</td>\n",
       "      <td>ja</td>\n",
       "    </tr>\n",
       "    <tr>\n",
       "      <th>32</th>\n",
       "      <td>./img/UrsulavonderLeyen1.jpg</td>\n",
       "      <td>Ursula von der Leyen</td>\n",
       "      <td>ja</td>\n",
       "    </tr>\n",
       "    <tr>\n",
       "      <th>33</th>\n",
       "      <td>./img/HughLaurie(DrHouse)9.jpg</td>\n",
       "      <td>Hugh Laurie</td>\n",
       "      <td>ja</td>\n",
       "    </tr>\n",
       "    <tr>\n",
       "      <th>34</th>\n",
       "      <td>./img/KaleyCuoco(Penny)2.jpg</td>\n",
       "      <td>Kaley Cuoco</td>\n",
       "      <td>ja</td>\n",
       "    </tr>\n",
       "    <tr>\n",
       "      <th>35</th>\n",
       "      <td>./img/WillSmith4.jpg</td>\n",
       "      <td>Will Smith</td>\n",
       "      <td>ja</td>\n",
       "    </tr>\n",
       "    <tr>\n",
       "      <th>36</th>\n",
       "      <td>./img/CristinMilioti(Tracy_Mutter)1.jpg</td>\n",
       "      <td>Cristin Milioti</td>\n",
       "      <td>nein</td>\n",
       "    </tr>\n",
       "    <tr>\n",
       "      <th>37</th>\n",
       "      <td>./img/AngelaMerkel1.jpg</td>\n",
       "      <td>Angela Merkel</td>\n",
       "      <td>ja</td>\n",
       "    </tr>\n",
       "    <tr>\n",
       "      <th>38</th>\n",
       "      <td>./img/ElvisPresley1.jpg</td>\n",
       "      <td>Elvis Presley</td>\n",
       "      <td>ja</td>\n",
       "    </tr>\n",
       "    <tr>\n",
       "      <th>39</th>\n",
       "      <td>./img/LeonardoDiCaprio1.jpg</td>\n",
       "      <td>Leonardo DiCaprio</td>\n",
       "      <td>ja</td>\n",
       "    </tr>\n",
       "    <tr>\n",
       "      <th>40</th>\n",
       "      <td>./img/JasonSegel(Marshall)2.jpg</td>\n",
       "      <td>Jason Segel</td>\n",
       "      <td>ja</td>\n",
       "    </tr>\n",
       "    <tr>\n",
       "      <th>41</th>\n",
       "      <td>./img/NeilPatrickHarris(Barney)4.jpg</td>\n",
       "      <td>Neil Patrick Harris</td>\n",
       "      <td>ja</td>\n",
       "    </tr>\n",
       "  </tbody>\n",
       "</table>\n",
       "</div>"
      ],
      "text/plain": [
       "                                        img                    name bekannt\n",
       "0                        ./img/Beyonce2.jpg                 Beyoncé      ja\n",
       "1           ./img/AlysonHannigan(Lily)1.jpg         Alyson Hannigan      ja\n",
       "2      ./img/RobertSeanLeonard(Wilson)2.jpg     Robert Sean Leonard      ja\n",
       "3                  ./img/GuentherJauch2.jpg           Günther Jauch      ja\n",
       "4      ./img/JimParsons(SheldonCooper)1.jpg             Jim Parsons      ja\n",
       "5                  ./img/SigmarGabriel1.jpg          Sigmar Gabriel      ja\n",
       "6                        ./img/Shakira1.jpg                 Shakira      ja\n",
       "7               ./img/SahraWagenknecht6.jpg       Sahra Wagenknecht      ja\n",
       "8                   ./img/NicoleKidman4.jpg           Nicole Kidman      ja\n",
       "9                    ./img/TaylorSwift1.jpg            Taylor Swift    nein\n",
       "10                 ./img/BritneySpears5.jpg          Britney Spears      ja\n",
       "11   ./img/EmmaWatson(HermioneGranger)1.jpg             Emma Watson    nein\n",
       "12                  ./img/JudithRakers7.jpg           Judith Rakers      ja\n",
       "13                   ./img/BarackObama2.jpg            Barack Obama      ja\n",
       "14          ./img/CobieSmulders(Robin)2.jpg          Cobie Smulders      ja\n",
       "15                  ./img/KatjaBurkard5.jpg           Katja Burkard      ja\n",
       "16                   ./img/JoachimLoew1.jpg             Joachim Löw      ja\n",
       "17                     ./img/TomCruise2.jpg              Tom Cruise      ja\n",
       "18         ./img/BastianSchweinsteiger1.jpg  Bastian Schweinsteiger      ja\n",
       "19          ./img/MariskaHargitay(Liv)1.jpg        Mariska Hargitay      ja\n",
       "20       ./img/Ice-T(OdafinFinTutuola)1.jpg                   Ice-T      ja\n",
       "21                     ./img/MilaKunis5.jpg              Mila Kunis      ja\n",
       "22               ./img/JoshRadnor(Ted)1.jpg             Josh Radnor      ja\n",
       "23                ./img/EmilyDeschanel3.jpg         Emily Deschanel      ja\n",
       "24                      ./img/JanHofer1.jpg               Jan Hofer      ja\n",
       "25           ./img/BenedictCumberbatch4.jpg    Benedict Cumberbatch    nein\n",
       "26    ./img/LisaEdelstein(DrLisaCuddy)2.jpg          Lisa Edelstein      ja\n",
       "27                   ./img/CarenMiosga4.jpg            Caren Miosga      ja\n",
       "28                         ./img/Usher1.jpg                   Usher    nein\n",
       "29       ./img/OmarEpps(DrEricForeman)1.jpg               Omar Epps      ja\n",
       "30                 ./img/GeorgeClooney6.jpg          George Clooney      ja\n",
       "31   ./img/DannFlorek(DonaldDonCragen)1.jpg             Dann Florek      ja\n",
       "32             ./img/UrsulavonderLeyen1.jpg    Ursula von der Leyen      ja\n",
       "33           ./img/HughLaurie(DrHouse)9.jpg             Hugh Laurie      ja\n",
       "34             ./img/KaleyCuoco(Penny)2.jpg             Kaley Cuoco      ja\n",
       "35                     ./img/WillSmith4.jpg              Will Smith      ja\n",
       "36  ./img/CristinMilioti(Tracy_Mutter)1.jpg         Cristin Milioti    nein\n",
       "37                  ./img/AngelaMerkel1.jpg           Angela Merkel      ja\n",
       "38                  ./img/ElvisPresley1.jpg           Elvis Presley      ja\n",
       "39              ./img/LeonardoDiCaprio1.jpg       Leonardo DiCaprio      ja\n",
       "40          ./img/JasonSegel(Marshall)2.jpg             Jason Segel      ja\n",
       "41     ./img/NeilPatrickHarris(Barney)4.jpg     Neil Patrick Harris      ja"
      ]
     },
     "execution_count": 18,
     "metadata": {},
     "output_type": "execute_result"
    }
   ],
   "source": [
    "checkDf"
   ]
  },
  {
   "cell_type": "markdown",
   "metadata": {},
   "source": [
    "### search for people who are not familiar:"
   ]
  },
  {
   "cell_type": "code",
   "execution_count": 23,
   "metadata": {
    "collapsed": true,
    "scrolled": true
   },
   "outputs": [],
   "source": [
    "def cleanUp(autoDf,checkDf):\n",
    "    newDf = autoDf.copy()\n",
    "    for know in checkDf.index:\n",
    "        thisName = checkDf.loc[know]['name']\n",
    "        thisSplit = thisName.lower().split()\n",
    "\n",
    "        try:\n",
    "            thisShort = '%s%s' % tuple(thisSplit[:2])\n",
    "        except:\n",
    "            thisShort = '%s' % tuple(thisSplit[:])\n",
    "\n",
    "        thisCheck = checkDf.loc[know]['bekannt']\n",
    "        if thisCheck == 'nein':\n",
    "            print 'who is %s???' % thisName\n",
    "            for entry in newDf.index:\n",
    "                if thisShort in newDf.loc[entry]['filename'].lower():\n",
    "                    #print thisShort, newDf.loc[entry]['filename']\n",
    "                    newDf = newDf.drop(entry)\n",
    "                    \n",
    "    # get rid of the unfamous\n",
    "    for entry in newDf.index:\n",
    "        if 'notfamous' in newDf.loc[entry]['filename']:\n",
    "            newDf = newDf.drop(entry)\n",
    "\n",
    "    return newDf"
   ]
  },
  {
   "cell_type": "code",
   "execution_count": 24,
   "metadata": {},
   "outputs": [
    {
     "name": "stdout",
     "output_type": "stream",
     "text": [
      "who is Taylor Swift???\n",
      "who is Emma Watson???\n",
      "who is Benedict Cumberbatch???\n",
      "who is Usher???\n",
      "who is Cristin Milioti???\n"
     ]
    }
   ],
   "source": [
    "cleanDf = cleanUp(autoDf,checkDf)"
   ]
  },
  {
   "cell_type": "code",
   "execution_count": 25,
   "metadata": {},
   "outputs": [
    {
     "data": {
      "text/html": [
       "<div>\n",
       "<style>\n",
       "    .dataframe thead tr:only-child th {\n",
       "        text-align: right;\n",
       "    }\n",
       "\n",
       "    .dataframe thead th {\n",
       "        text-align: left;\n",
       "    }\n",
       "\n",
       "    .dataframe tbody tr th {\n",
       "        vertical-align: top;\n",
       "    }\n",
       "</style>\n",
       "<table border=\"1\" class=\"dataframe\">\n",
       "  <thead>\n",
       "    <tr style=\"text-align: right;\">\n",
       "      <th></th>\n",
       "      <th>filename</th>\n",
       "      <th>text</th>\n",
       "      <th>hit</th>\n",
       "    </tr>\n",
       "  </thead>\n",
       "  <tbody>\n",
       "    <tr>\n",
       "      <th>206.0</th>\n",
       "      <td>./greyInner/WillSmith1_1_cut.png</td>\n",
       "      <td>Will Smith</td>\n",
       "      <td>1</td>\n",
       "    </tr>\n",
       "    <tr>\n",
       "      <th>207.0</th>\n",
       "      <td>./greyInner/WillSmith14_1_cut.png</td>\n",
       "      <td>Will Smith</td>\n",
       "      <td>1</td>\n",
       "    </tr>\n",
       "    <tr>\n",
       "      <th>208.0</th>\n",
       "      <td>./greyInner/WillSmith4_1_cut.png</td>\n",
       "      <td>Will Smith</td>\n",
       "      <td>1</td>\n",
       "    </tr>\n",
       "    <tr>\n",
       "      <th>209.0</th>\n",
       "      <td>./greyInner/WillSmith5_1_cut.png</td>\n",
       "      <td>Will Smith</td>\n",
       "      <td>1</td>\n",
       "    </tr>\n",
       "    <tr>\n",
       "      <th>210.0</th>\n",
       "      <td>./greyInner/WillSmith6_1_cut.png</td>\n",
       "      <td>Will Smith</td>\n",
       "      <td>1</td>\n",
       "    </tr>\n",
       "  </tbody>\n",
       "</table>\n",
       "</div>"
      ],
      "text/plain": [
       "                                filename        text  hit\n",
       "206.0   ./greyInner/WillSmith1_1_cut.png  Will Smith    1\n",
       "207.0  ./greyInner/WillSmith14_1_cut.png  Will Smith    1\n",
       "208.0   ./greyInner/WillSmith4_1_cut.png  Will Smith    1\n",
       "209.0   ./greyInner/WillSmith5_1_cut.png  Will Smith    1\n",
       "210.0   ./greyInner/WillSmith6_1_cut.png  Will Smith    1"
      ]
     },
     "execution_count": 25,
     "metadata": {},
     "output_type": "execute_result"
    }
   ],
   "source": [
    "cleanDf.tail()"
   ]
  },
  {
   "cell_type": "code",
   "execution_count": 26,
   "metadata": {},
   "outputs": [
    {
     "data": {
      "text/plain": [
       "(185, 3)"
      ]
     },
     "execution_count": 26,
     "metadata": {},
     "output_type": "execute_result"
    }
   ],
   "source": [
    "cleanDf.shape"
   ]
  },
  {
   "cell_type": "markdown",
   "metadata": {},
   "source": [
    "### check incorrect answers for typos"
   ]
  },
  {
   "cell_type": "code",
   "execution_count": 27,
   "metadata": {
    "collapsed": true,
    "scrolled": true
   },
   "outputs": [],
   "source": [
    "def showIncorrect(cleanDf):\n",
    "    dummyDict = {}\n",
    "    cleanerDf = cleanDf.copy()\n",
    "    for entry in cleanerDf.index:\n",
    "        thisEntry = cleanerDf.loc[entry]\n",
    "        if thisEntry.hit == 0 and str(thisEntry.text) != 'nan':\n",
    "                dummyDict[entry] = {'filename':thisEntry.filename,'text':thisEntry.text}\n",
    "    return pd.DataFrame(dummyDict).T"
   ]
  },
  {
   "cell_type": "code",
   "execution_count": 28,
   "metadata": {
    "scrolled": true
   },
   "outputs": [
    {
     "data": {
      "text/html": [
       "<div>\n",
       "<style>\n",
       "    .dataframe thead tr:only-child th {\n",
       "        text-align: right;\n",
       "    }\n",
       "\n",
       "    .dataframe thead th {\n",
       "        text-align: left;\n",
       "    }\n",
       "\n",
       "    .dataframe tbody tr th {\n",
       "        vertical-align: top;\n",
       "    }\n",
       "</style>\n",
       "<table border=\"1\" class=\"dataframe\">\n",
       "  <thead>\n",
       "    <tr style=\"text-align: right;\">\n",
       "      <th></th>\n",
       "      <th>filename</th>\n",
       "      <th>text</th>\n",
       "    </tr>\n",
       "  </thead>\n",
       "  <tbody>\n",
       "    <tr>\n",
       "      <th>39.0</th>\n",
       "      <td>./greyInner/CarenMiosga6_2_cut.png</td>\n",
       "      <td>Kate Winslett</td>\n",
       "    </tr>\n",
       "    <tr>\n",
       "      <th>42.0</th>\n",
       "      <td>./greyInner/CobieSmulders(Robin)2_1_cut.png</td>\n",
       "      <td>Mariska</td>\n",
       "    </tr>\n",
       "    <tr>\n",
       "      <th>51.0</th>\n",
       "      <td>./greyInner/DannFlorek(DonaldDonCragen)1_1_cut...</td>\n",
       "      <td>Chef bei Law und Order</td>\n",
       "    </tr>\n",
       "    <tr>\n",
       "      <th>61.0</th>\n",
       "      <td>./greyInner/EmilyDeschanel15_1_cut.png</td>\n",
       "      <td>Bones</td>\n",
       "    </tr>\n",
       "    <tr>\n",
       "      <th>62.0</th>\n",
       "      <td>./greyInner/EmilyDeschanel3_1_cut.png</td>\n",
       "      <td>Bones</td>\n",
       "    </tr>\n",
       "    <tr>\n",
       "      <th>63.0</th>\n",
       "      <td>./greyInner/EmilyDeschanel5_1_cut.png</td>\n",
       "      <td>Bones</td>\n",
       "    </tr>\n",
       "    <tr>\n",
       "      <th>64.0</th>\n",
       "      <td>./greyInner/EmilyDeschanel6_12_cut.png</td>\n",
       "      <td>eine von Spice Girls</td>\n",
       "    </tr>\n",
       "    <tr>\n",
       "      <th>65.0</th>\n",
       "      <td>./greyInner/EmilyDeschanel8_3_cut.png</td>\n",
       "      <td>Bones</td>\n",
       "    </tr>\n",
       "    <tr>\n",
       "      <th>76.0</th>\n",
       "      <td>./greyInner/GeorgeClooney11_1_cut.png</td>\n",
       "      <td>Charlie Sheen</td>\n",
       "    </tr>\n",
       "    <tr>\n",
       "      <th>86.0</th>\n",
       "      <td>./greyInner/Ice-T(OdafinFinTutuola)10_1_cut.png</td>\n",
       "      <td>Law\u0016 und Order</td>\n",
       "    </tr>\n",
       "    <tr>\n",
       "      <th>87.0</th>\n",
       "      <td>./greyInner/Ice-T(OdafinFinTutuola)12_1_cut.png</td>\n",
       "      <td>Law und order</td>\n",
       "    </tr>\n",
       "    <tr>\n",
       "      <th>88.0</th>\n",
       "      <td>./greyInner/Ice-T(OdafinFinTutuola)5_1_cut.png</td>\n",
       "      <td>Law und Order</td>\n",
       "    </tr>\n",
       "    <tr>\n",
       "      <th>89.0</th>\n",
       "      <td>./greyInner/Ice-T(OdafinFinTutuola)6_1_cut.png</td>\n",
       "      <td>Law und Order</td>\n",
       "    </tr>\n",
       "    <tr>\n",
       "      <th>90.0</th>\n",
       "      <td>./greyInner/Ice-T(OdafinFinTutuola)7_1_cut.png</td>\n",
       "      <td>Law und Order</td>\n",
       "    </tr>\n",
       "    <tr>\n",
       "      <th>104.0</th>\n",
       "      <td>./greyInner/JimParsons(SheldonCooper)8_1_cut.png</td>\n",
       "      <td>Wilson</td>\n",
       "    </tr>\n",
       "    <tr>\n",
       "      <th>106.0</th>\n",
       "      <td>./greyInner/JoachimLoew1_1_cut.png</td>\n",
       "      <td>Jogi Löw</td>\n",
       "    </tr>\n",
       "    <tr>\n",
       "      <th>107.0</th>\n",
       "      <td>./greyInner/JoachimLoew12_1_cut.png</td>\n",
       "      <td>Wilson</td>\n",
       "    </tr>\n",
       "    <tr>\n",
       "      <th>108.0</th>\n",
       "      <td>./greyInner/JoachimLoew15_1_cut.png</td>\n",
       "      <td>Jogi Löw</td>\n",
       "    </tr>\n",
       "    <tr>\n",
       "      <th>109.0</th>\n",
       "      <td>./greyInner/JoachimLoew4_1_cut.png</td>\n",
       "      <td>Jogi Löw</td>\n",
       "    </tr>\n",
       "    <tr>\n",
       "      <th>110.0</th>\n",
       "      <td>./greyInner/JoachimLoew8_1_cut.png</td>\n",
       "      <td>Jogi Löw</td>\n",
       "    </tr>\n",
       "    <tr>\n",
       "      <th>132.0</th>\n",
       "      <td>./greyInner/LeonardoDiCaprio2_1_cut.png</td>\n",
       "      <td>Brad Pit</td>\n",
       "    </tr>\n",
       "  </tbody>\n",
       "</table>\n",
       "</div>"
      ],
      "text/plain": [
       "                                                filename  \\\n",
       "39.0                  ./greyInner/CarenMiosga6_2_cut.png   \n",
       "42.0         ./greyInner/CobieSmulders(Robin)2_1_cut.png   \n",
       "51.0   ./greyInner/DannFlorek(DonaldDonCragen)1_1_cut...   \n",
       "61.0              ./greyInner/EmilyDeschanel15_1_cut.png   \n",
       "62.0               ./greyInner/EmilyDeschanel3_1_cut.png   \n",
       "63.0               ./greyInner/EmilyDeschanel5_1_cut.png   \n",
       "64.0              ./greyInner/EmilyDeschanel6_12_cut.png   \n",
       "65.0               ./greyInner/EmilyDeschanel8_3_cut.png   \n",
       "76.0               ./greyInner/GeorgeClooney11_1_cut.png   \n",
       "86.0     ./greyInner/Ice-T(OdafinFinTutuola)10_1_cut.png   \n",
       "87.0     ./greyInner/Ice-T(OdafinFinTutuola)12_1_cut.png   \n",
       "88.0      ./greyInner/Ice-T(OdafinFinTutuola)5_1_cut.png   \n",
       "89.0      ./greyInner/Ice-T(OdafinFinTutuola)6_1_cut.png   \n",
       "90.0      ./greyInner/Ice-T(OdafinFinTutuola)7_1_cut.png   \n",
       "104.0   ./greyInner/JimParsons(SheldonCooper)8_1_cut.png   \n",
       "106.0                 ./greyInner/JoachimLoew1_1_cut.png   \n",
       "107.0                ./greyInner/JoachimLoew12_1_cut.png   \n",
       "108.0                ./greyInner/JoachimLoew15_1_cut.png   \n",
       "109.0                 ./greyInner/JoachimLoew4_1_cut.png   \n",
       "110.0                 ./greyInner/JoachimLoew8_1_cut.png   \n",
       "132.0            ./greyInner/LeonardoDiCaprio2_1_cut.png   \n",
       "\n",
       "                         text  \n",
       "39.0            Kate Winslett  \n",
       "42.0                  Mariska  \n",
       "51.0   Chef bei Law und Order  \n",
       "61.0                    Bones  \n",
       "62.0                    Bones  \n",
       "63.0                    Bones  \n",
       "64.0     eine von Spice Girls  \n",
       "65.0                    Bones  \n",
       "76.0            Charlie Sheen  \n",
       "86.0           Law\u0016 und Order  \n",
       "87.0           Law und order   \n",
       "88.0            Law und Order  \n",
       "89.0            Law und Order  \n",
       "90.0            Law und Order  \n",
       "104.0                  Wilson  \n",
       "106.0                Jogi Löw  \n",
       "107.0                  Wilson  \n",
       "108.0                Jogi Löw  \n",
       "109.0                Jogi Löw  \n",
       "110.0                Jogi Löw  \n",
       "132.0                Brad Pit  "
      ]
     },
     "execution_count": 28,
     "metadata": {},
     "output_type": "execute_result"
    }
   ],
   "source": [
    "showIncorrect(cleanDf)"
   ]
  },
  {
   "cell_type": "markdown",
   "metadata": {},
   "source": [
    "Above, we see that some of the incorrect answers are in fact correct. The character name of Emiliy Deschanel is Bones and Loew and Löw are the same thing."
   ]
  },
  {
   "cell_type": "markdown",
   "metadata": {},
   "source": [
    "## Do this for one participant"
   ]
  },
  {
   "cell_type": "code",
   "execution_count": 29,
   "metadata": {
    "collapsed": true
   },
   "outputs": [],
   "source": [
    "def makePreliminary(logFile):\n",
    "\n",
    "    pName = logFile.split('/')[-1].split('_')[0]\n",
    "\n",
    "    thisDf = makeDf(logFile)\n",
    "    autoDf = firstRoughCheck(thisDf)\n",
    "    checkDf = pd.read_csv('../famousInner/experiment/data/famousFamiliarity_%s.csv' % pName)\n",
    "    cleanDf = cleanUp(autoDf,checkDf)\n",
    "    \n",
    "    cleanDf = cleanDf.sort_values(by='hit').sort_values(by='text')\n",
    "    outDf = cleanDf.to_csv('../famousInner/experiment/data/famousFacesClean_%s.csv' % pName)\n",
    "    return"
   ]
  },
  {
   "cell_type": "markdown",
   "metadata": {},
   "source": [
    "This should only be run the very first time. Later, we check the resulting data by hand, so we must not overwrite these hand-corrected results by re-running this function."
   ]
  },
  {
   "cell_type": "code",
   "execution_count": 30,
   "metadata": {
    "collapsed": true,
    "scrolled": true
   },
   "outputs": [],
   "source": [
    "#makePreliminary(logList[-1])"
   ]
  },
  {
   "cell_type": "markdown",
   "metadata": {},
   "source": [
    "### do this for all participants"
   ]
  },
  {
   "cell_type": "code",
   "execution_count": 31,
   "metadata": {
    "collapsed": true,
    "scrolled": true
   },
   "outputs": [],
   "source": [
    "#for logFile in logList:\n",
    "#    print '\\n############# %s #############\\n' % logFile\n",
    "#    makePreliminary(logFile)"
   ]
  },
  {
   "cell_type": "markdown",
   "metadata": {},
   "source": [
    "### Correct the logfiles by hand"
   ]
  },
  {
   "cell_type": "markdown",
   "metadata": {},
   "source": [
    "After the automated rough cleanup, all logfiles have been re-evaluated by hand, because sometimes there are minor typos and sometimes the names of roles the actors played instead of their actual names are used (we consider both to be correct). So the following data have been checked by hand and not just processed with the previous scripts."
   ]
  },
  {
   "cell_type": "markdown",
   "metadata": {},
   "source": [
    "## Re-load all hand-corrected answers"
   ]
  },
  {
   "cell_type": "code",
   "execution_count": 32,
   "metadata": {
    "collapsed": true
   },
   "outputs": [],
   "source": [
    "checkedList = getLogfile('../famousInner/dataClean/','famousFacesClean*.csv')"
   ]
  },
  {
   "cell_type": "code",
   "execution_count": 33,
   "metadata": {},
   "outputs": [
    {
     "data": {
      "text/plain": [
       "['../famousInner/dataClean/famousFacesClean_6_u.csv',\n",
       " '../famousInner/dataClean/famousFacesClean_7_u.csv',\n",
       " '../famousInner/dataClean/famousFacesClean_8_u.csv',\n",
       " '../famousInner/dataClean/famousFacesClean_9_u.csv',\n",
       " '../famousInner/dataClean/famousFacesClean_jb_u.csv']"
      ]
     },
     "execution_count": 33,
     "metadata": {},
     "output_type": "execute_result"
    }
   ],
   "source": [
    "checkedList[-5:]"
   ]
  },
  {
   "cell_type": "code",
   "execution_count": 34,
   "metadata": {
    "scrolled": true
   },
   "outputs": [
    {
     "data": {
      "text/html": [
       "<div>\n",
       "<style>\n",
       "    .dataframe thead tr:only-child th {\n",
       "        text-align: right;\n",
       "    }\n",
       "\n",
       "    .dataframe thead th {\n",
       "        text-align: left;\n",
       "    }\n",
       "\n",
       "    .dataframe tbody tr th {\n",
       "        vertical-align: top;\n",
       "    }\n",
       "</style>\n",
       "<table border=\"1\" class=\"dataframe\">\n",
       "  <thead>\n",
       "    <tr style=\"text-align: right;\">\n",
       "      <th></th>\n",
       "      <th>filename</th>\n",
       "      <th>text</th>\n",
       "    </tr>\n",
       "  </thead>\n",
       "  <tbody>\n",
       "    <tr>\n",
       "      <th>39</th>\n",
       "      <td>./greyInner/CarenMiosga6_2_cut.png</td>\n",
       "      <td>Kate Winslett</td>\n",
       "    </tr>\n",
       "    <tr>\n",
       "      <th>42</th>\n",
       "      <td>./greyInner/CobieSmulders(Robin)2_1_cut.png</td>\n",
       "      <td>Mariska</td>\n",
       "    </tr>\n",
       "    <tr>\n",
       "      <th>51</th>\n",
       "      <td>./greyInner/DannFlorek(DonaldDonCragen)1_1_cut...</td>\n",
       "      <td>Chef bei Law und Order</td>\n",
       "    </tr>\n",
       "    <tr>\n",
       "      <th>64</th>\n",
       "      <td>./greyInner/EmilyDeschanel6_12_cut.png</td>\n",
       "      <td>eine von Spice Girls</td>\n",
       "    </tr>\n",
       "    <tr>\n",
       "      <th>76</th>\n",
       "      <td>./greyInner/GeorgeClooney11_1_cut.png</td>\n",
       "      <td>Charlie Sheen</td>\n",
       "    </tr>\n",
       "    <tr>\n",
       "      <th>86</th>\n",
       "      <td>./greyInner/Ice-T(OdafinFinTutuola)10_1_cut.png</td>\n",
       "      <td>Law\u0016 und Order</td>\n",
       "    </tr>\n",
       "    <tr>\n",
       "      <th>87</th>\n",
       "      <td>./greyInner/Ice-T(OdafinFinTutuola)12_1_cut.png</td>\n",
       "      <td>Law und order</td>\n",
       "    </tr>\n",
       "    <tr>\n",
       "      <th>88</th>\n",
       "      <td>./greyInner/Ice-T(OdafinFinTutuola)5_1_cut.png</td>\n",
       "      <td>Law und Order</td>\n",
       "    </tr>\n",
       "    <tr>\n",
       "      <th>89</th>\n",
       "      <td>./greyInner/Ice-T(OdafinFinTutuola)6_1_cut.png</td>\n",
       "      <td>Law und Order</td>\n",
       "    </tr>\n",
       "    <tr>\n",
       "      <th>90</th>\n",
       "      <td>./greyInner/Ice-T(OdafinFinTutuola)7_1_cut.png</td>\n",
       "      <td>Law und Order</td>\n",
       "    </tr>\n",
       "    <tr>\n",
       "      <th>104</th>\n",
       "      <td>./greyInner/JimParsons(SheldonCooper)8_1_cut.png</td>\n",
       "      <td>Wilson</td>\n",
       "    </tr>\n",
       "    <tr>\n",
       "      <th>107</th>\n",
       "      <td>./greyInner/JoachimLoew12_1_cut.png</td>\n",
       "      <td>Wilson</td>\n",
       "    </tr>\n",
       "    <tr>\n",
       "      <th>132</th>\n",
       "      <td>./greyInner/LeonardoDiCaprio2_1_cut.png</td>\n",
       "      <td>Brad Pit</td>\n",
       "    </tr>\n",
       "    <tr>\n",
       "      <th>161</th>\n",
       "      <td>./greyInner/OmarEpps(DrEricForeman)1_5_cut.png</td>\n",
       "      <td>Dr House</td>\n",
       "    </tr>\n",
       "    <tr>\n",
       "      <th>163</th>\n",
       "      <td>./greyInner/OmarEpps(DrEricForeman)3_1_cut.png</td>\n",
       "      <td>Dr House</td>\n",
       "    </tr>\n",
       "    <tr>\n",
       "      <th>164</th>\n",
       "      <td>./greyInner/OmarEpps(DrEricForeman)5_2_cut.png</td>\n",
       "      <td>Dr Hous</td>\n",
       "    </tr>\n",
       "  </tbody>\n",
       "</table>\n",
       "</div>"
      ],
      "text/plain": [
       "                                              filename                    text\n",
       "39                  ./greyInner/CarenMiosga6_2_cut.png           Kate Winslett\n",
       "42         ./greyInner/CobieSmulders(Robin)2_1_cut.png                 Mariska\n",
       "51   ./greyInner/DannFlorek(DonaldDonCragen)1_1_cut...  Chef bei Law und Order\n",
       "64              ./greyInner/EmilyDeschanel6_12_cut.png    eine von Spice Girls\n",
       "76               ./greyInner/GeorgeClooney11_1_cut.png           Charlie Sheen\n",
       "86     ./greyInner/Ice-T(OdafinFinTutuola)10_1_cut.png          Law\u0016 und Order\n",
       "87     ./greyInner/Ice-T(OdafinFinTutuola)12_1_cut.png          Law und order \n",
       "88      ./greyInner/Ice-T(OdafinFinTutuola)5_1_cut.png           Law und Order\n",
       "89      ./greyInner/Ice-T(OdafinFinTutuola)6_1_cut.png           Law und Order\n",
       "90      ./greyInner/Ice-T(OdafinFinTutuola)7_1_cut.png           Law und Order\n",
       "104   ./greyInner/JimParsons(SheldonCooper)8_1_cut.png                  Wilson\n",
       "107                ./greyInner/JoachimLoew12_1_cut.png                  Wilson\n",
       "132            ./greyInner/LeonardoDiCaprio2_1_cut.png                Brad Pit\n",
       "161     ./greyInner/OmarEpps(DrEricForeman)1_5_cut.png                Dr House\n",
       "163     ./greyInner/OmarEpps(DrEricForeman)3_1_cut.png                Dr House\n",
       "164     ./greyInner/OmarEpps(DrEricForeman)5_2_cut.png                 Dr Hous"
      ]
     },
     "execution_count": 34,
     "metadata": {},
     "output_type": "execute_result"
    }
   ],
   "source": [
    "showIncorrect( pd.read_csv(checkedList[-1],index_col=[0],delimiter=';') )"
   ]
  },
  {
   "cell_type": "markdown",
   "metadata": {},
   "source": [
    "Above we see the same table as before, but after correction by hand."
   ]
  },
  {
   "cell_type": "markdown",
   "metadata": {},
   "source": [
    "### show what incorrect responses are left (excluding no responses)"
   ]
  },
  {
   "cell_type": "code",
   "execution_count": 35,
   "metadata": {
    "collapsed": true,
    "scrolled": true
   },
   "outputs": [],
   "source": [
    "def showWhatsLeft(df):\n",
    "    copyDf = df.copy()\n",
    "    \n",
    "    dummyDict = {}\n",
    "    for entry in df.index:\n",
    "        thisEntry = df.loc[entry]\n",
    "        if thisEntry.hit == 0 and str(thisEntry.text) != 'nan':\n",
    "            dummyDict[entry] = {'filename':thisEntry.filename,'text':thisEntry.text}\n",
    "    \n",
    "    printDf = pd.DataFrame(dummyDict).T\n",
    "    \n",
    "    for idx in printDf.index:\n",
    "        print '%s\\t%s' % (printDf.loc[idx].filename,printDf.loc[idx].text)"
   ]
  },
  {
   "cell_type": "code",
   "execution_count": 36,
   "metadata": {
    "scrolled": true
   },
   "outputs": [
    {
     "name": "stdout",
     "output_type": "stream",
     "text": [
      "\n",
      "############# ../famousInner/dataClean/famousFacesClean_10_u.csv #############\n",
      "\n",
      "./greyInner/LisaEdelstein(DrLisaCuddy)2_2_cut.png\tchefin von house\n",
      "./greyInner/OmarEpps(DrEricForeman)1_5_cut.png\tdr house untertan\n",
      "./greyInner/Shakira3_1_cut.png\tbeyonce\n",
      "./greyInner/Shakira7_1_cut.png\tbeyonce\n",
      "./greyInner/Shakira9_1_cut.png\tdie aus sin city\n",
      "./greyInner/UrsulavonderLeyen1_1_cut.png\thillary\n",
      "./greyInner/UrsulavonderLeyen4_1_cut.png\thillary clinton\n",
      "\n",
      "############# ../famousInner/dataClean/famousFacesClean_11_u.csv #############\n",
      "\n",
      "./greyInner/BastianSchweinsteiger1_1_cut.png\tFußballspieler\n",
      "./greyInner/BastianSchweinsteiger12_1_cut.png\tFußballspieler\n",
      "./greyInner/BastianSchweinsteiger14_1_cut.png\tIn Fußball\n",
      "./greyInner/BastianSchweinsteiger3_1_cut.png\tFußballspieler\n",
      "./greyInner/BastianSchweinsteiger6_2_cut.png\tFußbalspieler\n",
      "./greyInner/GeorgeClooney4_2_cut.png\tBerad pit\n",
      "./greyInner/JoachimLoew1_1_cut.png\tFußballtrainer\n",
      "./greyInner/JoachimLoew15_1_cut.png\tTrainer\n",
      "./greyInner/JoachimLoew4_1_cut.png\tFußballTrainer\n",
      "./greyInner/JoachimLoew8_1_cut.png\tFußballtrainer\n",
      "./greyInner/LeonardoDiCaprio1_1_cut.png\ttitanic\n",
      "./greyInner/LeonardoDiCaprio2_1_cut.png\tTitanic\n",
      "./greyInner/LeonardoDiCaprio3_1_cut.png\tTitanic\n",
      "./greyInner/LeonardoDiCaprio4_1_cut.png\tTitanic\n",
      "./greyInner/LeonardoDiCaprio7_1_cut.png\tTitanic\n",
      "./greyInner/WillSmith1_1_cut.png\tan seine Filme kann ich nicht errinern\n",
      "./greyInner/WillSmith4_1_cut.png\tan seine Filme jkann ich mich nicht errinern\n",
      "./greyInner/WillSmith5_1_cut.png\tleider ich mich nich  an Seine Filme errinern\n",
      "./greyInner/WillSmith6_1_cut.png\tAnseine Filme kann mich nicht errinern\n",
      "\n",
      "############# ../famousInner/dataClean/famousFacesClean_12_u.csv #############\n",
      "\n",
      "./greyInner/AlysonHannigan(Lily)1_1_cut.png\tSpielt bei How I met your mother\n",
      "./greyInner/AlysonHannigan(Lily)12_2_cut.png\tSpielt bei How I met your mother\n",
      "./greyInner/AlysonHannigan(Lily)5_4_cut.png\tSpielt bei How I met your mother\n",
      "./greyInner/CobieSmulders(Robin)3_4_cut.png\tSpielt bei How I met your mother mit\n",
      "./greyInner/KaleyCuoco(Penny)10_1_cut.png\tSpielt auch in der Serie Big Bang Theory mit\n",
      "./greyInner/KaleyCuoco(Penny)14_2_cut.png\tSpielt bei the Big bang Theory\n",
      "./greyInner/KaleyCuoco(Penny)3_1_cut.png\tSpielt bei The big bang Theory\n",
      "./greyInner/KaleyCuoco(Penny)5_2_cut.png\tSpielt bei Big bang Theory\n",
      "./greyInner/KaleyCuoco(Penny)7_1_cut.png\tSpielt auch bei Big Bang Theory\n",
      "./greyInner/KatjaBurkard1_1_cut.png\tWieder die von Punkt 12\n",
      "./greyInner/KatjaBurkard5_3_cut.png\tModeriert Punkt 12 bei RTL und lispelt\n",
      "./greyInner/NicoleKidman5_1_cut.png\tScarlett Johannsson\n",
      "./greyInner/Shakira1_1_cut.png\tEnissa Amani\n",
      "./greyInner/TaylorSwift7_1_cut.png\tScarlett Johannson\n",
      "./greyInner/TomCruise6_1_cut.png\tRalf Schuhmacher\n",
      "./greyInner/UrsulavonderLeyen4_1_cut.png\tAnne Will\n",
      "\n",
      "############# ../famousInner/dataClean/famousFacesClean_13_u.csv #############\n",
      "\n",
      "./greyInner/NicoleKidman14_1_cut.png\tMadonna\n",
      "./greyInner/Shakira1_1_cut.png\tJennifer Lopez\n",
      "./greyInner/Shakira9_1_cut.png\tBeyonce\n",
      "\n",
      "############# ../famousInner/dataClean/famousFacesClean_14_u.csv #############\n",
      "\n",
      "./greyInner/AlysonHannigan(Lily)1_1_cut.png\tlindsey stirling\n",
      "./greyInner/AlysonHannigan(Lily)14_2_cut.png\tstirling\n",
      "./greyInner/AlysonHannigan(Lily)5_4_cut.png\tstirling\n",
      "./greyInner/AlysonHannigan(Lily)8_3_cut.png\tstirling\n",
      "./greyInner/CobieSmulders(Robin)3_4_cut.png\tbrazil\n",
      "./greyInner/EmmaWatson(HermioneGranger)11_2_cut.png\tlindsey lohan\n",
      "./greyInner/EmmaWatson(HermioneGranger)3_1_cut.png\tolsen\n",
      "./greyInner/EmmaWatson(HermioneGranger)9_1_cut.png\tolsen\n",
      "./greyInner/GeorgeClooney11_1_cut.png\tchyu hefner\n",
      "./greyInner/GeorgeClooney16_1_cut.png\tbrazil\n",
      "./greyInner/Ice-T(OdafinFinTutuola)12_1_cut.png\tschwarzneger\n",
      "./greyInner/Ice-T(OdafinFinTutuola)7_1_cut.png\tschwarzneger\n",
      "./greyInner/JimParsons(SheldonCooper)6_1_cut.png\tlost\n",
      "./greyInner/JoshRadnor(Ted)7_1_cut.png\tosborn\n",
      "./greyInner/KaleyCuoco(Penny)10_1_cut.png\tolsen schwester\n",
      "./greyInner/KaleyCuoco(Penny)5_2_cut.png\tspirs\n",
      "./greyInner/KaleyCuoco(Penny)7_1_cut.png\tbritney\n",
      "./greyInner/LeonardoDiCaprio1_1_cut.png\toskar\n",
      "./greyInner/LeonardoDiCaprio3_1_cut.png\toskar\n",
      "./greyInner/LeonardoDiCaprio4_1_cut.png\ttitanic\n",
      "./greyInner/LisaEdelstein(DrLisaCuddy)10_1_cut.png\tbrazil\n",
      "./greyInner/LisaEdelstein(DrLisaCuddy)2_2_cut.png\tdoktor haus\n",
      "./greyInner/LisaEdelstein(DrLisaCuddy)6_3_cut.png\tserial comedien\n",
      "./greyInner/LisaEdelstein(DrLisaCuddy)9_1_cut.png\tbrasil\n",
      "./greyInner/NeilPatrickHarris(Barney)13_4_cut.png\tcomedien\n",
      "./greyInner/OmarEpps(DrEricForeman)1_5_cut.png\trep\n",
      "./greyInner/OmarEpps(DrEricForeman)2_2_cut.png\tcomedien\n",
      "./greyInner/RobertSeanLeonard(Wilson)1_1_cut.png\tpatrik\n",
      "./greyInner/RobertSeanLeonard(Wilson)10_1_cut.png\tcomedien\n",
      "./greyInner/RobertSeanLeonard(Wilson)2_6_cut.png\tpatrik\n",
      "./greyInner/TomCruise4_1_cut.png\tbred pit\n",
      "./greyInner/TomCruise7_1_cut.png\tbred pit\n",
      "./greyInner/WillSmith1_1_cut.png\tmerfi\n",
      "./greyInner/WillSmith4_1_cut.png\tmerfi\n",
      "./greyInner/WillSmith5_1_cut.png\tcomedien\n",
      "./greyInner/WillSmith6_1_cut.png\tcomedien\n",
      "\n",
      "############# ../famousInner/dataClean/famousFacesClean_15_u.csv #############\n",
      "\n",
      "./greyInner/AlysonHannigan(Lily)14_2_cut.png\t \n",
      "./greyInner/CobieSmulders(Robin)2_1_cut.png\tAdele\n",
      "./greyInner/CobieSmulders(Robin)5_1_cut.png\tAdele\n",
      "./greyInner/JimParsons(SheldonCooper)1_1_cut.png\tSchauspieler aus Big Bang Theory\n",
      "./greyInner/JimParsons(SheldonCooper)10_1_cut.png\tBig Bang Theory\n",
      "./greyInner/JimParsons(SheldonCooper)8_1_cut.png\tSchauspieler aus der Big Bang Theory\n",
      "./greyInner/Shakira3_1_cut.png\tBritney Spears\n",
      "\n",
      "############# ../famousInner/dataClean/famousFacesClean_16_u.csv #############\n",
      "\n",
      "./greyInner/EmilyDeschanel15_1_cut.png\tBrooke Shields\n",
      "./greyInner/EmilyDeschanel8_3_cut.png\tBrooke Shields\n",
      "./greyInner/LisaEdelstein(DrLisaCuddy)10_1_cut.png\tDarstellerin aus Dr House\n",
      "./greyInner/LisaEdelstein(DrLisaCuddy)2_2_cut.png\tDarstellerin bei Dr House\n",
      "./greyInner/LisaEdelstein(DrLisaCuddy)6_3_cut.png\tDarstellerin bei Dr House\n",
      "./greyInner/MilaKunis1_3_cut.png\tDarstellerin aus Black Swan\n",
      "./greyInner/MilaKunis10_1_cut.png\tBlack Swan Darstellerin\n",
      "./greyInner/MilaKunis4_1_cut.png\tDarstellerin bei Black Swan\n",
      "./greyInner/MilaKunis5_2_cut.png\tBlack Swann Darstellerin mit Ashton Kutcher zusammen\n",
      "./greyInner/MilaKunis7_3_cut.png\tBlack Swan Darstellerin\n",
      "./greyInner/OmarEpps(DrEricForeman)1_5_cut.png\tDarsteller bei Dr House\n",
      "./greyInner/OmarEpps(DrEricForeman)2_2_cut.png\tDr House Darsteller\n",
      "./greyInner/OmarEpps(DrEricForeman)3_1_cut.png\tDarsteller bei Dr House\n",
      "./greyInner/OmarEpps(DrEricForeman)9_1_cut.png\tDarsteller aus Dr House\n",
      "./greyInner/RobertSeanLeonard(Wilson)1_1_cut.png\tDarsteller bei Dr House\n",
      "./greyInner/RobertSeanLeonard(Wilson)10_1_cut.png\tDarsteller aus Dr House\n",
      "./greyInner/RobertSeanLeonard(Wilson)11_2_cut.png\tDr House Darsteller\n",
      "./greyInner/RobertSeanLeonard(Wilson)8_1_cut.png\tDr House Darsteller\n",
      "./greyInner/Usher1_1_cut.png\tRapper\n",
      "./greyInner/Usher11_1_cut.png\tRapper\n",
      "./greyInner/Usher2_1_cut.png\tRapper\n",
      "./greyInner/Usher4_1_cut.png\tRapper\n",
      "./greyInner/Usher7_1_cut.png\tRapper\n",
      "\n",
      "############# ../famousInner/dataClean/famousFacesClean_17_u.csv #############\n",
      "\n",
      "./greyInner/AlysonHannigan(Lily)14_2_cut.png\tAmerican Pie\n",
      "./greyInner/JasonSegel(Marshall)14_1_cut.png\tFilm Bad teacher\n",
      "./greyInner/JasonSegel(Marshall)6_1_cut.png\tFilm Bad Teacher Sportlehrer\n",
      "./greyInner/JasonSegel(Marshall)7_1_cut.png\tBad teacher Sportlehrer\n",
      "./greyInner/JasonSegel(Marshall)9_1_cut.png\tBad teacher Sportlehrer\n",
      "./greyInner/JoachimLoew4_1_cut.png\tBeatles\n",
      "./greyInner/KaleyCuoco(Penny)3_1_cut.png\tFilm \u0012Eheman meiner Freundin\n",
      "\n",
      "############# ../famousInner/dataClean/famousFacesClean_18_u.csv #############\n",
      "\n",
      "./greyInner/CarenMiosga1_1_cut.png\tAnne Will\n",
      "./greyInner/CarenMiosga6_2_cut.png\tAnne Will\n",
      "./greyInner/CobieSmulders(Robin)3_4_cut.png\tHow I met your mother \n",
      "./greyInner/HughLaurie(DrHouse)2_1_cut.png\taus amerikanischer Krimiserie\n",
      "./greyInner/HughLaurie(DrHouse)4_1_cut.png\taus einer amerikanischen Krimiserie\n",
      "./greyInner/HughLaurie(DrHouse)9_2_cut.png\tKrimiserie\n",
      "./greyInner/JasonSegel(Marshall)6_1_cut.png\tHow I met your mother Mann von Lilly\n",
      "./greyInner/JasonSegel(Marshall)7_1_cut.png\tMann von Lilly bei How I Met your mother \n",
      "./greyInner/KatjaBurkard4_1_cut.png\tFrauke Ludowig\n",
      "./greyInner/KatjaBurkard5_3_cut.png\tFrauke Ludowig\n",
      "./greyInner/Shakira7_1_cut.png\tBeyonce Knowles\n",
      "./greyInner/Usher11_1_cut.png\tFällt mir nicht ein Amerikanischer Rapper\n",
      "\n",
      "############# ../famousInner/dataClean/famousFacesClean_19_u.csv #############\n",
      "\n",
      "./greyInner/KatjaBurkard1_1_cut.png\tArbeitet bei RTL\n",
      "./greyInner/KatjaBurkard10_1_cut.png\tArbeitet bei RTL\n",
      "./greyInner/KatjaBurkard5_3_cut.png\tArbeitet bei RTL\n",
      "./greyInner/NicoleKidman14_1_cut.png\tKylie Minouge\n",
      "./greyInner/NicoleKidman5_1_cut.png\tKylie Minouge\n",
      "./greyInner/NicoleKidman7_1_cut.png\tKylie Minouge\n",
      "./greyInner/SigmarGabriel4_5_cut.png\tAußenminister\n",
      "./greyInner/TomCruise5_1_cut.png\tTom Hanks\n",
      "./greyInner/TomCruise6_1_cut.png\tTom Hanks\n",
      "\n",
      "############# ../famousInner/dataClean/famousFacesClean_1_u.csv #############\n",
      "\n",
      "./greyInner/MilaKunis1_3_cut.png\tRihanna\n",
      "./greyInner/NicoleKidman8_2_cut.png\tNena\n",
      "./greyInner/Shakira7_1_cut.png\tBeyonce\n",
      "./greyInner/TomCruise4_1_cut.png\tHugh Grant\n",
      "./greyInner/TomCruise5_1_cut.png\tHugh Grant\n",
      "./greyInner/TomCruise6_1_cut.png\tHugh Grant\n",
      "./greyInner/Usher1_1_cut.png\tJeason Derulo\n",
      "./greyInner/Usher11_1_cut.png\tJeason Derulo\n",
      "./greyInner/Usher4_1_cut.png\tJeason Derulo\n",
      "./greyInner/WillSmith4_1_cut.png\tMan in black\n",
      "./greyInner/WillSmith5_1_cut.png\tMan in black\n",
      "./greyInner/WillSmith6_1_cut.png\tMan in Black\n",
      "\n",
      "############# ../famousInner/dataClean/famousFacesClean_20_u.csv #############\n",
      "\n"
     ]
    },
    {
     "name": "stdout",
     "output_type": "stream",
     "text": [
      "./greyInner/AlysonHannigan(Lily)1_1_cut.png\tHow I met your Mother\n",
      "./greyInner/AlysonHannigan(Lily)14_2_cut.png\tHimym\n",
      "./greyInner/AlysonHannigan(Lily)5_4_cut.png\thow I met your mother\n",
      "./greyInner/AlysonHannigan(Lily)8_3_cut.png\tHow I met your mother\n",
      "./greyInner/CobieSmulders(Robin)12_1_cut.png\tdie andere aus How I met your mother\n",
      "./greyInner/CobieSmulders(Robin)2_1_cut.png\tdie andere aus How I met your Mother\n",
      "./greyInner/CobieSmulders(Robin)3_4_cut.png\tdie andere aus How I met your mother\n",
      "./greyInner/CobieSmulders(Robin)4_7_cut.png\thow I met your Mother\n",
      "./greyInner/EmilyDeschanel15_1_cut.png\taus einer amerikanischen Serie \u0018irgendwas mit Vampieren\u0019\n",
      "./greyInner/JanHofer5_1_cut.png\tModerator von Hart aber fair\n",
      "./greyInner/JasonSegel(Marshall)11_1_cut.png\taus Dem Film Bad teacher der Sportlehrer\n",
      "./greyInner/JasonSegel(Marshall)14_1_cut.png\tamerikanische Serie\n",
      "./greyInner/JasonSegel(Marshall)6_1_cut.png\tamerikanische Serie\n",
      "./greyInner/JasonSegel(Marshall)7_1_cut.png\taus einer amerikanischen Serie\n",
      "./greyInner/JasonSegel(Marshall)9_1_cut.png\tamerikanische Serie\n",
      "./greyInner/JoshRadnor(Ted)1_2_cut.png\taus einer amerikanischen Serie\n",
      "./greyInner/JoshRadnor(Ted)3_1_cut.png\tAmerikanische Serie\n",
      "./greyInner/JoshRadnor(Ted)7_1_cut.png\tserie\n",
      "./greyInner/JoshRadnor(Ted)9_1_cut.png\taus einer amerikanischen Serie\n",
      "./greyInner/LisaEdelstein(DrLisaCuddy)1_1_cut.png\tdie klinikleitende Aerztin aus Dr House\n",
      "./greyInner/LisaEdelstein(DrLisaCuddy)10_1_cut.png\tDie klinikleitende Aerztin aus Dr House\n",
      "./greyInner/LisaEdelstein(DrLisaCuddy)2_2_cut.png\tspielt die Klinikleitende aerztin in Dr House\n",
      "./greyInner/LisaEdelstein(DrLisaCuddy)6_3_cut.png\tdie klinikleitende Aertztin aus Dr House\n",
      "./greyInner/MilaKunis4_1_cut.png\tSelena Gomez\n",
      "./greyInner/MilaKunis5_2_cut.png\tselena gomez\n",
      "./greyInner/MilaKunis7_3_cut.png\tdie Frau von Giovanni Zarella\n",
      "./greyInner/OmarEpps(DrEricForeman)2_2_cut.png\tspielt einen der Aerzte aus dem Team von Dr House\n",
      "./greyInner/Shakira3_1_cut.png\tBrittney Spears\n",
      "./greyInner/UrsulavonderLeyen7_1_cut.png\tehemalige Familienministerin jetzt Verteidigungsministerin\n",
      "\n",
      "############# ../famousInner/dataClean/famousFacesClean_21_u.csv #############\n",
      "\n",
      "./greyInner/EmmaWatson(HermioneGranger)11_2_cut.png\tHarry Poter\n",
      "./greyInner/EmmaWatson(HermioneGranger)16_1_cut.png\tHerry Poter\n",
      "./greyInner/EmmaWatson(HermioneGranger)3_1_cut.png\tHarry Poter\n",
      "./greyInner/EmmaWatson(HermioneGranger)9_1_cut.png\tHarry Poter\n",
      "./greyInner/GuentherJauch4_1_cut.png\twer wird Millioner\n",
      "./greyInner/GuentherJauch9_1_cut.png\twer wird Millioner\n",
      "./greyInner/HughLaurie(DrHouse)4_1_cut.png\tArzt\n",
      "./greyInner/HughLaurie(DrHouse)8_1_cut.png\tArzt\n",
      "./greyInner/HughLaurie(DrHouse)9_2_cut.png\tArzt\n",
      "./greyInner/KatjaBurkard10_1_cut.png\tPunkt 12\n",
      "./greyInner/KatjaBurkard4_1_cut.png\tPunkt 12\n",
      "./greyInner/NeilPatrickHarris(Barney)1_1_cut.png\tSteven\n",
      "./greyInner/NeilPatrickHarris(Barney)13_4_cut.png\tSteven\n",
      "./greyInner/NeilPatrickHarris(Barney)2_2_cut.png\tSteven\n",
      "./greyInner/NeilPatrickHarris(Barney)3_7_cut.png\tSteven\n",
      "./greyInner/SahraWagenknecht5_1_cut.png\tGrüne\n",
      "./greyInner/SigmarGabriel11_3_cut.png\tSpd\n",
      "./greyInner/SigmarGabriel3_3_cut.png\tSpd\n",
      "./greyInner/SigmarGabriel4_5_cut.png\tSpd\n",
      "./greyInner/SigmarGabriel8_2_cut.png\tSpd\n",
      "./greyInner/UrsulavonderLeyen1_1_cut.png\tvon Davart\n",
      "./greyInner/UrsulavonderLeyen4_1_cut.png\tvan Davart\n",
      "./greyInner/UrsulavonderLeyen7_1_cut.png\tvan Davart\n",
      "./greyInner/UrsulavonderLeyen8_2_cut.png\tvan Davart\n",
      "\n",
      "############# ../famousInner/dataClean/famousFacesClean_22_u.csv #############\n",
      "\n",
      "./greyInner/JoachimLoew15_1_cut.png\tjürgen klopp\n",
      "./greyInner/NicoleKidman14_1_cut.png\tkylie \n",
      "./greyInner/NicoleKidman3_1_cut.png\tkylie\n",
      "./greyInner/NicoleKidman7_1_cut.png\tkylie\n",
      "./greyInner/NicoleKidman8_2_cut.png\tkylie\n",
      "./greyInner/OmarEpps(DrEricForeman)9_1_cut.png\twill\n",
      "./greyInner/Shakira3_1_cut.png\tbritney spears\n",
      "\n",
      "############# ../famousInner/dataClean/famousFacesClean_23_u.csv #############\n",
      "\n",
      "./greyInner/WillSmith5_1_cut.png\tUsher\n",
      "\n",
      "############# ../famousInner/dataClean/famousFacesClean_24_u.csv #############\n",
      "\n",
      "./greyInner/CarenMiosga1_1_cut.png\tPolitikerin in England\n",
      "./greyInner/CarenMiosga9_1_cut.png\tAngela Merkel\n",
      "./greyInner/CristinMilioti(Tracy_Mutter)10_1_cut.png\tdie Mutter von how i met your mother\n",
      "./greyInner/CristinMilioti(Tracy_Mutter)4_2_cut.png\tdie Mutter von Mow im met your mother\n",
      "./greyInner/CristinMilioti(Tracy_Mutter)8_1_cut.png\tDie Mutter von How i met your mother\n",
      "./greyInner/EmilyDeschanel5_1_cut.png\tNicole Kitman\n",
      "./greyInner/GeorgeClooney16_1_cut.png\tDr Haus\n",
      "./greyInner/Ice-T(OdafinFinTutuola)10_1_cut.png\tHip Hop Dr drake\n",
      "./greyInner/Ice-T(OdafinFinTutuola)12_1_cut.png\tHip Hop\n",
      "./greyInner/Ice-T(OdafinFinTutuola)5_1_cut.png\tHip Hop\n",
      "./greyInner/Ice-T(OdafinFinTutuola)6_1_cut.png\tDr Drake\n",
      "./greyInner/Ice-T(OdafinFinTutuola)7_1_cut.png\tHip Hop Dr drake\n",
      "./greyInner/JanHofer7_1_cut.png\tTatort\n",
      "./greyInner/JanHofer9_2_cut.png\tTatort\n",
      "./greyInner/JasonSegel(Marshall)7_1_cut.png\tHow i met your mother\n",
      "./greyInner/JoshRadnor(Ted)1_2_cut.png\tHow i met your mother\n",
      "./greyInner/JoshRadnor(Ted)3_1_cut.png\tHow i met your Mother \n",
      "./greyInner/JoshRadnor(Ted)6_2_cut.png\tHow i met your mother\n",
      "./greyInner/JoshRadnor(Ted)7_1_cut.png\tHow i met your mother\n",
      "./greyInner/JoshRadnor(Ted)9_1_cut.png\tHow i meth your mother\n",
      "./greyInner/KaleyCuoco(Penny)10_1_cut.png\tBig Bang\n",
      "./greyInner/KaleyCuoco(Penny)14_2_cut.png\tBig Bang\n",
      "./greyInner/KaleyCuoco(Penny)3_1_cut.png\tBig Bang\n",
      "./greyInner/KaleyCuoco(Penny)5_2_cut.png\tBig Bang \n",
      "./greyInner/KaleyCuoco(Penny)7_1_cut.png\tBig Bang\n",
      "./greyInner/KatjaBurkard1_1_cut.png\tFrinds\n",
      "./greyInner/KatjaBurkard10_1_cut.png\tFrinds\n",
      "./greyInner/KatjaBurkard4_1_cut.png\tFrinds\n",
      "./greyInner/KatjaBurkard5_3_cut.png\tFrinds\n",
      "./greyInner/LisaEdelstein(DrLisaCuddy)10_1_cut.png\tPenelope Cruse\n",
      "./greyInner/LisaEdelstein(DrLisaCuddy)9_1_cut.png\tFrinds\n",
      "./greyInner/MilaKunis1_3_cut.png\tdie Wilden \u001770 er \n",
      "./greyInner/MilaKunis10_1_cut.png\tDie wilden 70 er \n",
      "./greyInner/MilaKunis4_1_cut.png\tDie wilden 70 er ist mit Aschton Kuthscher verheiraten\n",
      "./greyInner/MilaKunis7_3_cut.png\tDie wilden 70 er selina Gomez\n",
      "./greyInner/NeilPatrickHarris(Barney)1_1_cut.png\tHow i met you Mother\n",
      "./greyInner/NeilPatrickHarris(Barney)13_4_cut.png\tHow i met your Mother\n",
      "./greyInner/NeilPatrickHarris(Barney)2_2_cut.png\tHow i met your mother\n",
      "./greyInner/NeilPatrickHarris(Barney)3_7_cut.png\tHow i met your mother\n",
      "./greyInner/NicoleKidman8_2_cut.png\tLilly \n",
      "./greyInner/OmarEpps(DrEricForeman)1_5_cut.png\tDr Haus\n",
      "./greyInner/OmarEpps(DrEricForeman)2_2_cut.png\tDr Haus\n",
      "./greyInner/OmarEpps(DrEricForeman)3_1_cut.png\tDr Haus\n",
      "./greyInner/OmarEpps(DrEricForeman)5_2_cut.png\tDr Haus\n",
      "./greyInner/OmarEpps(DrEricForeman)9_1_cut.png\tDr Haus\n",
      "./greyInner/RobertSeanLeonard(Wilson)1_1_cut.png\tDr Hous\n",
      "./greyInner/RobertSeanLeonard(Wilson)10_1_cut.png\tDr Haus\n",
      "./greyInner/RobertSeanLeonard(Wilson)2_6_cut.png\tDr Haus\n",
      "./greyInner/Shakira1_1_cut.png\tMendy\n",
      "./greyInner/Shakira3_1_cut.png\tBrithney Spears\n",
      "./greyInner/TaylorSwift1_2_cut.png\tLelly Klogson\n",
      "\n",
      "############# ../famousInner/dataClean/famousFacesClean_25_u.csv #############\n",
      "\n",
      "./greyInner/HughLaurie(DrHouse)8_1_cut.png\tRobbie Williams\n",
      "\n",
      "############# ../famousInner/dataClean/famousFacesClean_26_u.csv #############\n",
      "\n",
      "./greyInner/Beyonce3_2_cut.png\tKate Perry\n",
      "./greyInner/CristinMilioti(Tracy_Mutter)10_1_cut.png\tMutter aus How i met your Mother\n",
      "./greyInner/CristinMilioti(Tracy_Mutter)4_2_cut.png\tMutter aus How i met you mother\n",
      "./greyInner/CristinMilioti(Tracy_Mutter)8_1_cut.png\tMutter aus How i met you mother\n",
      "./greyInner/DannFlorek(DonaldDonCragen)1_1_cut.png\tAlfred Hitchcock\n",
      "\n",
      "############# ../famousInner/dataClean/famousFacesClean_27_u.csv #############\n",
      "\n",
      "./greyInner/CarenMiosga1_1_cut.png\tTagesthemen\n",
      "./greyInner/JasonSegel(Marshall)11_1_cut.png\tAus american pie\u001f\n",
      "./greyInner/JasonSegel(Marshall)9_1_cut.png\tAmerican Pie\n",
      "./greyInner/NicoleKidman14_1_cut.png\tKim Basinger\n",
      "./greyInner/NicoleKidman3_1_cut.png\tKim Basinger\u001f\n",
      "./greyInner/NicoleKidman5_1_cut.png\tKim Basinger\n",
      "./greyInner/NicoleKidman7_1_cut.png\tKim Basinger\n",
      "./greyInner/Shakira3_1_cut.png\tBritney Spears\n",
      "./greyInner/TomCruise1_1_cut.png\tder von Scientology\n",
      "./greyInner/TomCruise4_1_cut.png\tScientology\n",
      "./greyInner/TomCruise5_1_cut.png\tScientology\n",
      "./greyInner/TomCruise6_1_cut.png\tScientology\n",
      "./greyInner/TomCruise7_1_cut.png\tScientology\n",
      "./greyInner/UrsulavonderLeyen1_1_cut.png\tTagesthemen\n",
      "./greyInner/UrsulavonderLeyen7_1_cut.png\tTagesthemen\n",
      "./greyInner/UrsulavonderLeyen8_2_cut.png\tTagesthemen\n",
      "./greyInner/Usher1_1_cut.png\tNeYo\n",
      "./greyInner/Usher11_1_cut.png\tNeYo\n",
      "./greyInner/Usher2_1_cut.png\tNeYo\n",
      "./greyInner/Usher4_1_cut.png\tNeYo\n",
      "./greyInner/Usher7_1_cut.png\tNeYo\n",
      "\n",
      "############# ../famousInner/dataClean/famousFacesClean_2_u.csv #############\n",
      "\n",
      "./greyInner/AlysonHannigan(Lily)14_2_cut.png\tAlicia\n",
      "./greyInner/AlysonHannigan(Lily)5_4_cut.png\tAlicia \n",
      "./greyInner/GeorgeClooney3_1_cut.png\tRobter DenIro\n",
      "./greyInner/JasonSegel(Marshall)11_1_cut.png\tEric\n",
      "./greyInner/JasonSegel(Marshall)14_1_cut.png\tEric\n",
      "./greyInner/JasonSegel(Marshall)6_1_cut.png\tEric\n",
      "./greyInner/JasonSegel(Marshall)7_1_cut.png\tEric\n",
      "./greyInner/JasonSegel(Marshall)9_1_cut.png\tEric\n",
      "./greyInner/KatjaBurkard10_1_cut.png\tFrauke Ludowig\n",
      "./greyInner/KatjaBurkard5_3_cut.png\teine von RTL\n",
      "\n",
      "############# ../famousInner/dataClean/famousFacesClean_3_u.csv #############\n",
      "\n",
      "./greyInner/KaleyCuoco(Penny)10_1_cut.png\tKaty Perry\n",
      "./greyInner/KaleyCuoco(Penny)7_1_cut.png\tKaty Perry\n",
      "\n",
      "############# ../famousInner/dataClean/famousFacesClean_4_u.csv #############\n",
      "\n",
      "./greyInner/BenedictCumberbatch2_2_cut.png\tLiam Nison\n",
      "./greyInner/BenedictCumberbatch6_5_cut.png\tLiam Nison\n",
      "\n",
      "############# ../famousInner/dataClean/famousFacesClean_5_u.csv #############\n",
      "\n",
      "\n",
      "############# ../famousInner/dataClean/famousFacesClean_6_u.csv #############\n",
      "\n",
      "./greyInner/Shakira3_1_cut.png\tGueen Stefani\n",
      "\n",
      "############# ../famousInner/dataClean/famousFacesClean_7_u.csv #############\n",
      "\n"
     ]
    },
    {
     "name": "stdout",
     "output_type": "stream",
     "text": [
      "./greyInner/AlysonHannigan(Lily)1_1_cut.png\tamerican pie\n",
      "./greyInner/AlysonHannigan(Lily)12_2_cut.png\tAmercian Pie\n",
      "./greyInner/AlysonHannigan(Lily)14_2_cut.png\tAmercian Pie\n",
      "./greyInner/AlysonHannigan(Lily)5_4_cut.png\tAmercian Pie\n",
      "./greyInner/AlysonHannigan(Lily)8_3_cut.png\tAmerican Pie\n",
      "./greyInner/CobieSmulders(Robin)12_1_cut.png\tHIMYM\n",
      "./greyInner/CobieSmulders(Robin)2_1_cut.png\tHimym\n",
      "./greyInner/CobieSmulders(Robin)4_7_cut.png\tHimym\n",
      "./greyInner/CobieSmulders(Robin)5_1_cut.png\tHimym\n",
      "./greyInner/EmmaWatson(HermioneGranger)16_1_cut.png\tEmma Stone\n",
      "./greyInner/EmmaWatson(HermioneGranger)4_1_cut.png\tEmma Stone\n",
      "./greyInner/EmmaWatson(HermioneGranger)9_1_cut.png\tEmma stone\n",
      "./greyInner/JasonSegel(Marshall)7_1_cut.png\tHimym\n",
      "./greyInner/JudithRakers1_1_cut.png\tNazan Eckes\n",
      "./greyInner/KatjaBurkard4_1_cut.png\tPunkt 12\n",
      "./greyInner/KatjaBurkard5_3_cut.png\tpunkt 12\n",
      "./greyInner/Shakira1_1_cut.png\tScrubs\u001f\u001f\n",
      "./greyInner/Shakira7_1_cut.png\tBeyonce Knowles\n",
      "\n",
      "############# ../famousInner/dataClean/famousFacesClean_8_u.csv #############\n",
      "\n",
      "./greyInner/CarenMiosga6_2_cut.png\tRobin\n",
      "./greyInner/UrsulavonderLeyen1_1_cut.png\tTruppen Uschi\n",
      "./greyInner/UrsulavonderLeyen7_1_cut.png\tPanzer Uschi\n",
      "./greyInner/UrsulavonderLeyen8_2_cut.png\tHeeres Uschi\n",
      "\n",
      "############# ../famousInner/dataClean/famousFacesClean_9_u.csv #############\n",
      "\n",
      "./greyInner/CristinMilioti(Tracy_Mutter)4_2_cut.png\tGhost Whisperer\n",
      "./greyInner/EmilyDeschanel5_1_cut.png\tNicole Kidman\n",
      "./greyInner/EmilyDeschanel8_3_cut.png\tAdele\n",
      "./greyInner/JanHofer3_1_cut.png\tTagesschau\n",
      "./greyInner/JanHofer7_1_cut.png\tPhil Collins\n",
      "./greyInner/JoshRadnor(Ted)3_1_cut.png\tFreund von Dr House\n",
      "./greyInner/JoshRadnor(Ted)9_1_cut.png\tFreund von Dr House\n",
      "./greyInner/KatjaBurkard10_1_cut.png\tZitlow\n",
      "./greyInner/KatjaBurkard5_3_cut.png\tZitlow\n",
      "./greyInner/LeonardoDiCaprio1_1_cut.png\tBrad Pitt\n",
      "./greyInner/LeonardoDiCaprio2_1_cut.png\tBrad Pitt\n",
      "./greyInner/LeonardoDiCaprio3_1_cut.png\tBrad Pitt\n",
      "./greyInner/LeonardoDiCaprio4_1_cut.png\tOrlando Bloom\n",
      "./greyInner/LeonardoDiCaprio7_1_cut.png\tOrlando Bloom\n",
      "./greyInner/LisaEdelstein(DrLisaCuddy)1_1_cut.png\tChefin von Dr House\n",
      "./greyInner/LisaEdelstein(DrLisaCuddy)10_1_cut.png\tChefin von Dr House\n",
      "./greyInner/LisaEdelstein(DrLisaCuddy)2_2_cut.png\tChefin von Dr House\n",
      "./greyInner/LisaEdelstein(DrLisaCuddy)6_3_cut.png\tChefin von Dr House\n",
      "./greyInner/LisaEdelstein(DrLisaCuddy)9_1_cut.png\tChefin von Dr House\n",
      "./greyInner/OmarEpps(DrEricForeman)2_2_cut.png\tArzt bei Dr House\n",
      "./greyInner/OmarEpps(DrEricForeman)5_2_cut.png\tArzt bei Dr House\n",
      "./greyInner/OmarEpps(DrEricForeman)9_1_cut.png\tArzt bei Dr House\n",
      "./greyInner/RobertSeanLeonard(Wilson)1_1_cut.png\tbester Freund von Dr House\n",
      "./greyInner/RobertSeanLeonard(Wilson)10_1_cut.png\tFreund von Dr House\n",
      "./greyInner/RobertSeanLeonard(Wilson)11_2_cut.png\tFreund von Dr House\n",
      "./greyInner/RobertSeanLeonard(Wilson)2_6_cut.png\tBester Freund von Dr House\n",
      "./greyInner/RobertSeanLeonard(Wilson)8_1_cut.png\tbester freund von dr House\n",
      "\n",
      "############# ../famousInner/dataClean/famousFacesClean_jb_u.csv #############\n",
      "\n",
      "./greyInner/CarenMiosga6_2_cut.png\tKate Winslett\n",
      "./greyInner/CobieSmulders(Robin)2_1_cut.png\tMariska\n",
      "./greyInner/DannFlorek(DonaldDonCragen)1_1_cut.png\tChef bei Law und Order\n",
      "./greyInner/EmilyDeschanel6_12_cut.png\teine von Spice Girls\n",
      "./greyInner/GeorgeClooney11_1_cut.png\tCharlie Sheen\n",
      "./greyInner/Ice-T(OdafinFinTutuola)10_1_cut.png\tLaw\u0016 und Order\n",
      "./greyInner/Ice-T(OdafinFinTutuola)12_1_cut.png\tLaw und order \n",
      "./greyInner/Ice-T(OdafinFinTutuola)5_1_cut.png\tLaw und Order\n",
      "./greyInner/Ice-T(OdafinFinTutuola)6_1_cut.png\tLaw und Order\n",
      "./greyInner/Ice-T(OdafinFinTutuola)7_1_cut.png\tLaw und Order\n",
      "./greyInner/JimParsons(SheldonCooper)8_1_cut.png\tWilson\n",
      "./greyInner/JoachimLoew12_1_cut.png\tWilson\n",
      "./greyInner/LeonardoDiCaprio2_1_cut.png\tBrad Pit\n",
      "./greyInner/OmarEpps(DrEricForeman)1_5_cut.png\tDr House\n",
      "./greyInner/OmarEpps(DrEricForeman)3_1_cut.png\tDr House\n",
      "./greyInner/OmarEpps(DrEricForeman)5_2_cut.png\tDr Hous\n"
     ]
    }
   ],
   "source": [
    "for entry in checkedList:\n",
    "    print '\\n############# %s #############\\n' % entry\n",
    "    thisLog = entry\n",
    "    thisDf = pd.read_csv(thisLog,index_col=[0],delimiter=';')\n",
    "    showWhatsLeft(thisDf)"
   ]
  },
  {
   "cell_type": "markdown",
   "metadata": {},
   "source": [
    "### Split df into identities JB claims to be able to identify by face alone and the rest"
   ]
  },
  {
   "cell_type": "code",
   "execution_count": 48,
   "metadata": {
    "collapsed": true
   },
   "outputs": [],
   "source": [
    "jbRecogDf = pd.read_csv('../famousCheck/recognizableList.csv')"
   ]
  },
  {
   "cell_type": "code",
   "execution_count": 49,
   "metadata": {
    "collapsed": true
   },
   "outputs": [],
   "source": [
    "def makeRecogSplit(thisDf,jbRecogDf=jbRecogDf):\n",
    "    \n",
    "    df = thisDf.copy()\n",
    "    \n",
    "    # for each entry in the response df\n",
    "    for i in df.index:\n",
    "        thisName = df.loc[i]['filename']\n",
    "        # for each name in the recoglist\n",
    "        for j in jbRecogDf.index:\n",
    "            thisRecog = jbRecogDf.loc[j]['name']\n",
    "            thisStatus = jbRecogDf.loc[j]['recognizable']\n",
    "            # if the names match\n",
    "            if thisRecog in thisName:\n",
    "                # set the status of the \n",
    "                df.set_value(i,'jbRecog',thisStatus)\n",
    "           \n",
    "    return df"
   ]
  },
  {
   "cell_type": "code",
   "execution_count": 50,
   "metadata": {
    "collapsed": true
   },
   "outputs": [],
   "source": [
    "splitDf = makeRecogSplit(thisDf)"
   ]
  },
  {
   "cell_type": "code",
   "execution_count": 51,
   "metadata": {
    "scrolled": true
   },
   "outputs": [
    {
     "data": {
      "text/html": [
       "<div>\n",
       "<style>\n",
       "    .dataframe thead tr:only-child th {\n",
       "        text-align: right;\n",
       "    }\n",
       "\n",
       "    .dataframe thead th {\n",
       "        text-align: left;\n",
       "    }\n",
       "\n",
       "    .dataframe tbody tr th {\n",
       "        vertical-align: top;\n",
       "    }\n",
       "</style>\n",
       "<table border=\"1\" class=\"dataframe\">\n",
       "  <thead>\n",
       "    <tr style=\"text-align: right;\">\n",
       "      <th></th>\n",
       "      <th>filename</th>\n",
       "      <th>text</th>\n",
       "      <th>hit</th>\n",
       "      <th>jbRecog</th>\n",
       "    </tr>\n",
       "  </thead>\n",
       "  <tbody>\n",
       "    <tr>\n",
       "      <th>54</th>\n",
       "      <td>./greyInner/DannFlorek(DonaldDonCragen)5_1_cut...</td>\n",
       "      <td>NaN</td>\n",
       "      <td>0</td>\n",
       "      <td>JB</td>\n",
       "    </tr>\n",
       "    <tr>\n",
       "      <th>57</th>\n",
       "      <td>./greyInner/ElvisPresley2_1_cut.png</td>\n",
       "      <td>NaN</td>\n",
       "      <td>0</td>\n",
       "      <td>JB</td>\n",
       "    </tr>\n",
       "    <tr>\n",
       "      <th>58</th>\n",
       "      <td>./greyInner/ElvisPresley4_10_cut.png</td>\n",
       "      <td>NaN</td>\n",
       "      <td>0</td>\n",
       "      <td>JB</td>\n",
       "    </tr>\n",
       "    <tr>\n",
       "      <th>59</th>\n",
       "      <td>./greyInner/ElvisPresley5_2_cut.png</td>\n",
       "      <td>NaN</td>\n",
       "      <td>0</td>\n",
       "      <td>JB</td>\n",
       "    </tr>\n",
       "    <tr>\n",
       "      <th>56</th>\n",
       "      <td>./greyInner/ElvisPresley1_1_cut.png</td>\n",
       "      <td>NaN</td>\n",
       "      <td>0</td>\n",
       "      <td>JB</td>\n",
       "    </tr>\n",
       "  </tbody>\n",
       "</table>\n",
       "</div>"
      ],
      "text/plain": [
       "                                             filename text  hit jbRecog\n",
       "54  ./greyInner/DannFlorek(DonaldDonCragen)5_1_cut...  NaN    0      JB\n",
       "57                ./greyInner/ElvisPresley2_1_cut.png  NaN    0      JB\n",
       "58               ./greyInner/ElvisPresley4_10_cut.png  NaN    0      JB\n",
       "59                ./greyInner/ElvisPresley5_2_cut.png  NaN    0      JB\n",
       "56                ./greyInner/ElvisPresley1_1_cut.png  NaN    0      JB"
      ]
     },
     "execution_count": 51,
     "metadata": {},
     "output_type": "execute_result"
    }
   ],
   "source": [
    "splitDf.tail()"
   ]
  },
  {
   "cell_type": "code",
   "execution_count": 52,
   "metadata": {},
   "outputs": [
    {
     "data": {
      "text/html": [
       "<div>\n",
       "<style>\n",
       "    .dataframe thead tr:only-child th {\n",
       "        text-align: right;\n",
       "    }\n",
       "\n",
       "    .dataframe thead th {\n",
       "        text-align: left;\n",
       "    }\n",
       "\n",
       "    .dataframe tbody tr th {\n",
       "        vertical-align: top;\n",
       "    }\n",
       "</style>\n",
       "<table border=\"1\" class=\"dataframe\">\n",
       "  <thead>\n",
       "    <tr style=\"text-align: right;\">\n",
       "      <th></th>\n",
       "      <th>hit</th>\n",
       "    </tr>\n",
       "    <tr>\n",
       "      <th>jbRecog</th>\n",
       "      <th></th>\n",
       "    </tr>\n",
       "  </thead>\n",
       "  <tbody>\n",
       "    <tr>\n",
       "      <th>JB</th>\n",
       "      <td>0.139130</td>\n",
       "    </tr>\n",
       "    <tr>\n",
       "      <th>JB*</th>\n",
       "      <td>0.685714</td>\n",
       "    </tr>\n",
       "  </tbody>\n",
       "</table>\n",
       "</div>"
      ],
      "text/plain": [
       "              hit\n",
       "jbRecog          \n",
       "JB       0.139130\n",
       "JB*      0.685714"
      ]
     },
     "execution_count": 52,
     "metadata": {},
     "output_type": "execute_result"
    }
   ],
   "source": [
    "splitDf.groupby('jbRecog').mean()"
   ]
  },
  {
   "cell_type": "markdown",
   "metadata": {},
   "source": [
    "### compute number of hits"
   ]
  },
  {
   "cell_type": "code",
   "execution_count": 53,
   "metadata": {
    "collapsed": true
   },
   "outputs": [],
   "source": [
    "def getPercent(thisDf,pNum):\n",
    "    if pNum == 'jb': \n",
    "        splitDf = makeRecogSplit(thisDf)\n",
    "        thisHits = splitDf.groupby('jbRecog').mean()\n",
    "        thisDf = thisHits.copy()\n",
    "    else:\n",
    "        thisHits = pd.DataFrame( thisDf.mean() ).T\n",
    "        thisDf = thisHits.copy()\n",
    "        thisDf.index = [pNum]\n",
    "    return thisDf"
   ]
  },
  {
   "cell_type": "code",
   "execution_count": 54,
   "metadata": {
    "collapsed": true
   },
   "outputs": [],
   "source": [
    "percentDf = getPercent(splitDf,pName)"
   ]
  },
  {
   "cell_type": "code",
   "execution_count": 55,
   "metadata": {},
   "outputs": [
    {
     "data": {
      "text/html": [
       "<div>\n",
       "<style>\n",
       "    .dataframe thead tr:only-child th {\n",
       "        text-align: right;\n",
       "    }\n",
       "\n",
       "    .dataframe thead th {\n",
       "        text-align: left;\n",
       "    }\n",
       "\n",
       "    .dataframe tbody tr th {\n",
       "        vertical-align: top;\n",
       "    }\n",
       "</style>\n",
       "<table border=\"1\" class=\"dataframe\">\n",
       "  <thead>\n",
       "    <tr style=\"text-align: right;\">\n",
       "      <th></th>\n",
       "      <th>hit</th>\n",
       "    </tr>\n",
       "    <tr>\n",
       "      <th>jbRecog</th>\n",
       "      <th></th>\n",
       "    </tr>\n",
       "  </thead>\n",
       "  <tbody>\n",
       "    <tr>\n",
       "      <th>JB</th>\n",
       "      <td>0.139130</td>\n",
       "    </tr>\n",
       "    <tr>\n",
       "      <th>JB*</th>\n",
       "      <td>0.685714</td>\n",
       "    </tr>\n",
       "  </tbody>\n",
       "</table>\n",
       "</div>"
      ],
      "text/plain": [
       "              hit\n",
       "jbRecog          \n",
       "JB       0.139130\n",
       "JB*      0.685714"
      ]
     },
     "execution_count": 55,
     "metadata": {},
     "output_type": "execute_result"
    }
   ],
   "source": [
    "percentDf"
   ]
  },
  {
   "cell_type": "markdown",
   "metadata": {},
   "source": [
    "### get hits for each participant from the hand-cleaned df"
   ]
  },
  {
   "cell_type": "code",
   "execution_count": 56,
   "metadata": {
    "collapsed": true
   },
   "outputs": [],
   "source": [
    "def makeBigDf(checkedList):\n",
    "    bigDf = pd.DataFrame()\n",
    "    for thisLog in checkedList:\n",
    "        pNum = thisLog.split('_')[-2]\n",
    "        thisDf = pd.read_csv(thisLog,index_col=[0],delimiter=';')\n",
    "        thisPercent = getPercent(thisDf,pNum)\n",
    "        bigDf = pd.concat([bigDf,thisPercent])\n",
    "    return bigDf*100"
   ]
  },
  {
   "cell_type": "code",
   "execution_count": 57,
   "metadata": {
    "collapsed": true
   },
   "outputs": [],
   "source": [
    "bigDf = makeBigDf(checkedList)"
   ]
  },
  {
   "cell_type": "code",
   "execution_count": 58,
   "metadata": {
    "scrolled": true
   },
   "outputs": [
    {
     "data": {
      "text/html": [
       "<div>\n",
       "<style>\n",
       "    .dataframe thead tr:only-child th {\n",
       "        text-align: right;\n",
       "    }\n",
       "\n",
       "    .dataframe thead th {\n",
       "        text-align: left;\n",
       "    }\n",
       "\n",
       "    .dataframe tbody tr th {\n",
       "        vertical-align: top;\n",
       "    }\n",
       "</style>\n",
       "<table border=\"1\" class=\"dataframe\">\n",
       "  <thead>\n",
       "    <tr style=\"text-align: right;\">\n",
       "      <th></th>\n",
       "      <th>hit</th>\n",
       "    </tr>\n",
       "  </thead>\n",
       "  <tbody>\n",
       "    <tr>\n",
       "      <th>14</th>\n",
       "      <td>12.142857</td>\n",
       "    </tr>\n",
       "    <tr>\n",
       "      <th>JB</th>\n",
       "      <td>13.913043</td>\n",
       "    </tr>\n",
       "    <tr>\n",
       "      <th>23</th>\n",
       "      <td>17.777778</td>\n",
       "    </tr>\n",
       "    <tr>\n",
       "      <th>11</th>\n",
       "      <td>21.818182</td>\n",
       "    </tr>\n",
       "    <tr>\n",
       "      <th>17</th>\n",
       "      <td>35.714286</td>\n",
       "    </tr>\n",
       "    <tr>\n",
       "      <th>3</th>\n",
       "      <td>36.500000</td>\n",
       "    </tr>\n",
       "    <tr>\n",
       "      <th>6</th>\n",
       "      <td>39.375000</td>\n",
       "    </tr>\n",
       "    <tr>\n",
       "      <th>12</th>\n",
       "      <td>46.153846</td>\n",
       "    </tr>\n",
       "    <tr>\n",
       "      <th>1</th>\n",
       "      <td>46.400000</td>\n",
       "    </tr>\n",
       "    <tr>\n",
       "      <th>19</th>\n",
       "      <td>47.333333</td>\n",
       "    </tr>\n",
       "    <tr>\n",
       "      <th>4</th>\n",
       "      <td>49.268293</td>\n",
       "    </tr>\n",
       "    <tr>\n",
       "      <th>15</th>\n",
       "      <td>50.370370</td>\n",
       "    </tr>\n",
       "    <tr>\n",
       "      <th>20</th>\n",
       "      <td>50.909091</td>\n",
       "    </tr>\n",
       "    <tr>\n",
       "      <th>24</th>\n",
       "      <td>54.358974</td>\n",
       "    </tr>\n",
       "    <tr>\n",
       "      <th>25</th>\n",
       "      <td>55.555556</td>\n",
       "    </tr>\n",
       "    <tr>\n",
       "      <th>27</th>\n",
       "      <td>57.391304</td>\n",
       "    </tr>\n",
       "    <tr>\n",
       "      <th>21</th>\n",
       "      <td>57.777778</td>\n",
       "    </tr>\n",
       "    <tr>\n",
       "      <th>22</th>\n",
       "      <td>58.333333</td>\n",
       "    </tr>\n",
       "    <tr>\n",
       "      <th>9</th>\n",
       "      <td>58.888889</td>\n",
       "    </tr>\n",
       "    <tr>\n",
       "      <th>5</th>\n",
       "      <td>61.463415</td>\n",
       "    </tr>\n",
       "    <tr>\n",
       "      <th>18</th>\n",
       "      <td>62.285714</td>\n",
       "    </tr>\n",
       "    <tr>\n",
       "      <th>7</th>\n",
       "      <td>66.875000</td>\n",
       "    </tr>\n",
       "    <tr>\n",
       "      <th>JB*</th>\n",
       "      <td>68.571429</td>\n",
       "    </tr>\n",
       "    <tr>\n",
       "      <th>13</th>\n",
       "      <td>69.473684</td>\n",
       "    </tr>\n",
       "    <tr>\n",
       "      <th>2</th>\n",
       "      <td>70.000000</td>\n",
       "    </tr>\n",
       "    <tr>\n",
       "      <th>10</th>\n",
       "      <td>71.250000</td>\n",
       "    </tr>\n",
       "    <tr>\n",
       "      <th>8</th>\n",
       "      <td>72.631579</td>\n",
       "    </tr>\n",
       "    <tr>\n",
       "      <th>16</th>\n",
       "      <td>73.529412</td>\n",
       "    </tr>\n",
       "    <tr>\n",
       "      <th>26</th>\n",
       "      <td>77.714286</td>\n",
       "    </tr>\n",
       "  </tbody>\n",
       "</table>\n",
       "</div>"
      ],
      "text/plain": [
       "           hit\n",
       "14   12.142857\n",
       "JB   13.913043\n",
       "23   17.777778\n",
       "11   21.818182\n",
       "17   35.714286\n",
       "3    36.500000\n",
       "6    39.375000\n",
       "12   46.153846\n",
       "1    46.400000\n",
       "19   47.333333\n",
       "4    49.268293\n",
       "15   50.370370\n",
       "20   50.909091\n",
       "24   54.358974\n",
       "25   55.555556\n",
       "27   57.391304\n",
       "21   57.777778\n",
       "22   58.333333\n",
       "9    58.888889\n",
       "5    61.463415\n",
       "18   62.285714\n",
       "7    66.875000\n",
       "JB*  68.571429\n",
       "13   69.473684\n",
       "2    70.000000\n",
       "10   71.250000\n",
       "8    72.631579\n",
       "16   73.529412\n",
       "26   77.714286"
      ]
     },
     "execution_count": 58,
     "metadata": {},
     "output_type": "execute_result"
    }
   ],
   "source": [
    "bigDf.sort_values(by='hit')"
   ]
  },
  {
   "cell_type": "markdown",
   "metadata": {},
   "source": [
    "### we save this, so we can later combine it with the data from familiarity and context"
   ]
  },
  {
   "cell_type": "code",
   "execution_count": 59,
   "metadata": {
    "collapsed": true
   },
   "outputs": [],
   "source": [
    "bigDf.columns = [['inner'],['naming']]\n",
    "bigDf.to_csv('../famousInner/output/innerName.csv')"
   ]
  },
  {
   "cell_type": "markdown",
   "metadata": {},
   "source": [
    "### make a plot"
   ]
  },
  {
   "cell_type": "code",
   "execution_count": 60,
   "metadata": {
    "collapsed": true
   },
   "outputs": [],
   "source": [
    "import matplotlib.pylab as plt\n",
    "import seaborn as sns\n",
    "%matplotlib inline"
   ]
  },
  {
   "cell_type": "code",
   "execution_count": 61,
   "metadata": {
    "collapsed": true
   },
   "outputs": [],
   "source": [
    "bigDf.index = [x if x.startswith('JB') else 'con' for x in bigDf.index  ]"
   ]
  },
  {
   "cell_type": "code",
   "execution_count": 70,
   "metadata": {},
   "outputs": [
    {
     "data": {
      "image/png": "[encoded data removed]",
      "text/plain": [
       "<matplotlib.figure.Figure at 0x7fe589652550>"
      ]
     },
     "metadata": {},
     "output_type": "display_data"
    }
   ],
   "source": [
    "plt.figure(figsize=(8,8))\n",
    "\n",
    "snsDf = bigDf.copy()\n",
    "snsDf.columns = ['y']\n",
    "snsDf['x'] = [0 for x in snsDf.index]\n",
    "snsDf['hue'] = bigDf.index\n",
    "\n",
    "sns.swarmplot(data=snsDf,x='x',y='y',hue='hue',size=15,linewidth=1,edgecolor='white')\n",
    "sns.boxplot(data=snsDf,x='x',y='y',notch=True,color='white',width=0.3)\n",
    "\n",
    "plt.ylim(0,100)\n",
    "\n",
    "plt.show()"
   ]
  },
  {
   "cell_type": "markdown",
   "metadata": {},
   "source": [
    "### relationship between number of famous people known and proportion of correctly named/known"
   ]
  },
  {
   "cell_type": "code",
   "execution_count": 118,
   "metadata": {
    "collapsed": true
   },
   "outputs": [],
   "source": [
    "recogDf = pd.read_csv('../famousInner/output/innerName.csv',index_col=[0],header=[0,1])['inner']"
   ]
  },
  {
   "cell_type": "code",
   "execution_count": 119,
   "metadata": {
    "scrolled": true
   },
   "outputs": [
    {
     "data": {
      "text/html": [
       "<div>\n",
       "<style>\n",
       "    .dataframe thead tr:only-child th {\n",
       "        text-align: right;\n",
       "    }\n",
       "\n",
       "    .dataframe thead th {\n",
       "        text-align: left;\n",
       "    }\n",
       "\n",
       "    .dataframe tbody tr th {\n",
       "        vertical-align: top;\n",
       "    }\n",
       "</style>\n",
       "<table border=\"1\" class=\"dataframe\">\n",
       "  <thead>\n",
       "    <tr style=\"text-align: right;\">\n",
       "      <th></th>\n",
       "      <th>naming</th>\n",
       "    </tr>\n",
       "  </thead>\n",
       "  <tbody>\n",
       "    <tr>\n",
       "      <th>7</th>\n",
       "      <td>66.875000</td>\n",
       "    </tr>\n",
       "    <tr>\n",
       "      <th>8</th>\n",
       "      <td>72.631579</td>\n",
       "    </tr>\n",
       "    <tr>\n",
       "      <th>9</th>\n",
       "      <td>58.888889</td>\n",
       "    </tr>\n",
       "    <tr>\n",
       "      <th>JB</th>\n",
       "      <td>13.913043</td>\n",
       "    </tr>\n",
       "    <tr>\n",
       "      <th>JB*</th>\n",
       "      <td>68.571429</td>\n",
       "    </tr>\n",
       "  </tbody>\n",
       "</table>\n",
       "</div>"
      ],
      "text/plain": [
       "        naming\n",
       "7    66.875000\n",
       "8    72.631579\n",
       "9    58.888889\n",
       "JB   13.913043\n",
       "JB*  68.571429"
      ]
     },
     "execution_count": 119,
     "metadata": {},
     "output_type": "execute_result"
    }
   ],
   "source": [
    "recogDf.tail()"
   ]
  },
  {
   "cell_type": "code",
   "execution_count": 120,
   "metadata": {
    "collapsed": true
   },
   "outputs": [],
   "source": [
    "knowDf = pd.read_csv('../famousCheck/output/familiarFaces.csv',index_col=[0],header=0)"
   ]
  },
  {
   "cell_type": "code",
   "execution_count": 121,
   "metadata": {
    "scrolled": true
   },
   "outputs": [
    {
     "data": {
      "text/html": [
       "<div>\n",
       "<style>\n",
       "    .dataframe thead tr:only-child th {\n",
       "        text-align: right;\n",
       "    }\n",
       "\n",
       "    .dataframe thead th {\n",
       "        text-align: left;\n",
       "    }\n",
       "\n",
       "    .dataframe tbody tr th {\n",
       "        vertical-align: top;\n",
       "    }\n",
       "</style>\n",
       "<table border=\"1\" class=\"dataframe\">\n",
       "  <thead>\n",
       "    <tr style=\"text-align: right;\">\n",
       "      <th></th>\n",
       "      <th>known</th>\n",
       "    </tr>\n",
       "  </thead>\n",
       "  <tbody>\n",
       "    <tr>\n",
       "      <th>6</th>\n",
       "      <td>76.190476</td>\n",
       "    </tr>\n",
       "    <tr>\n",
       "      <th>7</th>\n",
       "      <td>76.190476</td>\n",
       "    </tr>\n",
       "    <tr>\n",
       "      <th>8</th>\n",
       "      <td>90.476190</td>\n",
       "    </tr>\n",
       "    <tr>\n",
       "      <th>9</th>\n",
       "      <td>85.714286</td>\n",
       "    </tr>\n",
       "    <tr>\n",
       "      <th>jb</th>\n",
       "      <td>88.095238</td>\n",
       "    </tr>\n",
       "  </tbody>\n",
       "</table>\n",
       "</div>"
      ],
      "text/plain": [
       "        known\n",
       "6   76.190476\n",
       "7   76.190476\n",
       "8   90.476190\n",
       "9   85.714286\n",
       "jb  88.095238"
      ]
     },
     "execution_count": 121,
     "metadata": {},
     "output_type": "execute_result"
    }
   ],
   "source": [
    "knowDf.tail()"
   ]
  },
  {
   "cell_type": "code",
   "execution_count": 123,
   "metadata": {
    "collapsed": true
   },
   "outputs": [],
   "source": [
    "mergeDf = pd.concat([recogDf,knowDf],axis=1,join='inner')"
   ]
  },
  {
   "cell_type": "code",
   "execution_count": 124,
   "metadata": {},
   "outputs": [
    {
     "data": {
      "text/html": [
       "<div>\n",
       "<style>\n",
       "    .dataframe thead tr:only-child th {\n",
       "        text-align: right;\n",
       "    }\n",
       "\n",
       "    .dataframe thead th {\n",
       "        text-align: left;\n",
       "    }\n",
       "\n",
       "    .dataframe tbody tr th {\n",
       "        vertical-align: top;\n",
       "    }\n",
       "</style>\n",
       "<table border=\"1\" class=\"dataframe\">\n",
       "  <thead>\n",
       "    <tr style=\"text-align: right;\">\n",
       "      <th></th>\n",
       "      <th>naming</th>\n",
       "      <th>known</th>\n",
       "    </tr>\n",
       "  </thead>\n",
       "  <tbody>\n",
       "    <tr>\n",
       "      <th>5</th>\n",
       "      <td>61.463415</td>\n",
       "      <td>97.619048</td>\n",
       "    </tr>\n",
       "    <tr>\n",
       "      <th>6</th>\n",
       "      <td>39.375000</td>\n",
       "      <td>76.190476</td>\n",
       "    </tr>\n",
       "    <tr>\n",
       "      <th>7</th>\n",
       "      <td>66.875000</td>\n",
       "      <td>76.190476</td>\n",
       "    </tr>\n",
       "    <tr>\n",
       "      <th>8</th>\n",
       "      <td>72.631579</td>\n",
       "      <td>90.476190</td>\n",
       "    </tr>\n",
       "    <tr>\n",
       "      <th>9</th>\n",
       "      <td>58.888889</td>\n",
       "      <td>85.714286</td>\n",
       "    </tr>\n",
       "  </tbody>\n",
       "</table>\n",
       "</div>"
      ],
      "text/plain": [
       "      naming      known\n",
       "5  61.463415  97.619048\n",
       "6  39.375000  76.190476\n",
       "7  66.875000  76.190476\n",
       "8  72.631579  90.476190\n",
       "9  58.888889  85.714286"
      ]
     },
     "execution_count": 124,
     "metadata": {},
     "output_type": "execute_result"
    }
   ],
   "source": [
    "mergeDf.tail()"
   ]
  },
  {
   "cell_type": "code",
   "execution_count": 125,
   "metadata": {},
   "outputs": [
    {
     "data": {
      "text/plain": [
       "(27, 2)"
      ]
     },
     "execution_count": 125,
     "metadata": {},
     "output_type": "execute_result"
    }
   ],
   "source": [
    "mergeDf.shape"
   ]
  },
  {
   "cell_type": "code",
   "execution_count": 128,
   "metadata": {},
   "outputs": [
    {
     "data": {
      "image/png": "[encoded data removed]",
      "text/plain": [
       "<matplotlib.figure.Figure at 0x7fe588fee2d0>"
      ]
     },
     "metadata": {},
     "output_type": "display_data"
    }
   ],
   "source": [
    "plt.figure(figsize=(8,8))\n",
    "sns.regplot(data=mergeDf,x='known',y='naming')\n",
    "plt.xlim(0,100)\n",
    "plt.ylim(0,100)\n",
    "plt.show()"
   ]
  }
 ],
 "metadata": {
  "kernelspec": {
   "display_name": "Python 2",
   "language": "python",
   "name": "python2"
  },
  "language_info": {
   "codemirror_mode": {
    "name": "ipython",
    "version": 2
   },
   "file_extension": ".py",
   "mimetype": "text/x-python",
   "name": "python",
   "nbconvert_exporter": "python",
   "pygments_lexer": "ipython2",
   "version": "2.7.9"
  }
 },
 "nbformat": 4,
 "nbformat_minor": 1
}
